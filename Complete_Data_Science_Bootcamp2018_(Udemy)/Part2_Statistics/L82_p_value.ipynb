{
 "cells": [
  {
   "cell_type": "markdown",
   "metadata": {
    "toc": "true"
   },
   "source": [
    "<h1>Table of Contents<span class=\"tocSkip\"></span></h1>\n",
    "<div class=\"toc\"><ul class=\"toc-item\"><li><span><a href=\"#Imports\" data-toc-modified-id=\"Imports-1\"><span class=\"toc-item-num\">1&nbsp;&nbsp;</span>Imports</a></span></li><li><span><a href=\"#Task\" data-toc-modified-id=\"Task-2\"><span class=\"toc-item-num\">2&nbsp;&nbsp;</span>Task</a></span></li><li><span><a href=\"#Task-1\" data-toc-modified-id=\"Task-1-3\"><span class=\"toc-item-num\">3&nbsp;&nbsp;</span>Task 1</a></span></li><li><span><a href=\"#Critical-Value\" data-toc-modified-id=\"Critical-Value-4\"><span class=\"toc-item-num\">4&nbsp;&nbsp;</span>Critical Value</a></span></li><li><span><a href=\"#T-score\" data-toc-modified-id=\"T-score-5\"><span class=\"toc-item-num\">5&nbsp;&nbsp;</span>T-score</a></span></li><li><span><a href=\"#t-score-(critical-value-at-given-deg-freedom)\" data-toc-modified-id=\"t-score-(critical-value-at-given-deg-freedom)-6\"><span class=\"toc-item-num\">6&nbsp;&nbsp;</span>t-score (critical value at given deg freedom)</a></span></li><li><span><a href=\"#Decision-Accept/Reject-H0\" data-toc-modified-id=\"Decision-Accept/Reject-H0-7\"><span class=\"toc-item-num\">7&nbsp;&nbsp;</span>Decision Accept/Reject H0</a></span></li><li><span><a href=\"#p-value\" data-toc-modified-id=\"p-value-8\"><span class=\"toc-item-num\">8&nbsp;&nbsp;</span>p-value</a></span></li><li><span><a href=\"#Summary\" data-toc-modified-id=\"Summary-9\"><span class=\"toc-item-num\">9&nbsp;&nbsp;</span>Summary</a></span></li></ul></div>"
   ]
  },
  {
   "cell_type": "markdown",
   "metadata": {
    "toc": true
   },
   "source": [
    "<h1>Table of Contents<span class=\"tocSkip\"></span></h1>\n",
    "<div class=\"toc\"><ul class=\"toc-item\"><li><span><a href=\"#Imports\" data-toc-modified-id=\"Imports-1\"><span class=\"toc-item-num\">1&nbsp;&nbsp;</span>Imports</a></span></li><li><span><a href=\"#Task\" data-toc-modified-id=\"Task-2\"><span class=\"toc-item-num\">2&nbsp;&nbsp;</span>Task</a></span></li><li><span><a href=\"#Task-1\" data-toc-modified-id=\"Task-1-3\"><span class=\"toc-item-num\">3&nbsp;&nbsp;</span>Task 1</a></span></li><li><span><a href=\"#Critical-Value\" data-toc-modified-id=\"Critical-Value-4\"><span class=\"toc-item-num\">4&nbsp;&nbsp;</span>Critical Value</a></span></li><li><span><a href=\"#T-score\" data-toc-modified-id=\"T-score-5\"><span class=\"toc-item-num\">5&nbsp;&nbsp;</span>T-score</a></span></li><li><span><a href=\"#t-score-(critical-value-at-given-deg-freedom)\" data-toc-modified-id=\"t-score-(critical-value-at-given-deg-freedom)-6\"><span class=\"toc-item-num\">6&nbsp;&nbsp;</span>t-score (critical value at given deg freedom)</a></span></li><li><span><a href=\"#Decision-Accept/Reject-H0\" data-toc-modified-id=\"Decision-Accept/Reject-H0-7\"><span class=\"toc-item-num\">7&nbsp;&nbsp;</span>Decision Accept/Reject H0</a></span></li><li><span><a href=\"#p-value\" data-toc-modified-id=\"p-value-8\"><span class=\"toc-item-num\">8&nbsp;&nbsp;</span>p-value</a></span></li><li><span><a href=\"#Summary\" data-toc-modified-id=\"Summary-9\"><span class=\"toc-item-num\">9&nbsp;&nbsp;</span>Summary</a></span></li></ul></div>"
   ]
  },
  {
   "cell_type": "markdown",
   "metadata": {},
   "source": [
    "# Imports"
   ]
  },
  {
   "cell_type": "code",
   "execution_count": 1,
   "metadata": {
    "ExecuteTime": {
     "end_time": "2018-12-27T15:45:34.384429Z",
     "start_time": "2018-12-27T15:45:34.012601Z"
    }
   },
   "outputs": [
    {
     "ename": "ImportError",
     "evalue": "No module named 'scipy'",
     "output_type": "error",
     "traceback": [
      "\u001b[0;31m---------------------------------------------------------------------------\u001b[0m",
      "\u001b[0;31mImportError\u001b[0m                               Traceback (most recent call last)",
      "\u001b[0;32m<ipython-input-1-d5e83f3a6d87>\u001b[0m in \u001b[0;36m<module>\u001b[0;34m()\u001b[0m\n\u001b[1;32m      1\u001b[0m \u001b[0;32mimport\u001b[0m \u001b[0mnumpy\u001b[0m \u001b[0;32mas\u001b[0m \u001b[0mnp\u001b[0m\u001b[0;34m\u001b[0m\u001b[0m\n\u001b[1;32m      2\u001b[0m \u001b[0;32mimport\u001b[0m \u001b[0mpandas\u001b[0m \u001b[0;32mas\u001b[0m \u001b[0mpd\u001b[0m\u001b[0;34m\u001b[0m\u001b[0m\n\u001b[0;32m----> 3\u001b[0;31m \u001b[0;32mimport\u001b[0m \u001b[0mscipy\u001b[0m\u001b[0;34m\u001b[0m\u001b[0m\n\u001b[0m\u001b[1;32m      4\u001b[0m \u001b[0;34m\u001b[0m\u001b[0m\n\u001b[1;32m      5\u001b[0m \u001b[0;31m# pandas display settings\u001b[0m\u001b[0;34m\u001b[0m\u001b[0;34m\u001b[0m\u001b[0m\n",
      "\u001b[0;31mImportError\u001b[0m: No module named 'scipy'"
     ]
    }
   ],
   "source": [
    "import numpy as np\n",
    "import pandas as pd\n",
    "import scipy\n",
    "\n",
    "# pandas display settings\n",
    "pd.set_option('display.max_row', 1000)\n",
    "pd.set_option('display.max_columns', 50)\n",
    "\n",
    "# plotting\n",
    "import matplotlib.pyplot as plt\n",
    "import seaborn as sns\n",
    "%matplotlib inline\n",
    "sns.set()\n",
    "\n",
    "# ipython display\n",
    "from IPython.display import Image\n",
    "\n",
    "# data dirs\n",
    "snap_dir = '../data/snapshots/'\n",
    "data_dir = '../data/excel/'"
   ]
  },
  {
   "cell_type": "markdown",
   "metadata": {},
   "source": [
    "# Task"
   ]
  },
  {
   "cell_type": "code",
   "execution_count": null,
   "metadata": {
    "ExecuteTime": {
     "end_time": "2018-12-27T15:45:34.385276Z",
     "start_time": "2018-12-27T15:45:33.747Z"
    }
   },
   "outputs": [],
   "source": [
    "Image(filename=(snap_dir + 'sol_4.6.png'),width=1000)"
   ]
  },
  {
   "cell_type": "code",
   "execution_count": null,
   "metadata": {
    "ExecuteTime": {
     "end_time": "2018-12-27T15:45:34.386577Z",
     "start_time": "2018-12-27T15:45:33.751Z"
    }
   },
   "outputs": [],
   "source": [
    "import numpy as np\n",
    "import pandas as pd\n",
    "\n",
    "df = pd.read_excel(data_dir + '4.6.Test-for-the-mean.Population-variance-unknown-exercise.xlsx',\n",
    "                  sheet_name = 0,\n",
    "                  skiprows = 9, # number of row of header shown in excel sheet -1\n",
    "                  usecols = \"B\") # None for all columns\n",
    "\n",
    "# print(df.loc[1]*5)\n",
    "print(df.shape)\n",
    "print(df)\n"
   ]
  },
  {
   "cell_type": "code",
   "execution_count": null,
   "metadata": {
    "ExecuteTime": {
     "end_time": "2018-12-27T15:45:34.388179Z",
     "start_time": "2018-12-27T15:45:33.754Z"
    }
   },
   "outputs": [],
   "source": [
    "xbar = df.mean()\n",
    "std = df.std()\n",
    "std_err = std/np.sqrt(df.shape[0])\n",
    "xbar,std,std_err"
   ]
  },
  {
   "cell_type": "code",
   "execution_count": null,
   "metadata": {
    "ExecuteTime": {
     "end_time": "2018-12-27T15:45:34.389818Z",
     "start_time": "2018-12-27T15:45:33.756Z"
    }
   },
   "outputs": [],
   "source": [
    "df2 = pd.DataFrame()\n",
    "df2['sample mean'] = df.mean()\n",
    "df2['sample std'] = df.std()\n",
    "df2['std_err'] = df.std() / np.sqrt(df.shape[0])\n",
    "\n",
    "df2.style.format(\"{:.2%}\")"
   ]
  },
  {
   "cell_type": "markdown",
   "metadata": {},
   "source": [
    "# Task 1\n",
    "\n",
    "Question: is the competitor open rate is exactly 40% ?\n",
    "\n",
    "at 5% significance level, comment on decision\n",
    "\n",
    "\n",
    "Ans:\n",
    "H0: Open rate is NOT exactly 40%\n",
    "H1: Open rate is EXACTLY 40%\n",
    "\n",
    "(two-sided t-test)\n",
    "deg of freedom = n-1 = 10-1=9"
   ]
  },
  {
   "cell_type": "markdown",
   "metadata": {},
   "source": [
    "# Critical Value"
   ]
  },
  {
   "cell_type": "markdown",
   "metadata": {},
   "source": [
    "# T-score"
   ]
  },
  {
   "cell_type": "code",
   "execution_count": null,
   "metadata": {
    "ExecuteTime": {
     "end_time": "2018-12-27T15:45:34.391096Z",
     "start_time": "2018-12-27T15:45:33.760Z"
    }
   },
   "outputs": [],
   "source": [
    "mu0 = 0.4 # 40%\n",
    "T_score = (xbar - mu0) / (std_err)\n",
    "T_score"
   ]
  },
  {
   "cell_type": "markdown",
   "metadata": {},
   "source": [
    "# t-score (critical value at given deg freedom)"
   ]
  },
  {
   "cell_type": "code",
   "execution_count": null,
   "metadata": {
    "ExecuteTime": {
     "end_time": "2018-12-27T15:45:34.392726Z",
     "start_time": "2018-12-27T15:45:33.764Z"
    }
   },
   "outputs": [],
   "source": [
    "import scipy\n",
    "import scipy.stats\n",
    "\n",
    "q = 1 - 0.05/2 # for two-tailed alpha/2, for one-tailed just 1-alpha\n",
    "deg_fr = 10 - 1\n",
    "t_score = scipy.stats.t.ppf(q,deg_fr)\n",
    "t_score_05 = t_score\n",
    "t_score # critical value"
   ]
  },
  {
   "cell_type": "code",
   "execution_count": null,
   "metadata": {
    "ExecuteTime": {
     "end_time": "2018-12-27T15:45:34.394262Z",
     "start_time": "2018-12-27T15:45:33.767Z"
    }
   },
   "outputs": [],
   "source": [
    "import scipy\n",
    "import scipy.stats\n",
    "\n",
    "q = 1 - 0.01/2 # for two-tailed alpha/2, for one-tailed just 1-alpha\n",
    "deg_fr = 10 - 1\n",
    "t_score = scipy.stats.t.ppf(q,deg_fr)\n",
    "t_score_01 = t_score\n",
    "t_score # critical value"
   ]
  },
  {
   "cell_type": "markdown",
   "metadata": {},
   "source": [
    "# Decision Accept/Reject H0"
   ]
  },
  {
   "cell_type": "code",
   "execution_count": null,
   "metadata": {
    "ExecuteTime": {
     "end_time": "2018-12-27T15:45:34.395932Z",
     "start_time": "2018-12-27T15:45:33.770Z"
    }
   },
   "outputs": [],
   "source": [
    "if abs(T_score.values) > t_score:\n",
    "    print('Reject the null hypothesis H0.')\n",
    "else:\n",
    "    print('Accept the null hypothesis H0.')"
   ]
  },
  {
   "cell_type": "markdown",
   "metadata": {},
   "source": [
    "# p-value\n",
    "\n",
    "https://docs.scipy.org/doc/scipy/reference/tutorial/stats.html"
   ]
  },
  {
   "cell_type": "code",
   "execution_count": null,
   "metadata": {
    "ExecuteTime": {
     "end_time": "2018-12-27T15:45:34.397634Z",
     "start_time": "2018-12-27T15:45:33.774Z"
    }
   },
   "outputs": [],
   "source": [
    "print('t-statistic = %6.3f pvalue = %6.4f' %  scipy.stats.ttest_1samp(df, 0.4))"
   ]
  },
  {
   "cell_type": "code",
   "execution_count": null,
   "metadata": {
    "ExecuteTime": {
     "end_time": "2018-12-27T15:45:34.399078Z",
     "start_time": "2018-12-27T15:45:33.777Z"
    }
   },
   "outputs": [],
   "source": [
    "n = 10\n",
    "nsided = 2\n",
    "\n",
    "p_value = scipy.stats.t.sf(np.abs(T_score), n-1)*nsided # sf is survival function\n",
    "p_value"
   ]
  },
  {
   "cell_type": "code",
   "execution_count": null,
   "metadata": {
    "ExecuteTime": {
     "end_time": "2018-12-27T15:45:34.400050Z",
     "start_time": "2018-12-27T15:45:33.780Z"
    }
   },
   "outputs": [],
   "source": [
    "alpha = 0.05 # 5% significance\n",
    "alpha = 0.01 # 1% significane\n",
    "\n",
    "if p_value < alpha:\n",
    "    print('Reject the null hypothesis H0.')\n",
    "else:\n",
    "    print('Accept the null hypothesis H0.')"
   ]
  },
  {
   "cell_type": "markdown",
   "metadata": {},
   "source": [
    "# Summary"
   ]
  },
  {
   "cell_type": "code",
   "execution_count": null,
   "metadata": {
    "ExecuteTime": {
     "end_time": "2018-12-27T15:45:34.401444Z",
     "start_time": "2018-12-27T15:45:33.782Z"
    },
    "scrolled": true
   },
   "outputs": [],
   "source": [
    "df3 = pd.DataFrame()\n",
    "\n",
    "df3['T_score'] = [T_score.values[0]] * 2\n",
    "df3['t_score'] = [t_score_05,t_score_01]\n",
    "\n",
    "df3['p_value'] = p_value[0]*2\n",
    "df3['significance'] = [0.05,0.01]\n",
    "\n",
    "# H0 using t_score\n",
    "df3['Accept/Reject H0'] = np.where(df3['t_score']>abs(df3['T_score']),'Accept','Reject')\n",
    "\n",
    "# H0 using p-value\n",
    "# small pain p-value is good, we reject the null hypothesis and say the test is good.\n",
    "# df3['Accept/Reject H0'] = np.where(df3['p_value']<df3['significance'],'Reject','Accept')\n",
    "\n",
    "df3.index = ['t_9_5%significance','t_9_1%significance']\n",
    "df3.style.set_precision(3)"
   ]
  },
  {
   "cell_type": "code",
   "execution_count": null,
   "metadata": {
    "ExecuteTime": {
     "end_time": "2018-12-27T15:45:34.403157Z",
     "start_time": "2018-12-27T15:45:33.785Z"
    }
   },
   "outputs": [],
   "source": [
    "# dictionary of column colors\n",
    "coldict = {'T_score':'red', 't_score':'orange',\n",
    "           'p_value':'green','significance':'lightgreen'}\n",
    "\n",
    "def highlight_cols(s, coldict):\n",
    "    if s.name in coldict.keys():\n",
    "        return ['background-color: {}'.format(coldict[s.name])] * len(s)\n",
    "    return [''] * len(s)\n",
    "\n",
    "df3.style.apply(highlight_cols, coldict=coldict)"
   ]
  },
  {
   "cell_type": "code",
   "execution_count": null,
   "metadata": {},
   "outputs": [],
   "source": []
  }
 ],
 "metadata": {
  "kernelspec": {
   "display_name": "Python 3",
   "language": "python",
   "name": "python3"
  },
  "language_info": {
   "codemirror_mode": {
    "name": "ipython",
    "version": 3
   },
   "file_extension": ".py",
   "mimetype": "text/x-python",
   "name": "python",
   "nbconvert_exporter": "python",
   "pygments_lexer": "ipython3",
   "version": "3.5.4"
  },
  "toc": {
   "base_numbering": 1,
   "nav_menu": {},
   "number_sections": true,
   "sideBar": true,
   "skip_h1_title": false,
   "title_cell": "Table of Contents",
   "title_sidebar": "Contents",
   "toc_cell": true,
   "toc_position": {},
   "toc_section_display": true,
   "toc_window_display": true
  }
 },
 "nbformat": 4,
 "nbformat_minor": 2
}
