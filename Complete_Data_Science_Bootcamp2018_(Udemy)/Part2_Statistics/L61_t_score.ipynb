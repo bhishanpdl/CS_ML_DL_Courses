{
 "cells": [
  {
   "cell_type": "markdown",
   "metadata": {
    "toc": true
   },
   "source": [
    "<h1>Table of Contents<span class=\"tocSkip\"></span></h1>\n",
    "<div class=\"toc\"><ul class=\"toc-item\"><li><span><a href=\"#Part-2-Sec-13-Lec--61-Student's-T-Distribution\" data-toc-modified-id=\"Part-2-Sec-13-Lec--61-Student's-T-Distribution-1\"><span class=\"toc-item-num\">1&nbsp;&nbsp;</span>Part 2 Sec 13 Lec  61 Student's T Distribution</a></span><ul class=\"toc-item\"><li><span><a href=\"#Load-required-libraries\" data-toc-modified-id=\"Load-required-libraries-1.1\"><span class=\"toc-item-num\">1.1&nbsp;&nbsp;</span>Load required libraries</a></span></li><li><span><a href=\"#Excel-Files-Materials\" data-toc-modified-id=\"Excel-Files-Materials-1.2\"><span class=\"toc-item-num\">1.2&nbsp;&nbsp;</span>Excel Files Materials</a></span></li><li><span><a href=\"#students-t-distribution\" data-toc-modified-id=\"students-t-distribution-1.3\"><span class=\"toc-item-num\">1.3&nbsp;&nbsp;</span>students t-distribution</a></span></li><li><span><a href=\"#Question-3.11\" data-toc-modified-id=\"Question-3.11-1.4\"><span class=\"toc-item-num\">1.4&nbsp;&nbsp;</span>Question 3.11</a></span></li><li><span><a href=\"#Question-3.13\" data-toc-modified-id=\"Question-3.13-1.5\"><span class=\"toc-item-num\">1.5&nbsp;&nbsp;</span>Question 3.13</a></span></li><li><span><a href=\"#Question-3.14\" data-toc-modified-id=\"Question-3.14-1.6\"><span class=\"toc-item-num\">1.6&nbsp;&nbsp;</span>Question 3.14</a></span></li><li><span><a href=\"#Question-3.15\" data-toc-modified-id=\"Question-3.15-1.7\"><span class=\"toc-item-num\">1.7&nbsp;&nbsp;</span>Question 3.15</a></span></li></ul></li></ul></div>"
   ]
  },
  {
   "cell_type": "markdown",
   "metadata": {
    "colab_type": "text",
    "id": "7SbYdvL0gR2o"
   },
   "source": [
    "# Part 2 Sec 13 Lec  61 Student's T Distribution\n",
    "\n",
    "Course: Udemy_The_Data_Science_Course_2018_Complete_Data_Science_Bootcamp\n",
    "\n",
    "\n",
    "\n",
    "* Part 2: Statistics\n",
    "      - Section 10: Descriptive Statistics\n",
    "      - Section 11: Practical Example: Descriptive Statistics\n",
    "      - Section 12: Inferential Statistics Fundamentals\n",
    "      - Section 13: Inferential Statistics: Confidence Intervals\n",
    "      - Section 14: Practical Example: Inferential Statistics\n",
    "      - Section 15: Hypothesis Testing\n",
    "      - Section 16:  Practical Example: Hypothesis"
   ]
  },
  {
   "cell_type": "markdown",
   "metadata": {
    "colab_type": "text",
    "id": "hQvc4TWPjMBm"
   },
   "source": [
    "## Load required libraries"
   ]
  },
  {
   "cell_type": "code",
   "execution_count": null,
   "metadata": {
    "ExecuteTime": {
     "start_time": "2018-12-10T04:21:11.155Z"
    },
    "colab": {},
    "colab_type": "code",
    "id": "6vRyKTAsjK3p"
   },
   "outputs": [],
   "source": [
    "import numpy as np\n",
    "import pandas as pd\n",
    "\n",
    "import scipy\n",
    "\n",
    "# Set ipython's max row display\n",
    "pd.set_option('display.max_row', 1000)\n",
    "\n",
    "# Set iPython's max column width to 50\n",
    "pd.set_option('display.max_columns', 50)\n",
    "\n",
    "import seaborn as sns\n",
    "%matplotlib inline\n",
    "sns.set()\n",
    "\n",
    "from IPython.display import Image\n",
    "\n",
    "snap_dir = '../data/snapshots/'\n",
    "data_dir = '../data/excel/'"
   ]
  },
  {
   "cell_type": "markdown",
   "metadata": {
    "colab_type": "text",
    "id": "XaaBODVqip53"
   },
   "source": [
    "## Excel Files Materials"
   ]
  },
  {
   "cell_type": "code",
   "execution_count": null,
   "metadata": {
    "ExecuteTime": {
     "start_time": "2018-12-10T04:21:11.159Z"
    },
    "colab": {
     "base_uri": "https://localhost:8080/",
     "height": 408
    },
    "colab_type": "code",
    "executionInfo": {
     "elapsed": 360,
     "status": "ok",
     "timestamp": 1543798279895,
     "user": {
      "displayName": "astro astro",
      "photoUrl": "https://lh4.googleusercontent.com/-c32U5akLDk0/AAAAAAAAAAI/AAAAAAAAALo/5QE4ScXpqWQ/s64/photo.jpg",
      "userId": "06030840119486905497"
     },
     "user_tz": 300
    },
    "id": "fMDtpbAIjBZP",
    "outputId": "8c6d848b-0458-4080-c700-d4c43c101f40"
   },
   "outputs": [],
   "source": [
    "%%bash\n",
    "ls '../data/excel'"
   ]
  },
  {
   "cell_type": "markdown",
   "metadata": {},
   "source": [
    "## students t-distribution"
   ]
  },
  {
   "cell_type": "markdown",
   "metadata": {
    "ExecuteTime": {
     "end_time": "2018-12-06T00:39:02.328100Z",
     "start_time": "2018-12-06T00:39:02.325349Z"
    }
   },
   "source": [
    "- t-distribution is flatter than z-distribution.\n",
    "- generally for samples above 50 items we use z-statistics assuming equal to t-statistics.\n",
    "\n",
    "Population variance known:\n",
    "$$\n",
    "\\overline { x } \\pm z _ { \\alpha / 2 } \\frac { \\sigma } { \\sqrt { n } }\n",
    "$$\n",
    "\n",
    "Population variance unknown:\n",
    "$$\n",
    "\\overline { x } \\pm t _ { n - 1 , \\alpha / 2 } \\frac { S } { \\sqrt { n } }\n",
    "$$\n",
    "\n",
    "For degree of freedom df > 0, the Student's t-distribution is [given by](https://docs.scipy.org/doc/scipy/reference/generated/scipy.stats.t.html):\n",
    "$$\n",
    "f ( x , d f ) = \\frac { \\gamma ( ( d f + 1 ) / 2 ) } { \\sqrt { \\pi * d f } \\gamma ( d f / 2 ) \\left( 1 + x ^ { 2 } / d f \\right) ^ { ( d f + 1 ) / 2 } }\n",
    "$$\n",
    "\n",
    "\n",
    "```python\n",
    "import scipy\n",
    "\n",
    "n = 9 # 9 samples\n",
    "q = 1 - (1-0.95)/2.0 # 95 percent confidence interval   (q = 0.975 and p = 0.025)\n",
    "deg_fr = n - 1 # or nx+ny-2 \n",
    "t_score = scipy.stats.t.ppf(q, deg_fr)\n",
    "\n",
    "ppf(q, df, loc=0, scale=1)\tPercent point function (inverse of cdf — percentiles).\n",
    "\n",
    "q = array_like\n",
    "df = degree of freedom\n",
    "```"
   ]
  },
  {
   "cell_type": "code",
   "execution_count": null,
   "metadata": {
    "ExecuteTime": {
     "start_time": "2018-12-10T04:21:11.163Z"
    }
   },
   "outputs": [],
   "source": [
    "Image(filename=(snap_dir + 't_statistic_for_9samples.png'),width=1000)"
   ]
  },
  {
   "cell_type": "markdown",
   "metadata": {},
   "source": [
    "## Question 3.11\n",
    "\n",
    "Population variance unknown, t-score_exercise\n",
    "\n",
    "\tConfidence intervals, t-score\t\t\t\n",
    "\t\t\t\t\n",
    "\tBackground\tYou are given the dataset from the lesson\t\t\n",
    "\tTask 1\tCalculate the mean and the standard error of the dataset\t\t\n",
    "\tTask 2\tDetermine which statistic to use for inference\t\t\n",
    "\tTask 3\tFind the appropriate statistic, taking into consideration the degrees of freedom (if applicable) for 99% confidence\t\t\n",
    "\tTask 4\tFind the 99% confidence interval"
   ]
  },
  {
   "cell_type": "code",
   "execution_count": null,
   "metadata": {
    "ExecuteTime": {
     "start_time": "2018-12-10T04:21:11.168Z"
    }
   },
   "outputs": [],
   "source": [
    "Image(filename=(snap_dir + 'sol_3.11.png'),width=600)"
   ]
  },
  {
   "cell_type": "code",
   "execution_count": null,
   "metadata": {
    "ExecuteTime": {
     "start_time": "2018-12-10T04:21:11.172Z"
    }
   },
   "outputs": [],
   "source": [
    "df = pd.read_excel(data_dir + '3.11.Population-variance-unknown-t-score-exercise-solution.xlsx',\n",
    "                  sheet_name = 'Salaries',\n",
    "                  skiprows = 9,\n",
    "                  usecols = \"B\")\n",
    "\n",
    "\n",
    "print(df)"
   ]
  },
  {
   "cell_type": "code",
   "execution_count": null,
   "metadata": {
    "ExecuteTime": {
     "start_time": "2018-12-10T04:21:11.179Z"
    }
   },
   "outputs": [],
   "source": [
    "# task 1: mean and standard error\n",
    "xbar, s, std_error = df.mean().values, df.std().values, df.std()/np.sqrt(df.size)\n",
    "xbar.round(0), s.round(0), std_error.round(0)"
   ]
  },
  {
   "cell_type": "code",
   "execution_count": null,
   "metadata": {
    "ExecuteTime": {
     "start_time": "2018-12-10T04:21:11.184Z"
    }
   },
   "outputs": [],
   "source": [
    "# for small samples (<50) we use t-statistics\n",
    "# n = 9, degree of freedom = 9-1 = 8\n",
    "# for 99% confidence interval, alpha = 1% = 0.01 and alpha/2 = 0.005\n",
    "from scipy import stats\n",
    "\n",
    "ci = 99\n",
    "n = 9\n",
    "t = stats.t.ppf(1- ((100-ci)/2/100), n-1) # 99% CI, t8,0.005\n",
    "print(t) # 3.36"
   ]
  },
  {
   "cell_type": "code",
   "execution_count": null,
   "metadata": {
    "ExecuteTime": {
     "start_time": "2018-12-10T04:21:11.187Z"
    }
   },
   "outputs": [],
   "source": [
    "scipy.stats.t.ppf(1 - (1-0.99)/2.0,9-1)"
   ]
  },
  {
   "cell_type": "code",
   "execution_count": null,
   "metadata": {
    "ExecuteTime": {
     "start_time": "2018-12-10T04:21:11.192Z"
    }
   },
   "outputs": [],
   "source": [
    "# find intervals\n",
    "xbar = df.mean()\n",
    "s = df.std()\n",
    "n = df.size\n",
    "std_error = s/np.sqrt(n)\n",
    "\n",
    "t_score = scipy.stats.t.ppf(1 - (1-0.99)/2.0,9-1)\n",
    "\n",
    "\n",
    "\n",
    "ci_low = xbar - t_score * std_error\n",
    "ci_high = xbar + t_score * std_error\n",
    "\n",
    "ci_low.round(0), ci_high.round(0) # 76951.0 to 108116.0 (slightly diffent than answer)"
   ]
  },
  {
   "cell_type": "markdown",
   "metadata": {
    "ExecuteTime": {
     "end_time": "2018-12-06T01:42:09.355926Z",
     "start_time": "2018-12-06T01:42:09.351579Z"
    }
   },
   "source": [
    "## Question 3.13\n",
    "\n",
    "Confidence intervals. Two means. Dependent samples Exercise\n",
    "Confidence intervals. Two means. Dependent samples_exercise\n",
    "\n",
    "\tConfidence interval for difference of two means, dependent samples\t\t\t\t\t\t\t\t\n",
    "\tWeight loss example, lbs\t\t\t\t\t\t\t\t\n",
    "\t\t\t\t\t\t\t\t\t\n",
    "\tBackground\tThe 365 team has developed a diet and an exercise program for losing weight. It seems that it works like a charm. However, you are interested in how much weight are you likely to lose.\t\t\t\t\t\t\t\n",
    "\t\tYou have a sample of 10 people who have already completed the 12-week program. The second sheet in shows the data in kg, if you feel more comfortable using kg as a unit of measurement\t\t\t\t\t\t\t\n",
    "\tTask 1\tCalculate the mean and standard deviation of the dataset\t\t\t\t\t\t\t\n",
    "\tTask 2\tDetermine the appropriate statistic to use\t\t\t\t\t\t\t\n",
    "\tTask 3\tCalculate the 95% confidence interval\t\t\t\t\t\t\t\n",
    "\tTask 4\tInterpret the result\t\t\t\t\t\t\t\n",
    "\tOptional\tYou can try to calculate the 90% and 99% confidence intervals to see the difference. There is no solution provided for these cases.\n"
   ]
  },
  {
   "cell_type": "code",
   "execution_count": null,
   "metadata": {
    "ExecuteTime": {
     "start_time": "2018-12-10T04:21:11.196Z"
    }
   },
   "outputs": [],
   "source": [
    "Image(filename=(snap_dir + 'sol_3.13.png'),width=1000)"
   ]
  },
  {
   "cell_type": "code",
   "execution_count": null,
   "metadata": {
    "ExecuteTime": {
     "start_time": "2018-12-10T04:21:11.199Z"
    }
   },
   "outputs": [],
   "source": [
    "import numpy as np\n",
    "import pandas as pd\n",
    "import scipy"
   ]
  },
  {
   "cell_type": "code",
   "execution_count": null,
   "metadata": {
    "ExecuteTime": {
     "start_time": "2018-12-10T04:21:11.203Z"
    }
   },
   "outputs": [],
   "source": [
    "df = pd.read_excel(data_dir + '3.13.Confidence-intervals.Two-means.Dependent-samples-exercise.xlsx',\n",
    "                  sheet_name = 'Data in lbs',\n",
    "                  skiprows = 13,\n",
    "                  usecols = \"E\")\n",
    "print(df.shape)\n",
    "print(df)"
   ]
  },
  {
   "cell_type": "code",
   "execution_count": null,
   "metadata": {
    "ExecuteTime": {
     "start_time": "2018-12-10T04:21:11.206Z"
    }
   },
   "outputs": [],
   "source": [
    "df = df['Difference']"
   ]
  },
  {
   "cell_type": "code",
   "execution_count": null,
   "metadata": {
    "ExecuteTime": {
     "start_time": "2018-12-10T04:21:11.209Z"
    }
   },
   "outputs": [],
   "source": [
    "# task 1\n",
    "xbar, s = df.mean().round(2), df.std().round(2)\n",
    "\n",
    "xbar, s"
   ]
  },
  {
   "cell_type": "code",
   "execution_count": null,
   "metadata": {
    "ExecuteTime": {
     "start_time": "2018-12-10T04:21:11.212Z"
    }
   },
   "outputs": [],
   "source": [
    "# task 3: find 95 % confidence interval"
   ]
  },
  {
   "cell_type": "code",
   "execution_count": null,
   "metadata": {
    "ExecuteTime": {
     "start_time": "2018-12-10T04:21:11.215Z"
    }
   },
   "outputs": [],
   "source": [
    "n = df.shape[0]\n",
    "n"
   ]
  },
  {
   "cell_type": "code",
   "execution_count": null,
   "metadata": {
    "ExecuteTime": {
     "start_time": "2018-12-10T04:21:11.218Z"
    }
   },
   "outputs": [],
   "source": [
    "std_error = s/np.sqrt(n)\n",
    "std_error"
   ]
  },
  {
   "cell_type": "code",
   "execution_count": null,
   "metadata": {
    "ExecuteTime": {
     "start_time": "2018-12-10T04:21:11.222Z"
    }
   },
   "outputs": [],
   "source": [
    "deg_freedom = n - 1\n",
    "deg_freedom"
   ]
  },
  {
   "cell_type": "code",
   "execution_count": null,
   "metadata": {
    "ExecuteTime": {
     "start_time": "2018-12-10T04:21:11.226Z"
    }
   },
   "outputs": [],
   "source": [
    "ci = 0.95\n",
    "t_score = scipy.stats.t.ppf(1 - (1-ci)/2, deg_freedom)\n",
    "t_score"
   ]
  },
  {
   "cell_type": "code",
   "execution_count": null,
   "metadata": {
    "ExecuteTime": {
     "start_time": "2018-12-10T04:21:11.229Z"
    }
   },
   "outputs": [],
   "source": [
    "interval = t_score * std_error\n",
    "interval"
   ]
  },
  {
   "cell_type": "code",
   "execution_count": null,
   "metadata": {
    "ExecuteTime": {
     "start_time": "2018-12-10T04:21:11.232Z"
    }
   },
   "outputs": [],
   "source": [
    "ci_low, ci_high = xbar - interval, xbar + interval\n",
    "ci_low.round(2), ci_high.round(2)"
   ]
  },
  {
   "cell_type": "markdown",
   "metadata": {
    "ExecuteTime": {
     "end_time": "2018-12-06T02:46:10.838407Z",
     "start_time": "2018-12-06T02:46:10.835934Z"
    }
   },
   "source": [
    "## Question 3.14\n",
    "\n",
    "Confidence interval for the difference of two means. Independent samples, variance known"
   ]
  },
  {
   "cell_type": "code",
   "execution_count": null,
   "metadata": {
    "ExecuteTime": {
     "start_time": "2018-12-10T04:21:11.235Z"
    }
   },
   "outputs": [],
   "source": [
    "Image(filename=(snap_dir + 'ci_indp_var_known.png'),width=900)"
   ]
  },
  {
   "cell_type": "code",
   "execution_count": null,
   "metadata": {
    "ExecuteTime": {
     "start_time": "2018-12-10T04:21:11.238Z"
    }
   },
   "outputs": [],
   "source": [
    "Image(filename=(snap_dir + 'sol_3.14.png'),width=900)"
   ]
  },
  {
   "cell_type": "code",
   "execution_count": null,
   "metadata": {
    "ExecuteTime": {
     "start_time": "2018-12-10T04:21:11.242Z"
    }
   },
   "outputs": [],
   "source": [
    "nx = 100\n",
    "ny = 70\n",
    "xbar = 58\n",
    "ybar = 65\n",
    "sigma_x = 10\n",
    "sigma_y = 5"
   ]
  },
  {
   "cell_type": "code",
   "execution_count": null,
   "metadata": {
    "ExecuteTime": {
     "start_time": "2018-12-10T04:21:11.245Z"
    }
   },
   "outputs": [],
   "source": [
    "1-   (1-.95)/2"
   ]
  },
  {
   "cell_type": "code",
   "execution_count": null,
   "metadata": {
    "ExecuteTime": {
     "start_time": "2018-12-10T04:21:11.249Z"
    }
   },
   "outputs": [],
   "source": [
    "1 - (1-(1-.95)/2)"
   ]
  },
  {
   "cell_type": "code",
   "execution_count": null,
   "metadata": {
    "ExecuteTime": {
     "start_time": "2018-12-10T04:21:11.252Z"
    }
   },
   "outputs": [],
   "source": [
    "scipy.stats.norm.ppf(0.025)"
   ]
  },
  {
   "cell_type": "code",
   "execution_count": null,
   "metadata": {
    "ExecuteTime": {
     "start_time": "2018-12-10T04:21:11.256Z"
    }
   },
   "outputs": [],
   "source": [
    "z_score = scipy.stats.norm.ppf(1-(1-.95)/2)\n",
    "z_score"
   ]
  },
  {
   "cell_type": "code",
   "execution_count": null,
   "metadata": {
    "ExecuteTime": {
     "start_time": "2018-12-10T04:21:11.259Z"
    }
   },
   "outputs": [],
   "source": [
    "-scipy.stats.norm.ppf(0.025)"
   ]
  },
  {
   "cell_type": "code",
   "execution_count": null,
   "metadata": {
    "ExecuteTime": {
     "start_time": "2018-12-10T04:21:11.262Z"
    }
   },
   "outputs": [],
   "source": [
    "std_error = np.sqrt(sigma_x**2/nx + sigma_y**2/ny)\n",
    "std_error"
   ]
  },
  {
   "cell_type": "code",
   "execution_count": null,
   "metadata": {
    "ExecuteTime": {
     "start_time": "2018-12-10T04:21:11.266Z"
    }
   },
   "outputs": [],
   "source": [
    "interval = z_score * std_error\n",
    "interval"
   ]
  },
  {
   "cell_type": "code",
   "execution_count": null,
   "metadata": {
    "ExecuteTime": {
     "start_time": "2018-12-10T04:21:11.269Z"
    }
   },
   "outputs": [],
   "source": [
    "ci_low = (xbar-ybar) - interval\n",
    "ci_high = (xbar-ybar) + interval\n",
    "\n",
    "ci_low, ci_high"
   ]
  },
  {
   "cell_type": "markdown",
   "metadata": {},
   "source": [
    "## Question 3.15"
   ]
  },
  {
   "cell_type": "code",
   "execution_count": null,
   "metadata": {
    "ExecuteTime": {
     "start_time": "2018-12-10T04:21:11.272Z"
    }
   },
   "outputs": [],
   "source": [
    "Image(filename=(snap_dir + 'ci_indep_var_unknown.png'),width=1000)"
   ]
  },
  {
   "cell_type": "code",
   "execution_count": null,
   "metadata": {
    "ExecuteTime": {
     "start_time": "2018-12-10T04:21:11.276Z"
    }
   },
   "outputs": [],
   "source": [
    "Image(filename=(snap_dir + 'ci_indep_var_unknown2.png'),width=1000)"
   ]
  },
  {
   "cell_type": "markdown",
   "metadata": {},
   "source": [
    "\tConfidence interval for difference of two means; independent samples, variances unknown but assumed to be equal\t\t\t\t\t\t\t\t\t\n",
    "\tApples example\t\t\t\t\t\t\t\t\t\n",
    "\t\t\t\t\t\t\t\t\t\t\n",
    "\tBackground\tYou have the same datasets from the lesson.\t\t\t\t\t\t\t\t\n",
    "\tTask 1\tCalculate the 90% confidence interval\t\t\t\t\t\t\t\t\n",
    "\tTask 2\tCompare the result with the 95% confidence interval from the lesson\t\t\t\t\t\t\t\t\n",
    "\t\t\t\t\t\t\t\t\t\t"
   ]
  },
  {
   "cell_type": "code",
   "execution_count": null,
   "metadata": {
    "ExecuteTime": {
     "start_time": "2018-12-10T04:21:11.279Z"
    }
   },
   "outputs": [],
   "source": [
    "df = pd.read_excel(data_dir + '3.15.Confidence-intervals.Two-means.Independent-samples-Part-2-exercise.xlsx',\n",
    "                  sheet_name = 'CI, indep, var unkwn',\n",
    "                  skiprows = 8, # number of row of header shown in excel sheet -1\n",
    "                  usecols = None) # None for all columns\n",
    "print(df.shape)\n",
    "print(df)"
   ]
  },
  {
   "cell_type": "code",
   "execution_count": null,
   "metadata": {
    "ExecuteTime": {
     "start_time": "2018-12-10T04:21:11.282Z"
    }
   },
   "outputs": [],
   "source": [
    "df = df.iloc[:,1:]\n",
    "print(df)"
   ]
  },
  {
   "cell_type": "code",
   "execution_count": null,
   "metadata": {
    "ExecuteTime": {
     "start_time": "2018-12-10T04:21:11.285Z"
    }
   },
   "outputs": [],
   "source": [
    "x = df['NY apples']\n",
    "y = df['LA apples']"
   ]
  },
  {
   "cell_type": "code",
   "execution_count": null,
   "metadata": {
    "ExecuteTime": {
     "start_time": "2018-12-10T04:21:11.288Z"
    }
   },
   "outputs": [],
   "source": [
    "xbar = x.mean()\n",
    "ybar = y.mean()\n",
    "\n",
    "xbar, ybar"
   ]
  },
  {
   "cell_type": "code",
   "execution_count": null,
   "metadata": {
    "ExecuteTime": {
     "start_time": "2018-12-10T04:21:11.291Z"
    }
   },
   "outputs": [],
   "source": [
    "sx = x.std()\n",
    "sy = y.std()\n",
    "\n",
    "sx, sy"
   ]
  },
  {
   "cell_type": "code",
   "execution_count": null,
   "metadata": {
    "ExecuteTime": {
     "start_time": "2018-12-10T04:21:11.295Z"
    }
   },
   "outputs": [],
   "source": [
    "nx = pd.notnull(x).sum()\n",
    "ny = pd.notnull(y).sum()\n",
    "\n",
    "nx,ny"
   ]
  },
  {
   "cell_type": "code",
   "execution_count": null,
   "metadata": {
    "ExecuteTime": {
     "start_time": "2018-12-10T04:21:11.298Z"
    }
   },
   "outputs": [],
   "source": [
    "# sample variances\n",
    "sx = x.std()\n",
    "sy = y.std()\n",
    "\n",
    "sx,sy"
   ]
  },
  {
   "cell_type": "code",
   "execution_count": null,
   "metadata": {
    "ExecuteTime": {
     "start_time": "2018-12-10T04:21:11.301Z"
    }
   },
   "outputs": [],
   "source": [
    "# pooled variance\n",
    "sp2 = ( (nx-1) * sx*sx + (ny-1)*sy*sy )/ (nx+ny-2)\n",
    "sp2"
   ]
  },
  {
   "cell_type": "code",
   "execution_count": null,
   "metadata": {
    "ExecuteTime": {
     "start_time": "2018-12-10T04:21:11.304Z"
    }
   },
   "outputs": [],
   "source": [
    "deg_freedom = nx+ny-2\n",
    "\n",
    "p = (1-0.90)/2\n",
    "q = 1 - p # 0.05\n",
    "\n",
    "t_score = -scipy.stats.t.ppf( 0.05, deg_freedom)\n",
    "\n",
    "deg_freedom, t_score"
   ]
  },
  {
   "cell_type": "code",
   "execution_count": null,
   "metadata": {
    "ExecuteTime": {
     "start_time": "2018-12-10T04:21:11.307Z"
    }
   },
   "outputs": [],
   "source": [
    "(1-.90)/2"
   ]
  },
  {
   "cell_type": "code",
   "execution_count": null,
   "metadata": {
    "ExecuteTime": {
     "start_time": "2018-12-10T04:21:11.310Z"
    }
   },
   "outputs": [],
   "source": [
    "# scipy.stats.t.ppf?"
   ]
  },
  {
   "cell_type": "code",
   "execution_count": null,
   "metadata": {
    "ExecuteTime": {
     "start_time": "2018-12-10T04:21:11.313Z"
    }
   },
   "outputs": [],
   "source": [
    "std_err = np.sqrt(sx*sx/nx + sy*sy/ny)\n",
    "std_err"
   ]
  },
  {
   "cell_type": "code",
   "execution_count": null,
   "metadata": {
    "ExecuteTime": {
     "start_time": "2018-12-10T04:21:11.316Z"
    }
   },
   "outputs": [],
   "source": [
    "margin_of_error = t_score * std_err\n",
    "margin_of_error"
   ]
  },
  {
   "cell_type": "code",
   "execution_count": null,
   "metadata": {
    "ExecuteTime": {
     "start_time": "2018-12-10T04:21:11.319Z"
    }
   },
   "outputs": [],
   "source": [
    "xbar - ybar"
   ]
  },
  {
   "cell_type": "code",
   "execution_count": null,
   "metadata": {
    "ExecuteTime": {
     "start_time": "2018-12-10T04:21:11.322Z"
    }
   },
   "outputs": [],
   "source": [
    "ci_low = (xbar - ybar) - margin_of_error\n",
    "ci_high = (xbar - ybar) + margin_of_error\n",
    "\n",
    "ci_low, ci_high  \n",
    "\n",
    "# (0.6542361128115387, 0.7377638871884608)  # using sp2**2/nx + sp2**2/ny gives this.\n",
    "# (0.5019424510700723, 0.8900575489299272)  # using sx**2/nx + sy**2/ny gives this.\n",
    "# answer:  $0.51 \t $0.88 "
   ]
  }
 ],
 "metadata": {
  "colab": {
   "collapsed_sections": [
    "-UWac3rMjEyn"
   ],
   "name": "udemy_ds18_part2_statistics.ipynb",
   "provenance": [],
   "version": "0.3.2"
  },
  "kernelspec": {
   "display_name": "Python (dataSc)",
   "language": "python",
   "name": "datasc"
  },
  "language_info": {
   "codemirror_mode": {
    "name": "ipython",
    "version": 3
   },
   "file_extension": ".py",
   "mimetype": "text/x-python",
   "name": "python",
   "nbconvert_exporter": "python",
   "pygments_lexer": "ipython3",
   "version": "3.7.0"
  },
  "toc": {
   "base_numbering": 1,
   "nav_menu": {},
   "number_sections": true,
   "sideBar": true,
   "skip_h1_title": false,
   "title_cell": "Table of Contents",
   "title_sidebar": "Contents",
   "toc_cell": true,
   "toc_position": {},
   "toc_section_display": true,
   "toc_window_display": true
  }
 },
 "nbformat": 4,
 "nbformat_minor": 1
}
