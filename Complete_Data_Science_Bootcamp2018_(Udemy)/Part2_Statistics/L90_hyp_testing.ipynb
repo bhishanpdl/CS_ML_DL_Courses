{
 "cells": [
  {
   "cell_type": "markdown",
   "metadata": {
    "toc": true
   },
   "source": [
    "<h1>Table of Contents<span class=\"tocSkip\"></span></h1>\n",
    "<div class=\"toc\"><ul class=\"toc-item\"><li><span><a href=\"#Hypothesis-Testing\" data-toc-modified-id=\"Hypothesis-Testing-1\"><span class=\"toc-item-num\">1&nbsp;&nbsp;</span>Hypothesis Testing</a></span></li><li><span><a href=\"#Data\" data-toc-modified-id=\"Data-2\"><span class=\"toc-item-num\">2&nbsp;&nbsp;</span>Data</a></span></li><li><span><a href=\"#T-score\" data-toc-modified-id=\"T-score-3\"><span class=\"toc-item-num\">3&nbsp;&nbsp;</span>T-score</a></span></li><li><span><a href=\"#p-value\" data-toc-modified-id=\"p-value-4\"><span class=\"toc-item-num\">4&nbsp;&nbsp;</span>p-value</a></span></li><li><span><a href=\"#Conclusion\" data-toc-modified-id=\"Conclusion-5\"><span class=\"toc-item-num\">5&nbsp;&nbsp;</span>Conclusion</a></span></li></ul></div>"
   ]
  },
  {
   "cell_type": "code",
   "execution_count": 1,
   "metadata": {
    "ExecuteTime": {
     "end_time": "2018-12-27T15:57:10.590587Z",
     "start_time": "2018-12-27T15:57:09.887096Z"
    }
   },
   "outputs": [],
   "source": [
    "import numpy as np\n",
    "import pandas as pd\n",
    "import scipy\n",
    "\n",
    "# pandas display settings\n",
    "pd.set_option('display.max_row', 500)\n",
    "pd.set_option('display.max_columns', 100)\n",
    "pd.set_option('display.max_colwidth', -1)\n",
    "pd.set_option('precision', 2)\n",
    "\n",
    "# plotting\n",
    "import matplotlib.pyplot as plt\n",
    "import seaborn as sns\n",
    "%matplotlib inline\n",
    "sns.set()\n",
    "\n",
    "# ipython display\n",
    "from IPython.display import Image\n",
    "\n",
    "# data dirs\n",
    "snap_dir = '../data/snapshots/'\n",
    "data_dir = '../data/excel/'"
   ]
  },
  {
   "cell_type": "markdown",
   "metadata": {},
   "source": [
    "# Hypothesis Testing\n",
    "\n",
    "Hypothesis:  \n",
    "\n",
    "\\begin{array} { l } { \\mathrm { H } _ { 0 } : \\mathrm { \\mu } _ { m } - \\mu _ { f } = 0 } \\\\ \n",
    "{ \\mathrm { H } _ { 1 } : \\mathrm { \\mu } _ { m } - \\mu _ { f } \\neq 0 } \\end{array}\n",
    "\n",
    "\n",
    "Pooled Variance: \n",
    "$$\n",
    "s _ { p } ^ { 2 } = \\frac { \\left( n _ { x } - 1 \\right) s _ { x } ^ { 2 } + \\left( n _ { y } - 1 \\right) s _ { y } ^ { 2 } } { n _ { x } + n _ { y } - 2 }\n",
    "$$\n",
    "\n",
    "T-score:  \n",
    "$$\n",
    "\\mathrm { T } = \\frac { ( \\overline { x } - \\overline { y } ) - \\left( \\mu _ { m } - \\mu _ { f } \\right) } { \\sqrt { \\frac { s _ { p } ^ { 2 } } { n _ { m } } + \\frac { s _ { p } ^ { 2 } } { n _ { f } } } }\n",
    "$$"
   ]
  },
  {
   "cell_type": "markdown",
   "metadata": {},
   "source": [
    "# Data"
   ]
  },
  {
   "cell_type": "code",
   "execution_count": 2,
   "metadata": {
    "ExecuteTime": {
     "end_time": "2018-12-27T15:57:10.657790Z",
     "start_time": "2018-12-27T15:57:10.592573Z"
    }
   },
   "outputs": [
    {
     "name": "stdout",
     "output_type": "stream",
     "text": [
      "(174, 11)\n"
     ]
    },
    {
     "data": {
      "text/html": [
       "<div>\n",
       "<style scoped>\n",
       "    .dataframe tbody tr th:only-of-type {\n",
       "        vertical-align: middle;\n",
       "    }\n",
       "\n",
       "    .dataframe tbody tr th {\n",
       "        vertical-align: top;\n",
       "    }\n",
       "\n",
       "    .dataframe thead th {\n",
       "        text-align: right;\n",
       "    }\n",
       "</style>\n",
       "<table border=\"1\" class=\"dataframe\">\n",
       "  <thead>\n",
       "    <tr style=\"text-align: right;\">\n",
       "      <th></th>\n",
       "      <th>Unnamed: 0</th>\n",
       "      <th>Surname</th>\n",
       "      <th>Name</th>\n",
       "      <th>Age</th>\n",
       "      <th>Gender</th>\n",
       "      <th>Country</th>\n",
       "      <th>Ethnicity</th>\n",
       "      <th>Start_date</th>\n",
       "      <th>Department</th>\n",
       "      <th>Position</th>\n",
       "      <th>Salary</th>\n",
       "    </tr>\n",
       "  </thead>\n",
       "  <tbody>\n",
       "    <tr>\n",
       "      <th>0</th>\n",
       "      <td>NaN</td>\n",
       "      <td>Sweetwater</td>\n",
       "      <td>Alex</td>\n",
       "      <td>51</td>\n",
       "      <td>Male</td>\n",
       "      <td>United States</td>\n",
       "      <td>White</td>\n",
       "      <td>2011-08-15</td>\n",
       "      <td>Software Engineering</td>\n",
       "      <td>Software Engineering Manager</td>\n",
       "      <td>56160.0</td>\n",
       "    </tr>\n",
       "    <tr>\n",
       "      <th>1</th>\n",
       "      <td>NaN</td>\n",
       "      <td>Carabbio</td>\n",
       "      <td>Judith</td>\n",
       "      <td>30</td>\n",
       "      <td>Female</td>\n",
       "      <td>United States</td>\n",
       "      <td>White</td>\n",
       "      <td>2013-11-11</td>\n",
       "      <td>Software Engineering</td>\n",
       "      <td>Software Engineer</td>\n",
       "      <td>116480.0</td>\n",
       "    </tr>\n",
       "    <tr>\n",
       "      <th>2</th>\n",
       "      <td>NaN</td>\n",
       "      <td>Saada</td>\n",
       "      <td>Adell</td>\n",
       "      <td>31</td>\n",
       "      <td>Female</td>\n",
       "      <td>United States</td>\n",
       "      <td>White</td>\n",
       "      <td>2012-11-05</td>\n",
       "      <td>Software Engineering</td>\n",
       "      <td>Software Engineer</td>\n",
       "      <td>102440.0</td>\n",
       "    </tr>\n",
       "    <tr>\n",
       "      <th>3</th>\n",
       "      <td>NaN</td>\n",
       "      <td>Szabo</td>\n",
       "      <td>Andrew</td>\n",
       "      <td>34</td>\n",
       "      <td>Male</td>\n",
       "      <td>United States</td>\n",
       "      <td>White</td>\n",
       "      <td>2014-07-07</td>\n",
       "      <td>Software Engineering</td>\n",
       "      <td>Software Engineer</td>\n",
       "      <td>99840.0</td>\n",
       "    </tr>\n",
       "    <tr>\n",
       "      <th>4</th>\n",
       "      <td>NaN</td>\n",
       "      <td>Andreola</td>\n",
       "      <td>Colby</td>\n",
       "      <td>38</td>\n",
       "      <td>Female</td>\n",
       "      <td>United States</td>\n",
       "      <td>White</td>\n",
       "      <td>2014-11-10</td>\n",
       "      <td>Software Engineering</td>\n",
       "      <td>Software Engineer</td>\n",
       "      <td>99008.0</td>\n",
       "    </tr>\n",
       "  </tbody>\n",
       "</table>\n",
       "</div>"
      ],
      "text/plain": [
       "   Unnamed: 0     Surname    Name  Age  Gender        Country Ethnicity  \\\n",
       "0 NaN          Sweetwater  Alex    51   Male    United States  White      \n",
       "1 NaN          Carabbio    Judith  30   Female  United States  White      \n",
       "2 NaN          Saada       Adell   31   Female  United States  White      \n",
       "3 NaN          Szabo       Andrew  34   Male    United States  White      \n",
       "4 NaN          Andreola    Colby   38   Female  United States  White      \n",
       "\n",
       "  Start_date                 Department                      Position  \\\n",
       "0 2011-08-15  Software Engineering       Software Engineering Manager   \n",
       "1 2013-11-11  Software Engineering       Software Engineer              \n",
       "2 2012-11-05  Software Engineering       Software Engineer              \n",
       "3 2014-07-07  Software Engineering       Software Engineer              \n",
       "4 2014-11-10  Software Engineering       Software Engineer              \n",
       "\n",
       "     Salary  \n",
       "0  56160.0   \n",
       "1  116480.0  \n",
       "2  102440.0  \n",
       "3  99840.0   \n",
       "4  99008.0   "
      ]
     },
     "execution_count": 2,
     "metadata": {},
     "output_type": "execute_result"
    }
   ],
   "source": [
    "import numpy as np\n",
    "import pandas as pd\n",
    "\n",
    "df = pd.read_excel(data_dir + '4.10.Hypothesis-testing-section-practical-example-exercise.xlsx',\n",
    "                  sheet_name = 0,\n",
    "                  skiprows = 3, # number of row of header shown in excel sheet -1\n",
    "                  usecols = \"A:K\") # None for all columns\n",
    "print(df.shape)\n",
    "df.head()"
   ]
  },
  {
   "cell_type": "code",
   "execution_count": 3,
   "metadata": {
    "ExecuteTime": {
     "end_time": "2018-12-27T15:57:10.674255Z",
     "start_time": "2018-12-27T15:57:10.660136Z"
    }
   },
   "outputs": [
    {
     "data": {
      "text/html": [
       "<div>\n",
       "<style scoped>\n",
       "    .dataframe tbody tr th:only-of-type {\n",
       "        vertical-align: middle;\n",
       "    }\n",
       "\n",
       "    .dataframe tbody tr th {\n",
       "        vertical-align: top;\n",
       "    }\n",
       "\n",
       "    .dataframe thead th {\n",
       "        text-align: right;\n",
       "    }\n",
       "</style>\n",
       "<table border=\"1\" class=\"dataframe\">\n",
       "  <thead>\n",
       "    <tr style=\"text-align: right;\">\n",
       "      <th></th>\n",
       "      <th>Surname</th>\n",
       "      <th>Name</th>\n",
       "      <th>Age</th>\n",
       "      <th>Gender</th>\n",
       "      <th>Country</th>\n",
       "      <th>Ethnicity</th>\n",
       "      <th>Start_date</th>\n",
       "      <th>Department</th>\n",
       "      <th>Position</th>\n",
       "      <th>Salary</th>\n",
       "    </tr>\n",
       "  </thead>\n",
       "  <tbody>\n",
       "    <tr>\n",
       "      <th>0</th>\n",
       "      <td>Sweetwater</td>\n",
       "      <td>Alex</td>\n",
       "      <td>51</td>\n",
       "      <td>Male</td>\n",
       "      <td>United States</td>\n",
       "      <td>White</td>\n",
       "      <td>2011-08-15</td>\n",
       "      <td>Software Engineering</td>\n",
       "      <td>Software Engineering Manager</td>\n",
       "      <td>56160.0</td>\n",
       "    </tr>\n",
       "    <tr>\n",
       "      <th>1</th>\n",
       "      <td>Carabbio</td>\n",
       "      <td>Judith</td>\n",
       "      <td>30</td>\n",
       "      <td>Female</td>\n",
       "      <td>United States</td>\n",
       "      <td>White</td>\n",
       "      <td>2013-11-11</td>\n",
       "      <td>Software Engineering</td>\n",
       "      <td>Software Engineer</td>\n",
       "      <td>116480.0</td>\n",
       "    </tr>\n",
       "    <tr>\n",
       "      <th>2</th>\n",
       "      <td>Saada</td>\n",
       "      <td>Adell</td>\n",
       "      <td>31</td>\n",
       "      <td>Female</td>\n",
       "      <td>United States</td>\n",
       "      <td>White</td>\n",
       "      <td>2012-11-05</td>\n",
       "      <td>Software Engineering</td>\n",
       "      <td>Software Engineer</td>\n",
       "      <td>102440.0</td>\n",
       "    </tr>\n",
       "    <tr>\n",
       "      <th>3</th>\n",
       "      <td>Szabo</td>\n",
       "      <td>Andrew</td>\n",
       "      <td>34</td>\n",
       "      <td>Male</td>\n",
       "      <td>United States</td>\n",
       "      <td>White</td>\n",
       "      <td>2014-07-07</td>\n",
       "      <td>Software Engineering</td>\n",
       "      <td>Software Engineer</td>\n",
       "      <td>99840.0</td>\n",
       "    </tr>\n",
       "    <tr>\n",
       "      <th>4</th>\n",
       "      <td>Andreola</td>\n",
       "      <td>Colby</td>\n",
       "      <td>38</td>\n",
       "      <td>Female</td>\n",
       "      <td>United States</td>\n",
       "      <td>White</td>\n",
       "      <td>2014-11-10</td>\n",
       "      <td>Software Engineering</td>\n",
       "      <td>Software Engineer</td>\n",
       "      <td>99008.0</td>\n",
       "    </tr>\n",
       "  </tbody>\n",
       "</table>\n",
       "</div>"
      ],
      "text/plain": [
       "      Surname    Name  Age  Gender        Country Ethnicity Start_date  \\\n",
       "0  Sweetwater  Alex    51   Male    United States  White    2011-08-15   \n",
       "1  Carabbio    Judith  30   Female  United States  White    2013-11-11   \n",
       "2  Saada       Adell   31   Female  United States  White    2012-11-05   \n",
       "3  Szabo       Andrew  34   Male    United States  White    2014-07-07   \n",
       "4  Andreola    Colby   38   Female  United States  White    2014-11-10   \n",
       "\n",
       "                  Department                      Position    Salary  \n",
       "0  Software Engineering       Software Engineering Manager  56160.0   \n",
       "1  Software Engineering       Software Engineer             116480.0  \n",
       "2  Software Engineering       Software Engineer             102440.0  \n",
       "3  Software Engineering       Software Engineer             99840.0   \n",
       "4  Software Engineering       Software Engineer             99008.0   "
      ]
     },
     "execution_count": 3,
     "metadata": {},
     "output_type": "execute_result"
    }
   ],
   "source": [
    "df = df.drop('Unnamed: 0',axis=1)\n",
    "df.head()"
   ]
  },
  {
   "cell_type": "code",
   "execution_count": 4,
   "metadata": {
    "ExecuteTime": {
     "end_time": "2018-12-27T15:57:10.692015Z",
     "start_time": "2018-12-27T15:57:10.676643Z"
    }
   },
   "outputs": [
    {
     "name": "stdout",
     "output_type": "stream",
     "text": [
      "(112, 10) (62, 10)\n"
     ]
    },
    {
     "data": {
      "text/html": [
       "<div>\n",
       "<style scoped>\n",
       "    .dataframe tbody tr th:only-of-type {\n",
       "        vertical-align: middle;\n",
       "    }\n",
       "\n",
       "    .dataframe tbody tr th {\n",
       "        vertical-align: top;\n",
       "    }\n",
       "\n",
       "    .dataframe thead th {\n",
       "        text-align: right;\n",
       "    }\n",
       "</style>\n",
       "<table border=\"1\" class=\"dataframe\">\n",
       "  <thead>\n",
       "    <tr style=\"text-align: right;\">\n",
       "      <th></th>\n",
       "      <th>Surname</th>\n",
       "      <th>Name</th>\n",
       "      <th>Age</th>\n",
       "      <th>Gender</th>\n",
       "      <th>Country</th>\n",
       "      <th>Ethnicity</th>\n",
       "      <th>Start_date</th>\n",
       "      <th>Department</th>\n",
       "      <th>Position</th>\n",
       "      <th>Salary</th>\n",
       "    </tr>\n",
       "  </thead>\n",
       "  <tbody>\n",
       "    <tr>\n",
       "      <th>112</th>\n",
       "      <td>Friedman</td>\n",
       "      <td>Gerry</td>\n",
       "      <td>48</td>\n",
       "      <td>Male</td>\n",
       "      <td>United States</td>\n",
       "      <td>Two or more races</td>\n",
       "      <td>2011-03-07</td>\n",
       "      <td>Sales</td>\n",
       "      <td>Area Sales Manager</td>\n",
       "      <td>115440.0</td>\n",
       "    </tr>\n",
       "    <tr>\n",
       "      <th>113</th>\n",
       "      <td>Mullaney</td>\n",
       "      <td>Howard</td>\n",
       "      <td>42</td>\n",
       "      <td>Male</td>\n",
       "      <td>United States</td>\n",
       "      <td>Two or more races</td>\n",
       "      <td>2014-09-29</td>\n",
       "      <td>Sales</td>\n",
       "      <td>Area Sales Manager</td>\n",
       "      <td>114400.0</td>\n",
       "    </tr>\n",
       "    <tr>\n",
       "      <th>114</th>\n",
       "      <td>Nguyen</td>\n",
       "      <td>Dheepa</td>\n",
       "      <td>28</td>\n",
       "      <td>Female</td>\n",
       "      <td>United States</td>\n",
       "      <td>Two or more races</td>\n",
       "      <td>2013-07-08</td>\n",
       "      <td>Sales</td>\n",
       "      <td>Area Sales Manager</td>\n",
       "      <td>114400.0</td>\n",
       "    </tr>\n",
       "    <tr>\n",
       "      <th>115</th>\n",
       "      <td>Valentin</td>\n",
       "      <td>Jackie</td>\n",
       "      <td>26</td>\n",
       "      <td>Female</td>\n",
       "      <td>United States</td>\n",
       "      <td>Two or more races</td>\n",
       "      <td>2011-07-05</td>\n",
       "      <td>Sales</td>\n",
       "      <td>Area Sales Manager</td>\n",
       "      <td>114400.0</td>\n",
       "    </tr>\n",
       "    <tr>\n",
       "      <th>116</th>\n",
       "      <td>Davis</td>\n",
       "      <td>Daniel</td>\n",
       "      <td>38</td>\n",
       "      <td>Male</td>\n",
       "      <td>Australia</td>\n",
       "      <td>Two or more races</td>\n",
       "      <td>2011-11-07</td>\n",
       "      <td>Production</td>\n",
       "      <td>Production Technician II</td>\n",
       "      <td>52000.0</td>\n",
       "    </tr>\n",
       "  </tbody>\n",
       "</table>\n",
       "</div>"
      ],
      "text/plain": [
       "      Surname    Name  Age  Gender        Country          Ethnicity  \\\n",
       "112  Friedman  Gerry   48   Male    United States  Two or more races   \n",
       "113  Mullaney  Howard  42   Male    United States  Two or more races   \n",
       "114  Nguyen    Dheepa  28   Female  United States  Two or more races   \n",
       "115  Valentin  Jackie  26   Female  United States  Two or more races   \n",
       "116  Davis     Daniel  38   Male    Australia      Two or more races   \n",
       "\n",
       "    Start_date         Department                  Position    Salary  \n",
       "112 2011-03-07  Sales              Area Sales Manager        115440.0  \n",
       "113 2014-09-29  Sales              Area Sales Manager        114400.0  \n",
       "114 2013-07-08  Sales              Area Sales Manager        114400.0  \n",
       "115 2011-07-05  Sales              Area Sales Manager        114400.0  \n",
       "116 2011-11-07  Production         Production Technician II  52000.0   "
      ]
     },
     "execution_count": 4,
     "metadata": {},
     "output_type": "execute_result"
    }
   ],
   "source": [
    "white = df[df.Ethnicity == 'White']\n",
    "nonwhite = df[~(df.Ethnicity == 'White')]\n",
    "\n",
    "print(white.shape, nonwhite.shape)\n",
    "\n",
    "nonwhite.head()"
   ]
  },
  {
   "cell_type": "code",
   "execution_count": 5,
   "metadata": {
    "ExecuteTime": {
     "end_time": "2018-12-27T15:57:10.698766Z",
     "start_time": "2018-12-27T15:57:10.693961Z"
    }
   },
   "outputs": [
    {
     "data": {
      "text/plain": [
       "0    56160.0 \n",
       "1    116480.0\n",
       "2    102440.0\n",
       "3    99840.0 \n",
       "4    99008.0 \n",
       "Name: Salary, dtype: float64"
      ]
     },
     "execution_count": 5,
     "metadata": {},
     "output_type": "execute_result"
    }
   ],
   "source": [
    "white = white['Salary']\n",
    "nonwhite = nonwhite['Salary']\n",
    "\n",
    "white.head()"
   ]
  },
  {
   "cell_type": "code",
   "execution_count": 6,
   "metadata": {
    "ExecuteTime": {
     "end_time": "2018-12-27T15:57:10.705511Z",
     "start_time": "2018-12-27T15:57:10.700969Z"
    }
   },
   "outputs": [
    {
     "data": {
      "text/plain": [
       "(112, 62)"
      ]
     },
     "execution_count": 6,
     "metadata": {},
     "output_type": "execute_result"
    }
   ],
   "source": [
    "nx,ny = white.shape[0], nonwhite.shape[0]\n",
    "nx,ny"
   ]
  },
  {
   "cell_type": "code",
   "execution_count": 7,
   "metadata": {
    "ExecuteTime": {
     "end_time": "2018-12-27T15:57:10.712731Z",
     "start_time": "2018-12-27T15:57:10.707815Z"
    }
   },
   "outputs": [
    {
     "data": {
      "text/plain": [
       "(67323.1, 70917.26451612904)"
      ]
     },
     "execution_count": 7,
     "metadata": {},
     "output_type": "execute_result"
    }
   ],
   "source": [
    "xbar,ybar = white.mean(), nonwhite.mean()\n",
    "xbar,ybar"
   ]
  },
  {
   "cell_type": "code",
   "execution_count": 8,
   "metadata": {
    "ExecuteTime": {
     "end_time": "2018-12-27T15:57:10.721327Z",
     "start_time": "2018-12-27T15:57:10.715854Z"
    }
   },
   "outputs": [
    {
     "data": {
      "text/plain": [
       "(1136728018.0252254, 1225049916.2974088)"
      ]
     },
     "execution_count": 8,
     "metadata": {},
     "output_type": "execute_result"
    }
   ],
   "source": [
    "xvar,yvar = white.var(), nonwhite.var()\n",
    "xvar,yvar"
   ]
  },
  {
   "cell_type": "code",
   "execution_count": 9,
   "metadata": {
    "ExecuteTime": {
     "end_time": "2018-12-27T15:57:10.725641Z",
     "start_time": "2018-12-27T15:57:10.723249Z"
    }
   },
   "outputs": [],
   "source": [
    "sx,sy = np.sqrt(xvar), np.sqrt(yvar)"
   ]
  },
  {
   "cell_type": "code",
   "execution_count": 10,
   "metadata": {
    "ExecuteTime": {
     "end_time": "2018-12-27T15:57:10.732589Z",
     "start_time": "2018-12-27T15:57:10.727851Z"
    }
   },
   "outputs": [
    {
     "data": {
      "text/plain": [
       "1168051481.947337"
      ]
     },
     "execution_count": 10,
     "metadata": {},
     "output_type": "execute_result"
    }
   ],
   "source": [
    "sp2 =  ((nx-1) * sx**2 + (ny-1) * sy**2 ) / (nx +ny -2)\n",
    "sp2"
   ]
  },
  {
   "cell_type": "markdown",
   "metadata": {},
   "source": [
    "# T-score"
   ]
  },
  {
   "cell_type": "code",
   "execution_count": 11,
   "metadata": {
    "ExecuteTime": {
     "end_time": "2018-12-27T15:57:10.740119Z",
     "start_time": "2018-12-27T15:57:10.734731Z"
    }
   },
   "outputs": [
    {
     "data": {
      "text/plain": [
       "-0.6643503862032862"
      ]
     },
     "execution_count": 11,
     "metadata": {},
     "output_type": "execute_result"
    }
   ],
   "source": [
    "std_err = np.sqrt(sp2/nx + sp2/ny)\n",
    "T = (xbar - ybar) / std_err  # when mu_x - mu_y = 0\n",
    "T"
   ]
  },
  {
   "cell_type": "markdown",
   "metadata": {},
   "source": [
    "# p-value"
   ]
  },
  {
   "cell_type": "code",
   "execution_count": 12,
   "metadata": {
    "ExecuteTime": {
     "end_time": "2018-12-27T15:57:10.748782Z",
     "start_time": "2018-12-27T15:57:10.742327Z"
    }
   },
   "outputs": [
    {
     "data": {
      "text/plain": [
       "0.51"
      ]
     },
     "execution_count": 12,
     "metadata": {},
     "output_type": "execute_result"
    }
   ],
   "source": [
    "# p-value\n",
    "nsided = 2\n",
    "dof = nx + ny -2\n",
    "p_value = scipy.stats.t.sf(np.abs(T), dof) * nsided\n",
    "round(p_value,2)"
   ]
  },
  {
   "cell_type": "markdown",
   "metadata": {},
   "source": [
    "# Conclusion"
   ]
  },
  {
   "cell_type": "markdown",
   "metadata": {},
   "source": [
    "Here p-value is large number far greater than 0.05 or 0.01, so we can not\n",
    "reject the Null Hypothesis H0 and say that there is NO gender gap."
   ]
  }
 ],
 "metadata": {
  "kernelspec": {
   "display_name": "Python (dataSc)",
   "language": "python",
   "name": "datasc"
  },
  "language_info": {
   "codemirror_mode": {
    "name": "ipython",
    "version": 3
   },
   "file_extension": ".py",
   "mimetype": "text/x-python",
   "name": "python",
   "nbconvert_exporter": "python",
   "pygments_lexer": "ipython3",
   "version": "3.7.0"
  },
  "toc": {
   "base_numbering": 1,
   "nav_menu": {},
   "number_sections": true,
   "sideBar": true,
   "skip_h1_title": false,
   "title_cell": "Table of Contents",
   "title_sidebar": "Contents",
   "toc_cell": true,
   "toc_position": {},
   "toc_section_display": true,
   "toc_window_display": true
  }
 },
 "nbformat": 4,
 "nbformat_minor": 2
}
