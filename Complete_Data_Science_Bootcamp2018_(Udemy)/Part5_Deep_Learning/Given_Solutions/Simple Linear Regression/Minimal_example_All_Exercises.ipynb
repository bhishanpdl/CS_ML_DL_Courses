{
 "cells": [
  {
   "cell_type": "markdown",
   "metadata": {
    "toc": true
   },
   "source": [
    "<h1>Table of Contents<span class=\"tocSkip\"></span></h1>\n",
    "<div class=\"toc\"><ul class=\"toc-item\"><li><span><a href=\"#Simple-Linear-Regression.-Minimal-example\" data-toc-modified-id=\"Simple-Linear-Regression.-Minimal-example-1\"><span class=\"toc-item-num\">1&nbsp;&nbsp;</span>Simple Linear Regression. Minimal example</a></span></li><li><span><a href=\"#Using-the-same-code-as-before,-please-solve-the-following-exercises\" data-toc-modified-id=\"Using-the-same-code-as-before,-please-solve-the-following-exercises-2\"><span class=\"toc-item-num\">2&nbsp;&nbsp;</span>Using the same code as before, please solve the following exercises</a></span><ul class=\"toc-item\"><li><span><a href=\"#$$-\\Sigma_i-=-|y_i-t_i|-$$\" data-toc-modified-id=\"$$-\\Sigma_i-=-|y_i-t_i|-$$-2.1\"><span class=\"toc-item-num\">2.1&nbsp;&nbsp;</span><script type=\"math/tex; mode=display\" id=\"MathJax-Element-1\"> \\Sigma_i = |y_i-t_i| </script></a></span><ul class=\"toc-item\"><li><span><a href=\"#Import-the-relevant-libraries\" data-toc-modified-id=\"Import-the-relevant-libraries-2.1.1\"><span class=\"toc-item-num\">2.1.1&nbsp;&nbsp;</span>Import the relevant libraries</a></span></li><li><span><a href=\"#Generate-random-input-data-to-train-on\" data-toc-modified-id=\"Generate-random-input-data-to-train-on-2.1.2\"><span class=\"toc-item-num\">2.1.2&nbsp;&nbsp;</span>Generate random input data to train on</a></span></li><li><span><a href=\"#Generate-the-targets-we-will-aim-at\" data-toc-modified-id=\"Generate-the-targets-we-will-aim-at-2.1.3\"><span class=\"toc-item-num\">2.1.3&nbsp;&nbsp;</span>Generate the targets we will aim at</a></span></li><li><span><a href=\"#Plot-the-training-data\" data-toc-modified-id=\"Plot-the-training-data-2.1.4\"><span class=\"toc-item-num\">2.1.4&nbsp;&nbsp;</span>Plot the training data</a></span></li><li><span><a href=\"#Initialize-variables\" data-toc-modified-id=\"Initialize-variables-2.1.5\"><span class=\"toc-item-num\">2.1.5&nbsp;&nbsp;</span>Initialize variables</a></span></li><li><span><a href=\"#Set-a-learning-rate\" data-toc-modified-id=\"Set-a-learning-rate-2.1.6\"><span class=\"toc-item-num\">2.1.6&nbsp;&nbsp;</span>Set a learning rate</a></span></li><li><span><a href=\"#Train-the-model\" data-toc-modified-id=\"Train-the-model-2.1.7\"><span class=\"toc-item-num\">2.1.7&nbsp;&nbsp;</span>Train the model</a></span></li><li><span><a href=\"#Print-weights-and-biases-and-see-if-we-have-worked-correctly.\" data-toc-modified-id=\"Print-weights-and-biases-and-see-if-we-have-worked-correctly.-2.1.8\"><span class=\"toc-item-num\">2.1.8&nbsp;&nbsp;</span>Print weights and biases and see if we have worked correctly.</a></span></li><li><span><a href=\"#Plot-last-outputs-vs-targets\" data-toc-modified-id=\"Plot-last-outputs-vs-targets-2.1.9\"><span class=\"toc-item-num\">2.1.9&nbsp;&nbsp;</span>Plot last outputs vs targets</a></span></li></ul></li></ul></li></ul></div>"
   ]
  },
  {
   "cell_type": "markdown",
   "metadata": {},
   "source": [
    "# Simple Linear Regression. Minimal example"
   ]
  },
  {
   "cell_type": "markdown",
   "metadata": {},
   "source": [
    "# Using the same code as before, please solve the following exercises\n",
    "    1. Change the number of observations to 100,000 and see what happens.\n",
    "    2. Change the number of observations to 1,000,000 and see what happens.\n",
    "    3. Play around with the learning rate. Values like 0.0001, 0.001, 0.1, 1 are all interesting to observe. \n",
    "    4. Change the loss function. L2-norm loss (without dividing by 2) is a good way to start. \n",
    "    5. Тry with the L1-norm loss, given by the sum of the ABSOLUTE value of yj - tj. The L1-norm loss is given by:\n",
    "## $$ \\Sigma_i = |y_i-t_i| $$\n",
    "    6. Create a function f(x,z) = 13*xs + 7*zs - 12. Does the algorithm work in the same way?\n",
    "    \n",
    "    \n",
    "Useful tip: When you change something, don't forget to RERUN all cells. This can be done easily by clicking:\n",
    "Kernel -> Restart & Run All\n",
    "If you don't do that, your algorithm will keep the OLD values of all parameters.\n",
    "\n",
    "You can either use this file for all the exercises, or check the solutions of EACH ONE of them in the separate files we have provided. All other files are solutions of each problem. If you feel confident enough, you can simply change values in this file. Please note that it will be nice, if you return the file to starting position after you have solved a problem, so you can use the lecture as a basis for comparison."
   ]
  },
  {
   "cell_type": "markdown",
   "metadata": {},
   "source": [
    "### Import the relevant libraries"
   ]
  },
  {
   "cell_type": "code",
   "execution_count": 10,
   "metadata": {
    "ExecuteTime": {
     "end_time": "2018-12-18T23:00:12.074507Z",
     "start_time": "2018-12-18T23:00:12.070066Z"
    }
   },
   "outputs": [],
   "source": [
    "# We must always import the relevant libraries for our problem at hand. NumPy is a must for this example.\n",
    "import numpy as np\n",
    "\n",
    "# matplotlib and mpl_toolkits are not necessary. We employ them for the sole purpose of visualizing the results.  \n",
    "import matplotlib.pyplot as plt\n",
    "from mpl_toolkits.mplot3d import Axes3D"
   ]
  },
  {
   "cell_type": "markdown",
   "metadata": {},
   "source": [
    "### Generate random input data to train on"
   ]
  },
  {
   "cell_type": "code",
   "execution_count": 11,
   "metadata": {
    "ExecuteTime": {
     "end_time": "2018-12-18T23:00:12.083413Z",
     "start_time": "2018-12-18T23:00:12.077828Z"
    },
    "scrolled": false
   },
   "outputs": [
    {
     "name": "stdout",
     "output_type": "stream",
     "text": [
      "(10000, 2)\n"
     ]
    }
   ],
   "source": [
    "# First, we should declare a variable containing the size of the training set we want to generate.\n",
    "observations = 10000\n",
    "\n",
    "# We will work with two variables as inputs. You can think about them as x1 and x2 in our previous examples.\n",
    "# We have picked x and z, since it is easier to differentiate them.\n",
    "# We generate them randomly, drawing from an uniform distribution. There are 3 arguments of this method (low, high, size).\n",
    "# The size of xs and zs is observations by 1. In this case: 1000 x 1.\n",
    "xs = np.random.uniform(low=-10, high=10, size=(observations,1))\n",
    "zs = np.random.uniform(-10, 10, (observations,1))\n",
    "\n",
    "# Combine the two dimensions of the input into one input matrix. \n",
    "# This is the X matrix from the linear model y = x*w + b.\n",
    "# column_stack is a Numpy method, which combines two vectors into a matrix. Alternatives are stack, dstack, hstack, etc.\n",
    "inputs = np.column_stack((xs,zs))\n",
    "\n",
    "# Check if the dimensions of the inputs are the same as the ones we defined in the linear model lectures. \n",
    "# They should be n x k, where n is the number of observations, and k is the number of variables, so 1000 x 2.\n",
    "print (inputs.shape)"
   ]
  },
  {
   "cell_type": "markdown",
   "metadata": {},
   "source": [
    "### Generate the targets we will aim at"
   ]
  },
  {
   "cell_type": "code",
   "execution_count": 12,
   "metadata": {
    "ExecuteTime": {
     "end_time": "2018-12-18T23:00:12.092156Z",
     "start_time": "2018-12-18T23:00:12.087398Z"
    }
   },
   "outputs": [
    {
     "name": "stdout",
     "output_type": "stream",
     "text": [
      "(10000, 1)\n"
     ]
    }
   ],
   "source": [
    "# We want to \"make up\" a function, use the ML methodology, and see if the algorithm has learned it.\n",
    "# We add a small random noise to the function i.e. f(x,z) = 2x - 3z + 5 + <small noise>\n",
    "noise = np.random.uniform(-1, 1, (observations,1))\n",
    "\n",
    "# Produce the targets according to the f(x,z) = 2x - 3z + 5 + noise definition.\n",
    "# In this way, we are basically saying: the weights should be 2 and -3, while the bias is 5.\n",
    "targets = 2*xs - 3*zs + 5 + noise\n",
    "\n",
    "# Check the shape of the targets just in case. It should be n x m, where m is the number of output variables, so 1000 x 1.\n",
    "print (targets.shape)"
   ]
  },
  {
   "cell_type": "markdown",
   "metadata": {},
   "source": [
    "### Plot the training data\n",
    "The point is to see that there is a strong trend that our model should learn to reproduce."
   ]
  },
  {
   "cell_type": "code",
   "execution_count": 13,
   "metadata": {
    "ExecuteTime": {
     "end_time": "2018-12-18T23:00:12.525276Z",
     "start_time": "2018-12-18T23:00:12.094965Z"
    }
   },
   "outputs": [
    {
     "data": {
      "image/png": "[encoded data removed]",
      "text/plain": [
       "<Figure size 432x288 with 1 Axes>"
      ]
     },
     "metadata": {
      "needs_background": "light"
     },
     "output_type": "display_data"
    }
   ],
   "source": [
    "# In order to use the 3D plot, the objects should have a certain shape, so we reshape the targets.\n",
    "# The proper method to use is reshape and takes as arguments the dimensions in which we want to fit the object.\n",
    "targets = targets.reshape(observations,)\n",
    "\n",
    "# Plotting according to the conventional matplotlib.pyplot syntax\n",
    "\n",
    "# Declare the figure\n",
    "fig = plt.figure()\n",
    "\n",
    "# A method allowing us to create the 3D plot\n",
    "ax = fig.add_subplot(111, projection='3d')\n",
    "\n",
    "# Choose the axes.\n",
    "ax.plot(xs, zs, targets)\n",
    "\n",
    "# Set labels\n",
    "ax.set_xlabel('xs')\n",
    "ax.set_ylabel('zs')\n",
    "ax.set_zlabel('Targets')\n",
    "\n",
    "# You can fiddle with the azim parameter to plot the data from different angles. Just change the value of azim=100\n",
    "# to azim = 0 ; azim = 200, or whatever. Check and see what happens.\n",
    "ax.view_init(azim=100)\n",
    "\n",
    "# So far we were just describing the plot. This method actually shows the plot. \n",
    "plt.show()\n",
    "\n",
    "# We reshape the targets back to the shape that they were in before plotting.\n",
    "# This reshaping is a side-effect of the 3D plot. Sorry for that.\n",
    "targets = targets.reshape(observations,1)"
   ]
  },
  {
   "cell_type": "markdown",
   "metadata": {},
   "source": [
    "### Initialize variables"
   ]
  },
  {
   "cell_type": "code",
   "execution_count": 14,
   "metadata": {
    "ExecuteTime": {
     "end_time": "2018-12-18T23:00:12.533271Z",
     "start_time": "2018-12-18T23:00:12.527632Z"
    }
   },
   "outputs": [
    {
     "name": "stdout",
     "output_type": "stream",
     "text": [
      "[[-0.02510958]\n",
      " [ 0.04384171]]\n",
      "[0.01333207]\n"
     ]
    }
   ],
   "source": [
    "# We will initialize the weights and biases randomly in some small initial range.\n",
    "# init_range is the variable that will measure that.\n",
    "# You can play around with the initial range, but we don't really encourage you to do so.\n",
    "# High initial ranges may prevent the machine learning algorithm from learning.\n",
    "init_range = 0.1\n",
    "\n",
    "# Weights are of size k x m, where k is the number of input variables and m is the number of output variables\n",
    "# In our case, the weights matrix is 2x1 since there are 2 inputs (x and z) and one output (y)\n",
    "weights = np.random.uniform(low=-init_range, high=init_range, size=(2, 1))\n",
    "\n",
    "# Biases are of size 1 since there is only 1 output. The bias is a scalar.\n",
    "biases = np.random.uniform(low=-init_range, high=init_range, size=1)\n",
    "\n",
    "#Print the weights to get a sense of how they were initialized.\n",
    "print (weights)\n",
    "print (biases)"
   ]
  },
  {
   "cell_type": "markdown",
   "metadata": {},
   "source": [
    "### Set a learning rate"
   ]
  },
  {
   "cell_type": "code",
   "execution_count": 15,
   "metadata": {
    "ExecuteTime": {
     "end_time": "2018-12-18T23:00:12.539688Z",
     "start_time": "2018-12-18T23:00:12.536118Z"
    }
   },
   "outputs": [],
   "source": [
    "# Set some small learning rate (denoted eta in the lecture). \n",
    "# 0.02 is going to work quite well for our example. Once again, you can play around with it.\n",
    "# It is HIGHLY recommended that you play around with it.\n",
    "learning_rate = 0.01"
   ]
  },
  {
   "cell_type": "markdown",
   "metadata": {},
   "source": [
    "### Train the model"
   ]
  },
  {
   "cell_type": "code",
   "execution_count": 16,
   "metadata": {
    "ExecuteTime": {
     "end_time": "2018-12-18T23:00:12.586712Z",
     "start_time": "2018-12-18T23:00:12.542901Z"
    },
    "scrolled": true
   },
   "outputs": [
    {
     "name": "stdout",
     "output_type": "stream",
     "text": [
      "237.9796184592759\n",
      "36.40422046354769\n",
      "14.240050920069555\n",
      "11.446539773381758\n",
      "10.758719293671897\n",
      "10.31338331141136\n",
      "9.908905550643746\n",
      "9.5229491322679\n",
      "9.152544974234413\n",
      "8.79683601730594\n",
      "8.455214370636094\n",
      "8.127119441864096\n",
      "7.81201534237427\n",
      "7.509387672517211\n",
      "7.218742429321326\n",
      "6.9396051728279895\n",
      "6.67152024868709\n",
      "6.414050044044088\n",
      "6.166774273161171\n",
      "5.929289291353129\n",
      "5.701207436090933\n",
      "5.482156394194331\n",
      "5.271778594080308\n",
      "5.069730622075194\n",
      "4.875682661837689\n",
      "4.68931795597772\n",
      "4.510332288992284\n",
      "4.338433490674259\n",
      "4.173340959183537\n",
      "4.01478520300198\n",
      "3.862507401024502\n",
      "3.716258980068151\n",
      "3.575801209109593\n",
      "3.440904809588565\n",
      "3.311349581141253\n",
      "3.1869240421525786\n",
      "3.0674250845407034\n",
      "2.9526576422101978\n",
      "2.8424343726326837\n",
      "2.736575351035157\n",
      "2.634907776696833\n",
      "2.5372656908750164\n",
      "2.4434897058996325\n",
      "2.353426744994112\n",
      "2.266929792398002\n",
      "2.18385765338336\n",
      "2.1040747237732105\n",
      "2.0274507685858234\n",
      "1.953860709443502\n",
      "1.883184420398824\n",
      "1.8153065318450647\n",
      "1.750116242190722\n",
      "1.6875071369907102\n",
      "1.6273770152389815\n",
      "1.5696277225390245\n",
      "1.5141649908799224\n",
      "1.4608982847564083\n",
      "1.40974065338173\n",
      "1.3606085887521113\n",
      "1.3134218893310792\n",
      "1.2681035291311573\n",
      "1.2245795319792288\n",
      "1.1827788507603105\n",
      "1.1426332514426198\n",
      "1.104077201694628\n",
      "1.0670477639122764\n",
      "1.031484492481743\n",
      "0.9973293351100411\n",
      "0.964526538062408\n",
      "0.9330225551517706\n",
      "0.902765960331745\n",
      "0.8737073637504836\n",
      "0.8457993311283332\n",
      "0.8189963063277023\n",
      "0.7932545369887557\n",
      "0.7685320031095214\n",
      "0.744788348453851\n",
      "0.7219848146752498\n",
      "0.7000841780490491\n",
      "0.679050688709649\n",
      "0.6588500122936309\n",
      "0.6394491738934966\n",
      "0.6208165042305309\n",
      "0.6029215879589321\n",
      "0.5857352140168236\n",
      "0.56922932794309\n",
      "0.5533769860822203\n",
      "0.5381523116023813\n",
      "0.5235304522549494\n",
      "0.5094875398065284\n",
      "0.49600065107724567\n",
      "0.48304777052172576\n",
      "0.4706077542916434\n",
      "0.4586602957212215\n",
      "0.4471858921793044\n",
      "0.4361658132339213\n",
      "0.4255820700773528\n",
      "0.41541738616180257\n",
      "0.40565516899774395\n",
      "0.39627948306889377\n"
     ]
    }
   ],
   "source": [
    "# We iterate over our training dataset 100 times. That works well with a learning rate of 0.02.\n",
    "# The proper number of iterations is something we will talk about later on, but generally\n",
    "# a lower learning rate would need more iterations, while a higher learning rate would need less iterations\n",
    "# keep in mind that a high learning rate may cause the loss to diverge to infinity, instead of converge to 0.\n",
    "for i in range (100):\n",
    "    \n",
    "    # This is the linear model: y = xw + b equation\n",
    "    outputs = np.dot(inputs,weights) + biases\n",
    "    # The deltas are the differences between the outputs and the targets\n",
    "    # Note that deltas here is a vector 1000 x 1\n",
    "    deltas = outputs - targets\n",
    "        \n",
    "    # We are considering the L2-norm loss, but divided by 2, so it is consistent with the lectures.\n",
    "    # Moreover, we further divide it by the number of observations.\n",
    "    # This is simple rescaling by a constant. We explained that this doesn't change the optimization logic,\n",
    "    # as any function holding the basic property of being lower for better results, and higher for worse results\n",
    "    # can be a loss function.\n",
    "    loss = np.sum(deltas ** 2) / 2 / observations\n",
    "    \n",
    "    # We print the loss function value at each step so we can observe whether it is decreasing as desired.\n",
    "    print (loss)\n",
    "    \n",
    "    # Another small trick is to scale the deltas the same way as the loss function\n",
    "    # In this way our learning rate is independent of the number of samples (observations).\n",
    "    # Again, this doesn't change anything in principle, it simply makes it easier to pick a single learning rate\n",
    "    # that can remain the same if we change the number of training samples (observations).\n",
    "    # You can try solving the problem without rescaling to see how that works for you.\n",
    "    deltas_scaled = deltas / observations\n",
    "    \n",
    "    # Finally, we must apply the gradient descent update rules from the relevant lecture.\n",
    "    # The weights are 2x1, learning rate is 1x1 (scalar), inputs are 1000x2, and deltas_scaled are 1000x1\n",
    "    # We must transpose the inputs so that we get an allowed operation.\n",
    "    weights = weights - learning_rate * np.dot(inputs.T,deltas_scaled)\n",
    "    biases = biases - learning_rate * np.sum(deltas_scaled)\n",
    "    \n",
    "    # The weights are updated in a linear algebraic way (a matrix minus another matrix)\n",
    "    # The biases, however, are just a single number here, so we must transform the deltas into a scalar.\n",
    "    # The two lines are both consistent with the gradient descent methodology. "
   ]
  },
  {
   "cell_type": "markdown",
   "metadata": {},
   "source": [
    "### Print weights and biases and see if we have worked correctly."
   ]
  },
  {
   "cell_type": "code",
   "execution_count": 17,
   "metadata": {
    "ExecuteTime": {
     "end_time": "2018-12-18T23:00:12.595665Z",
     "start_time": "2018-12-18T23:00:12.589350Z"
    }
   },
   "outputs": [
    {
     "name": "stdout",
     "output_type": "stream",
     "text": [
      "[[ 1.99916726]\n",
      " [-3.00297357]] [4.34010978]\n"
     ]
    }
   ],
   "source": [
    "# We print the weights and the biases, so we can see if they have converged to what we wanted.\n",
    "# When declared the targets, following the f(x,z), we knew the weights should be 2 and -3, while the bias: 5.\n",
    "print (weights, biases)\n",
    "\n",
    "# Note that they may be convergING. So more iterations are needed."
   ]
  },
  {
   "cell_type": "markdown",
   "metadata": {},
   "source": [
    "### Plot last outputs vs targets\n",
    "Since they are the last ones at the end of the training, they represent the final model accuracy. <br/>\n",
    "The closer this plot is to a 45 degree line, the closer target and output values are."
   ]
  },
  {
   "cell_type": "code",
   "execution_count": 18,
   "metadata": {
    "ExecuteTime": {
     "end_time": "2018-12-18T23:00:12.971060Z",
     "start_time": "2018-12-18T23:00:12.598271Z"
    }
   },
   "outputs": [
    {
     "data": {
      "image/png": "[encoded data removed]",
      "text/plain": [
       "<Figure size 432x288 with 1 Axes>"
      ]
     },
     "metadata": {
      "needs_background": "light"
     },
     "output_type": "display_data"
    }
   ],
   "source": [
    "# We print the outputs and the targets in order to see if they have a linear relationship.\n",
    "# Again, that's not needed. Moreover, in later lectures, that would not even be possible.\n",
    "plt.plot(outputs,targets)\n",
    "plt.xlabel('outputs')\n",
    "plt.ylabel('targets')\n",
    "plt.show()"
   ]
  }
 ],
 "metadata": {
  "anaconda-cloud": {},
  "kernelspec": {
   "display_name": "Python 3",
   "language": "python",
   "name": "python3"
  },
  "language_info": {
   "codemirror_mode": {
    "name": "ipython",
    "version": 3
   },
   "file_extension": ".py",
   "mimetype": "text/x-python",
   "name": "python",
   "nbconvert_exporter": "python",
   "pygments_lexer": "ipython3",
   "version": "3.5.4"
  },
  "toc": {
   "base_numbering": 1,
   "nav_menu": {},
   "number_sections": true,
   "sideBar": true,
   "skip_h1_title": false,
   "title_cell": "Table of Contents",
   "title_sidebar": "Contents",
   "toc_cell": true,
   "toc_position": {},
   "toc_section_display": true,
   "toc_window_display": true
  }
 },
 "nbformat": 4,
 "nbformat_minor": 1
}
