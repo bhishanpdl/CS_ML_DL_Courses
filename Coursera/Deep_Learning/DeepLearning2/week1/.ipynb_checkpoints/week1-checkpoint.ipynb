{
 "cells": [
  {
   "cell_type": "markdown",
   "metadata": {
    "toc": true
   },
   "source": [
    "<h1>Table of Contents<span class=\"tocSkip\"></span></h1>\n",
    "<div class=\"toc\"><ul class=\"toc-item\"></ul></div>"
   ]
  },
  {
   "cell_type": "markdown",
   "metadata": {},
   "source": [
    "Notes:\n",
    "- for small data < 10k, we generally use 60/20/20 split. \n",
    "- for big data, eg. 1m, we can use 98/1/1 split."
   ]
  },
  {
   "cell_type": "markdown",
   "metadata": {},
   "source": [
    "bias vs variance\n",
    "- train set error 1%  dev set error 10%  high variance, over fitting\n",
    "- train set error 15% dev set error 16% high bias, underfitting\n",
    "- train set error 15% dev set error 30% high bias and high variance\n",
    "- train set error 0.5% dev 1%, low bias, low variance"
   ]
  },
  {
   "cell_type": "markdown",
   "metadata": {},
   "source": [
    "in machine learing with small data, there is bias variance tradeoff.\n",
    "but in big data deep learning we can reduce both bias and variance.\n",
    "\n",
    "![](../images/week1_bias_variance_steps.png)"
   ]
  },
  {
   "cell_type": "markdown",
   "metadata": {},
   "source": [
    "regularization\n",
    "- L2 regularization used much more than L1\n",
    "- L1 makes w sparse and used in compression model, otherwise we use L2."
   ]
  },
  {
   "cell_type": "markdown",
   "metadata": {},
   "source": [
    "![](../images/week1_regularization.png)\n",
    "![](../images/week1_weight_decay.png)"
   ]
  },
  {
   "cell_type": "code",
   "execution_count": null,
   "metadata": {},
   "outputs": [],
   "source": []
  }
 ],
 "metadata": {
  "kernelspec": {
   "display_name": "Python (dataSc)",
   "language": "python",
   "name": "datasc"
  },
  "language_info": {
   "codemirror_mode": {
    "name": "ipython",
    "version": 3
   },
   "file_extension": ".py",
   "mimetype": "text/x-python",
   "name": "python",
   "nbconvert_exporter": "python",
   "pygments_lexer": "ipython3",
   "version": "3.7.0"
  },
  "toc": {
   "base_numbering": 1,
   "nav_menu": {},
   "number_sections": true,
   "sideBar": true,
   "skip_h1_title": false,
   "title_cell": "Table of Contents",
   "title_sidebar": "Contents",
   "toc_cell": true,
   "toc_position": {},
   "toc_section_display": true,
   "toc_window_display": true
  }
 },
 "nbformat": 4,
 "nbformat_minor": 2
}
