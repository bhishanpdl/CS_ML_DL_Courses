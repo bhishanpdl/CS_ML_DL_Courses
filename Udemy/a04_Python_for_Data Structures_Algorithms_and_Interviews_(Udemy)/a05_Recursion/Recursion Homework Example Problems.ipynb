{
 "cells": [
  {
   "cell_type": "markdown",
   "metadata": {
    "toc": true
   },
   "source": [
    "<h1>Table of Contents<span class=\"tocSkip\"></span></h1>\n",
    "<div class=\"toc\"><ul class=\"toc-item\"><li><span><a href=\"#Recursion-Homework-Problems\" data-toc-modified-id=\"Recursion-Homework-Problems-1\"><span class=\"toc-item-num\">1&nbsp;&nbsp;</span>Recursion Homework Problems</a></span><ul class=\"toc-item\"><li><ul class=\"toc-item\"><li><span><a href=\"#Problem-1\" data-toc-modified-id=\"Problem-1-1.0.1\"><span class=\"toc-item-num\">1.0.1&nbsp;&nbsp;</span>Problem 1</a></span></li><li><span><a href=\"#Problem-2\" data-toc-modified-id=\"Problem-2-1.0.2\"><span class=\"toc-item-num\">1.0.2&nbsp;&nbsp;</span>Problem 2</a></span></li><li><span><a href=\"#Problem-3\" data-toc-modified-id=\"Problem-3-1.0.3\"><span class=\"toc-item-num\">1.0.3&nbsp;&nbsp;</span>Problem 3</a></span></li></ul></li><li><span><a href=\"#Good-Luck!\" data-toc-modified-id=\"Good-Luck!-1.1\"><span class=\"toc-item-num\">1.1&nbsp;&nbsp;</span>Good Luck!</a></span></li></ul></li></ul></div>"
   ]
  },
  {
   "cell_type": "markdown",
   "metadata": {},
   "source": [
    "# Recursion Homework Problems \n",
    "\n",
    "This assignment is a variety of small problems to begin you getting used to the idea of recursion. They are not full-blown interview questions, but do serve as a great start for getting your mind \"in the zone\" for recursion problems.\n",
    "\n",
    "\n",
    "______\n",
    "### Problem 1\n",
    "\n",
    "**Write a recursive function which takes an integer and computes the cumulative sum of 0 to that integer**\n",
    "\n",
    "**For example, if n=4 , return 4+3+2+1+0, which is 10.**\n",
    "\n",
    "This problem is very similar to the factorial problem presented during the introduction to recursion. Remember, always think of what the base case will look like. In this case, we have a base case of n =0 (Note, you could have also designed the cut off to be 1).\n",
    "\n",
    "In this case, we have:\n",
    "   n + (n-1) + (n-2) + .... + 0\n",
    "\n",
    "Fill out a sample solution:"
   ]
  },
  {
   "cell_type": "code",
   "execution_count": 1,
   "metadata": {
    "ExecuteTime": {
     "end_time": "2019-10-19T22:48:32.635366Z",
     "start_time": "2019-10-19T22:48:32.632171Z"
    }
   },
   "outputs": [],
   "source": [
    "def rec_sum(n):\n",
    "    if n == 0:\n",
    "        return 0\n",
    "    \n",
    "    \n",
    "    return n + rec_sum(n-1)"
   ]
  },
  {
   "cell_type": "code",
   "execution_count": 2,
   "metadata": {
    "ExecuteTime": {
     "end_time": "2019-10-19T22:48:34.389379Z",
     "start_time": "2019-10-19T22:48:34.359215Z"
    }
   },
   "outputs": [
    {
     "data": {
      "text/plain": [
       "10"
      ]
     },
     "execution_count": 2,
     "metadata": {},
     "output_type": "execute_result"
    }
   ],
   "source": [
    "rec_sum(4)"
   ]
  },
  {
   "cell_type": "markdown",
   "metadata": {},
   "source": [
    "______\n",
    "### Problem 2\n",
    "\n",
    "**Given an integer, create a function which returns the sum of all the individual digits in that integer. For example:\n",
    "if n = 4321, return 4+3+2+1**"
   ]
  },
  {
   "cell_type": "code",
   "execution_count": 8,
   "metadata": {
    "ExecuteTime": {
     "end_time": "2019-10-19T23:45:57.903905Z",
     "start_time": "2019-10-19T23:45:57.897018Z"
    }
   },
   "outputs": [
    {
     "name": "stdout",
     "output_type": "stream",
     "text": [
      "5 ==> 5\n",
      "55 ==> 10\n",
      "555 ==> 15\n",
      "0 ==> 0\n"
     ]
    }
   ],
   "source": [
    "def sum_func1(n):\n",
    "    ans = 0\n",
    "    while n > 0:\n",
    "        n,i = n//10, n%10\n",
    "        ans += i\n",
    "    return ans\n",
    "\n",
    "for i in [5,55,555,0]:\n",
    "    print(i,'==>',sum_func1(i))"
   ]
  },
  {
   "cell_type": "code",
   "execution_count": 9,
   "metadata": {
    "ExecuteTime": {
     "end_time": "2019-10-19T23:46:03.868642Z",
     "start_time": "2019-10-19T23:46:03.864787Z"
    }
   },
   "outputs": [],
   "source": [
    "def sum_func(n):\n",
    "    # base case\n",
    "    if len(str(n)) == 1:\n",
    "        return n\n",
    "    \n",
    "    else:\n",
    "        return n%10 + sum_func(n//10)"
   ]
  },
  {
   "cell_type": "code",
   "execution_count": 20,
   "metadata": {
    "ExecuteTime": {
     "end_time": "2019-10-19T22:59:17.653092Z",
     "start_time": "2019-10-19T22:59:17.647855Z"
    }
   },
   "outputs": [
    {
     "data": {
      "text/plain": [
       "10"
      ]
     },
     "execution_count": 20,
     "metadata": {},
     "output_type": "execute_result"
    }
   ],
   "source": [
    "sum_func(4321)"
   ]
  },
  {
   "cell_type": "markdown",
   "metadata": {},
   "source": [
    "*Hints:*"
   ]
  },
  {
   "cell_type": "code",
   "execution_count": 21,
   "metadata": {
    "ExecuteTime": {
     "end_time": "2019-10-19T22:59:32.124354Z",
     "start_time": "2019-10-19T22:59:32.118915Z"
    }
   },
   "outputs": [
    {
     "data": {
      "text/plain": [
       "1"
      ]
     },
     "execution_count": 21,
     "metadata": {},
     "output_type": "execute_result"
    }
   ],
   "source": [
    "# You'll neeed to use modulo\n",
    "4321%10"
   ]
  },
  {
   "cell_type": "code",
   "execution_count": 22,
   "metadata": {
    "ExecuteTime": {
     "end_time": "2019-10-19T22:59:32.713075Z",
     "start_time": "2019-10-19T22:59:32.704063Z"
    }
   },
   "outputs": [
    {
     "data": {
      "text/plain": [
       "432"
      ]
     },
     "execution_count": 22,
     "metadata": {},
     "output_type": "execute_result"
    }
   ],
   "source": [
    "4321 // 10"
   ]
  },
  {
   "cell_type": "markdown",
   "metadata": {
    "collapsed": true
   },
   "source": [
    "We'll need to think of this function recursively by knowing that:\n",
    "4502 % 10 + sum_func(4502/10)"
   ]
  },
  {
   "cell_type": "code",
   "execution_count": 23,
   "metadata": {
    "ExecuteTime": {
     "end_time": "2019-10-19T22:59:34.350383Z",
     "start_time": "2019-10-19T22:59:34.344025Z"
    }
   },
   "outputs": [
    {
     "data": {
      "text/plain": [
       "10"
      ]
     },
     "execution_count": 23,
     "metadata": {},
     "output_type": "execute_result"
    }
   ],
   "source": [
    "n = 4321\n",
    "sum(int(i) for i in str(n))"
   ]
  },
  {
   "cell_type": "code",
   "execution_count": 24,
   "metadata": {
    "ExecuteTime": {
     "end_time": "2019-10-19T22:59:35.300872Z",
     "start_time": "2019-10-19T22:59:35.295992Z"
    }
   },
   "outputs": [
    {
     "name": "stdout",
     "output_type": "stream",
     "text": [
      "432 1 1\n",
      "43 2 3\n",
      "4 3 6\n",
      "0 4 10\n"
     ]
    }
   ],
   "source": [
    "n = 4321\n",
    "ans = 0\n",
    "while n > 0:\n",
    "    \n",
    "    n,i = n//10, n%10\n",
    "    ans += i\n",
    "    print(n,i,ans)\n",
    "    "
   ]
  },
  {
   "cell_type": "markdown",
   "metadata": {},
   "source": [
    "________\n",
    "### Problem 3\n",
    "*Note, this is a more advanced problem than the previous two! It aso has a lot of variation possibilities and we're ignoring strict requirements here.*\n",
    "\n",
    "Create a function called word_split() which takes in a string **phrase** and a set **list_of_words**. The function will then determine if it is possible to split the string in a way in which words can be made from the list of words. You can assume the phrase will only contain words found in the dictionary if it is completely splittable.\n",
    "\n",
    "For example:"
   ]
  },
  {
   "cell_type": "code",
   "execution_count": 10,
   "metadata": {
    "ExecuteTime": {
     "end_time": "2019-10-19T23:47:03.047829Z",
     "start_time": "2019-10-19T23:47:03.042063Z"
    }
   },
   "outputs": [],
   "source": [
    "def word_split(phrase, lst):\n",
    "    rev_sorted_lst = sorted(lst,key=len,reverse=True)\n",
    "    ans = []\n",
    "    try:\n",
    "        for i in rev_sorted_lst:\n",
    "            if i in phrase:\n",
    "                ans.append(i)\n",
    "            phrase = phrase.replace(i,'')\n",
    "    except:\n",
    "        pass\n",
    "\n",
    "    return ans if len(phrase) == 0 else []"
   ]
  },
  {
   "cell_type": "code",
   "execution_count": 13,
   "metadata": {
    "ExecuteTime": {
     "end_time": "2019-10-19T23:53:09.281701Z",
     "start_time": "2019-10-19T23:53:09.277173Z"
    }
   },
   "outputs": [],
   "source": [
    "def word_split(phrase, list_of_words, output=None):\n",
    "    if output is None:\n",
    "        output = []\n",
    "        \n",
    "    for word in list_of_words:\n",
    "        if phrase.startswith(word):\n",
    "            output.append(word)\n",
    "            return word_split(phrase[len(word):], list_of_words, output)\n",
    "    return output"
   ]
  },
  {
   "cell_type": "code",
   "execution_count": 14,
   "metadata": {
    "ExecuteTime": {
     "end_time": "2019-10-19T23:53:12.195368Z",
     "start_time": "2019-10-19T23:53:12.189742Z"
    }
   },
   "outputs": [
    {
     "data": {
      "text/plain": [
       "['the', 'man', 'ran']"
      ]
     },
     "execution_count": 14,
     "metadata": {},
     "output_type": "execute_result"
    }
   ],
   "source": [
    "word_split('themanran',['the','ran','man'])"
   ]
  },
  {
   "cell_type": "code",
   "execution_count": 15,
   "metadata": {
    "ExecuteTime": {
     "end_time": "2019-10-19T23:53:14.659450Z",
     "start_time": "2019-10-19T23:53:14.653065Z"
    }
   },
   "outputs": [
    {
     "data": {
      "text/plain": [
       "['i', 'love', 'dogs', 'John']"
      ]
     },
     "execution_count": 15,
     "metadata": {},
     "output_type": "execute_result"
    }
   ],
   "source": [
    "word_split('ilovedogsJohn',['i','am','a','dogs','lover','love','John'])"
   ]
  },
  {
   "cell_type": "code",
   "execution_count": 16,
   "metadata": {
    "ExecuteTime": {
     "end_time": "2019-10-19T23:53:15.514752Z",
     "start_time": "2019-10-19T23:53:15.507565Z"
    }
   },
   "outputs": [
    {
     "data": {
      "text/plain": [
       "[]"
      ]
     },
     "execution_count": 16,
     "metadata": {},
     "output_type": "execute_result"
    }
   ],
   "source": [
    "word_split('themanran',['clown','ran','man'])"
   ]
  },
  {
   "cell_type": "code",
   "execution_count": 17,
   "metadata": {
    "ExecuteTime": {
     "end_time": "2019-10-19T23:53:19.088486Z",
     "start_time": "2019-10-19T23:53:19.085400Z"
    }
   },
   "outputs": [],
   "source": [
    "def word_split(phrase,list_of_words, output = None):\n",
    "    pass      "
   ]
  },
  {
   "cell_type": "markdown",
   "metadata": {},
   "source": [
    "## Good Luck!\n",
    "\n",
    "Check out the Solutions Notebook once you're done!"
   ]
  },
  {
   "cell_type": "code",
   "execution_count": 30,
   "metadata": {
    "ExecuteTime": {
     "end_time": "2019-10-19T23:12:26.871333Z",
     "start_time": "2019-10-19T23:12:26.866827Z"
    }
   },
   "outputs": [],
   "source": [
    "s = 'themanran'\n"
   ]
  },
  {
   "cell_type": "code",
   "execution_count": 35,
   "metadata": {
    "ExecuteTime": {
     "end_time": "2019-10-19T23:12:56.392626Z",
     "start_time": "2019-10-19T23:12:56.386719Z"
    }
   },
   "outputs": [],
   "source": [
    "def show_method_attributes(method, ncols=7):\n",
    "    \"\"\" Show all the attributes of a given method.\n",
    "    Example:\n",
    "    ========\n",
    "    show_method_attributes(list)\n",
    "     \"\"\"\n",
    "    import numpy as np\n",
    "    import pandas as pd\n",
    "    x = [i for i in dir(method) if i[0]!='_' ]\n",
    "    x = [i for i in x \n",
    "         if i not in 'os np pd sys time psycopg2'.split()\n",
    "        ]\n",
    "             \n",
    "\n",
    "    return pd.DataFrame(np.array_split(x,ncols)).T.fillna('')"
   ]
  },
  {
   "cell_type": "code",
   "execution_count": 36,
   "metadata": {
    "ExecuteTime": {
     "end_time": "2019-10-19T23:12:57.054951Z",
     "start_time": "2019-10-19T23:12:57.032650Z"
    }
   },
   "outputs": [
    {
     "data": {
      "text/html": [
       "<div>\n",
       "<style scoped>\n",
       "    .dataframe tbody tr th:only-of-type {\n",
       "        vertical-align: middle;\n",
       "    }\n",
       "\n",
       "    .dataframe tbody tr th {\n",
       "        vertical-align: top;\n",
       "    }\n",
       "\n",
       "    .dataframe thead th {\n",
       "        text-align: right;\n",
       "    }\n",
       "</style>\n",
       "<table border=\"1\" class=\"dataframe\">\n",
       "  <thead>\n",
       "    <tr style=\"text-align: right;\">\n",
       "      <th></th>\n",
       "      <th>0</th>\n",
       "      <th>1</th>\n",
       "      <th>2</th>\n",
       "      <th>3</th>\n",
       "      <th>4</th>\n",
       "      <th>5</th>\n",
       "      <th>6</th>\n",
       "    </tr>\n",
       "  </thead>\n",
       "  <tbody>\n",
       "    <tr>\n",
       "      <th>0</th>\n",
       "      <td>capitalize</td>\n",
       "      <td>find</td>\n",
       "      <td>isdecimal</td>\n",
       "      <td>istitle</td>\n",
       "      <td>maketrans</td>\n",
       "      <td>rpartition</td>\n",
       "      <td>strip</td>\n",
       "    </tr>\n",
       "    <tr>\n",
       "      <th>1</th>\n",
       "      <td>casefold</td>\n",
       "      <td>format</td>\n",
       "      <td>isdigit</td>\n",
       "      <td>isupper</td>\n",
       "      <td>partition</td>\n",
       "      <td>rsplit</td>\n",
       "      <td>swapcase</td>\n",
       "    </tr>\n",
       "    <tr>\n",
       "      <th>2</th>\n",
       "      <td>center</td>\n",
       "      <td>format_map</td>\n",
       "      <td>isidentifier</td>\n",
       "      <td>join</td>\n",
       "      <td>replace</td>\n",
       "      <td>rstrip</td>\n",
       "      <td>title</td>\n",
       "    </tr>\n",
       "    <tr>\n",
       "      <th>3</th>\n",
       "      <td>count</td>\n",
       "      <td>index</td>\n",
       "      <td>islower</td>\n",
       "      <td>ljust</td>\n",
       "      <td>rfind</td>\n",
       "      <td>split</td>\n",
       "      <td>translate</td>\n",
       "    </tr>\n",
       "    <tr>\n",
       "      <th>4</th>\n",
       "      <td>encode</td>\n",
       "      <td>isalnum</td>\n",
       "      <td>isnumeric</td>\n",
       "      <td>lower</td>\n",
       "      <td>rindex</td>\n",
       "      <td>splitlines</td>\n",
       "      <td>upper</td>\n",
       "    </tr>\n",
       "    <tr>\n",
       "      <th>5</th>\n",
       "      <td>endswith</td>\n",
       "      <td>isalpha</td>\n",
       "      <td>isprintable</td>\n",
       "      <td>lstrip</td>\n",
       "      <td>rjust</td>\n",
       "      <td>startswith</td>\n",
       "      <td>zfill</td>\n",
       "    </tr>\n",
       "    <tr>\n",
       "      <th>6</th>\n",
       "      <td>expandtabs</td>\n",
       "      <td>isascii</td>\n",
       "      <td>isspace</td>\n",
       "      <td></td>\n",
       "      <td></td>\n",
       "      <td></td>\n",
       "      <td></td>\n",
       "    </tr>\n",
       "  </tbody>\n",
       "</table>\n",
       "</div>"
      ],
      "text/plain": [
       "            0           1             2        3          4           5  \\\n",
       "0  capitalize        find     isdecimal  istitle  maketrans  rpartition   \n",
       "1    casefold      format       isdigit  isupper  partition      rsplit   \n",
       "2      center  format_map  isidentifier     join    replace      rstrip   \n",
       "3       count       index       islower    ljust      rfind       split   \n",
       "4      encode     isalnum     isnumeric    lower     rindex  splitlines   \n",
       "5    endswith     isalpha   isprintable   lstrip      rjust  startswith   \n",
       "6  expandtabs     isascii       isspace                                   \n",
       "\n",
       "           6  \n",
       "0      strip  \n",
       "1   swapcase  \n",
       "2      title  \n",
       "3  translate  \n",
       "4      upper  \n",
       "5      zfill  \n",
       "6             "
      ]
     },
     "execution_count": 36,
     "metadata": {},
     "output_type": "execute_result"
    }
   ],
   "source": [
    "show_method_attributes(s)"
   ]
  },
  {
   "cell_type": "code",
   "execution_count": 54,
   "metadata": {
    "ExecuteTime": {
     "end_time": "2019-10-19T23:24:35.153053Z",
     "start_time": "2019-10-19T23:24:35.146657Z"
    }
   },
   "outputs": [
    {
     "data": {
      "text/plain": [
       "True"
      ]
     },
     "execution_count": 54,
     "metadata": {},
     "output_type": "execute_result"
    }
   ],
   "source": [
    "s = 'thetherethe'\n",
    "lst = ['the','the','there']\n",
    "\n",
    "rev_sorted_lst = sorted(lst,key=len,reverse=True)\n",
    "\n",
    "try:\n",
    "    for i in rev_sorted_lst:\n",
    "        s = s.replace(i,'')\n",
    "except:\n",
    "    pass\n",
    "\n",
    "len(s) == 0"
   ]
  },
  {
   "cell_type": "code",
   "execution_count": 95,
   "metadata": {
    "ExecuteTime": {
     "end_time": "2019-10-19T23:39:28.593832Z",
     "start_time": "2019-10-19T23:39:28.583278Z"
    }
   },
   "outputs": [
    {
     "name": "stdout",
     "output_type": "stream",
     "text": [
      "the 0\n",
      "the 1\n",
      "the 2\n",
      "the 0\n",
      "the 1\n",
      "the 2\n",
      "there 0\n",
      "there 1\n",
      "there 2\n"
     ]
    }
   ],
   "source": [
    "lst = ['the','the','there']\n",
    "for e in lst:\n",
    "    for j in range(len(lst)):\n",
    "        print(e,j)\n",
    "        \n",
    "    "
   ]
  },
  {
   "cell_type": "code",
   "execution_count": null,
   "metadata": {},
   "outputs": [],
   "source": []
  }
 ],
 "metadata": {
  "kernelspec": {
   "display_name": "Python (dataSc)",
   "language": "python",
   "name": "datasc"
  },
  "language_info": {
   "codemirror_mode": {
    "name": "ipython",
    "version": 3
   },
   "file_extension": ".py",
   "mimetype": "text/x-python",
   "name": "python",
   "nbconvert_exporter": "python",
   "pygments_lexer": "ipython3",
   "version": "3.7.3"
  },
  "toc": {
   "base_numbering": 1,
   "nav_menu": {},
   "number_sections": true,
   "sideBar": true,
   "skip_h1_title": false,
   "title_cell": "Table of Contents",
   "title_sidebar": "Contents",
   "toc_cell": true,
   "toc_position": {},
   "toc_section_display": true,
   "toc_window_display": true
  }
 },
 "nbformat": 4,
 "nbformat_minor": 1
}
