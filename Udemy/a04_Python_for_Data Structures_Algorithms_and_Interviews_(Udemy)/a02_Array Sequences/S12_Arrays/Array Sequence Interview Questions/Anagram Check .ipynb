{
 "cells": [
  {
   "cell_type": "markdown",
   "metadata": {
    "toc": true
   },
   "source": [
    "<h1>Table of Contents<span class=\"tocSkip\"></span></h1>\n",
    "<div class=\"toc\"><ul class=\"toc-item\"><li><span><a href=\"#Anagram-Check\" data-toc-modified-id=\"Anagram-Check-1\"><span class=\"toc-item-num\">1&nbsp;&nbsp;</span>Anagram Check</a></span><ul class=\"toc-item\"><li><span><a href=\"#Problem\" data-toc-modified-id=\"Problem-1.1\"><span class=\"toc-item-num\">1.1&nbsp;&nbsp;</span>Problem</a></span></li><li><span><a href=\"#Solution\" data-toc-modified-id=\"Solution-1.2\"><span class=\"toc-item-num\">1.2&nbsp;&nbsp;</span>Solution</a></span></li></ul></li><li><span><a href=\"#Test-Your-Solution\" data-toc-modified-id=\"Test-Your-Solution-2\"><span class=\"toc-item-num\">2&nbsp;&nbsp;</span>Test Your Solution</a></span></li><li><span><a href=\"#Good-Job!\" data-toc-modified-id=\"Good-Job!-3\"><span class=\"toc-item-num\">3&nbsp;&nbsp;</span>Good Job!</a></span></li></ul></div>"
   ]
  },
  {
   "cell_type": "markdown",
   "metadata": {},
   "source": [
    "# Anagram Check\n",
    "\n",
    "## Problem\n",
    "\n",
    "Given two strings, check to see if they are anagrams. An anagram is when the two strings can be written using the exact same letters (so you can just rearrange the letters to get a different phrase or word). \n",
    "\n",
    "For example:\n",
    "\n",
    "    \"public relations\" is an anagram of \"crap built on lies.\"\n",
    "    \n",
    "    \"clint eastwood\" is an anagram of \"old west action\"\n",
    "    \n",
    "**Note: Ignore spaces and capitalization. So \"d go\" is an anagram of \"God\" and \"dog\" and \"o d g\".**\n",
    "\n",
    "## Solution\n",
    "\n",
    "Fill out your solution below:"
   ]
  },
  {
   "cell_type": "code",
   "execution_count": 5,
   "metadata": {
    "ExecuteTime": {
     "end_time": "2019-09-21T01:25:29.582389Z",
     "start_time": "2019-09-21T01:25:29.575806Z"
    }
   },
   "outputs": [],
   "source": [
    "def anagram1(s1,s2):\n",
    "    s1 = s1.replace(' ','').lower()\n",
    "    s2 = s2.replace(' ','').lower()\n",
    "    s3 = s3.replace(' ','').lower()\n",
    "    return sorted(s1) == sorted(s2)"
   ]
  },
  {
   "cell_type": "code",
   "execution_count": 6,
   "metadata": {
    "ExecuteTime": {
     "end_time": "2019-09-21T01:25:30.066982Z",
     "start_time": "2019-09-21T01:25:30.056292Z"
    }
   },
   "outputs": [
    {
     "data": {
      "text/plain": [
       "True"
      ]
     },
     "execution_count": 6,
     "metadata": {},
     "output_type": "execute_result"
    }
   ],
   "source": [
    "anagram1('dog', 'God')"
   ]
  },
  {
   "cell_type": "code",
   "execution_count": 70,
   "metadata": {
    "ExecuteTime": {
     "end_time": "2019-07-24T00:23:39.131470Z",
     "start_time": "2019-07-24T00:23:39.111071Z"
    }
   },
   "outputs": [
    {
     "data": {
      "text/plain": [
       "False"
      ]
     },
     "execution_count": 70,
     "metadata": {},
     "output_type": "execute_result"
    }
   ],
   "source": [
    "def anagram(s1,s2):\n",
    "\n",
    "    # compare different legth\n",
    "    if len(s1b) != len(s2b):\n",
    "        return False\n",
    "    \n",
    "    # remove spaces\n",
    "    s1a = ''\n",
    "    for i in s1:\n",
    "        if i != ' ':\n",
    "            s1a += i\n",
    "    \n",
    "    s2a = ''       \n",
    "    for i in s2:\n",
    "        if i != ' ':\n",
    "            s2a += i\n",
    "\n",
    "    \n",
    "    # make lowercase\n",
    "    s1b = ''\n",
    "    for i in s1a:\n",
    "        cond =  (ord(i) >= ord('A')) & (ord(i) <= ord('Z'))\n",
    "        if (cond):\n",
    "            s1b += chr(ord(i) + 32)\n",
    "        else:\n",
    "            s1b += i\n",
    "    \n",
    "    s2b = ''\n",
    "    for i in s2a:\n",
    "        cond =  (ord(i) >= ord('A')) & (ord(i) <= ord('Z'))\n",
    "        if (cond):\n",
    "            s2b += chr(ord(i) + 32)\n",
    "        else:\n",
    "            s2b += i\n",
    "            \n",
    "\n",
    "\n",
    "    # compare\n",
    "    flag = True\n",
    "    for i in s1b:\n",
    "        s1b = s1b.replace(i,'',1) # remove seen element\n",
    "        if i in s2b:\n",
    "            bol = True\n",
    "            s2b = s2b.replace(i,'',1)\n",
    "        else:\n",
    "            bol = False\n",
    "            s2b = s2b.replace(i,'',1)\n",
    "        flag = flag & bol\n",
    "        \n",
    "    return flag\n",
    "\n",
    "anagram('ddo','doo')"
   ]
  },
  {
   "cell_type": "code",
   "execution_count": 71,
   "metadata": {
    "ExecuteTime": {
     "end_time": "2019-07-24T00:23:39.891095Z",
     "start_time": "2019-07-24T00:23:39.886104Z"
    }
   },
   "outputs": [
    {
     "data": {
      "text/plain": [
       "(Counter({'d': 2, 'o': 1}), Counter({'o': 1, 'd': 2}), True)"
      ]
     },
     "execution_count": 71,
     "metadata": {},
     "output_type": "execute_result"
    }
   ],
   "source": [
    "# try\n",
    "import collections\n",
    "\n",
    "x = collections.Counter('D do'.replace(' ','').lower())\n",
    "y = collections.Counter('odd'.strip().lower())\n",
    "x,y, x==y"
   ]
  },
  {
   "cell_type": "code",
   "execution_count": 72,
   "metadata": {
    "ExecuteTime": {
     "end_time": "2019-07-24T00:23:40.657266Z",
     "start_time": "2019-07-24T00:23:40.651099Z"
    }
   },
   "outputs": [
    {
     "data": {
      "text/plain": [
       "True"
      ]
     },
     "execution_count": 72,
     "metadata": {},
     "output_type": "execute_result"
    }
   ],
   "source": [
    "anagram('dog','god')"
   ]
  },
  {
   "cell_type": "code",
   "execution_count": 73,
   "metadata": {
    "ExecuteTime": {
     "end_time": "2019-07-24T00:23:41.821435Z",
     "start_time": "2019-07-24T00:23:41.813968Z"
    }
   },
   "outputs": [
    {
     "data": {
      "text/plain": [
       "True"
      ]
     },
     "execution_count": 73,
     "metadata": {},
     "output_type": "execute_result"
    }
   ],
   "source": [
    "anagram('clint eastwood','old west action')"
   ]
  },
  {
   "cell_type": "code",
   "execution_count": 74,
   "metadata": {
    "ExecuteTime": {
     "end_time": "2019-07-24T00:23:42.578164Z",
     "start_time": "2019-07-24T00:23:42.573324Z"
    }
   },
   "outputs": [
    {
     "data": {
      "text/plain": [
       "False"
      ]
     },
     "execution_count": 74,
     "metadata": {},
     "output_type": "execute_result"
    }
   ],
   "source": [
    "anagram('aa','bb')"
   ]
  },
  {
   "cell_type": "markdown",
   "metadata": {},
   "source": [
    "# Test Your Solution\n",
    "Run the cell below to test your solution"
   ]
  },
  {
   "cell_type": "code",
   "execution_count": 78,
   "metadata": {
    "ExecuteTime": {
     "end_time": "2019-07-24T00:25:04.549789Z",
     "start_time": "2019-07-24T00:25:04.544326Z"
    }
   },
   "outputs": [
    {
     "name": "stdout",
     "output_type": "stream",
     "text": [
      "ALL TEST CASES PASSED\n"
     ]
    }
   ],
   "source": [
    "\"\"\"\n",
    "RUN THIS CELL TO TEST YOUR SOLUTION\n",
    "\"\"\"\n",
    "from nose.tools import assert_equal\n",
    "\n",
    "class AnagramTest(object):\n",
    "    \n",
    "    def test(self,sol):\n",
    "        assert_equal(sol('go go go','gggooo'),True)\n",
    "        assert_equal(sol('abc','cba'),True)\n",
    "        assert_equal(sol('hi man','hi     man'),True)\n",
    "        assert_equal(sol('aabbcc','aabbc'),False)\n",
    "        assert_equal(sol('123','1 2'),False)\n",
    "        print (\"ALL TEST CASES PASSED\")\n",
    "\n",
    "# Run Tests\n",
    "t = AnagramTest()\n",
    "t.test(anagram)"
   ]
  },
  {
   "cell_type": "markdown",
   "metadata": {},
   "source": [
    "# Good Job!"
   ]
  }
 ],
 "metadata": {
  "kernelspec": {
   "display_name": "Python (dataSc)",
   "language": "python",
   "name": "datasc"
  },
  "language_info": {
   "codemirror_mode": {
    "name": "ipython",
    "version": 3
   },
   "file_extension": ".py",
   "mimetype": "text/x-python",
   "name": "python",
   "nbconvert_exporter": "python",
   "pygments_lexer": "ipython3",
   "version": "3.7.3"
  },
  "toc": {
   "base_numbering": 1,
   "nav_menu": {},
   "number_sections": true,
   "sideBar": true,
   "skip_h1_title": false,
   "title_cell": "Table of Contents",
   "title_sidebar": "Contents",
   "toc_cell": true,
   "toc_position": {},
   "toc_section_display": true,
   "toc_window_display": true
  }
 },
 "nbformat": 4,
 "nbformat_minor": 1
}
