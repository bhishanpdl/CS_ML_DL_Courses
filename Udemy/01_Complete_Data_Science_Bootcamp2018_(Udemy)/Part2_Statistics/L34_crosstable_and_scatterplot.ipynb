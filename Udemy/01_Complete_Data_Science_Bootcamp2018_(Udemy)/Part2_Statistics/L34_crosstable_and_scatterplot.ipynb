{
 "cells": [
  {
   "cell_type": "markdown",
   "metadata": {
    "toc": true
   },
   "source": [
    "<h1>Table of Contents<span class=\"tocSkip\"></span></h1>\n",
    "<div class=\"toc\"><ul class=\"toc-item\"><li><span><a href=\"#Part-2-Sec-10-Lec-34-:-Cross-Tables-and-Scatter-Plots\" data-toc-modified-id=\"Part-2-Sec-10-Lec-34-:-Cross-Tables-and-Scatter-Plots-1\"><span class=\"toc-item-num\">1&nbsp;&nbsp;</span>Part 2 Sec 10 Lec 34 : Cross Tables and Scatter Plots</a></span><ul class=\"toc-item\"><li><span><a href=\"#Load-required-libraries\" data-toc-modified-id=\"Load-required-libraries-1.1\"><span class=\"toc-item-num\">1.1&nbsp;&nbsp;</span>Load required libraries</a></span></li><li><span><a href=\"#Excel-Files-Materials\" data-toc-modified-id=\"Excel-Files-Materials-1.2\"><span class=\"toc-item-num\">1.2&nbsp;&nbsp;</span>Excel Files Materials</a></span></li><li><span><a href=\"#Cross-table-and-scatter-plot-exercise\" data-toc-modified-id=\"Cross-table-and-scatter-plot-exercise-1.3\"><span class=\"toc-item-num\">1.3&nbsp;&nbsp;</span>Cross-table-and-scatter-plot-exercise</a></span><ul class=\"toc-item\"><li><span><a href=\"#Task-1:\" data-toc-modified-id=\"Task-1:-1.3.1\"><span class=\"toc-item-num\">1.3.1&nbsp;&nbsp;</span>Task 1:</a></span></li></ul></li></ul></li></ul></div>"
   ]
  },
  {
   "cell_type": "markdown",
   "metadata": {
    "colab_type": "text",
    "id": "7SbYdvL0gR2o"
   },
   "source": [
    "# Part 2 Sec 10 Lec 34 : Cross Tables and Scatter Plots\n",
    "\n",
    "Course: Udemy_The_Data_Science_Course_2018_Complete_Data_Science_Bootcamp\n",
    "\n",
    "\n",
    "\n",
    "* Part 2: Statistics\n",
    "      - Section 10: Descriptive Statistics\n",
    "      - Section 11: Practical Example: Descriptive Statistics\n",
    "      - Section 12: Inferential Statistics Fundamentals\n",
    "      - Section 13: Inferential Statistics: Confidence Intervals\n",
    "      - Section 14: Practical Example: Inferential Statistics\n",
    "      - Section 15: Hypothesis Testing\n",
    "      - Section 16:  Practical Example: Hypothesis\n",
    "      \n",
    "* Section 10: Descriptive Statistics\n",
    "- Lecture 34: Cross Tables and Scatter Plots.\n"
   ]
  },
  {
   "cell_type": "markdown",
   "metadata": {
    "colab_type": "text",
    "id": "hQvc4TWPjMBm"
   },
   "source": [
    "## Load required libraries"
   ]
  },
  {
   "cell_type": "code",
   "execution_count": 1,
   "metadata": {
    "ExecuteTime": {
     "end_time": "2018-12-10T03:33:06.121884Z",
     "start_time": "2018-12-10T03:33:05.421587Z"
    },
    "colab": {},
    "colab_type": "code",
    "id": "6vRyKTAsjK3p"
   },
   "outputs": [],
   "source": [
    "import numpy as np\n",
    "import pandas as pd\n",
    "\n",
    "# Set ipython's max row display\n",
    "pd.set_option('display.max_row', 1000)\n",
    "\n",
    "# Set iPython's max column width to 50\n",
    "pd.set_option('display.max_columns', 50)\n",
    "\n",
    "import seaborn as sns\n",
    "%matplotlib inline\n",
    "sns.set()\n",
    "\n",
    "from IPython.display import Image\n",
    "# snap_dir = 'drive/My Drive/GoogleColaboratory/data/udemy/ds18/snapshots/'\n",
    "\n",
    "snap_dir = '../data/snapshots/'\n",
    "data_dir = '../data/excel/'"
   ]
  },
  {
   "cell_type": "markdown",
   "metadata": {
    "colab_type": "text",
    "id": "XaaBODVqip53"
   },
   "source": [
    "## Excel Files Materials"
   ]
  },
  {
   "cell_type": "code",
   "execution_count": 2,
   "metadata": {
    "ExecuteTime": {
     "end_time": "2018-12-10T03:33:06.138806Z",
     "start_time": "2018-12-10T03:33:06.123840Z"
    },
    "colab": {
     "base_uri": "https://localhost:8080/",
     "height": 408
    },
    "colab_type": "code",
    "executionInfo": {
     "elapsed": 360,
     "status": "ok",
     "timestamp": 1543798279895,
     "user": {
      "displayName": "astro astro",
      "photoUrl": "https://lh4.googleusercontent.com/-c32U5akLDk0/AAAAAAAAAAI/AAAAAAAAALo/5QE4ScXpqWQ/s64/photo.jpg",
      "userId": "06030840119486905497"
     },
     "user_tz": 300
    },
    "id": "fMDtpbAIjBZP",
    "outputId": "8c6d848b-0458-4080-c700-d4c43c101f40"
   },
   "outputs": [
    {
     "name": "stdout",
     "output_type": "stream",
     "text": [
      "2.10.Standard-deviation-and-coefficient-of-variation-exercise-solution.xlsx\n",
      "2.10.Standard-deviation-and-coefficient-of-variation-exercise.xlsx\n",
      "2.11.Covariance-exercise-solution.xlsx\n",
      "2.11.Covariance-exercise.xlsx\n",
      "2.12.Correlation-exercise-solution.xlsx\n",
      "2.12.Correlation-exercise.xlsx\n",
      "2.13.Practical-example.Descriptive-statistics-exercise-solution.xlsx\n",
      "2.13.Practical-example.Descriptive-statistics-exercise.xlsx\n",
      "2.13.Practical-example.Descriptive-statistics-lesson.xlsx\n",
      "2.3.Categorical-variables.Visualization-techniques-exercise-solution.xlsx\n",
      "2.3.Categorical-variables.Visualization-techniques-exercise.xlsx\n",
      "2.4.Numerical-variables.Frequency-distribution-table-exercise-solution.xlsx\n",
      "2.4.Numerical-variables.Frequency-distribution-table-exercise.xlsx\n",
      "2.5.The-Histogram-exercise-solution.xlsx\n",
      "2.5.The-Histogram-exercise.xlsx\n",
      "2.6.Cross-table-and-scatter-plot-exercise-solution.xlsx\n",
      "2.6.Cross-table-and-scatter-plot-exercise.xlsx\n",
      "2.7.Mean-median-and-mode-exercise-solution.xlsx\n",
      "2.7.Mean-median-and-mode-exercise.xlsx\n",
      "2.8.Skewness-exercise-solution.xlsx\n",
      "2.8.Skewness-exercise.xlsx\n",
      "2.9.Variance-exercise-solution.xlsx\n",
      "2.9.Variance-exercise.xlsx\n",
      "3.11.Population-variance-unknown-t-score-exercise-solution.xlsx\n",
      "3.11.Population-variance-unknown-t-score-exercise.xlsx\n",
      "3.13.Confidence-intervals.Two-means.Dependent-samples-exercise-solution.xlsx\n",
      "3.13.Confidence-intervals.Two-means.Dependent-samples-exercise.xlsx\n",
      "3.14.Confidence-intervals.Two-means.Independent-samples-Part-1-exercise-solution.xlsx\n",
      "3.14.Confidence-intervals.Two-means.Independent-samples-Part-1-exercise.xlsx\n",
      "3.14.Confidence-intervals.Two-means.Independent-samples-Part-1-lesson.xlsx\n",
      "3.15.Confidence-intervals.Two-means.Independent-samples-Part-2-exercise-solution.xlsx\n",
      "3.15.Confidence-intervals.Two-means.Independent-samples-Part-2-exercise.xlsx\n",
      "3.17.Practical-example.Confidence-intervals-exercise-solution.xlsx\n",
      "3.17.Practical-example.Confidence-intervals-exercise.xlsx\n",
      "3.17.Practical-example.Confidence-intervals-lesson.xlsx\n",
      "3.4.Standard-normal-distribution-exercise-solution.xlsx\n",
      "3.4.Standard-normal-distribution-exercise.xlsx\n",
      "3.9.Population-variance-known-z-score-exercise-solution.xlsx\n",
      "3.9.Population-variance-known-z-score-exercise.xlsx\n",
      "3.9.The-z-table.xlsx\n"
     ]
    }
   ],
   "source": [
    "%%bash\n",
    "# ls 'drive/My Drive/GoogleColaboratory/data/udemy/ds18/excel'\n",
    "ls '../data/excel'"
   ]
  },
  {
   "cell_type": "markdown",
   "metadata": {
    "colab_type": "text",
    "id": "E8kStLlZsOcZ"
   },
   "source": [
    "## Cross-table-and-scatter-plot-exercise"
   ]
  },
  {
   "cell_type": "code",
   "execution_count": 3,
   "metadata": {
    "ExecuteTime": {
     "end_time": "2018-12-10T03:33:06.151212Z",
     "start_time": "2018-12-10T03:33:06.141289Z"
    },
    "colab": {
     "base_uri": "https://localhost:8080/",
     "height": 290
    },
    "colab_type": "code",
    "executionInfo": {
     "elapsed": 902,
     "status": "ok",
     "timestamp": 1543800768373,
     "user": {
      "displayName": "astro astro",
      "photoUrl": "https://lh4.googleusercontent.com/-c32U5akLDk0/AAAAAAAAAAI/AAAAAAAAALo/5QE4ScXpqWQ/s64/photo.jpg",
      "userId": "06030840119486905497"
     },
     "user_tz": 300
    },
    "id": "vhnpBw5WsYgA",
    "outputId": "d533d42d-7709-4bf6-fd90-22ee35d727fd"
   },
   "outputs": [
    {
     "data": {
      "image/png": "[encoded data removed]",
      "text/plain": [
       "<IPython.core.display.Image object>"
      ]
     },
     "execution_count": 3,
     "metadata": {
      "image/png": {
       "width": 600
      }
     },
     "output_type": "execute_result"
    }
   ],
   "source": [
    "Image(filename=(snap_dir + '2.6.Cross_table_sol.png'),width=600)"
   ]
  },
  {
   "cell_type": "markdown",
   "metadata": {
    "colab_type": "text",
    "id": "6LdvoVaWskK5"
   },
   "source": [
    "### Task 1:\n",
    "```\n",
    "\tBackground\tYou have employment data about country X. You have been asked to prepare a cross-table showing that data.\t\t\t\t\t\n",
    "\t\t60% of 18 to 25-year-olds are employed\t\t\t\t\t\n",
    "\t\t85% of 25 to 35-year-olds are employed\t\t\t\t\t\n",
    "\t\t5% of 35 to 45-year-olds are unemployed\t\t\t\t\t\n",
    "\t\t3% of 45 to 55-year-olds are unemployed\t\t\t\t\t\n",
    "\t\t3% of 55 to 65-year-olds are unemployed\t\t\t\t\t\n",
    "\t\tAll 65+ are employed. Note: the definition of unemployed is: without a job, but actively searching for one. That's probably why all 65+s are employed.\t\t\t\t\t\n",
    "\tTask 1\tCreate a cross table summarizing the data you have been given.\t\t\t\t\t\n",
    "\tTask 2\tCreate a side-by-side bar chart (it is called clustered column chart in Excel), in order to visually enhance your summary.\t\t\t\t\t\n",
    "```\t\t"
   ]
  },
  {
   "cell_type": "code",
   "execution_count": 4,
   "metadata": {
    "ExecuteTime": {
     "end_time": "2018-12-10T03:33:06.167768Z",
     "start_time": "2018-12-10T03:33:06.154178Z"
    },
    "colab": {
     "base_uri": "https://localhost:8080/",
     "height": 235
    },
    "colab_type": "code",
    "executionInfo": {
     "elapsed": 1194,
     "status": "ok",
     "timestamp": 1543801526284,
     "user": {
      "displayName": "astro astro",
      "photoUrl": "https://lh4.googleusercontent.com/-c32U5akLDk0/AAAAAAAAAAI/AAAAAAAAALo/5QE4ScXpqWQ/s64/photo.jpg",
      "userId": "06030840119486905497"
     },
     "user_tz": 300
    },
    "id": "GcBRMxFNt-L-",
    "outputId": "7f9166ac-cee8-4d69-fd5b-6a04dcfb9de9"
   },
   "outputs": [
    {
     "data": {
      "text/html": [
       "<div>\n",
       "<style scoped>\n",
       "    .dataframe tbody tr th:only-of-type {\n",
       "        vertical-align: middle;\n",
       "    }\n",
       "\n",
       "    .dataframe tbody tr th {\n",
       "        vertical-align: top;\n",
       "    }\n",
       "\n",
       "    .dataframe thead th {\n",
       "        text-align: right;\n",
       "    }\n",
       "</style>\n",
       "<table border=\"1\" class=\"dataframe\">\n",
       "  <thead>\n",
       "    <tr style=\"text-align: right;\">\n",
       "      <th></th>\n",
       "      <th>employed</th>\n",
       "      <th>unemployed</th>\n",
       "    </tr>\n",
       "  </thead>\n",
       "  <tbody>\n",
       "    <tr>\n",
       "      <th>18-25</th>\n",
       "      <td>60</td>\n",
       "      <td>40</td>\n",
       "    </tr>\n",
       "    <tr>\n",
       "      <th>25-35</th>\n",
       "      <td>85</td>\n",
       "      <td>15</td>\n",
       "    </tr>\n",
       "    <tr>\n",
       "      <th>35-45</th>\n",
       "      <td>95</td>\n",
       "      <td>5</td>\n",
       "    </tr>\n",
       "    <tr>\n",
       "      <th>45-55</th>\n",
       "      <td>97</td>\n",
       "      <td>3</td>\n",
       "    </tr>\n",
       "    <tr>\n",
       "      <th>55-65</th>\n",
       "      <td>97</td>\n",
       "      <td>3</td>\n",
       "    </tr>\n",
       "    <tr>\n",
       "      <th>65+</th>\n",
       "      <td>100</td>\n",
       "      <td>0</td>\n",
       "    </tr>\n",
       "  </tbody>\n",
       "</table>\n",
       "</div>"
      ],
      "text/plain": [
       "       employed  unemployed\n",
       "18-25        60          40\n",
       "25-35        85          15\n",
       "35-45        95           5\n",
       "45-55        97           3\n",
       "55-65        97           3\n",
       "65+         100           0"
      ]
     },
     "execution_count": 4,
     "metadata": {},
     "output_type": "execute_result"
    }
   ],
   "source": [
    "age = ['18-25','25-35','35-45','45-55','55-65','65+']\n",
    "employed = [60,85,95,97,97,100]\n",
    "unemployed = [100-x for x in employed]\n",
    "\n",
    "df = pd.DataFrame({'employed': employed,\n",
    "                  'unemployed': unemployed},\n",
    "                 index=age)\n",
    "\n",
    "df"
   ]
  },
  {
   "cell_type": "code",
   "execution_count": 5,
   "metadata": {
    "ExecuteTime": {
     "end_time": "2018-12-10T03:33:06.180033Z",
     "start_time": "2018-12-10T03:33:06.169548Z"
    },
    "colab": {
     "base_uri": "https://localhost:8080/",
     "height": 266
    },
    "colab_type": "code",
    "executionInfo": {
     "elapsed": 665,
     "status": "ok",
     "timestamp": 1543802223261,
     "user": {
      "displayName": "astro astro",
      "photoUrl": "https://lh4.googleusercontent.com/-c32U5akLDk0/AAAAAAAAAAI/AAAAAAAAALo/5QE4ScXpqWQ/s64/photo.jpg",
      "userId": "06030840119486905497"
     },
     "user_tz": 300
    },
    "id": "MJcfBU0Bt-o6",
    "outputId": "a5bad92e-f28c-43b7-84b9-1cbb9a6ea822"
   },
   "outputs": [
    {
     "data": {
      "text/html": [
       "<div>\n",
       "<style scoped>\n",
       "    .dataframe tbody tr th:only-of-type {\n",
       "        vertical-align: middle;\n",
       "    }\n",
       "\n",
       "    .dataframe tbody tr th {\n",
       "        vertical-align: top;\n",
       "    }\n",
       "\n",
       "    .dataframe thead th {\n",
       "        text-align: right;\n",
       "    }\n",
       "</style>\n",
       "<table border=\"1\" class=\"dataframe\">\n",
       "  <thead>\n",
       "    <tr style=\"text-align: right;\">\n",
       "      <th></th>\n",
       "      <th>employed</th>\n",
       "      <th>unemployed</th>\n",
       "    </tr>\n",
       "  </thead>\n",
       "  <tbody>\n",
       "    <tr>\n",
       "      <th>18-25</th>\n",
       "      <td>60.0</td>\n",
       "      <td>40.0</td>\n",
       "    </tr>\n",
       "    <tr>\n",
       "      <th>25-35</th>\n",
       "      <td>85.0</td>\n",
       "      <td>15.0</td>\n",
       "    </tr>\n",
       "    <tr>\n",
       "      <th>35-45</th>\n",
       "      <td>95.0</td>\n",
       "      <td>5.0</td>\n",
       "    </tr>\n",
       "    <tr>\n",
       "      <th>45-55</th>\n",
       "      <td>97.0</td>\n",
       "      <td>3.0</td>\n",
       "    </tr>\n",
       "    <tr>\n",
       "      <th>55-65</th>\n",
       "      <td>97.0</td>\n",
       "      <td>3.0</td>\n",
       "    </tr>\n",
       "    <tr>\n",
       "      <th>65+</th>\n",
       "      <td>100.0</td>\n",
       "      <td>0.0</td>\n",
       "    </tr>\n",
       "    <tr>\n",
       "      <th>Total</th>\n",
       "      <td>534.0</td>\n",
       "      <td>66.0</td>\n",
       "    </tr>\n",
       "  </tbody>\n",
       "</table>\n",
       "</div>"
      ],
      "text/plain": [
       "       employed  unemployed\n",
       "18-25      60.0        40.0\n",
       "25-35      85.0        15.0\n",
       "35-45      95.0         5.0\n",
       "45-55      97.0         3.0\n",
       "55-65      97.0         3.0\n",
       "65+       100.0         0.0\n",
       "Total     534.0        66.0"
      ]
     },
     "execution_count": 5,
     "metadata": {},
     "output_type": "execute_result"
    }
   ],
   "source": [
    "# add row with total sum axis 0\n",
    "df.loc['Total',:] = df.sum(axis=0)\n",
    "df"
   ]
  },
  {
   "cell_type": "code",
   "execution_count": 6,
   "metadata": {
    "ExecuteTime": {
     "end_time": "2018-12-10T03:33:06.184935Z",
     "start_time": "2018-12-10T03:33:06.182048Z"
    },
    "colab": {
     "base_uri": "https://localhost:8080/",
     "height": 297
    },
    "colab_type": "code",
    "executionInfo": {
     "elapsed": 308,
     "status": "ok",
     "timestamp": 1543802273289,
     "user": {
      "displayName": "astro astro",
      "photoUrl": "https://lh4.googleusercontent.com/-c32U5akLDk0/AAAAAAAAAAI/AAAAAAAAALo/5QE4ScXpqWQ/s64/photo.jpg",
      "userId": "06030840119486905497"
     },
     "user_tz": 300
    },
    "id": "1R7aW6UCyHbL",
    "outputId": "7fe23f7f-20b4-4f71-9a68-2d0cb38128e6"
   },
   "outputs": [],
   "source": [
    "# df.append(df.sum().rename('rowTotal'))"
   ]
  },
  {
   "cell_type": "code",
   "execution_count": 7,
   "metadata": {
    "ExecuteTime": {
     "end_time": "2018-12-10T03:33:06.199182Z",
     "start_time": "2018-12-10T03:33:06.187103Z"
    },
    "colab": {
     "base_uri": "https://localhost:8080/",
     "height": 266
    },
    "colab_type": "code",
    "executionInfo": {
     "elapsed": 339,
     "status": "ok",
     "timestamp": 1543802392519,
     "user": {
      "displayName": "astro astro",
      "photoUrl": "https://lh4.googleusercontent.com/-c32U5akLDk0/AAAAAAAAAAI/AAAAAAAAALo/5QE4ScXpqWQ/s64/photo.jpg",
      "userId": "06030840119486905497"
     },
     "user_tz": 300
    },
    "id": "VZ9QwsBKt-4i",
    "outputId": "c5fe75a8-fc18-4aa0-f2d0-09e36432ecad"
   },
   "outputs": [
    {
     "data": {
      "text/html": [
       "<div>\n",
       "<style scoped>\n",
       "    .dataframe tbody tr th:only-of-type {\n",
       "        vertical-align: middle;\n",
       "    }\n",
       "\n",
       "    .dataframe tbody tr th {\n",
       "        vertical-align: top;\n",
       "    }\n",
       "\n",
       "    .dataframe thead th {\n",
       "        text-align: right;\n",
       "    }\n",
       "</style>\n",
       "<table border=\"1\" class=\"dataframe\">\n",
       "  <thead>\n",
       "    <tr style=\"text-align: right;\">\n",
       "      <th></th>\n",
       "      <th>employed</th>\n",
       "      <th>unemployed</th>\n",
       "      <th>Total</th>\n",
       "    </tr>\n",
       "  </thead>\n",
       "  <tbody>\n",
       "    <tr>\n",
       "      <th>18-25</th>\n",
       "      <td>60.0</td>\n",
       "      <td>40.0</td>\n",
       "      <td>100.0</td>\n",
       "    </tr>\n",
       "    <tr>\n",
       "      <th>25-35</th>\n",
       "      <td>85.0</td>\n",
       "      <td>15.0</td>\n",
       "      <td>100.0</td>\n",
       "    </tr>\n",
       "    <tr>\n",
       "      <th>35-45</th>\n",
       "      <td>95.0</td>\n",
       "      <td>5.0</td>\n",
       "      <td>100.0</td>\n",
       "    </tr>\n",
       "    <tr>\n",
       "      <th>45-55</th>\n",
       "      <td>97.0</td>\n",
       "      <td>3.0</td>\n",
       "      <td>100.0</td>\n",
       "    </tr>\n",
       "    <tr>\n",
       "      <th>55-65</th>\n",
       "      <td>97.0</td>\n",
       "      <td>3.0</td>\n",
       "      <td>100.0</td>\n",
       "    </tr>\n",
       "    <tr>\n",
       "      <th>65+</th>\n",
       "      <td>100.0</td>\n",
       "      <td>0.0</td>\n",
       "      <td>100.0</td>\n",
       "    </tr>\n",
       "    <tr>\n",
       "      <th>Total</th>\n",
       "      <td>534.0</td>\n",
       "      <td>66.0</td>\n",
       "      <td>600.0</td>\n",
       "    </tr>\n",
       "  </tbody>\n",
       "</table>\n",
       "</div>"
      ],
      "text/plain": [
       "       employed  unemployed  Total\n",
       "18-25      60.0        40.0  100.0\n",
       "25-35      85.0        15.0  100.0\n",
       "35-45      95.0         5.0  100.0\n",
       "45-55      97.0         3.0  100.0\n",
       "55-65      97.0         3.0  100.0\n",
       "65+       100.0         0.0  100.0\n",
       "Total     534.0        66.0  600.0"
      ]
     },
     "execution_count": 7,
     "metadata": {},
     "output_type": "execute_result"
    }
   ],
   "source": [
    "# add column with total sum axis 1\n",
    "df.loc[:,'Total'] = df.sum(axis=1)\n",
    "df"
   ]
  },
  {
   "cell_type": "code",
   "execution_count": 8,
   "metadata": {
    "ExecuteTime": {
     "end_time": "2018-12-10T03:33:06.203696Z",
     "start_time": "2018-12-10T03:33:06.201369Z"
    },
    "colab": {},
    "colab_type": "code",
    "id": "6hOR9h4uyw1E"
   },
   "outputs": [],
   "source": [
    "# df.assign(columnTotal = lambda x: x.sum(1))"
   ]
  },
  {
   "cell_type": "code",
   "execution_count": 9,
   "metadata": {
    "ExecuteTime": {
     "end_time": "2018-12-10T03:33:06.379612Z",
     "start_time": "2018-12-10T03:33:06.205735Z"
    },
    "colab": {
     "base_uri": "https://localhost:8080/",
     "height": 380
    },
    "colab_type": "code",
    "executionInfo": {
     "elapsed": 400,
     "status": "ok",
     "timestamp": 1543801951294,
     "user": {
      "displayName": "astro astro",
      "photoUrl": "https://lh4.googleusercontent.com/-c32U5akLDk0/AAAAAAAAAAI/AAAAAAAAALo/5QE4ScXpqWQ/s64/photo.jpg",
      "userId": "06030840119486905497"
     },
     "user_tz": 300
    },
    "id": "m71yjq3Rt_SS",
    "outputId": "5594ec58-5e77-49dd-bbdf-e9e4c7c00b1d"
   },
   "outputs": [
    {
     "data": {
      "text/plain": [
       "<matplotlib.axes._subplots.AxesSubplot at 0x1a1d52b9b0>"
      ]
     },
     "execution_count": 9,
     "metadata": {},
     "output_type": "execute_result"
    },
    {
     "data": {
      "image/png": "[encoded data removed]",
      "text/plain": [
       "<Figure size 432x288 with 1 Axes>"
      ]
     },
     "metadata": {
      "needs_background": "light"
     },
     "output_type": "display_data"
    }
   ],
   "source": [
    "df[['employed','unemployed']][:-1].plot(kind='bar')"
   ]
  }
 ],
 "metadata": {
  "colab": {
   "collapsed_sections": [
    "-UWac3rMjEyn"
   ],
   "name": "udemy_ds18_part2_statistics.ipynb",
   "provenance": [],
   "version": "0.3.2"
  },
  "kernelspec": {
   "display_name": "Python (dataSc)",
   "language": "python",
   "name": "datasc"
  },
  "language_info": {
   "codemirror_mode": {
    "name": "ipython",
    "version": 3
   },
   "file_extension": ".py",
   "mimetype": "text/x-python",
   "name": "python",
   "nbconvert_exporter": "python",
   "pygments_lexer": "ipython3",
   "version": "3.7.0"
  },
  "toc": {
   "base_numbering": 1,
   "nav_menu": {},
   "number_sections": true,
   "sideBar": true,
   "skip_h1_title": false,
   "title_cell": "Table of Contents",
   "title_sidebar": "Contents",
   "toc_cell": true,
   "toc_position": {},
   "toc_section_display": true,
   "toc_window_display": true
  }
 },
 "nbformat": 4,
 "nbformat_minor": 1
}
