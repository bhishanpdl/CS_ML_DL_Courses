{
 "cells": [
  {
   "cell_type": "markdown",
   "metadata": {
    "toc": true
   },
   "source": [
    "<h1>Table of Contents<span class=\"tocSkip\"></span></h1>\n",
    "<div class=\"toc\"><ul class=\"toc-item\"><li><span><a href=\"#Part-2-Sec-10-Lec-48:--Practical-Examles-Descriptive-Statistics\" data-toc-modified-id=\"Part-2-Sec-10-Lec-48:--Practical-Examles-Descriptive-Statistics-1\"><span class=\"toc-item-num\">1&nbsp;&nbsp;</span>Part 2 Sec 10 Lec 48:  Practical Examles Descriptive Statistics</a></span><ul class=\"toc-item\"><li><span><a href=\"#Load-required-libraries\" data-toc-modified-id=\"Load-required-libraries-1.1\"><span class=\"toc-item-num\">1.1&nbsp;&nbsp;</span>Load required libraries</a></span></li><li><span><a href=\"#Excel-Files-Materials\" data-toc-modified-id=\"Excel-Files-Materials-1.2\"><span class=\"toc-item-num\">1.2&nbsp;&nbsp;</span>Excel Files Materials</a></span></li><li><span><a href=\"#Practical-example.Descriptive-statistics-exercise\" data-toc-modified-id=\"Practical-example.Descriptive-statistics-exercise-1.3\"><span class=\"toc-item-num\">1.3&nbsp;&nbsp;</span>Practical-example.Descriptive-statistics-exercise</a></span><ul class=\"toc-item\"><li><span><a href=\"#Load-excel-data\" data-toc-modified-id=\"Load-excel-data-1.3.1\"><span class=\"toc-item-num\">1.3.1&nbsp;&nbsp;</span>Load excel data</a></span></li><li><span><a href=\"#Task-1\" data-toc-modified-id=\"Task-1-1.3.2\"><span class=\"toc-item-num\">1.3.2&nbsp;&nbsp;</span>Task 1</a></span></li><li><span><a href=\"#Taks-2\" data-toc-modified-id=\"Taks-2-1.3.3\"><span class=\"toc-item-num\">1.3.3&nbsp;&nbsp;</span>Taks 2</a></span></li><li><span><a href=\"#Task-3\" data-toc-modified-id=\"Task-3-1.3.4\"><span class=\"toc-item-num\">1.3.4&nbsp;&nbsp;</span>Task 3</a></span></li><li><span><a href=\"#Task-4\" data-toc-modified-id=\"Task-4-1.3.5\"><span class=\"toc-item-num\">1.3.5&nbsp;&nbsp;</span>Task 4</a></span></li><li><span><a href=\"#Task-5\" data-toc-modified-id=\"Task-5-1.3.6\"><span class=\"toc-item-num\">1.3.6&nbsp;&nbsp;</span>Task 5</a></span></li><li><span><a href=\"#Task-6\" data-toc-modified-id=\"Task-6-1.3.7\"><span class=\"toc-item-num\">1.3.7&nbsp;&nbsp;</span>Task 6</a></span></li><li><span><a href=\"#Task-7\" data-toc-modified-id=\"Task-7-1.3.8\"><span class=\"toc-item-num\">1.3.8&nbsp;&nbsp;</span>Task 7</a></span></li><li><span><a href=\"#Task-8\" data-toc-modified-id=\"Task-8-1.3.9\"><span class=\"toc-item-num\">1.3.9&nbsp;&nbsp;</span>Task 8</a></span></li><li><span><a href=\"#Task-9\" data-toc-modified-id=\"Task-9-1.3.10\"><span class=\"toc-item-num\">1.3.10&nbsp;&nbsp;</span>Task 9</a></span></li><li><span><a href=\"#Task-10\" data-toc-modified-id=\"Task-10-1.3.11\"><span class=\"toc-item-num\">1.3.11&nbsp;&nbsp;</span>Task 10</a></span></li></ul></li></ul></li></ul></div>"
   ]
  },
  {
   "cell_type": "markdown",
   "metadata": {
    "colab_type": "text",
    "id": "7SbYdvL0gR2o"
   },
   "source": [
    "# Part 2 Sec 10 Lec 48:  Practical Examles Descriptive Statistics\n",
    "\n",
    "Course: Udemy_The_Data_Science_Course_2018_Complete_Data_Science_Bootcamp\n",
    "\n",
    "\n",
    "\n",
    "* Part 2: Statistics\n",
    "      - Section 10: Descriptive Statistics\n",
    "      - Section 11: Practical Example: Descriptive Statistics\n",
    "      - Section 12: Inferential Statistics Fundamentals\n",
    "      - Section 13: Inferential Statistics: Confidence Intervals\n",
    "      - Section 14: Practical Example: Inferential Statistics\n",
    "      - Section 15: Hypothesis Testing\n",
    "      - Section 16:  Practical Example: Hypothesis"
   ]
  },
  {
   "cell_type": "markdown",
   "metadata": {
    "colab_type": "text",
    "id": "hQvc4TWPjMBm"
   },
   "source": [
    "## Load required libraries"
   ]
  },
  {
   "cell_type": "code",
   "execution_count": 1,
   "metadata": {
    "ExecuteTime": {
     "end_time": "2018-12-27T15:19:49.802576Z",
     "start_time": "2018-12-27T15:19:49.125653Z"
    },
    "colab": {},
    "colab_type": "code",
    "id": "6vRyKTAsjK3p"
   },
   "outputs": [],
   "source": [
    "import numpy as np\n",
    "import pandas as pd\n",
    "\n",
    "# Set ipython's max row display\n",
    "pd.set_option('display.max_row', 1000)\n",
    "\n",
    "# Set iPython's max column width to 50\n",
    "pd.set_option('display.max_columns', 50)\n",
    "\n",
    "import seaborn as sns\n",
    "%matplotlib inline\n",
    "sns.set()\n",
    "\n",
    "from IPython.display import Image\n",
    "\n",
    "snap_dir = '../data/snapshots/'\n",
    "data_dir = '../data/excel/'"
   ]
  },
  {
   "cell_type": "markdown",
   "metadata": {
    "colab_type": "text",
    "id": "XaaBODVqip53"
   },
   "source": [
    "## Excel Files Materials"
   ]
  },
  {
   "cell_type": "code",
   "execution_count": 2,
   "metadata": {
    "ExecuteTime": {
     "end_time": "2018-12-27T15:19:49.818070Z",
     "start_time": "2018-12-27T15:19:49.804310Z"
    },
    "colab": {
     "base_uri": "https://localhost:8080/",
     "height": 408
    },
    "colab_type": "code",
    "executionInfo": {
     "elapsed": 360,
     "status": "ok",
     "timestamp": 1543798279895,
     "user": {
      "displayName": "astro astro",
      "photoUrl": "https://lh4.googleusercontent.com/-c32U5akLDk0/AAAAAAAAAAI/AAAAAAAAALo/5QE4ScXpqWQ/s64/photo.jpg",
      "userId": "06030840119486905497"
     },
     "user_tz": 300
    },
    "id": "fMDtpbAIjBZP",
    "outputId": "8c6d848b-0458-4080-c700-d4c43c101f40"
   },
   "outputs": [
    {
     "name": "stdout",
     "output_type": "stream",
     "text": [
      "2.10.Standard-deviation-and-coefficient-of-variation-exercise-solution.xlsx\n",
      "2.10.Standard-deviation-and-coefficient-of-variation-exercise.xlsx\n",
      "2.11.Covariance-exercise-solution.xlsx\n",
      "2.11.Covariance-exercise.xlsx\n",
      "2.12.Correlation-exercise-solution.xlsx\n",
      "2.12.Correlation-exercise.xlsx\n",
      "2.13.Practical-example.Descriptive-statistics-exercise-solution.xlsx\n",
      "2.13.Practical-example.Descriptive-statistics-exercise.xlsx\n",
      "2.13.Practical-example.Descriptive-statistics-lesson.xlsx\n",
      "2.3.Categorical-variables.Visualization-techniques-exercise-solution.xlsx\n",
      "2.3.Categorical-variables.Visualization-techniques-exercise.xlsx\n",
      "2.4.Numerical-variables.Frequency-distribution-table-exercise-solution.xlsx\n",
      "2.4.Numerical-variables.Frequency-distribution-table-exercise.xlsx\n",
      "2.5.The-Histogram-exercise-solution.xlsx\n",
      "2.5.The-Histogram-exercise.xlsx\n",
      "2.6.Cross-table-and-scatter-plot-exercise-solution.xlsx\n",
      "2.6.Cross-table-and-scatter-plot-exercise.xlsx\n",
      "2.7.Mean-median-and-mode-exercise-solution.xlsx\n",
      "2.7.Mean-median-and-mode-exercise.xlsx\n",
      "2.8.Skewness-exercise-solution.xlsx\n",
      "2.8.Skewness-exercise.xlsx\n",
      "2.9.Variance-exercise-solution.xlsx\n",
      "2.9.Variance-exercise.xlsx\n",
      "3.11.Population-variance-unknown-t-score-exercise-solution.xlsx\n",
      "3.11.Population-variance-unknown-t-score-exercise.xlsx\n",
      "3.13.Confidence-intervals.Two-means.Dependent-samples-exercise-solution.xlsx\n",
      "3.13.Confidence-intervals.Two-means.Dependent-samples-exercise.xlsx\n",
      "3.14.Confidence-intervals.Two-means.Independent-samples-Part-1-exercise-solution.xlsx\n",
      "3.14.Confidence-intervals.Two-means.Independent-samples-Part-1-exercise.xlsx\n",
      "3.14.Confidence-intervals.Two-means.Independent-samples-Part-1-lesson.xlsx\n",
      "3.15.Confidence-intervals.Two-means.Independent-samples-Part-2-exercise-solution.xlsx\n",
      "3.15.Confidence-intervals.Two-means.Independent-samples-Part-2-exercise.xlsx\n",
      "3.17.Practical-example.Confidence-intervals-exercise-solution.xlsx\n",
      "3.17.Practical-example.Confidence-intervals-exercise.xlsx\n",
      "3.17.Practical-example.Confidence-intervals-lesson.xlsx\n",
      "3.4.Standard-normal-distribution-exercise-solution.xlsx\n",
      "3.4.Standard-normal-distribution-exercise.xlsx\n",
      "3.9.Population-variance-known-z-score-exercise-solution.xlsx\n",
      "3.9.Population-variance-known-z-score-exercise.xlsx\n",
      "3.9.The-z-table.xlsx\n",
      "README.md\n"
     ]
    }
   ],
   "source": [
    "%%bash\n",
    "ls '../data/excel'"
   ]
  },
  {
   "cell_type": "markdown",
   "metadata": {
    "colab_type": "text",
    "id": "-UWac3rMjEyn"
   },
   "source": [
    "##  Practical-example.Descriptive-statistics-exercise"
   ]
  },
  {
   "cell_type": "markdown",
   "metadata": {
    "colab_type": "text",
    "id": "v4z2tlWKjq5k"
   },
   "source": [
    "### Load excel data"
   ]
  },
  {
   "cell_type": "code",
   "execution_count": 3,
   "metadata": {
    "ExecuteTime": {
     "end_time": "2018-12-27T15:19:49.823924Z",
     "start_time": "2018-12-27T15:19:49.820661Z"
    },
    "colab": {},
    "colab_type": "code",
    "id": "2fLDc-wBj1Kv"
   },
   "outputs": [],
   "source": [
    "# desc_data = 'drive/My Drive/GoogleColaboratory/data/udemy/ds18/excel/2.13.Practical-example.Descriptive-statistics-exercise.xlsx'\n",
    "\n",
    "desc_data = '../data/excel/2.13.Practical-example.Descriptive-statistics-exercise.xlsx'"
   ]
  },
  {
   "cell_type": "code",
   "execution_count": 4,
   "metadata": {
    "ExecuteTime": {
     "end_time": "2018-12-27T15:19:49.953414Z",
     "start_time": "2018-12-27T15:19:49.826208Z"
    },
    "colab": {
     "base_uri": "https://localhost:8080/",
     "height": 119
    },
    "colab_type": "code",
    "executionInfo": {
     "elapsed": 697,
     "status": "ok",
     "timestamp": 1543798509610,
     "user": {
      "displayName": "astro astro",
      "photoUrl": "https://lh4.googleusercontent.com/-c32U5akLDk0/AAAAAAAAAAI/AAAAAAAAALo/5QE4ScXpqWQ/s64/photo.jpg",
      "userId": "06030840119486905497"
     },
     "user_tz": 300
    },
    "id": "idXThjabj5q5",
    "outputId": "1b170945-0b0f-415d-fb2c-0a40a6aaba39"
   },
   "outputs": [
    {
     "data": {
      "text/plain": [
       "Index(['ID', 'Building', 'Year of sale', 'Month of sale', 'Type of property',\n",
       "       'Property #', 'Area (ft.)', 'Price', 'Status', 'Unnamed: 9',\n",
       "       'Customer ID', 'Entity', 'Name', 'Surname', 'Age at time of purchase',\n",
       "       'Interval', 'Y', 'M', 'D', 'Gender', 'Country', 'State', 'Purpose',\n",
       "       'Deal satisfaction', 'Mortgage', 'Source'],\n",
       "      dtype='object')"
      ]
     },
     "execution_count": 4,
     "metadata": {},
     "output_type": "execute_result"
    }
   ],
   "source": [
    "df = pd.read_excel(desc_data,\n",
    "                   sheet_name='365RE',\n",
    "                  header=4,index_col=0,\n",
    "                  skipfooter=13)\n",
    "\n",
    "df.columns"
   ]
  },
  {
   "cell_type": "code",
   "execution_count": 5,
   "metadata": {
    "ExecuteTime": {
     "end_time": "2018-12-27T15:19:49.976064Z",
     "start_time": "2018-12-27T15:19:49.955332Z"
    },
    "colab": {
     "base_uri": "https://localhost:8080/",
     "height": 362
    },
    "colab_type": "code",
    "executionInfo": {
     "elapsed": 466,
     "status": "ok",
     "timestamp": 1543798520270,
     "user": {
      "displayName": "astro astro",
      "photoUrl": "https://lh4.googleusercontent.com/-c32U5akLDk0/AAAAAAAAAAI/AAAAAAAAALo/5QE4ScXpqWQ/s64/photo.jpg",
      "userId": "06030840119486905497"
     },
     "user_tz": 300
    },
    "id": "hijx3PVSj8yq",
    "outputId": "4d1393ce-e222-4b58-c71f-c8dd60b05b8b"
   },
   "outputs": [
    {
     "name": "stdout",
     "output_type": "stream",
     "text": [
      "(254, 26)\n"
     ]
    },
    {
     "data": {
      "text/html": [
       "<div>\n",
       "<style scoped>\n",
       "    .dataframe tbody tr th:only-of-type {\n",
       "        vertical-align: middle;\n",
       "    }\n",
       "\n",
       "    .dataframe tbody tr th {\n",
       "        vertical-align: top;\n",
       "    }\n",
       "\n",
       "    .dataframe thead th {\n",
       "        text-align: right;\n",
       "    }\n",
       "</style>\n",
       "<table border=\"1\" class=\"dataframe\">\n",
       "  <thead>\n",
       "    <tr style=\"text-align: right;\">\n",
       "      <th></th>\n",
       "      <th>ID</th>\n",
       "      <th>Building</th>\n",
       "      <th>Year of sale</th>\n",
       "      <th>Month of sale</th>\n",
       "      <th>Type of property</th>\n",
       "      <th>Property #</th>\n",
       "      <th>Area (ft.)</th>\n",
       "      <th>Price</th>\n",
       "      <th>Status</th>\n",
       "      <th>Unnamed: 9</th>\n",
       "      <th>Customer ID</th>\n",
       "      <th>Entity</th>\n",
       "      <th>Name</th>\n",
       "      <th>Surname</th>\n",
       "      <th>Age at time of purchase</th>\n",
       "      <th>Interval</th>\n",
       "      <th>Y</th>\n",
       "      <th>M</th>\n",
       "      <th>D</th>\n",
       "      <th>Gender</th>\n",
       "      <th>Country</th>\n",
       "      <th>State</th>\n",
       "      <th>Purpose</th>\n",
       "      <th>Deal satisfaction</th>\n",
       "      <th>Mortgage</th>\n",
       "      <th>Source</th>\n",
       "    </tr>\n",
       "  </thead>\n",
       "  <tbody>\n",
       "    <tr>\n",
       "      <th>NaN</th>\n",
       "      <td>1030</td>\n",
       "      <td>1</td>\n",
       "      <td>2005.0</td>\n",
       "      <td>11.0</td>\n",
       "      <td>Apartment</td>\n",
       "      <td>30</td>\n",
       "      <td>743.0856</td>\n",
       "      <td>246172.676</td>\n",
       "      <td>Sold</td>\n",
       "      <td>NaN</td>\n",
       "      <td>C0028</td>\n",
       "      <td>Individual</td>\n",
       "      <td>Madalyn</td>\n",
       "      <td>Mercer</td>\n",
       "      <td>19</td>\n",
       "      <td>18-25</td>\n",
       "      <td>1986.0</td>\n",
       "      <td>6.0</td>\n",
       "      <td>21.0</td>\n",
       "      <td>F</td>\n",
       "      <td>USA</td>\n",
       "      <td>California</td>\n",
       "      <td>Home</td>\n",
       "      <td>5.0</td>\n",
       "      <td>No</td>\n",
       "      <td>Website</td>\n",
       "    </tr>\n",
       "    <tr>\n",
       "      <th>NaN</th>\n",
       "      <td>1029</td>\n",
       "      <td>1</td>\n",
       "      <td>2005.0</td>\n",
       "      <td>10.0</td>\n",
       "      <td>Apartment</td>\n",
       "      <td>29</td>\n",
       "      <td>756.2128</td>\n",
       "      <td>246331.904</td>\n",
       "      <td>Sold</td>\n",
       "      <td>NaN</td>\n",
       "      <td>C0027</td>\n",
       "      <td>Individual</td>\n",
       "      <td>Lara</td>\n",
       "      <td>Carrillo</td>\n",
       "      <td>22</td>\n",
       "      <td>18-25</td>\n",
       "      <td>1983.0</td>\n",
       "      <td>2.0</td>\n",
       "      <td>24.0</td>\n",
       "      <td>F</td>\n",
       "      <td>USA</td>\n",
       "      <td>California</td>\n",
       "      <td>Home</td>\n",
       "      <td>5.0</td>\n",
       "      <td>No</td>\n",
       "      <td>Website</td>\n",
       "    </tr>\n",
       "  </tbody>\n",
       "</table>\n",
       "</div>"
      ],
      "text/plain": [
       "       ID  Building  Year of sale  Month of sale Type of property  Property #  \\\n",
       "NaN  1030         1        2005.0           11.0        Apartment          30   \n",
       "NaN  1029         1        2005.0           10.0        Apartment          29   \n",
       "\n",
       "     Area (ft.)       Price Status  Unnamed: 9 Customer ID      Entity  \\\n",
       "NaN    743.0856  246172.676   Sold         NaN       C0028  Individual   \n",
       "NaN    756.2128  246331.904   Sold         NaN       C0027  Individual   \n",
       "\n",
       "        Name   Surname Age at time of purchase Interval       Y    M     D  \\\n",
       "NaN  Madalyn    Mercer                      19    18-25  1986.0  6.0  21.0   \n",
       "NaN     Lara  Carrillo                      22    18-25  1983.0  2.0  24.0   \n",
       "\n",
       "    Gender Country       State Purpose  Deal satisfaction Mortgage   Source  \n",
       "NaN      F     USA  California    Home                5.0       No  Website  \n",
       "NaN      F     USA  California    Home                5.0       No  Website  "
      ]
     },
     "execution_count": 5,
     "metadata": {},
     "output_type": "execute_result"
    }
   ],
   "source": [
    "print(df.shape)\n",
    "df.head(2)"
   ]
  },
  {
   "cell_type": "markdown",
   "metadata": {
    "colab_type": "text",
    "id": "5Vycr3VVj_cx"
   },
   "source": [
    "### Task 1\n"
   ]
  },
  {
   "cell_type": "markdown",
   "metadata": {
    "colab_type": "text",
    "id": "r9-FxHHPkQCT"
   },
   "source": [
    "\n",
    "What are the types of data and the levels of measurement of the following variables: Cost ID, Mortgage, Year of sale\t\t\n",
    "\n",
    "Ans:\n",
    "```\n",
    "cost id is categorical feature (eg. C0028)\n",
    "mortgate is also categorical data (yes/no)\n",
    "year of sale is discrete numerical feature (eg. 1986)\n",
    "```"
   ]
  },
  {
   "cell_type": "markdown",
   "metadata": {
    "colab_type": "text",
    "id": "HVhMvFKckUoy"
   },
   "source": [
    "### Taks 2"
   ]
  },
  {
   "cell_type": "markdown",
   "metadata": {
    "colab_type": "text",
    "id": "e-WnGeMukbmR"
   },
   "source": [
    "Create a frequency distribution graph representing the price (that is a histogram with the highest possible number of bins - 272). Use data on all apartments and offices, no matter if sold or not.\n",
    "\n",
    "```\n",
    "From excel file, Product has row 6 to row 201 data. Also these has Customer data.\n",
    "Product also has row 202 to row 272.\n",
    "\n",
    "product = 201-6+1 = 196\n",
    "product = 272 - 202+ 1 = 71 + 196 = 267\n",
    "customer = 196\n",
    "\n",
    "```"
   ]
  },
  {
   "cell_type": "code",
   "execution_count": 6,
   "metadata": {
    "ExecuteTime": {
     "end_time": "2018-12-27T15:19:50.082657Z",
     "start_time": "2018-12-27T15:19:49.977911Z"
    },
    "colab": {
     "base_uri": "https://localhost:8080/",
     "height": 204
    },
    "colab_type": "code",
    "executionInfo": {
     "elapsed": 875,
     "status": "ok",
     "timestamp": 1543798677709,
     "user": {
      "displayName": "astro astro",
      "photoUrl": "https://lh4.googleusercontent.com/-c32U5akLDk0/AAAAAAAAAAI/AAAAAAAAALo/5QE4ScXpqWQ/s64/photo.jpg",
      "userId": "06030840119486905497"
     },
     "user_tz": 300
    },
    "id": "-sfC3obzkSJa",
    "outputId": "6427fc82-a089-41f4-c63f-7b2498d13087"
   },
   "outputs": [
    {
     "data": {
      "text/html": [
       "<div>\n",
       "<style scoped>\n",
       "    .dataframe tbody tr th:only-of-type {\n",
       "        vertical-align: middle;\n",
       "    }\n",
       "\n",
       "    .dataframe tbody tr th {\n",
       "        vertical-align: top;\n",
       "    }\n",
       "\n",
       "    .dataframe thead th {\n",
       "        text-align: right;\n",
       "    }\n",
       "</style>\n",
       "<table border=\"1\" class=\"dataframe\">\n",
       "  <thead>\n",
       "    <tr style=\"text-align: right;\">\n",
       "      <th></th>\n",
       "      <th>id</th>\n",
       "      <th>building</th>\n",
       "      <th>sale_year</th>\n",
       "      <th>sale_month</th>\n",
       "      <th>type_property</th>\n",
       "      <th>property_id</th>\n",
       "      <th>area</th>\n",
       "      <th>price</th>\n",
       "    </tr>\n",
       "  </thead>\n",
       "  <tbody>\n",
       "    <tr>\n",
       "      <th>0</th>\n",
       "      <td>1030</td>\n",
       "      <td>1</td>\n",
       "      <td>2005.0</td>\n",
       "      <td>11.0</td>\n",
       "      <td>Apartment</td>\n",
       "      <td>30</td>\n",
       "      <td>743.0856</td>\n",
       "      <td>246172.6760</td>\n",
       "    </tr>\n",
       "    <tr>\n",
       "      <th>1</th>\n",
       "      <td>1029</td>\n",
       "      <td>1</td>\n",
       "      <td>2005.0</td>\n",
       "      <td>10.0</td>\n",
       "      <td>Apartment</td>\n",
       "      <td>29</td>\n",
       "      <td>756.2128</td>\n",
       "      <td>246331.9040</td>\n",
       "    </tr>\n",
       "    <tr>\n",
       "      <th>2</th>\n",
       "      <td>2002</td>\n",
       "      <td>2</td>\n",
       "      <td>2007.0</td>\n",
       "      <td>7.0</td>\n",
       "      <td>Apartment</td>\n",
       "      <td>2</td>\n",
       "      <td>587.2808</td>\n",
       "      <td>209280.9104</td>\n",
       "    </tr>\n",
       "    <tr>\n",
       "      <th>3</th>\n",
       "      <td>2031</td>\n",
       "      <td>2</td>\n",
       "      <td>2007.0</td>\n",
       "      <td>12.0</td>\n",
       "      <td>Apartment</td>\n",
       "      <td>31</td>\n",
       "      <td>1604.7464</td>\n",
       "      <td>452667.0064</td>\n",
       "    </tr>\n",
       "    <tr>\n",
       "      <th>4</th>\n",
       "      <td>1049</td>\n",
       "      <td>1</td>\n",
       "      <td>2004.0</td>\n",
       "      <td>11.0</td>\n",
       "      <td>Apartment</td>\n",
       "      <td>49</td>\n",
       "      <td>1375.4508</td>\n",
       "      <td>467083.3132</td>\n",
       "    </tr>\n",
       "  </tbody>\n",
       "</table>\n",
       "</div>"
      ],
      "text/plain": [
       "     id  building  sale_year  sale_month type_property  property_id  \\\n",
       "0  1030         1     2005.0        11.0     Apartment           30   \n",
       "1  1029         1     2005.0        10.0     Apartment           29   \n",
       "2  2002         2     2007.0         7.0     Apartment            2   \n",
       "3  2031         2     2007.0        12.0     Apartment           31   \n",
       "4  1049         1     2004.0        11.0     Apartment           49   \n",
       "\n",
       "        area        price  \n",
       "0   743.0856  246172.6760  \n",
       "1   756.2128  246331.9040  \n",
       "2   587.2808  209280.9104  \n",
       "3  1604.7464  452667.0064  \n",
       "4  1375.4508  467083.3132  "
      ]
     },
     "execution_count": 6,
     "metadata": {},
     "output_type": "execute_result"
    }
   ],
   "source": [
    "# first 8 cols are product\n",
    "product = pd.read_excel(desc_data,\n",
    "                  sheet_name='365RE',\n",
    "                  header=4,\n",
    "                  index_col=0,\n",
    "                  usecols = 8,\n",
    "                  skipfooter=0)\n",
    "\n",
    "cols = ['id','building','sale_year','sale_month','type_property','property_id','area','price']\n",
    "product.columns = cols\n",
    "product.index = range(product.shape[0])\n",
    "product.head()"
   ]
  },
  {
   "cell_type": "code",
   "execution_count": 7,
   "metadata": {
    "ExecuteTime": {
     "end_time": "2018-12-27T15:19:50.094510Z",
     "start_time": "2018-12-27T15:19:50.084853Z"
    },
    "colab": {
     "base_uri": "https://localhost:8080/",
     "height": 204
    },
    "colab_type": "code",
    "executionInfo": {
     "elapsed": 294,
     "status": "ok",
     "timestamp": 1543798697576,
     "user": {
      "displayName": "astro astro",
      "photoUrl": "https://lh4.googleusercontent.com/-c32U5akLDk0/AAAAAAAAAAI/AAAAAAAAALo/5QE4ScXpqWQ/s64/photo.jpg",
      "userId": "06030840119486905497"
     },
     "user_tz": 300
    },
    "id": "txjDNv2hklyU",
    "outputId": "a70bd553-66d1-4719-d969-ddf8cf5edef8"
   },
   "outputs": [
    {
     "data": {
      "text/html": [
       "<div>\n",
       "<style scoped>\n",
       "    .dataframe tbody tr th:only-of-type {\n",
       "        vertical-align: middle;\n",
       "    }\n",
       "\n",
       "    .dataframe tbody tr th {\n",
       "        vertical-align: top;\n",
       "    }\n",
       "\n",
       "    .dataframe thead th {\n",
       "        text-align: right;\n",
       "    }\n",
       "</style>\n",
       "<table border=\"1\" class=\"dataframe\">\n",
       "  <thead>\n",
       "    <tr style=\"text-align: right;\">\n",
       "      <th></th>\n",
       "      <th>id</th>\n",
       "      <th>building</th>\n",
       "      <th>sale_year</th>\n",
       "      <th>sale_month</th>\n",
       "      <th>type_property</th>\n",
       "      <th>property_id</th>\n",
       "      <th>area</th>\n",
       "      <th>price</th>\n",
       "    </tr>\n",
       "  </thead>\n",
       "  <tbody>\n",
       "    <tr>\n",
       "      <th>262</th>\n",
       "      <td>5044</td>\n",
       "      <td>5</td>\n",
       "      <td>NaN</td>\n",
       "      <td>NaN</td>\n",
       "      <td>Apartment</td>\n",
       "      <td>44</td>\n",
       "      <td>1238.5836</td>\n",
       "      <td>322610.7392</td>\n",
       "    </tr>\n",
       "    <tr>\n",
       "      <th>263</th>\n",
       "      <td>5047</td>\n",
       "      <td>5</td>\n",
       "      <td>NaN</td>\n",
       "      <td>NaN</td>\n",
       "      <td>Apartment</td>\n",
       "      <td>47</td>\n",
       "      <td>794.5184</td>\n",
       "      <td>279191.2560</td>\n",
       "    </tr>\n",
       "    <tr>\n",
       "      <th>264</th>\n",
       "      <td>5048</td>\n",
       "      <td>5</td>\n",
       "      <td>NaN</td>\n",
       "      <td>NaN</td>\n",
       "      <td>Apartment</td>\n",
       "      <td>48</td>\n",
       "      <td>1013.2692</td>\n",
       "      <td>287996.5296</td>\n",
       "    </tr>\n",
       "    <tr>\n",
       "      <th>265</th>\n",
       "      <td>5050</td>\n",
       "      <td>5</td>\n",
       "      <td>NaN</td>\n",
       "      <td>NaN</td>\n",
       "      <td>Apartment</td>\n",
       "      <td>50</td>\n",
       "      <td>1074.7088</td>\n",
       "      <td>365868.7776</td>\n",
       "    </tr>\n",
       "    <tr>\n",
       "      <th>266</th>\n",
       "      <td>5051</td>\n",
       "      <td>5</td>\n",
       "      <td>NaN</td>\n",
       "      <td>NaN</td>\n",
       "      <td>Apartment</td>\n",
       "      <td>51</td>\n",
       "      <td>789.2460</td>\n",
       "      <td>199216.4040</td>\n",
       "    </tr>\n",
       "  </tbody>\n",
       "</table>\n",
       "</div>"
      ],
      "text/plain": [
       "       id  building  sale_year  sale_month type_property  property_id  \\\n",
       "262  5044         5        NaN         NaN     Apartment           44   \n",
       "263  5047         5        NaN         NaN     Apartment           47   \n",
       "264  5048         5        NaN         NaN     Apartment           48   \n",
       "265  5050         5        NaN         NaN     Apartment           50   \n",
       "266  5051         5        NaN         NaN     Apartment           51   \n",
       "\n",
       "          area        price  \n",
       "262  1238.5836  322610.7392  \n",
       "263   794.5184  279191.2560  \n",
       "264  1013.2692  287996.5296  \n",
       "265  1074.7088  365868.7776  \n",
       "266   789.2460  199216.4040  "
      ]
     },
     "execution_count": 7,
     "metadata": {},
     "output_type": "execute_result"
    }
   ],
   "source": [
    "product.tail()"
   ]
  },
  {
   "cell_type": "code",
   "execution_count": 8,
   "metadata": {
    "ExecuteTime": {
     "end_time": "2018-12-27T15:19:50.101237Z",
     "start_time": "2018-12-27T15:19:50.096901Z"
    },
    "colab": {
     "base_uri": "https://localhost:8080/",
     "height": 187
    },
    "colab_type": "code",
    "executionInfo": {
     "elapsed": 311,
     "status": "ok",
     "timestamp": 1543798738004,
     "user": {
      "displayName": "astro astro",
      "photoUrl": "https://lh4.googleusercontent.com/-c32U5akLDk0/AAAAAAAAAAI/AAAAAAAAALo/5QE4ScXpqWQ/s64/photo.jpg",
      "userId": "06030840119486905497"
     },
     "user_tz": 300
    },
    "id": "YnpWs_J3kqxs",
    "outputId": "ca9e1a2d-8032-41e1-e1df-7e318c4f671b"
   },
   "outputs": [
    {
     "name": "stdout",
     "output_type": "stream",
     "text": [
      "(267, 8)\n",
      "id                 int64\n",
      "building           int64\n",
      "sale_year        float64\n",
      "sale_month       float64\n",
      "type_property     object\n",
      "property_id        int64\n",
      "area             float64\n",
      "price            float64\n",
      "dtype: object\n"
     ]
    }
   ],
   "source": [
    "print(product.shape)\n",
    "print(product.dtypes)"
   ]
  },
  {
   "cell_type": "code",
   "execution_count": 9,
   "metadata": {
    "ExecuteTime": {
     "end_time": "2018-12-27T15:19:50.630688Z",
     "start_time": "2018-12-27T15:19:50.103370Z"
    },
    "colab": {
     "base_uri": "https://localhost:8080/",
     "height": 364
    },
    "colab_type": "code",
    "executionInfo": {
     "elapsed": 908,
     "status": "ok",
     "timestamp": 1543798789170,
     "user": {
      "displayName": "astro astro",
      "photoUrl": "https://lh4.googleusercontent.com/-c32U5akLDk0/AAAAAAAAAAI/AAAAAAAAALo/5QE4ScXpqWQ/s64/photo.jpg",
      "userId": "06030840119486905497"
     },
     "user_tz": 300
    },
    "id": "RRIWqSCkkvZb",
    "outputId": "98aa7da9-4cb9-4c66-d1c2-efcb6becf060"
   },
   "outputs": [
    {
     "data": {
      "text/plain": [
       "<matplotlib.axes._subplots.AxesSubplot at 0x1a1e607e80>"
      ]
     },
     "execution_count": 9,
     "metadata": {},
     "output_type": "execute_result"
    },
    {
     "data": {
      "image/png": "[encoded data removed]",
      "text/plain": [
       "<Figure size 432x288 with 1 Axes>"
      ]
     },
     "metadata": {
      "needs_background": "light"
     },
     "output_type": "display_data"
    }
   ],
   "source": [
    "product['price'].hist(bins=product.shape[0])"
   ]
  },
  {
   "cell_type": "code",
   "execution_count": 10,
   "metadata": {
    "ExecuteTime": {
     "end_time": "2018-12-27T15:19:51.128417Z",
     "start_time": "2018-12-27T15:19:50.632668Z"
    },
    "colab": {
     "base_uri": "https://localhost:8080/",
     "height": 378
    },
    "colab_type": "code",
    "executionInfo": {
     "elapsed": 1906,
     "status": "ok",
     "timestamp": 1543798804399,
     "user": {
      "displayName": "astro astro",
      "photoUrl": "https://lh4.googleusercontent.com/-c32U5akLDk0/AAAAAAAAAAI/AAAAAAAAALo/5QE4ScXpqWQ/s64/photo.jpg",
      "userId": "06030840119486905497"
     },
     "user_tz": 300
    },
    "id": "zcASn7oxlA-f",
    "outputId": "c90a43ed-454b-4c6a-9a0c-eadf0459ab04"
   },
   "outputs": [
    {
     "data": {
      "text/plain": [
       "<matplotlib.axes._subplots.AxesSubplot at 0x1a1eaeca58>"
      ]
     },
     "execution_count": 10,
     "metadata": {},
     "output_type": "execute_result"
    },
    {
     "data": {
      "image/png": "[encoded data removed]",
      "text/plain": [
       "<Figure size 432x288 with 1 Axes>"
      ]
     },
     "metadata": {
      "needs_background": "light"
     },
     "output_type": "display_data"
    }
   ],
   "source": [
    "sns.distplot(product['price'],kde = False,bins=product.shape[0])"
   ]
  },
  {
   "cell_type": "markdown",
   "metadata": {
    "colab_type": "text",
    "id": "1k0RXHt2lIsf"
   },
   "source": [
    "### Task 3\n",
    "\n",
    "Task 3: Create a histogram which represents the Price variable. Choose interval width (bins) of length $100,000. If you don't know how to do that, refer to the Course notes on descriptive statistics provided with the first lecture in this section.\n",
    " Use the data on all apartments, no matter if sold or not.\t"
   ]
  },
  {
   "cell_type": "code",
   "execution_count": 11,
   "metadata": {
    "ExecuteTime": {
     "end_time": "2018-12-27T15:19:51.134519Z",
     "start_time": "2018-12-27T15:19:51.130793Z"
    },
    "colab": {
     "base_uri": "https://localhost:8080/",
     "height": 34
    },
    "colab_type": "code",
    "executionInfo": {
     "elapsed": 338,
     "status": "ok",
     "timestamp": 1543798871431,
     "user": {
      "displayName": "astro astro",
      "photoUrl": "https://lh4.googleusercontent.com/-c32U5akLDk0/AAAAAAAAAAI/AAAAAAAAALo/5QE4ScXpqWQ/s64/photo.jpg",
      "userId": "06030840119486905497"
     },
     "user_tz": 300
    },
    "id": "S9SGg-GnlEcT",
    "outputId": "43d449d4-4812-4819-c71b-c5d6e4040229"
   },
   "outputs": [
    {
     "name": "stdout",
     "output_type": "stream",
     "text": [
      "420707.664 5\n"
     ]
    }
   ],
   "source": [
    "bin_width = 100000\n",
    "total_width = max(product.price) - min(product.price)\n",
    "\n",
    "nbins = int( np.ceil(total_width/bin_width))\n",
    "print(total_width,nbins)"
   ]
  },
  {
   "cell_type": "code",
   "execution_count": 12,
   "metadata": {
    "ExecuteTime": {
     "end_time": "2018-12-27T15:19:51.260466Z",
     "start_time": "2018-12-27T15:19:51.136755Z"
    },
    "colab": {
     "base_uri": "https://localhost:8080/",
     "height": 364
    },
    "colab_type": "code",
    "executionInfo": {
     "elapsed": 518,
     "status": "ok",
     "timestamp": 1543798883246,
     "user": {
      "displayName": "astro astro",
      "photoUrl": "https://lh4.googleusercontent.com/-c32U5akLDk0/AAAAAAAAAAI/AAAAAAAAALo/5QE4ScXpqWQ/s64/photo.jpg",
      "userId": "06030840119486905497"
     },
     "user_tz": 300
    },
    "id": "E76kKjW-lVMW",
    "outputId": "3d04361e-b8a8-4820-d5f4-08bb75b508d2"
   },
   "outputs": [
    {
     "data": {
      "text/plain": [
       "<matplotlib.axes._subplots.AxesSubplot at 0x1a1ebed080>"
      ]
     },
     "execution_count": 12,
     "metadata": {},
     "output_type": "execute_result"
    },
    {
     "data": {
      "image/png": "[encoded data removed]",
      "text/plain": [
       "<Figure size 432x288 with 1 Axes>"
      ]
     },
     "metadata": {
      "needs_background": "light"
     },
     "output_type": "display_data"
    }
   ],
   "source": [
    "product['price'].hist(bins=nbins)"
   ]
  },
  {
   "cell_type": "code",
   "execution_count": 13,
   "metadata": {
    "ExecuteTime": {
     "end_time": "2018-12-27T15:19:51.387393Z",
     "start_time": "2018-12-27T15:19:51.262767Z"
    },
    "colab": {
     "base_uri": "https://localhost:8080/",
     "height": 378
    },
    "colab_type": "code",
    "executionInfo": {
     "elapsed": 447,
     "status": "ok",
     "timestamp": 1543798918095,
     "user": {
      "displayName": "astro astro",
      "photoUrl": "https://lh4.googleusercontent.com/-c32U5akLDk0/AAAAAAAAAAI/AAAAAAAAALo/5QE4ScXpqWQ/s64/photo.jpg",
      "userId": "06030840119486905497"
     },
     "user_tz": 300
    },
    "id": "Jcncjq5ClYCs",
    "outputId": "8bfe85e8-b3ff-4a00-b58f-b75ad801e50f"
   },
   "outputs": [
    {
     "data": {
      "text/plain": [
       "<matplotlib.axes._subplots.AxesSubplot at 0x1a1ef17e10>"
      ]
     },
     "execution_count": 13,
     "metadata": {},
     "output_type": "execute_result"
    },
    {
     "data": {
      "image/png": "[encoded data removed]",
      "text/plain": [
       "<Figure size 432x288 with 1 Axes>"
      ]
     },
     "metadata": {
      "needs_background": "light"
     },
     "output_type": "display_data"
    }
   ],
   "source": [
    "sns.distplot(product['price'],kde = False,bins=nbins)"
   ]
  },
  {
   "cell_type": "markdown",
   "metadata": {
    "colab_type": "text",
    "id": "jZoFLNDOljnr"
   },
   "source": [
    "### Task 4\n",
    "\n",
    "Task 4: Interpret the results.\n",
    "  \n",
    "Here most of the price is concentrated at the bin 200k to 300k bin."
   ]
  },
  {
   "cell_type": "markdown",
   "metadata": {
    "colab_type": "text",
    "id": "Bt4eJqBIlqao"
   },
   "source": [
    "###  Task 5\n",
    "\n",
    "\n",
    "Task 5: Create a scatter plot showing the relationship between Price and Area. Use the data on all apartments, no matter if sold or not. Interpret the results."
   ]
  },
  {
   "cell_type": "code",
   "execution_count": 14,
   "metadata": {
    "ExecuteTime": {
     "end_time": "2018-12-27T15:19:51.522653Z",
     "start_time": "2018-12-27T15:19:51.389470Z"
    },
    "colab": {
     "base_uri": "https://localhost:8080/",
     "height": 378
    },
    "colab_type": "code",
    "executionInfo": {
     "elapsed": 660,
     "status": "ok",
     "timestamp": 1543799008566,
     "user": {
      "displayName": "astro astro",
      "photoUrl": "https://lh4.googleusercontent.com/-c32U5akLDk0/AAAAAAAAAAI/AAAAAAAAALo/5QE4ScXpqWQ/s64/photo.jpg",
      "userId": "06030840119486905497"
     },
     "user_tz": 300
    },
    "id": "eG4C0L9Blgj4",
    "outputId": "036f4aaf-81a0-492a-f074-7c86e28e4ff2"
   },
   "outputs": [
    {
     "data": {
      "text/plain": [
       "<matplotlib.axes._subplots.AxesSubplot at 0x1a1f003ef0>"
      ]
     },
     "execution_count": 14,
     "metadata": {},
     "output_type": "execute_result"
    },
    {
     "data": {
      "image/png": "[encoded data removed]",
      "text/plain": [
       "<Figure size 432x288 with 1 Axes>"
      ]
     },
     "metadata": {
      "needs_background": "light"
     },
     "output_type": "display_data"
    }
   ],
   "source": [
    "product.plot.scatter(x='area',y='price',c='DarkBlue')"
   ]
  },
  {
   "cell_type": "code",
   "execution_count": 15,
   "metadata": {
    "ExecuteTime": {
     "end_time": "2018-12-27T15:19:51.657438Z",
     "start_time": "2018-12-27T15:19:51.525040Z"
    },
    "colab": {
     "base_uri": "https://localhost:8080/",
     "height": 378
    },
    "colab_type": "code",
    "executionInfo": {
     "elapsed": 643,
     "status": "ok",
     "timestamp": 1543799022674,
     "user": {
      "displayName": "astro astro",
      "photoUrl": "https://lh4.googleusercontent.com/-c32U5akLDk0/AAAAAAAAAAI/AAAAAAAAALo/5QE4ScXpqWQ/s64/photo.jpg",
      "userId": "06030840119486905497"
     },
     "user_tz": 300
    },
    "id": "U_PoXLONl2mJ",
    "outputId": "30efd361-fa71-4626-d322-ca0c639815a0"
   },
   "outputs": [
    {
     "data": {
      "text/plain": [
       "<matplotlib.axes._subplots.AxesSubplot at 0x1a1f11b6d8>"
      ]
     },
     "execution_count": 15,
     "metadata": {},
     "output_type": "execute_result"
    },
    {
     "data": {
      "image/png": "[encoded data removed]",
      "text/plain": [
       "<Figure size 432x288 with 1 Axes>"
      ]
     },
     "metadata": {
      "needs_background": "light"
     },
     "output_type": "display_data"
    }
   ],
   "source": [
    "sns.regplot(x=product['area'],y=product['price'],fit_reg=False)"
   ]
  },
  {
   "cell_type": "markdown",
   "metadata": {
    "colab_type": "text",
    "id": "9_rXna8vl991"
   },
   "source": [
    "###  Task 6\n",
    "\n",
    "\tTask 6: Create a frequency distribution table, where you list all the countries from which the company has buyers (country vs number of buyers). Count the absolute frequency, the relative frequency and the cumulative frequency. \t\t\t\t\t\t\t\t"
   ]
  },
  {
   "cell_type": "code",
   "execution_count": 16,
   "metadata": {
    "ExecuteTime": {
     "end_time": "2018-12-27T15:19:51.800093Z",
     "start_time": "2018-12-27T15:19:51.659926Z"
    },
    "colab": {
     "base_uri": "https://localhost:8080/",
     "height": 204
    },
    "colab_type": "code",
    "executionInfo": {
     "elapsed": 700,
     "status": "ok",
     "timestamp": 1543799077340,
     "user": {
      "displayName": "astro astro",
      "photoUrl": "https://lh4.googleusercontent.com/-c32U5akLDk0/AAAAAAAAAAI/AAAAAAAAALo/5QE4ScXpqWQ/s64/photo.jpg",
      "userId": "06030840119486905497"
     },
     "user_tz": 300
    },
    "id": "T1f1WuYVl754",
    "outputId": "618ce940-79b5-40fb-bdfc-31d128fec209"
   },
   "outputs": [
    {
     "data": {
      "text/html": [
       "<div>\n",
       "<style scoped>\n",
       "    .dataframe tbody tr th:only-of-type {\n",
       "        vertical-align: middle;\n",
       "    }\n",
       "\n",
       "    .dataframe tbody tr th {\n",
       "        vertical-align: top;\n",
       "    }\n",
       "\n",
       "    .dataframe thead th {\n",
       "        text-align: right;\n",
       "    }\n",
       "</style>\n",
       "<table border=\"1\" class=\"dataframe\">\n",
       "  <thead>\n",
       "    <tr style=\"text-align: right;\">\n",
       "      <th></th>\n",
       "      <th>age</th>\n",
       "      <th>interval</th>\n",
       "      <th>year</th>\n",
       "      <th>month</th>\n",
       "      <th>day</th>\n",
       "      <th>gender</th>\n",
       "      <th>country</th>\n",
       "      <th>state</th>\n",
       "    </tr>\n",
       "  </thead>\n",
       "  <tbody>\n",
       "    <tr>\n",
       "      <th>0</th>\n",
       "      <td>19</td>\n",
       "      <td>18-25</td>\n",
       "      <td>1986.0</td>\n",
       "      <td>6.0</td>\n",
       "      <td>21.0</td>\n",
       "      <td>F</td>\n",
       "      <td>USA</td>\n",
       "      <td>California</td>\n",
       "    </tr>\n",
       "    <tr>\n",
       "      <th>1</th>\n",
       "      <td>22</td>\n",
       "      <td>18-25</td>\n",
       "      <td>1983.0</td>\n",
       "      <td>2.0</td>\n",
       "      <td>24.0</td>\n",
       "      <td>F</td>\n",
       "      <td>USA</td>\n",
       "      <td>California</td>\n",
       "    </tr>\n",
       "    <tr>\n",
       "      <th>2</th>\n",
       "      <td>22</td>\n",
       "      <td>18-25</td>\n",
       "      <td>1985.0</td>\n",
       "      <td>12.0</td>\n",
       "      <td>27.0</td>\n",
       "      <td>M</td>\n",
       "      <td>USA</td>\n",
       "      <td>California</td>\n",
       "    </tr>\n",
       "    <tr>\n",
       "      <th>3</th>\n",
       "      <td>22</td>\n",
       "      <td>18-25</td>\n",
       "      <td>1985.0</td>\n",
       "      <td>12.0</td>\n",
       "      <td>27.0</td>\n",
       "      <td>M</td>\n",
       "      <td>USA</td>\n",
       "      <td>California</td>\n",
       "    </tr>\n",
       "    <tr>\n",
       "      <th>4</th>\n",
       "      <td>25</td>\n",
       "      <td>18-25</td>\n",
       "      <td>1979.0</td>\n",
       "      <td>5.0</td>\n",
       "      <td>15.0</td>\n",
       "      <td>F</td>\n",
       "      <td>USA</td>\n",
       "      <td>California</td>\n",
       "    </tr>\n",
       "  </tbody>\n",
       "</table>\n",
       "</div>"
      ],
      "text/plain": [
       "  age interval    year  month   day gender country       state\n",
       "0  19    18-25  1986.0    6.0  21.0      F     USA  California\n",
       "1  22    18-25  1983.0    2.0  24.0      F     USA  California\n",
       "2  22    18-25  1985.0   12.0  27.0      M     USA  California\n",
       "3  22    18-25  1985.0   12.0  27.0      M     USA  California\n",
       "4  25    18-25  1979.0    5.0  15.0      F     USA  California"
      ]
     },
     "execution_count": 16,
     "metadata": {},
     "output_type": "execute_result"
    }
   ],
   "source": [
    "# load the dataset for customer\n",
    "# first 8 cols are product\n",
    "# col9 is empty\n",
    "# col10 is customer id, we select few columns\n",
    "# customer is row 6 to row 201\n",
    "# we skip row 202 to row 272, skipfooter = 272 - 201 + 1 = 72\n",
    "customer = pd.read_excel(desc_data,\n",
    "                  sheet_name='365RE',\n",
    "                  header=4,\n",
    "                  index_col=None,\n",
    "                  usecols = list(range(15,23)),\n",
    "                  skipfooter=71)\n",
    "\n",
    "cols = ['age','interval', 'year', 'month', 'day', 'gender','country','state']\n",
    "customer.columns = cols\n",
    "customer.head()"
   ]
  },
  {
   "cell_type": "code",
   "execution_count": 17,
   "metadata": {
    "ExecuteTime": {
     "end_time": "2018-12-27T15:19:51.810491Z",
     "start_time": "2018-12-27T15:19:51.802011Z"
    },
    "colab": {
     "base_uri": "https://localhost:8080/",
     "height": 297
    },
    "colab_type": "code",
    "executionInfo": {
     "elapsed": 793,
     "status": "ok",
     "timestamp": 1543799108108,
     "user": {
      "displayName": "astro astro",
      "photoUrl": "https://lh4.googleusercontent.com/-c32U5akLDk0/AAAAAAAAAAI/AAAAAAAAALo/5QE4ScXpqWQ/s64/photo.jpg",
      "userId": "06030840119486905497"
     },
     "user_tz": 300
    },
    "id": "6ODYbAZEl6Dn",
    "outputId": "12ffacac-59ee-4f12-bffe-91ef19dde8e0"
   },
   "outputs": [
    {
     "data": {
      "text/html": [
       "<div>\n",
       "<style scoped>\n",
       "    .dataframe tbody tr th:only-of-type {\n",
       "        vertical-align: middle;\n",
       "    }\n",
       "\n",
       "    .dataframe tbody tr th {\n",
       "        vertical-align: top;\n",
       "    }\n",
       "\n",
       "    .dataframe thead th {\n",
       "        text-align: right;\n",
       "    }\n",
       "</style>\n",
       "<table border=\"1\" class=\"dataframe\">\n",
       "  <thead>\n",
       "    <tr style=\"text-align: right;\">\n",
       "      <th></th>\n",
       "      <th>country</th>\n",
       "    </tr>\n",
       "  </thead>\n",
       "  <tbody>\n",
       "    <tr>\n",
       "      <th>USA</th>\n",
       "      <td>177</td>\n",
       "    </tr>\n",
       "    <tr>\n",
       "      <th>Canada</th>\n",
       "      <td>7</td>\n",
       "    </tr>\n",
       "    <tr>\n",
       "      <th>Russia</th>\n",
       "      <td>4</td>\n",
       "    </tr>\n",
       "    <tr>\n",
       "      <th>UK</th>\n",
       "      <td>2</td>\n",
       "    </tr>\n",
       "    <tr>\n",
       "      <th>Belgium</th>\n",
       "      <td>2</td>\n",
       "    </tr>\n",
       "    <tr>\n",
       "      <th>Germany</th>\n",
       "      <td>1</td>\n",
       "    </tr>\n",
       "    <tr>\n",
       "      <th>Mexico</th>\n",
       "      <td>1</td>\n",
       "    </tr>\n",
       "    <tr>\n",
       "      <th>Denmark</th>\n",
       "      <td>1</td>\n",
       "    </tr>\n",
       "  </tbody>\n",
       "</table>\n",
       "</div>"
      ],
      "text/plain": [
       "         country\n",
       "USA          177\n",
       "Canada         7\n",
       "Russia         4\n",
       "UK             2\n",
       "Belgium        2\n",
       "Germany        1\n",
       "Mexico         1\n",
       "Denmark        1"
      ]
     },
     "execution_count": 17,
     "metadata": {},
     "output_type": "execute_result"
    }
   ],
   "source": [
    "# Count the absolute frequency\n",
    "customer['country'].value_counts() # to make dict we can do .to_dict()\n",
    "\n",
    "df_freq = pd.DataFrame(customer['country'].value_counts())\n",
    "df_freq"
   ]
  },
  {
   "cell_type": "code",
   "execution_count": 18,
   "metadata": {
    "ExecuteTime": {
     "end_time": "2018-12-27T15:19:51.821858Z",
     "start_time": "2018-12-27T15:19:51.812187Z"
    },
    "colab": {
     "base_uri": "https://localhost:8080/",
     "height": 297
    },
    "colab_type": "code",
    "executionInfo": {
     "elapsed": 379,
     "status": "ok",
     "timestamp": 1543799123076,
     "user": {
      "displayName": "astro astro",
      "photoUrl": "https://lh4.googleusercontent.com/-c32U5akLDk0/AAAAAAAAAAI/AAAAAAAAALo/5QE4ScXpqWQ/s64/photo.jpg",
      "userId": "06030840119486905497"
     },
     "user_tz": 300
    },
    "id": "rkBPdQYwmO3O",
    "outputId": "c8ede038-0112-431d-f3cb-65a22c3dcf4d"
   },
   "outputs": [
    {
     "data": {
      "text/html": [
       "<div>\n",
       "<style scoped>\n",
       "    .dataframe tbody tr th:only-of-type {\n",
       "        vertical-align: middle;\n",
       "    }\n",
       "\n",
       "    .dataframe tbody tr th {\n",
       "        vertical-align: top;\n",
       "    }\n",
       "\n",
       "    .dataframe thead th {\n",
       "        text-align: right;\n",
       "    }\n",
       "</style>\n",
       "<table border=\"1\" class=\"dataframe\">\n",
       "  <thead>\n",
       "    <tr style=\"text-align: right;\">\n",
       "      <th></th>\n",
       "      <th>country</th>\n",
       "      <th>relative_freq</th>\n",
       "    </tr>\n",
       "  </thead>\n",
       "  <tbody>\n",
       "    <tr>\n",
       "      <th>USA</th>\n",
       "      <td>177</td>\n",
       "      <td>90.306122</td>\n",
       "    </tr>\n",
       "    <tr>\n",
       "      <th>Canada</th>\n",
       "      <td>7</td>\n",
       "      <td>3.571429</td>\n",
       "    </tr>\n",
       "    <tr>\n",
       "      <th>Russia</th>\n",
       "      <td>4</td>\n",
       "      <td>2.040816</td>\n",
       "    </tr>\n",
       "    <tr>\n",
       "      <th>UK</th>\n",
       "      <td>2</td>\n",
       "      <td>1.020408</td>\n",
       "    </tr>\n",
       "    <tr>\n",
       "      <th>Belgium</th>\n",
       "      <td>2</td>\n",
       "      <td>1.020408</td>\n",
       "    </tr>\n",
       "    <tr>\n",
       "      <th>Germany</th>\n",
       "      <td>1</td>\n",
       "      <td>0.510204</td>\n",
       "    </tr>\n",
       "    <tr>\n",
       "      <th>Mexico</th>\n",
       "      <td>1</td>\n",
       "      <td>0.510204</td>\n",
       "    </tr>\n",
       "    <tr>\n",
       "      <th>Denmark</th>\n",
       "      <td>1</td>\n",
       "      <td>0.510204</td>\n",
       "    </tr>\n",
       "  </tbody>\n",
       "</table>\n",
       "</div>"
      ],
      "text/plain": [
       "         country  relative_freq\n",
       "USA          177      90.306122\n",
       "Canada         7       3.571429\n",
       "Russia         4       2.040816\n",
       "UK             2       1.020408\n",
       "Belgium        2       1.020408\n",
       "Germany        1       0.510204\n",
       "Mexico         1       0.510204\n",
       "Denmark        1       0.510204"
      ]
     },
     "execution_count": 18,
     "metadata": {},
     "output_type": "execute_result"
    }
   ],
   "source": [
    "# count the relative frequency\n",
    "df_freq['relative_freq'] = customer['country'].value_counts() / len(customer) * 100\n",
    "df_freq"
   ]
  },
  {
   "cell_type": "code",
   "execution_count": 19,
   "metadata": {
    "ExecuteTime": {
     "end_time": "2018-12-27T15:19:51.833952Z",
     "start_time": "2018-12-27T15:19:51.823713Z"
    },
    "colab": {
     "base_uri": "https://localhost:8080/",
     "height": 297
    },
    "colab_type": "code",
    "executionInfo": {
     "elapsed": 306,
     "status": "ok",
     "timestamp": 1543799137399,
     "user": {
      "displayName": "astro astro",
      "photoUrl": "https://lh4.googleusercontent.com/-c32U5akLDk0/AAAAAAAAAAI/AAAAAAAAALo/5QE4ScXpqWQ/s64/photo.jpg",
      "userId": "06030840119486905497"
     },
     "user_tz": 300
    },
    "id": "xFcTMO4ImSoJ",
    "outputId": "a50ccf48-b2dc-47dd-bd8e-72818264a0ae"
   },
   "outputs": [
    {
     "data": {
      "text/html": [
       "<div>\n",
       "<style scoped>\n",
       "    .dataframe tbody tr th:only-of-type {\n",
       "        vertical-align: middle;\n",
       "    }\n",
       "\n",
       "    .dataframe tbody tr th {\n",
       "        vertical-align: top;\n",
       "    }\n",
       "\n",
       "    .dataframe thead th {\n",
       "        text-align: right;\n",
       "    }\n",
       "</style>\n",
       "<table border=\"1\" class=\"dataframe\">\n",
       "  <thead>\n",
       "    <tr style=\"text-align: right;\">\n",
       "      <th></th>\n",
       "      <th>country</th>\n",
       "      <th>relative_freq</th>\n",
       "      <th>cumulative_freq</th>\n",
       "    </tr>\n",
       "  </thead>\n",
       "  <tbody>\n",
       "    <tr>\n",
       "      <th>USA</th>\n",
       "      <td>177</td>\n",
       "      <td>90.306122</td>\n",
       "      <td>90.306122</td>\n",
       "    </tr>\n",
       "    <tr>\n",
       "      <th>Canada</th>\n",
       "      <td>7</td>\n",
       "      <td>3.571429</td>\n",
       "      <td>93.877551</td>\n",
       "    </tr>\n",
       "    <tr>\n",
       "      <th>Russia</th>\n",
       "      <td>4</td>\n",
       "      <td>2.040816</td>\n",
       "      <td>95.918367</td>\n",
       "    </tr>\n",
       "    <tr>\n",
       "      <th>UK</th>\n",
       "      <td>2</td>\n",
       "      <td>1.020408</td>\n",
       "      <td>96.938776</td>\n",
       "    </tr>\n",
       "    <tr>\n",
       "      <th>Belgium</th>\n",
       "      <td>2</td>\n",
       "      <td>1.020408</td>\n",
       "      <td>97.959184</td>\n",
       "    </tr>\n",
       "    <tr>\n",
       "      <th>Germany</th>\n",
       "      <td>1</td>\n",
       "      <td>0.510204</td>\n",
       "      <td>98.469388</td>\n",
       "    </tr>\n",
       "    <tr>\n",
       "      <th>Mexico</th>\n",
       "      <td>1</td>\n",
       "      <td>0.510204</td>\n",
       "      <td>98.979592</td>\n",
       "    </tr>\n",
       "    <tr>\n",
       "      <th>Denmark</th>\n",
       "      <td>1</td>\n",
       "      <td>0.510204</td>\n",
       "      <td>99.489796</td>\n",
       "    </tr>\n",
       "  </tbody>\n",
       "</table>\n",
       "</div>"
      ],
      "text/plain": [
       "         country  relative_freq  cumulative_freq\n",
       "USA          177      90.306122        90.306122\n",
       "Canada         7       3.571429        93.877551\n",
       "Russia         4       2.040816        95.918367\n",
       "UK             2       1.020408        96.938776\n",
       "Belgium        2       1.020408        97.959184\n",
       "Germany        1       0.510204        98.469388\n",
       "Mexico         1       0.510204        98.979592\n",
       "Denmark        1       0.510204        99.489796"
      ]
     },
     "execution_count": 19,
     "metadata": {},
     "output_type": "execute_result"
    }
   ],
   "source": [
    "# count the cumulative frequency\n",
    "df_freq['cumulative_freq'] = (customer['country'].value_counts() / len(customer) * 100 ).cumsum()\n",
    "df_freq"
   ]
  },
  {
   "cell_type": "code",
   "execution_count": 20,
   "metadata": {
    "ExecuteTime": {
     "end_time": "2018-12-27T15:19:51.964116Z",
     "start_time": "2018-12-27T15:19:51.835804Z"
    },
    "colab": {
     "base_uri": "https://localhost:8080/",
     "height": 395
    },
    "colab_type": "code",
    "executionInfo": {
     "elapsed": 511,
     "status": "ok",
     "timestamp": 1543799148292,
     "user": {
      "displayName": "astro astro",
      "photoUrl": "https://lh4.googleusercontent.com/-c32U5akLDk0/AAAAAAAAAAI/AAAAAAAAALo/5QE4ScXpqWQ/s64/photo.jpg",
      "userId": "06030840119486905497"
     },
     "user_tz": 300
    },
    "id": "rFRcLQZsmWIc",
    "outputId": "1567cbb5-3cfd-4f4a-f661-a1c6a1187568"
   },
   "outputs": [
    {
     "data": {
      "text/plain": [
       "<matplotlib.axes._subplots.AxesSubplot at 0x1a1f2929b0>"
      ]
     },
     "execution_count": 20,
     "metadata": {},
     "output_type": "execute_result"
    },
    {
     "data": {
      "image/png": "[encoded data removed]",
      "text/plain": [
       "<Figure size 432x288 with 1 Axes>"
      ]
     },
     "metadata": {
      "needs_background": "light"
     },
     "output_type": "display_data"
    }
   ],
   "source": [
    "customer['country'].value_counts().plot(kind='bar')"
   ]
  },
  {
   "cell_type": "code",
   "execution_count": 21,
   "metadata": {
    "ExecuteTime": {
     "end_time": "2018-12-27T15:19:52.113738Z",
     "start_time": "2018-12-27T15:19:51.966154Z"
    },
    "colab": {
     "base_uri": "https://localhost:8080/",
     "height": 380
    },
    "colab_type": "code",
    "executionInfo": {
     "elapsed": 852,
     "status": "ok",
     "timestamp": 1543799158538,
     "user": {
      "displayName": "astro astro",
      "photoUrl": "https://lh4.googleusercontent.com/-c32U5akLDk0/AAAAAAAAAAI/AAAAAAAAALo/5QE4ScXpqWQ/s64/photo.jpg",
      "userId": "06030840119486905497"
     },
     "user_tz": 300
    },
    "id": "xQLZMwptmYwA",
    "outputId": "9d100170-ee31-4744-b84d-dbfcf5d48f8c"
   },
   "outputs": [
    {
     "data": {
      "image/png": "[encoded data removed]",
      "text/plain": [
       "<Figure size 432x288 with 1 Axes>"
      ]
     },
     "metadata": {
      "needs_background": "light"
     },
     "output_type": "display_data"
    }
   ],
   "source": [
    "ax = customer['country'].value_counts().plot(kind='bar')\n",
    "for p in ax.patches:\n",
    "    ax.annotate(np.round(p.get_height(), decimals=2), \n",
    "                (p.get_x()+p.get_width()/2.,\n",
    "                 p.get_height()), ha='center', \n",
    "                va='center', xytext=(0, 10), \n",
    "                textcoords='offset points')"
   ]
  },
  {
   "cell_type": "markdown",
   "metadata": {
    "colab_type": "text",
    "id": "UrFBKijDmh7C"
   },
   "source": [
    "### Task 7\n",
    "\n",
    "\tTask 7: Create a Pareto diagram representing the data.\t\t"
   ]
  },
  {
   "cell_type": "code",
   "execution_count": 22,
   "metadata": {
    "ExecuteTime": {
     "end_time": "2018-12-27T15:19:52.118736Z",
     "start_time": "2018-12-27T15:19:52.116138Z"
    },
    "colab": {},
    "colab_type": "code",
    "id": "ec930Q6TmbK3"
   },
   "outputs": [],
   "source": [
    "# pareto plot is combination of descending bar chart + cumulative sum line plot"
   ]
  },
  {
   "cell_type": "code",
   "execution_count": 23,
   "metadata": {
    "ExecuteTime": {
     "end_time": "2018-12-27T15:19:52.130811Z",
     "start_time": "2018-12-27T15:19:52.121095Z"
    },
    "colab": {
     "base_uri": "https://localhost:8080/",
     "height": 297
    },
    "colab_type": "code",
    "executionInfo": {
     "elapsed": 332,
     "status": "ok",
     "timestamp": 1543799231254,
     "user": {
      "displayName": "astro astro",
      "photoUrl": "https://lh4.googleusercontent.com/-c32U5akLDk0/AAAAAAAAAAI/AAAAAAAAALo/5QE4ScXpqWQ/s64/photo.jpg",
      "userId": "06030840119486905497"
     },
     "user_tz": 300
    },
    "id": "iLGmNQ9Gmpr8",
    "outputId": "9fd526a2-c088-49a0-c72b-f5374c583c17"
   },
   "outputs": [
    {
     "data": {
      "text/html": [
       "<div>\n",
       "<style scoped>\n",
       "    .dataframe tbody tr th:only-of-type {\n",
       "        vertical-align: middle;\n",
       "    }\n",
       "\n",
       "    .dataframe tbody tr th {\n",
       "        vertical-align: top;\n",
       "    }\n",
       "\n",
       "    .dataframe thead th {\n",
       "        text-align: right;\n",
       "    }\n",
       "</style>\n",
       "<table border=\"1\" class=\"dataframe\">\n",
       "  <thead>\n",
       "    <tr style=\"text-align: right;\">\n",
       "      <th></th>\n",
       "      <th>country</th>\n",
       "    </tr>\n",
       "  </thead>\n",
       "  <tbody>\n",
       "    <tr>\n",
       "      <th>USA</th>\n",
       "      <td>177</td>\n",
       "    </tr>\n",
       "    <tr>\n",
       "      <th>Canada</th>\n",
       "      <td>7</td>\n",
       "    </tr>\n",
       "    <tr>\n",
       "      <th>Russia</th>\n",
       "      <td>4</td>\n",
       "    </tr>\n",
       "    <tr>\n",
       "      <th>UK</th>\n",
       "      <td>2</td>\n",
       "    </tr>\n",
       "    <tr>\n",
       "      <th>Belgium</th>\n",
       "      <td>2</td>\n",
       "    </tr>\n",
       "    <tr>\n",
       "      <th>Germany</th>\n",
       "      <td>1</td>\n",
       "    </tr>\n",
       "    <tr>\n",
       "      <th>Mexico</th>\n",
       "      <td>1</td>\n",
       "    </tr>\n",
       "    <tr>\n",
       "      <th>Denmark</th>\n",
       "      <td>1</td>\n",
       "    </tr>\n",
       "  </tbody>\n",
       "</table>\n",
       "</div>"
      ],
      "text/plain": [
       "         country\n",
       "USA          177\n",
       "Canada         7\n",
       "Russia         4\n",
       "UK             2\n",
       "Belgium        2\n",
       "Germany        1\n",
       "Mexico         1\n",
       "Denmark        1"
      ]
     },
     "execution_count": 23,
     "metadata": {},
     "output_type": "execute_result"
    }
   ],
   "source": [
    "# Count the absolute frequency\n",
    "customer['country'].value_counts() # to make dict we can do .to_dict()\n",
    "\n",
    "df_freq = pd.DataFrame(customer['country'].value_counts())\n",
    "df_freq"
   ]
  },
  {
   "cell_type": "code",
   "execution_count": 24,
   "metadata": {
    "ExecuteTime": {
     "end_time": "2018-12-27T15:19:52.141525Z",
     "start_time": "2018-12-27T15:19:52.132767Z"
    },
    "colab": {
     "base_uri": "https://localhost:8080/",
     "height": 297
    },
    "colab_type": "code",
    "executionInfo": {
     "elapsed": 458,
     "status": "ok",
     "timestamp": 1543799241786,
     "user": {
      "displayName": "astro astro",
      "photoUrl": "https://lh4.googleusercontent.com/-c32U5akLDk0/AAAAAAAAAAI/AAAAAAAAALo/5QE4ScXpqWQ/s64/photo.jpg",
      "userId": "06030840119486905497"
     },
     "user_tz": 300
    },
    "id": "XXJ0uesRmtCZ",
    "outputId": "ea1a4ac4-875c-4c6b-a89a-883593d409da"
   },
   "outputs": [
    {
     "data": {
      "text/html": [
       "<div>\n",
       "<style scoped>\n",
       "    .dataframe tbody tr th:only-of-type {\n",
       "        vertical-align: middle;\n",
       "    }\n",
       "\n",
       "    .dataframe tbody tr th {\n",
       "        vertical-align: top;\n",
       "    }\n",
       "\n",
       "    .dataframe thead th {\n",
       "        text-align: right;\n",
       "    }\n",
       "</style>\n",
       "<table border=\"1\" class=\"dataframe\">\n",
       "  <thead>\n",
       "    <tr style=\"text-align: right;\">\n",
       "      <th></th>\n",
       "      <th>country</th>\n",
       "    </tr>\n",
       "  </thead>\n",
       "  <tbody>\n",
       "    <tr>\n",
       "      <th>Germany</th>\n",
       "      <td>1</td>\n",
       "    </tr>\n",
       "    <tr>\n",
       "      <th>Mexico</th>\n",
       "      <td>1</td>\n",
       "    </tr>\n",
       "    <tr>\n",
       "      <th>Denmark</th>\n",
       "      <td>1</td>\n",
       "    </tr>\n",
       "    <tr>\n",
       "      <th>UK</th>\n",
       "      <td>2</td>\n",
       "    </tr>\n",
       "    <tr>\n",
       "      <th>Belgium</th>\n",
       "      <td>2</td>\n",
       "    </tr>\n",
       "    <tr>\n",
       "      <th>Russia</th>\n",
       "      <td>4</td>\n",
       "    </tr>\n",
       "    <tr>\n",
       "      <th>Canada</th>\n",
       "      <td>7</td>\n",
       "    </tr>\n",
       "    <tr>\n",
       "      <th>USA</th>\n",
       "      <td>177</td>\n",
       "    </tr>\n",
       "  </tbody>\n",
       "</table>\n",
       "</div>"
      ],
      "text/plain": [
       "         country\n",
       "Germany        1\n",
       "Mexico         1\n",
       "Denmark        1\n",
       "UK             2\n",
       "Belgium        2\n",
       "Russia         4\n",
       "Canada         7\n",
       "USA          177"
      ]
     },
     "execution_count": 24,
     "metadata": {},
     "output_type": "execute_result"
    }
   ],
   "source": [
    "# this is already descending order, but for generalization we can redo it\n",
    "# Count the absolute frequency\n",
    "\n",
    "df_freq2 = pd.DataFrame(customer['country'].value_counts()).sort_values(by='country')\n",
    "df_freq2"
   ]
  },
  {
   "cell_type": "code",
   "execution_count": 25,
   "metadata": {
    "ExecuteTime": {
     "end_time": "2018-12-27T15:19:52.150401Z",
     "start_time": "2018-12-27T15:19:52.143630Z"
    },
    "colab": {
     "base_uri": "https://localhost:8080/",
     "height": 170
    },
    "colab_type": "code",
    "executionInfo": {
     "elapsed": 375,
     "status": "ok",
     "timestamp": 1543799261815,
     "user": {
      "displayName": "astro astro",
      "photoUrl": "https://lh4.googleusercontent.com/-c32U5akLDk0/AAAAAAAAAAI/AAAAAAAAALo/5QE4ScXpqWQ/s64/photo.jpg",
      "userId": "06030840119486905497"
     },
     "user_tz": 300
    },
    "id": "jGM_5x_PmvlM",
    "outputId": "0b1d6daf-2378-4597-e88e-057a42faa309"
   },
   "outputs": [
    {
     "name": "stdout",
     "output_type": "stream",
     "text": [
      "         country\n",
      "USA          177\n",
      "Canada         7\n",
      "Russia         4\n",
      "UK             2\n",
      "Belgium        2\n",
      "Germany        1\n",
      "Mexico         1\n",
      "Denmark        1\n"
     ]
    }
   ],
   "source": [
    "df_freq3 = pd.DataFrame(customer['country'].value_counts()).sort_values(by='country',ascending=False)\n",
    "print(df_freq3)"
   ]
  },
  {
   "cell_type": "code",
   "execution_count": 26,
   "metadata": {
    "ExecuteTime": {
     "end_time": "2018-12-27T15:19:52.295994Z",
     "start_time": "2018-12-27T15:19:52.152493Z"
    },
    "colab": {
     "base_uri": "https://localhost:8080/",
     "height": 395
    },
    "colab_type": "code",
    "executionInfo": {
     "elapsed": 720,
     "status": "ok",
     "timestamp": 1543799282693,
     "user": {
      "displayName": "astro astro",
      "photoUrl": "https://lh4.googleusercontent.com/-c32U5akLDk0/AAAAAAAAAAI/AAAAAAAAALo/5QE4ScXpqWQ/s64/photo.jpg",
      "userId": "06030840119486905497"
     },
     "user_tz": 300
    },
    "id": "9mlA1fZBm0fP",
    "outputId": "056e3c74-9440-4aec-cddf-fb0a5e446dc1"
   },
   "outputs": [
    {
     "data": {
      "text/plain": [
       "<matplotlib.axes._subplots.AxesSubplot at 0x1a1f3ff5f8>"
      ]
     },
     "execution_count": 26,
     "metadata": {},
     "output_type": "execute_result"
    },
    {
     "data": {
      "image/png": "[encoded data removed]",
      "text/plain": [
       "<Figure size 432x288 with 1 Axes>"
      ]
     },
     "metadata": {
      "needs_background": "light"
     },
     "output_type": "display_data"
    }
   ],
   "source": [
    "df_freq3.plot.bar()"
   ]
  },
  {
   "cell_type": "markdown",
   "metadata": {
    "colab_type": "text",
    "id": "Kb05BRb_m86H"
   },
   "source": [
    "### Task 8\n",
    "\n",
    "\tTask 8: Calculate the mean, median, mode, skewness, variance and standard deviation of Price for all properties, no matter if sold or not.\t\t\t\t\t\t\t\t\t"
   ]
  },
  {
   "cell_type": "code",
   "execution_count": 27,
   "metadata": {
    "ExecuteTime": {
     "end_time": "2018-12-27T15:19:52.302586Z",
     "start_time": "2018-12-27T15:19:52.298009Z"
    },
    "colab": {
     "base_uri": "https://localhost:8080/",
     "height": 119
    },
    "colab_type": "code",
    "executionInfo": {
     "elapsed": 320,
     "status": "ok",
     "timestamp": 1543799342163,
     "user": {
      "displayName": "astro astro",
      "photoUrl": "https://lh4.googleusercontent.com/-c32U5akLDk0/AAAAAAAAAAI/AAAAAAAAALo/5QE4ScXpqWQ/s64/photo.jpg",
      "userId": "06030840119486905497"
     },
     "user_tz": 300
    },
    "id": "dnsW7vqMm5f_",
    "outputId": "9f756942-0728-4208-96c6-a1474e71aa5d"
   },
   "outputs": [
    {
     "data": {
      "text/plain": [
       "0    246172.6760\n",
       "1    246331.9040\n",
       "2    209280.9104\n",
       "3    452667.0064\n",
       "4    467083.3132\n",
       "Name: price, dtype: float64"
      ]
     },
     "execution_count": 27,
     "metadata": {},
     "output_type": "execute_result"
    }
   ],
   "source": [
    "price = product['price']\n",
    "price.head()"
   ]
  },
  {
   "cell_type": "code",
   "execution_count": 28,
   "metadata": {
    "ExecuteTime": {
     "end_time": "2018-12-27T15:19:52.308883Z",
     "start_time": "2018-12-27T15:19:52.304844Z"
    },
    "colab": {
     "base_uri": "https://localhost:8080/",
     "height": 34
    },
    "colab_type": "code",
    "executionInfo": {
     "elapsed": 283,
     "status": "ok",
     "timestamp": 1543799354922,
     "user": {
      "displayName": "astro astro",
      "photoUrl": "https://lh4.googleusercontent.com/-c32U5akLDk0/AAAAAAAAAAI/AAAAAAAAALo/5QE4ScXpqWQ/s64/photo.jpg",
      "userId": "06030840119486905497"
     },
     "user_tz": 300
    },
    "id": "qnXTJ4TXnIHa",
    "outputId": "50f71b75-dd64-4190-f57d-76bd9777febb"
   },
   "outputs": [
    {
     "data": {
      "text/plain": [
       "(267,)"
      ]
     },
     "execution_count": 28,
     "metadata": {},
     "output_type": "execute_result"
    }
   ],
   "source": [
    "price.shape"
   ]
  },
  {
   "cell_type": "code",
   "execution_count": 29,
   "metadata": {
    "ExecuteTime": {
     "end_time": "2018-12-27T15:19:52.316225Z",
     "start_time": "2018-12-27T15:19:52.311000Z"
    },
    "colab": {
     "base_uri": "https://localhost:8080/",
     "height": 34
    },
    "colab_type": "code",
    "executionInfo": {
     "elapsed": 295,
     "status": "ok",
     "timestamp": 1543799365284,
     "user": {
      "displayName": "astro astro",
      "photoUrl": "https://lh4.googleusercontent.com/-c32U5akLDk0/AAAAAAAAAAI/AAAAAAAAALo/5QE4ScXpqWQ/s64/photo.jpg",
      "userId": "06030840119486905497"
     },
     "user_tz": 300
    },
    "id": "e2X9fYOQnLP8",
    "outputId": "60266714-07f6-488d-f3c7-3136287bb517"
   },
   "outputs": [
    {
     "data": {
      "text/plain": [
       "460001.25599999994"
      ]
     },
     "execution_count": 29,
     "metadata": {},
     "output_type": "execute_result"
    }
   ],
   "source": [
    "price.mode()[0]"
   ]
  },
  {
   "cell_type": "code",
   "execution_count": 30,
   "metadata": {
    "ExecuteTime": {
     "end_time": "2018-12-27T15:19:52.324584Z",
     "start_time": "2018-12-27T15:19:52.318160Z"
    },
    "colab": {
     "base_uri": "https://localhost:8080/",
     "height": 119
    },
    "colab_type": "code",
    "executionInfo": {
     "elapsed": 390,
     "status": "ok",
     "timestamp": 1543799388977,
     "user": {
      "displayName": "astro astro",
      "photoUrl": "https://lh4.googleusercontent.com/-c32U5akLDk0/AAAAAAAAAAI/AAAAAAAAALo/5QE4ScXpqWQ/s64/photo.jpg",
      "userId": "06030840119486905497"
     },
     "user_tz": 300
    },
    "id": "n8YCNQ_anNxf",
    "outputId": "4e2001f4-9c90-404a-ecfe-6e533cccc848"
   },
   "outputs": [
    {
     "data": {
      "text/plain": [
       "[281171.9015011236,\n",
       " 249075.6568,\n",
       " 460001.25599999994,\n",
       " 1.0960149435317839,\n",
       " 7942217700.920894,\n",
       " 89119.12084912471]"
      ]
     },
     "execution_count": 30,
     "metadata": {},
     "output_type": "execute_result"
    }
   ],
   "source": [
    "stats = [price.mean(), price.median(),price.mode()[0], price.skew(), price.var(),price.std()]\n",
    "stats"
   ]
  },
  {
   "cell_type": "code",
   "execution_count": 31,
   "metadata": {
    "ExecuteTime": {
     "end_time": "2018-12-27T15:19:52.334441Z",
     "start_time": "2018-12-27T15:19:52.326530Z"
    },
    "colab": {
     "base_uri": "https://localhost:8080/",
     "height": 235
    },
    "colab_type": "code",
    "executionInfo": {
     "elapsed": 394,
     "status": "ok",
     "timestamp": 1543799401091,
     "user": {
      "displayName": "astro astro",
      "photoUrl": "https://lh4.googleusercontent.com/-c32U5akLDk0/AAAAAAAAAAI/AAAAAAAAALo/5QE4ScXpqWQ/s64/photo.jpg",
      "userId": "06030840119486905497"
     },
     "user_tz": 300
    },
    "id": "trgArvG-nThw",
    "outputId": "1e8e2da6-0d10-4041-9cdc-ea0ad2ef995e"
   },
   "outputs": [
    {
     "data": {
      "text/html": [
       "<div>\n",
       "<style scoped>\n",
       "    .dataframe tbody tr th:only-of-type {\n",
       "        vertical-align: middle;\n",
       "    }\n",
       "\n",
       "    .dataframe tbody tr th {\n",
       "        vertical-align: top;\n",
       "    }\n",
       "\n",
       "    .dataframe thead th {\n",
       "        text-align: right;\n",
       "    }\n",
       "</style>\n",
       "<table border=\"1\" class=\"dataframe\">\n",
       "  <thead>\n",
       "    <tr style=\"text-align: right;\">\n",
       "      <th></th>\n",
       "      <th>price</th>\n",
       "    </tr>\n",
       "  </thead>\n",
       "  <tbody>\n",
       "    <tr>\n",
       "      <th>mean</th>\n",
       "      <td>2.811719e+05</td>\n",
       "    </tr>\n",
       "    <tr>\n",
       "      <th>median</th>\n",
       "      <td>2.490757e+05</td>\n",
       "    </tr>\n",
       "    <tr>\n",
       "      <th>mode</th>\n",
       "      <td>4.600013e+05</td>\n",
       "    </tr>\n",
       "    <tr>\n",
       "      <th>skewness</th>\n",
       "      <td>1.096015e+00</td>\n",
       "    </tr>\n",
       "    <tr>\n",
       "      <th>variance</th>\n",
       "      <td>7.942218e+09</td>\n",
       "    </tr>\n",
       "    <tr>\n",
       "      <th>standard_deviation</th>\n",
       "      <td>8.911912e+04</td>\n",
       "    </tr>\n",
       "  </tbody>\n",
       "</table>\n",
       "</div>"
      ],
      "text/plain": [
       "                           price\n",
       "mean                2.811719e+05\n",
       "median              2.490757e+05\n",
       "mode                4.600013e+05\n",
       "skewness            1.096015e+00\n",
       "variance            7.942218e+09\n",
       "standard_deviation  8.911912e+04"
      ]
     },
     "execution_count": 31,
     "metadata": {},
     "output_type": "execute_result"
    }
   ],
   "source": [
    "df = pd.DataFrame({ 'price': stats},\n",
    "                  index = ['mean','median','mode','skewness','variance','standard_deviation'])\n",
    "df"
   ]
  },
  {
   "cell_type": "markdown",
   "metadata": {
    "colab_type": "text",
    "id": "Z0_UtjsBnYbP"
   },
   "source": [
    "### Task 9\n",
    "\n",
    "\tTask 9: Interpret the measures.\n",
    "  \n",
    "  skew is positive. This means most of the properties are cheap and only some properties are expensive."
   ]
  },
  {
   "cell_type": "markdown",
   "metadata": {
    "colab_type": "text",
    "id": "0nd0Lo2knghk"
   },
   "source": [
    "### Task 10\n",
    "\n",
    "\tTask 10: Calculate the covariance and correlation coefficient between Price and Area, no matter if the apartment is sold or not. Is the result in line with the scatter plot?\t"
   ]
  },
  {
   "cell_type": "code",
   "execution_count": 32,
   "metadata": {
    "ExecuteTime": {
     "end_time": "2018-12-27T15:19:52.346997Z",
     "start_time": "2018-12-27T15:19:52.336544Z"
    },
    "colab": {
     "base_uri": "https://localhost:8080/",
     "height": 111
    },
    "colab_type": "code",
    "executionInfo": {
     "elapsed": 339,
     "status": "ok",
     "timestamp": 1543799481863,
     "user": {
      "displayName": "astro astro",
      "photoUrl": "https://lh4.googleusercontent.com/-c32U5akLDk0/AAAAAAAAAAI/AAAAAAAAALo/5QE4ScXpqWQ/s64/photo.jpg",
      "userId": "06030840119486905497"
     },
     "user_tz": 300
    },
    "id": "FJXNY3PXnWet",
    "outputId": "2d37ec59-39c6-48a8-b1fa-e92d34247ade"
   },
   "outputs": [
    {
     "data": {
      "text/html": [
       "<div>\n",
       "<style scoped>\n",
       "    .dataframe tbody tr th:only-of-type {\n",
       "        vertical-align: middle;\n",
       "    }\n",
       "\n",
       "    .dataframe tbody tr th {\n",
       "        vertical-align: top;\n",
       "    }\n",
       "\n",
       "    .dataframe thead th {\n",
       "        text-align: right;\n",
       "    }\n",
       "</style>\n",
       "<table border=\"1\" class=\"dataframe\">\n",
       "  <thead>\n",
       "    <tr style=\"text-align: right;\">\n",
       "      <th></th>\n",
       "      <th>price</th>\n",
       "      <th>area</th>\n",
       "    </tr>\n",
       "  </thead>\n",
       "  <tbody>\n",
       "    <tr>\n",
       "      <th>price</th>\n",
       "      <td>7.942218e+09</td>\n",
       "      <td>2.414772e+07</td>\n",
       "    </tr>\n",
       "    <tr>\n",
       "      <th>area</th>\n",
       "      <td>2.414772e+07</td>\n",
       "      <td>8.116517e+04</td>\n",
       "    </tr>\n",
       "  </tbody>\n",
       "</table>\n",
       "</div>"
      ],
      "text/plain": [
       "              price          area\n",
       "price  7.942218e+09  2.414772e+07\n",
       "area   2.414772e+07  8.116517e+04"
      ]
     },
     "execution_count": 32,
     "metadata": {},
     "output_type": "execute_result"
    }
   ],
   "source": [
    "product[['price','area']].cov()"
   ]
  },
  {
   "cell_type": "code",
   "execution_count": 33,
   "metadata": {
    "ExecuteTime": {
     "end_time": "2018-12-27T15:19:52.354564Z",
     "start_time": "2018-12-27T15:19:52.349032Z"
    },
    "colab": {
     "base_uri": "https://localhost:8080/",
     "height": 34
    },
    "colab_type": "code",
    "executionInfo": {
     "elapsed": 390,
     "status": "ok",
     "timestamp": 1543799499412,
     "user": {
      "displayName": "astro astro",
      "photoUrl": "https://lh4.googleusercontent.com/-c32U5akLDk0/AAAAAAAAAAI/AAAAAAAAALo/5QE4ScXpqWQ/s64/photo.jpg",
      "userId": "06030840119486905497"
     },
     "user_tz": 300
    },
    "id": "RHA0z0bTnqN6",
    "outputId": "0d625fe9-f1a6-4952-89c2-45a2758bf318"
   },
   "outputs": [
    {
     "data": {
      "text/plain": [
       "24147721.72581886"
      ]
     },
     "execution_count": 33,
     "metadata": {},
     "output_type": "execute_result"
    }
   ],
   "source": [
    "product['price'].cov(product['area'])"
   ]
  },
  {
   "cell_type": "code",
   "execution_count": 34,
   "metadata": {
    "ExecuteTime": {
     "end_time": "2018-12-27T15:19:52.360913Z",
     "start_time": "2018-12-27T15:19:52.356426Z"
    },
    "colab": {
     "base_uri": "https://localhost:8080/",
     "height": 34
    },
    "colab_type": "code",
    "executionInfo": {
     "elapsed": 317,
     "status": "ok",
     "timestamp": 1543799517911,
     "user": {
      "displayName": "astro astro",
      "photoUrl": "https://lh4.googleusercontent.com/-c32U5akLDk0/AAAAAAAAAAI/AAAAAAAAALo/5QE4ScXpqWQ/s64/photo.jpg",
      "userId": "06030840119486905497"
     },
     "user_tz": 300
    },
    "id": "P6DQZdxfnufL",
    "outputId": "802737d0-ace4-4c4a-a45f-65bef22e76eb"
   },
   "outputs": [
    {
     "data": {
      "text/plain": [
       "0.9510873774316208"
      ]
     },
     "execution_count": 34,
     "metadata": {},
     "output_type": "execute_result"
    }
   ],
   "source": [
    "product['price'].corr(product['area'])"
   ]
  },
  {
   "cell_type": "code",
   "execution_count": 35,
   "metadata": {
    "ExecuteTime": {
     "end_time": "2018-12-27T15:19:52.372546Z",
     "start_time": "2018-12-27T15:19:52.363093Z"
    },
    "colab": {
     "base_uri": "https://localhost:8080/",
     "height": 80
    },
    "colab_type": "code",
    "executionInfo": {
     "elapsed": 387,
     "status": "ok",
     "timestamp": 1543799532073,
     "user": {
      "displayName": "astro astro",
      "photoUrl": "https://lh4.googleusercontent.com/-c32U5akLDk0/AAAAAAAAAAI/AAAAAAAAALo/5QE4ScXpqWQ/s64/photo.jpg",
      "userId": "06030840119486905497"
     },
     "user_tz": 300
    },
    "id": "cmagcAdUnzB5",
    "outputId": "6bde404c-0022-4cb5-ffb8-5790a1ad43bd"
   },
   "outputs": [
    {
     "data": {
      "text/html": [
       "<div>\n",
       "<style scoped>\n",
       "    .dataframe tbody tr th:only-of-type {\n",
       "        vertical-align: middle;\n",
       "    }\n",
       "\n",
       "    .dataframe tbody tr th {\n",
       "        vertical-align: top;\n",
       "    }\n",
       "\n",
       "    .dataframe thead th {\n",
       "        text-align: right;\n",
       "    }\n",
       "</style>\n",
       "<table border=\"1\" class=\"dataframe\">\n",
       "  <thead>\n",
       "    <tr style=\"text-align: right;\">\n",
       "      <th></th>\n",
       "      <th>cov</th>\n",
       "      <th>corr</th>\n",
       "    </tr>\n",
       "  </thead>\n",
       "  <tbody>\n",
       "    <tr>\n",
       "      <th>0</th>\n",
       "      <td>2.414772e+07</td>\n",
       "      <td>0.951087</td>\n",
       "    </tr>\n",
       "  </tbody>\n",
       "</table>\n",
       "</div>"
      ],
      "text/plain": [
       "            cov      corr\n",
       "0  2.414772e+07  0.951087"
      ]
     },
     "execution_count": 35,
     "metadata": {},
     "output_type": "execute_result"
    }
   ],
   "source": [
    "pd.DataFrame([[product['price'].cov(product['area']), product['price'].corr(product['area'])]],\n",
    "            columns = ['cov','corr'])"
   ]
  },
  {
   "cell_type": "code",
   "execution_count": 36,
   "metadata": {
    "ExecuteTime": {
     "end_time": "2018-12-27T15:19:52.513499Z",
     "start_time": "2018-12-27T15:19:52.374585Z"
    },
    "colab": {
     "base_uri": "https://localhost:8080/",
     "height": 378
    },
    "colab_type": "code",
    "executionInfo": {
     "elapsed": 2901,
     "status": "ok",
     "timestamp": 1543799545129,
     "user": {
      "displayName": "astro astro",
      "photoUrl": "https://lh4.googleusercontent.com/-c32U5akLDk0/AAAAAAAAAAI/AAAAAAAAALo/5QE4ScXpqWQ/s64/photo.jpg",
      "userId": "06030840119486905497"
     },
     "user_tz": 300
    },
    "id": "SDE7c0X9n2eM",
    "outputId": "9cfc1e05-5c50-4341-f0b9-2b59271a439b"
   },
   "outputs": [
    {
     "data": {
      "text/plain": [
       "<matplotlib.axes._subplots.AxesSubplot at 0x1a1f5071d0>"
      ]
     },
     "execution_count": 36,
     "metadata": {},
     "output_type": "execute_result"
    },
    {
     "data": {
      "image/png": "[encoded data removed]",
      "text/plain": [
       "<Figure size 432x288 with 1 Axes>"
      ]
     },
     "metadata": {
      "needs_background": "light"
     },
     "output_type": "display_data"
    }
   ],
   "source": [
    "product[['price','area']].plot.scatter(x='area',y='price',c='DarkBlue')"
   ]
  }
 ],
 "metadata": {
  "colab": {
   "collapsed_sections": [
    "-UWac3rMjEyn"
   ],
   "name": "udemy_ds18_part2_statistics.ipynb",
   "provenance": [],
   "version": "0.3.2"
  },
  "kernelspec": {
   "display_name": "Python (dataSc)",
   "language": "python",
   "name": "datasc"
  },
  "language_info": {
   "codemirror_mode": {
    "name": "ipython",
    "version": 3
   },
   "file_extension": ".py",
   "mimetype": "text/x-python",
   "name": "python",
   "nbconvert_exporter": "python",
   "pygments_lexer": "ipython3",
   "version": "3.7.0"
  },
  "toc": {
   "base_numbering": 1,
   "nav_menu": {},
   "number_sections": true,
   "sideBar": true,
   "skip_h1_title": false,
   "title_cell": "Table of Contents",
   "title_sidebar": "Contents",
   "toc_cell": true,
   "toc_position": {},
   "toc_section_display": true,
   "toc_window_display": true
  }
 },
 "nbformat": 4,
 "nbformat_minor": 1
}
