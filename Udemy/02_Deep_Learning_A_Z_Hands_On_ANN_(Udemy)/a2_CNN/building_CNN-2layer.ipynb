{
 "cells": [
  {
   "cell_type": "markdown",
   "metadata": {
    "toc": true
   },
   "source": [
    "<h1>Table of Contents<span class=\"tocSkip\"></span></h1>\n",
    "<div class=\"toc\"><ul class=\"toc-item\"></ul></div>"
   ]
  },
  {
   "cell_type": "code",
   "execution_count": 1,
   "metadata": {
    "ExecuteTime": {
     "end_time": "2019-01-17T02:32:35.890622Z",
     "start_time": "2019-01-17T02:32:35.888395Z"
    }
   },
   "outputs": [],
   "source": [
    "# Lec 58\n",
    "#Volume 1 Part 3 sec 10 lec 58"
   ]
  },
  {
   "cell_type": "code",
   "execution_count": 6,
   "metadata": {
    "ExecuteTime": {
     "end_time": "2019-01-17T02:58:00.703733Z",
     "start_time": "2019-01-17T02:58:00.696444Z"
    }
   },
   "outputs": [
    {
     "name": "stdout",
     "output_type": "stream",
     "text": [
      "Overwriting cnn_2_layers.py\n"
     ]
    }
   ],
   "source": [
    "%%writefile cnn_2_layers.py\n",
    "\n",
    "from keras.models import Sequential\n",
    "from keras.layers import Convolution2D, MaxPooling2D, Flatten, Dense\n",
    "from keras.preprocessing.image import ImageDataGenerator\n",
    "\n",
    "# initiallize classifier\n",
    "clf = Sequential()\n",
    "\n",
    "# step 1: convolution\n",
    "# input_shape 3,256,256 takes too long, here 3 is 3 color channels.\n",
    "clf.add(Convolution2D(32, (3, 3), input_shape=(64, 64, 3), activation='relu'))\n",
    "\n",
    "# step 2: pooling\n",
    "clf.add(MaxPooling2D(pool_size=(2, 2),data_format='channels_first'))\n",
    "\n",
    "# add a second conv layer\n",
    "# we need to change input shape\n",
    "# we don't need input_shape parameter now.\n",
    "clf.add(Convolution2D(32, (3, 3), activation='relu')) # change\n",
    "clf.add(MaxPooling2D(pool_size=(2, 2), data_format='channels_first'))\n",
    "##   ----- before this layer we had got 75% accuracy\n",
    "## this will give 80% accuracy, but will take too long time.\n",
    "\n",
    "\n",
    "\n",
    "# step 3: flattening\n",
    "clf.add(Flatten())\n",
    "\n",
    "# step 4: full connection\n",
    "clf.add(Dense(units=128, activation='relu'))\n",
    "clf.add(Dense(units=1, activation='sigmoid'))\n",
    "\n",
    "# compile the cnn\n",
    "clf.compile(optimizer='adam', loss='binary_crossentropy', metrics=['accuracy'])\n",
    "\n",
    "# part2: fitting the cnn to the images\n",
    "# https://keras.io/preprocessing/image/\n",
    "# we create two instances with the same arguments\n",
    "train_datagen = ImageDataGenerator(\n",
    "    rescale=1. / 255, shear_range=0.2, zoom_range=0.2, horizontal_flip=True)\n",
    "\n",
    "test_datagen = ImageDataGenerator(rescale=1. / 255)\n",
    "\n",
    "training_set = train_datagen.flow_from_directory(\n",
    "    '../dataset/training_set',  # change\n",
    "    target_size=(64, 64),  # change\n",
    "    batch_size=32,\n",
    "    class_mode='binary')  # binary for cats and dogs\n",
    "\n",
    "test_set = test_datagen.flow_from_directory(\n",
    "    '../dataset/test_set',\n",
    "    target_size=(64, 64),\n",
    "    batch_size=32,\n",
    "    class_mode='binary')\n",
    "\n",
    "clf.fit_generator(\n",
    "    training_set,\n",
    "    steps_per_epoch=8000,\n",
    "    epochs=25,\n",
    "    validation_data=test_set,  # change\n",
    "    validation_steps=2000)  # change"
   ]
  },
  {
   "cell_type": "code",
   "execution_count": null,
   "metadata": {},
   "outputs": [],
   "source": []
  }
 ],
 "metadata": {
  "kernelspec": {
   "display_name": "Python3.7 (tensorflow)",
   "language": "python",
   "name": "tf"
  },
  "language_info": {
   "codemirror_mode": {
    "name": "ipython",
    "version": 3
   },
   "file_extension": ".py",
   "mimetype": "text/x-python",
   "name": "python",
   "nbconvert_exporter": "python",
   "pygments_lexer": "ipython3",
   "version": "3.6.6"
  },
  "toc": {
   "base_numbering": 1,
   "nav_menu": {},
   "number_sections": true,
   "sideBar": true,
   "skip_h1_title": false,
   "title_cell": "Table of Contents",
   "title_sidebar": "Contents",
   "toc_cell": true,
   "toc_position": {},
   "toc_section_display": true,
   "toc_window_display": true
  }
 },
 "nbformat": 4,
 "nbformat_minor": 2
}
