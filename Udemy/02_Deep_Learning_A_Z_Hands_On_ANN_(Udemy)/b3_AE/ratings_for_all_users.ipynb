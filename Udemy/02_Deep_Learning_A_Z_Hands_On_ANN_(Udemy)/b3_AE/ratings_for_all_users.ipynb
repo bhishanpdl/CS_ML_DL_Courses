{
 "cells": [
  {
   "cell_type": "markdown",
   "metadata": {
    "toc": "true"
   },
   "source": [
    "# Table of Contents\n",
    " <p><div class=\"lev1 toc-item\"><a href=\"#Method-1\" data-toc-modified-id=\"Method-1-1\"><span class=\"toc-item-num\">1&nbsp;&nbsp;</span>Method 1</a></div><div class=\"lev1 toc-item\"><a href=\"#Method-2\" data-toc-modified-id=\"Method-2-2\"><span class=\"toc-item-num\">2&nbsp;&nbsp;</span>Method 2</a></div>"
   ]
  },
  {
   "cell_type": "markdown",
   "metadata": {},
   "source": [
    "# Method 1"
   ]
  },
  {
   "cell_type": "code",
   "execution_count": 9,
   "metadata": {
    "collapsed": false
   },
   "outputs": [
    {
     "name": "stdout",
     "output_type": "stream",
     "text": [
      "[[ 0.  0.  0.  0.  0.  0.  0.]\n",
      " [ 2.  4.  0.  0.  4.  0.  0.]\n",
      " [ 0.  0.  0.  0.  0.  0.  0.]\n",
      " [ 0.  2.  0.  8.  0.  3.  0.]\n",
      " [ 0.  0.  0.  0.  0.  0.  0.]]\n"
     ]
    }
   ],
   "source": [
    "# Slower method: 1.99 ms\n",
    "\n",
    "import numpy as np\n",
    "import pandas as pd\n",
    "\n",
    "# user 1 is missing here, user 4 is 4th user.\n",
    "df = pd.DataFrame({'user': [2,2,2,4,4,4],\n",
    "                 'movie': [1,2,5,2,4,6],\n",
    "                 'rating': [2,4,4,2,8,3]})\n",
    "\n",
    "\n",
    "\n",
    "def ratings_4users(df, n_users, n_movies):\n",
    "    movie = np.array(df.groupby('user')['movie'].apply(lambda x: x.tolist()).tolist())\n",
    "    rating = np.array(df.groupby('user')['rating'].apply(lambda x: x.tolist()).tolist())\n",
    "    rating_lst = np.zeros((n_users,n_movies), dtype=float)\n",
    "\n",
    "    for i,u in enumerate(df['user'].unique()):\n",
    "        rating_lst[u-1][ np.array(movie[i]) -1] = rating[i]\n",
    "\n",
    "    return rating_lst\n",
    "\n",
    "n_users = 5\n",
    "n_movies = 7\n",
    "\n",
    "print(ratings_4users(df, n_users, n_movies))"
   ]
  },
  {
   "cell_type": "markdown",
   "metadata": {},
   "source": [
    "# Method 2"
   ]
  },
  {
   "cell_type": "code",
   "execution_count": 7,
   "metadata": {
    "collapsed": false
   },
   "outputs": [
    {
     "name": "stdout",
     "output_type": "stream",
     "text": [
      "1000 loops, best of 3: 827 µs per loop\n"
     ]
    }
   ],
   "source": [
    "# Faster method: 827 µs\n",
    "import numpy as np\n",
    "import pandas as pd\n",
    "\n",
    "# user 1 is missing here, user 4 is 4th user.\n",
    "df = pd.DataFrame({'user': [2,2,2,4,4,4],\n",
    "                 'movie': [1,2,5,2,4,6],\n",
    "                 'rating': [2,4,4,2,8,3]})\n",
    "\n",
    "def convert(data):\n",
    "    new_data = []\n",
    "    for id_users in range(1, nb_users + 1):\n",
    "        id_movies = data[:,1][data[:,0] == id_users]\n",
    "        id_ratings = data[:,2][data[:,0] == id_users]\n",
    "        ratings = np.zeros(nb_movies)\n",
    "        ratings[id_movies - 1] = id_ratings\n",
    "        new_data.append(list(ratings))\n",
    "    return new_data\n",
    "\n",
    "nb_users = 5\n",
    "nb_movies = 7\n",
    "\n",
    "training_set = df[['user','movie','rating']].values\n",
    "convert(training_set)"
   ]
  },
  {
   "cell_type": "code",
   "execution_count": null,
   "metadata": {
    "collapsed": true
   },
   "outputs": [],
   "source": []
  }
 ],
 "metadata": {
  "kernelspec": {
   "display_name": "Python 3",
   "language": "python",
   "name": "python3"
  },
  "language_info": {
   "codemirror_mode": {
    "name": "ipython",
    "version": 3
   },
   "file_extension": ".py",
   "mimetype": "text/x-python",
   "name": "python",
   "nbconvert_exporter": "python",
   "pygments_lexer": "ipython3",
   "version": "3.5.2"
  },
  "toc": {
   "colors": {
    "hover_highlight": "#DAA520",
    "navigate_num": "#000000",
    "navigate_text": "#333333",
    "running_highlight": "#FF0000",
    "selected_highlight": "#FFD700",
    "sidebar_border": "#EEEEEE",
    "wrapper_background": "#FFFFFF"
   },
   "moveMenuLeft": true,
   "nav_menu": {
    "height": "48px",
    "width": "252px"
   },
   "navigate_menu": true,
   "number_sections": true,
   "sideBar": true,
   "threshold": 4,
   "toc_cell": true,
   "toc_section_display": "block",
   "toc_window_display": true,
   "widenNotebook": false
  }
 },
 "nbformat": 4,
 "nbformat_minor": 2
}
