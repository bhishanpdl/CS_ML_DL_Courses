{
 "cells": [
  {
   "cell_type": "markdown",
   "metadata": {
    "toc": true
   },
   "source": [
    "<h1>Table of Contents<span class=\"tocSkip\"></span></h1>\n",
    "<div class=\"toc\"><ul class=\"toc-item\"><li><span><a href=\"#Mean,-Median,-Mode,-and-introducing-NumPy\" data-toc-modified-id=\"Mean,-Median,-Mode,-and-introducing-NumPy-1\"><span class=\"toc-item-num\">1&nbsp;&nbsp;</span>Mean, Median, Mode, and introducing NumPy</a></span><ul class=\"toc-item\"><li><span><a href=\"#Mean-vs.-Median\" data-toc-modified-id=\"Mean-vs.-Median-1.1\"><span class=\"toc-item-num\">1.1&nbsp;&nbsp;</span>Mean vs. Median</a></span></li><li><span><a href=\"#Mode\" data-toc-modified-id=\"Mode-1.2\"><span class=\"toc-item-num\">1.2&nbsp;&nbsp;</span>Mode</a></span></li></ul></li></ul></div>"
   ]
  },
  {
   "cell_type": "markdown",
   "metadata": {},
   "source": [
    "# Mean, Median, Mode, and introducing NumPy"
   ]
  },
  {
   "cell_type": "markdown",
   "metadata": {},
   "source": [
    "## Mean vs. Median"
   ]
  },
  {
   "cell_type": "markdown",
   "metadata": {},
   "source": [
    "Let's create some fake income data, centered around 27,000 with a normal distribution and standard deviation of 15,000, with 10,000 data points. (We'll discuss those terms more later, if you're not familiar with them.)\n",
    "\n",
    "Then, compute the mean (average) - it should be close to 27,000:"
   ]
  },
  {
   "cell_type": "code",
   "execution_count": 1,
   "metadata": {
    "ExecuteTime": {
     "end_time": "2019-02-08T02:59:49.465847Z",
     "start_time": "2019-02-08T02:59:49.186084Z"
    }
   },
   "outputs": [
    {
     "data": {
      "text/plain": [
       "26823.95296358677"
      ]
     },
     "execution_count": 1,
     "metadata": {},
     "output_type": "execute_result"
    }
   ],
   "source": [
    "import numpy as np\n",
    "\n",
    "incomes = np.random.normal(27000, 15000, 10000)\n",
    "np.mean(incomes)"
   ]
  },
  {
   "cell_type": "markdown",
   "metadata": {},
   "source": [
    "We can segment the income data into 50 buckets, and plot it as a histogram:"
   ]
  },
  {
   "cell_type": "code",
   "execution_count": 2,
   "metadata": {
    "ExecuteTime": {
     "end_time": "2019-02-08T02:59:50.049783Z",
     "start_time": "2019-02-08T02:59:49.468139Z"
    }
   },
   "outputs": [
    {
     "data": {
      "image/png": "[encoded data removed]",
      "text/plain": [
       "<Figure size 432x288 with 1 Axes>"
      ]
     },
     "metadata": {
      "needs_background": "light"
     },
     "output_type": "display_data"
    }
   ],
   "source": [
    "%matplotlib inline\n",
    "import matplotlib.pyplot as plt\n",
    "plt.hist(incomes, 50)\n",
    "plt.show()"
   ]
  },
  {
   "cell_type": "markdown",
   "metadata": {},
   "source": [
    "Now compute the median - since we have a nice, even distribution it too should be close to 27,000:"
   ]
  },
  {
   "cell_type": "code",
   "execution_count": 3,
   "metadata": {
    "ExecuteTime": {
     "end_time": "2019-02-08T02:59:50.059375Z",
     "start_time": "2019-02-08T02:59:50.052194Z"
    }
   },
   "outputs": [
    {
     "data": {
      "text/plain": [
       "26793.466878380706"
      ]
     },
     "execution_count": 3,
     "metadata": {},
     "output_type": "execute_result"
    }
   ],
   "source": [
    "np.median(incomes)"
   ]
  },
  {
   "cell_type": "markdown",
   "metadata": {},
   "source": [
    "Now we'll add Donald Trump into the mix. Darn income inequality!"
   ]
  },
  {
   "cell_type": "code",
   "execution_count": 4,
   "metadata": {
    "ExecuteTime": {
     "end_time": "2019-02-08T02:59:50.067949Z",
     "start_time": "2019-02-08T02:59:50.063026Z"
    }
   },
   "outputs": [],
   "source": [
    "incomes = np.append(incomes, [1000000000])"
   ]
  },
  {
   "cell_type": "markdown",
   "metadata": {},
   "source": [
    "The median won't change much, but the mean does:"
   ]
  },
  {
   "cell_type": "code",
   "execution_count": 5,
   "metadata": {
    "ExecuteTime": {
     "end_time": "2019-02-08T02:59:50.077865Z",
     "start_time": "2019-02-08T02:59:50.070270Z"
    }
   },
   "outputs": [
    {
     "data": {
      "text/plain": [
       "26796.147833999497"
      ]
     },
     "execution_count": 5,
     "metadata": {},
     "output_type": "execute_result"
    }
   ],
   "source": [
    "np.median(incomes)"
   ]
  },
  {
   "cell_type": "code",
   "execution_count": 6,
   "metadata": {
    "ExecuteTime": {
     "end_time": "2019-02-08T02:59:50.088961Z",
     "start_time": "2019-02-08T02:59:50.080605Z"
    }
   },
   "outputs": [
    {
     "data": {
      "text/plain": [
       "126811.27183640312"
      ]
     },
     "execution_count": 6,
     "metadata": {},
     "output_type": "execute_result"
    }
   ],
   "source": [
    "np.mean(incomes)"
   ]
  },
  {
   "cell_type": "markdown",
   "metadata": {},
   "source": [
    "## Mode"
   ]
  },
  {
   "cell_type": "markdown",
   "metadata": {},
   "source": [
    "Next, let's generate some fake age data for 500 people:"
   ]
  },
  {
   "cell_type": "code",
   "execution_count": 7,
   "metadata": {
    "ExecuteTime": {
     "end_time": "2019-02-08T02:59:50.112507Z",
     "start_time": "2019-02-08T02:59:50.095043Z"
    }
   },
   "outputs": [
    {
     "data": {
      "text/plain": [
       "array([83, 77, 23, 64, 31, 22, 18, 27, 33, 42, 50, 58, 22, 77, 64, 75, 45,\n",
       "       61, 87, 52, 35, 28, 19, 41, 47, 24, 26, 77, 79, 56, 31, 69, 33, 76,\n",
       "       28, 76, 38, 18, 55, 49, 78, 35, 80, 38, 33, 70, 35, 48, 47, 21, 64,\n",
       "       22, 50, 53, 80, 57, 21, 29, 37, 42, 61, 57, 89, 79, 54, 70, 70, 70,\n",
       "       20, 80, 23, 74, 33, 41, 23, 27, 48, 87, 35, 79, 34, 36, 31, 84, 84,\n",
       "       26, 55, 68, 47, 71, 80, 23, 72, 74, 87, 34, 43, 51, 55, 71, 61, 75,\n",
       "       56, 70, 76, 33, 20, 82, 23, 49, 55, 74, 83, 86, 54, 85, 43, 45, 65,\n",
       "       63, 60, 45, 45, 21, 58, 42, 30, 44, 48, 27, 80, 64, 50, 81, 35, 44,\n",
       "       30, 44, 21, 62, 21, 38, 38, 27, 83, 71, 26, 86, 53, 70, 36, 21, 42,\n",
       "       76, 23, 87, 84, 38, 41, 42, 72, 24, 22, 27, 33, 58, 61, 64, 30, 79,\n",
       "       40, 77, 49, 71, 51, 39, 26, 47, 79, 23, 44, 37, 89, 77, 38, 87, 64,\n",
       "       89, 83, 57, 88, 34, 34, 29, 79, 74, 27, 20, 46, 82, 68, 58, 79, 42,\n",
       "       81, 42, 35, 45, 80, 75, 86, 69, 63, 74, 32, 70, 20, 82, 88, 69, 89,\n",
       "       20, 36, 89, 68, 49, 88, 49, 36, 34, 75, 66, 35, 47, 24, 20, 78, 22,\n",
       "       21, 74, 34, 84, 39, 84, 56, 41, 32, 75, 37, 86, 39, 46, 31, 85, 21,\n",
       "       54, 84, 39, 77, 71, 45, 47, 43, 82, 25, 39, 58, 31, 69, 57, 24, 41,\n",
       "       53, 48, 54, 56, 87, 42, 57, 62, 22, 47, 42, 23, 23, 74, 40, 42, 54,\n",
       "       77, 43, 47, 30, 71, 70, 28, 32, 21, 44, 55, 70, 73, 64, 23, 34, 79,\n",
       "       30, 73, 86, 26, 37, 41, 36, 79, 70, 51, 25, 50, 32, 29, 56, 88, 43,\n",
       "       82, 51, 34, 46, 25, 83, 41, 55, 41, 29, 44, 25, 64, 58, 60, 69, 71,\n",
       "       40, 27, 33, 46, 67, 25, 71, 45, 78, 66, 35, 44, 79, 30, 60, 25, 70,\n",
       "       20, 61, 72, 68, 27, 63, 76, 64, 28, 71, 59, 74, 32, 22, 39, 80, 22,\n",
       "       27, 29, 73, 33, 58, 84, 38, 71, 87, 34, 80, 64, 41, 79, 53, 60, 56,\n",
       "       29, 45, 45, 21, 22, 79, 40, 59, 89, 87, 41, 25, 70, 40, 41, 86, 29,\n",
       "       40, 41, 23, 89, 44, 85, 48, 55, 47, 57, 34, 58, 79, 20, 50, 44, 55,\n",
       "       23, 54, 46, 63, 79, 53, 65, 53, 35, 75, 79, 22, 65, 66, 87, 41, 61,\n",
       "       26, 64, 34, 59, 28, 58, 77, 24, 88, 49, 78, 24, 71, 70, 25, 42, 44,\n",
       "       39, 47, 37, 85, 76, 35, 35, 42, 69, 53, 79, 62, 74, 20, 53, 75, 87,\n",
       "       22, 62, 45, 27, 74, 62, 23, 46, 41, 31, 27, 80, 76, 24, 88, 49, 35,\n",
       "       57, 70, 49, 33, 83, 85, 58])"
      ]
     },
     "execution_count": 7,
     "metadata": {},
     "output_type": "execute_result"
    }
   ],
   "source": [
    "ages = np.random.randint(18, high=90, size=500)\n",
    "ages"
   ]
  },
  {
   "cell_type": "code",
   "execution_count": 8,
   "metadata": {
    "ExecuteTime": {
     "end_time": "2019-02-08T02:59:50.599579Z",
     "start_time": "2019-02-08T02:59:50.118235Z"
    }
   },
   "outputs": [
    {
     "data": {
      "text/plain": [
       "ModeResult(mode=array([79]), count=array([16]))"
      ]
     },
     "execution_count": 8,
     "metadata": {},
     "output_type": "execute_result"
    }
   ],
   "source": [
    "from scipy import stats\n",
    "stats.mode(ages)"
   ]
  },
  {
   "cell_type": "code",
   "execution_count": null,
   "metadata": {},
   "outputs": [],
   "source": []
  }
 ],
 "metadata": {
  "kernelspec": {
   "display_name": "Python 3",
   "language": "python",
   "name": "python3"
  },
  "language_info": {
   "codemirror_mode": {
    "name": "ipython",
    "version": 3
   },
   "file_extension": ".py",
   "mimetype": "text/x-python",
   "name": "python",
   "nbconvert_exporter": "python",
   "pygments_lexer": "ipython3",
   "version": "3.5.4"
  },
  "toc": {
   "base_numbering": 1,
   "nav_menu": {},
   "number_sections": true,
   "sideBar": true,
   "skip_h1_title": false,
   "title_cell": "Table of Contents",
   "title_sidebar": "Contents",
   "toc_cell": true,
   "toc_position": {},
   "toc_section_display": true,
   "toc_window_display": true
  }
 },
 "nbformat": 4,
 "nbformat_minor": 1
}
