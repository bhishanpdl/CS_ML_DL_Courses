{
 "cells": [
  {
   "cell_type": "markdown",
   "metadata": {
    "toc": true
   },
   "source": [
    "<h1>Table of Contents<span class=\"tocSkip\"></span></h1>\n",
    "<div class=\"toc\"><ul class=\"toc-item\"><li><span><a href=\"#Imports\" data-toc-modified-id=\"Imports-1\"><span class=\"toc-item-num\">1&nbsp;&nbsp;</span>Imports</a></span></li><li><span><a href=\"#Read-data\" data-toc-modified-id=\"Read-data-2\"><span class=\"toc-item-num\">2&nbsp;&nbsp;</span>Read data</a></span></li><li><span><a href=\"#Balance-data-(equalize-priors)\" data-toc-modified-id=\"Balance-data-(equalize-priors)-3\"><span class=\"toc-item-num\">3&nbsp;&nbsp;</span>Balance data (equalize priors)</a></span></li><li><span><a href=\"#Standardize-input\" data-toc-modified-id=\"Standardize-input-4\"><span class=\"toc-item-num\">4&nbsp;&nbsp;</span>Standardize input</a></span></li><li><span><a href=\"#Shuffle-data\" data-toc-modified-id=\"Shuffle-data-5\"><span class=\"toc-item-num\">5&nbsp;&nbsp;</span>Shuffle data</a></span></li><li><span><a href=\"#Split-data-(train,-validation,-test)\" data-toc-modified-id=\"Split-data-(train,-validation,-test)-6\"><span class=\"toc-item-num\">6&nbsp;&nbsp;</span>Split data (train, validation, test)</a></span></li><li><span><a href=\"#Save-as-.npz\" data-toc-modified-id=\"Save-as-.npz-7\"><span class=\"toc-item-num\">7&nbsp;&nbsp;</span>Save as .npz</a></span></li></ul></div>"
   ]
  },
  {
   "cell_type": "markdown",
   "metadata": {},
   "source": [
    "# Imports"
   ]
  },
  {
   "cell_type": "code",
   "execution_count": 1,
   "metadata": {
    "ExecuteTime": {
     "end_time": "2018-12-29T17:33:35.781075Z",
     "start_time": "2018-12-29T17:33:35.408843Z"
    }
   },
   "outputs": [],
   "source": [
    "import numpy as np\n",
    "from sklearn import preprocessing"
   ]
  },
  {
   "cell_type": "markdown",
   "metadata": {},
   "source": [
    "# Read data"
   ]
  },
  {
   "cell_type": "code",
   "execution_count": 2,
   "metadata": {
    "ExecuteTime": {
     "end_time": "2018-12-29T17:33:35.922461Z",
     "start_time": "2018-12-29T17:33:35.783952Z"
    }
   },
   "outputs": [],
   "source": [
    "fname = '../data/csv/Audiobooks_data.csv'\n",
    "data = np.loadtxt(fname, delimiter=',')\n",
    "\n",
    "X = data[:, 1:-1]\n",
    "y = data[:, -1]"
   ]
  },
  {
   "cell_type": "markdown",
   "metadata": {
    "ExecuteTime": {
     "end_time": "2018-12-26T19:46:12.741280Z",
     "start_time": "2018-12-26T19:46:12.725499Z"
    }
   },
   "source": [
    "# Balance data (equalize priors)"
   ]
  },
  {
   "cell_type": "code",
   "execution_count": 3,
   "metadata": {
    "ExecuteTime": {
     "end_time": "2018-12-29T17:33:35.936373Z",
     "start_time": "2018-12-29T17:33:35.924107Z"
    }
   },
   "outputs": [],
   "source": [
    "num_ones_y = int(np.sum(y))\n",
    "\n",
    "zero_counts_y = 0\n",
    "idx_remove = []\n",
    "\n",
    "for i in range(y.shape[0]):\n",
    "    if y[i] == 0:\n",
    "        zero_counts_y += 1\n",
    "        if zero_counts_y > num_ones_y:\n",
    "            idx_remove.append(i)\n",
    "            \n",
    "X = np.delete(X, idx_remove, axis=0)\n",
    "y = np.delete(y, idx_remove, axis=0)"
   ]
  },
  {
   "cell_type": "markdown",
   "metadata": {},
   "source": [
    "# Standardize input"
   ]
  },
  {
   "cell_type": "code",
   "execution_count": 4,
   "metadata": {
    "ExecuteTime": {
     "end_time": "2018-12-29T17:33:35.946615Z",
     "start_time": "2018-12-29T17:33:35.939379Z"
    }
   },
   "outputs": [],
   "source": [
    "X = preprocessing.scale(X)"
   ]
  },
  {
   "cell_type": "markdown",
   "metadata": {
    "ExecuteTime": {
     "end_time": "2018-12-26T19:40:17.309487Z",
     "start_time": "2018-12-26T19:40:17.303905Z"
    }
   },
   "source": [
    "# Shuffle data"
   ]
  },
  {
   "cell_type": "code",
   "execution_count": 5,
   "metadata": {
    "ExecuteTime": {
     "end_time": "2018-12-29T17:33:35.951654Z",
     "start_time": "2018-12-29T17:33:35.948384Z"
    }
   },
   "outputs": [],
   "source": [
    "idx = np.arange(X.shape[0])\n",
    "np.random.shuffle(idx)\n",
    "\n",
    "X = X[idx]\n",
    "y = y[idx]"
   ]
  },
  {
   "cell_type": "markdown",
   "metadata": {},
   "source": [
    "# Split data (train, validation, test)"
   ]
  },
  {
   "cell_type": "code",
   "execution_count": 6,
   "metadata": {
    "ExecuteTime": {
     "end_time": "2018-12-29T17:33:35.963879Z",
     "start_time": "2018-12-29T17:33:35.954468Z"
    }
   },
   "outputs": [
    {
     "name": "stdout",
     "output_type": "stream",
     "text": [
      "Targets (y)\n",
      "Counts  sum  ratio\n",
      "3579 1783.0 0.49818385023749645\n",
      "447 218.0 0.4876957494407158\n",
      "448 218.0 0.5267857142857142\n"
     ]
    }
   ],
   "source": [
    "N = X.shape[0]\n",
    "\n",
    "n_train = int(0.8 * N)\n",
    "n_valid = int(0.1 * N)\n",
    "n_test = N - n_train - n_valid\n",
    "\n",
    "X_train = X[:n_train]\n",
    "y_train = y[:n_train]\n",
    "\n",
    "X_valid = X[n_train: n_train+n_valid]\n",
    "y_valid = y[n_train: n_train+n_valid]\n",
    "\n",
    "X_test = X[n_train+n_valid:]\n",
    "y_test = y[n_train+n_valid:]\n",
    "\n",
    "print('Targets (y)')\n",
    "print('Counts  sum  ratio')\n",
    "print(n_train, np.sum(y_train), np.sum(y_train/n_train))\n",
    "print(n_valid, np.sum(y_valid), np.sum(y_valid/n_valid))\n",
    "print(n_test, np.sum(y_valid), np.sum(y_test/n_test))"
   ]
  },
  {
   "cell_type": "markdown",
   "metadata": {},
   "source": [
    "# Save as .npz"
   ]
  },
  {
   "cell_type": "code",
   "execution_count": 7,
   "metadata": {
    "ExecuteTime": {
     "end_time": "2018-12-29T17:33:35.976724Z",
     "start_time": "2018-12-29T17:33:35.966137Z"
    }
   },
   "outputs": [],
   "source": [
    "np.savez('../data/outputs/Audiobooks_data_train',      inputs=X_train, targets=y_train)\n",
    "np.savez('../data/outputs/Audiobooks_data_validation', inputs=X_valid, targets=y_valid)\n",
    "np.savez('../data/outputs/Audiobooks_data_test',       inputs=X_test,  targets=y_test)"
   ]
  }
 ],
 "metadata": {
  "kernelspec": {
   "display_name": "Python3.7 (tensorflow)",
   "language": "python",
   "name": "tf"
  },
  "language_info": {
   "codemirror_mode": {
    "name": "ipython",
    "version": 3
   },
   "file_extension": ".py",
   "mimetype": "text/x-python",
   "name": "python",
   "nbconvert_exporter": "python",
   "pygments_lexer": "ipython3",
   "version": "3.6.6"
  },
  "toc": {
   "base_numbering": 1,
   "nav_menu": {},
   "number_sections": true,
   "sideBar": true,
   "skip_h1_title": false,
   "title_cell": "Table of Contents",
   "title_sidebar": "Contents",
   "toc_cell": true,
   "toc_position": {},
   "toc_section_display": true,
   "toc_window_display": true
  }
 },
 "nbformat": 4,
 "nbformat_minor": 2
}
