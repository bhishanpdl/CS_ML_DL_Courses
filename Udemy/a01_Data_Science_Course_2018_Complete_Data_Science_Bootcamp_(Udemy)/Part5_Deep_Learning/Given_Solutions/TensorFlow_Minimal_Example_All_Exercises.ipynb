{
 "cells": [
  {
   "cell_type": "markdown",
   "metadata": {
    "toc": true
   },
   "source": [
    "<h1>Table of Contents<span class=\"tocSkip\"></span></h1>\n",
    "<div class=\"toc\"><ul class=\"toc-item\"><li><span><a href=\"#Using-the-same-code-as-before,-please-solve-the-following-exercises\" data-toc-modified-id=\"Using-the-same-code-as-before,-please-solve-the-following-exercises-1\"><span class=\"toc-item-num\">1&nbsp;&nbsp;</span>Using the same code as before, please solve the following exercises</a></span><ul class=\"toc-item\"><li><ul class=\"toc-item\"><li><span><a href=\"#Import-the-relevant-libraries\" data-toc-modified-id=\"Import-the-relevant-libraries-1.0.1\"><span class=\"toc-item-num\">1.0.1&nbsp;&nbsp;</span>Import the relevant libraries</a></span></li><li><span><a href=\"#Data-generation\" data-toc-modified-id=\"Data-generation-1.0.2\"><span class=\"toc-item-num\">1.0.2&nbsp;&nbsp;</span>Data generation</a></span></li></ul></li><li><span><a href=\"#Solving-with-TensorFlow\" data-toc-modified-id=\"Solving-with-TensorFlow-1.1\"><span class=\"toc-item-num\">1.1&nbsp;&nbsp;</span>Solving with TensorFlow</a></span><ul class=\"toc-item\"><li><span><a href=\"#Outlining-the-model\" data-toc-modified-id=\"Outlining-the-model-1.1.1\"><span class=\"toc-item-num\">1.1.1&nbsp;&nbsp;</span>Outlining the model</a></span></li><li><span><a href=\"#Choosing-the-objective-function-and-the-optimization-method\" data-toc-modified-id=\"Choosing-the-objective-function-and-the-optimization-method-1.1.2\"><span class=\"toc-item-num\">1.1.2&nbsp;&nbsp;</span>Choosing the objective function and the optimization method</a></span></li><li><span><a href=\"#Prepare-for-execution\" data-toc-modified-id=\"Prepare-for-execution-1.1.3\"><span class=\"toc-item-num\">1.1.3&nbsp;&nbsp;</span>Prepare for execution</a></span></li><li><span><a href=\"#Initializing-variables\" data-toc-modified-id=\"Initializing-variables-1.1.4\"><span class=\"toc-item-num\">1.1.4&nbsp;&nbsp;</span>Initializing variables</a></span></li><li><span><a href=\"#Loading-training-data\" data-toc-modified-id=\"Loading-training-data-1.1.5\"><span class=\"toc-item-num\">1.1.5&nbsp;&nbsp;</span>Loading training data</a></span></li><li><span><a href=\"#Learning\" data-toc-modified-id=\"Learning-1.1.6\"><span class=\"toc-item-num\">1.1.6&nbsp;&nbsp;</span>Learning</a></span></li><li><span><a href=\"#Plotting-the-data\" data-toc-modified-id=\"Plotting-the-data-1.1.7\"><span class=\"toc-item-num\">1.1.7&nbsp;&nbsp;</span>Plotting the data</a></span></li></ul></li></ul></li></ul></div>"
   ]
  },
  {
   "cell_type": "markdown",
   "metadata": {},
   "source": [
    "# Using the same code as before, please solve the following exercises\n",
    "    1. Change the number of observations to 100,000 and see what happens.\n",
    "    2. Play around with the learning rate. Values like 0.0001, 0.001, 0.1, 1 are all interesting to observe. \n",
    "    3. Change the loss function. An alternative loss for regressions is the Huber loss. \n",
    "    The Huber loss is more appropriate than the L2-norm when we have outliers, as it is less sensitive to them (in our example we don't have outliers, but you will surely stumble upon a dataset with outliers in the future). The L2-norm loss puts all differences *to the square*, so outliers have a lot of influence on the outcome. \n",
    "    The proper syntax of the Huber loss is tf.losses.huber_loss(labels, predictions).\n",
    "    4. Examine the code where we plot the data. Study how we managed to get the value of the outputs. \n",
    "    In a similar way, find get the value of the weights and the biases and print it. This exercise will help you comprehend the TensorFlow syntax\n",
    "    \n",
    "    \n",
    "Useful tip: When you change something, don't forget to RERUN all cells. This can be done easily by clicking:\n",
    "Kernel -> Restart & Run All\n",
    "If you don't do that, your algorithm will keep the OLD values of all parameters.\n",
    "\n",
    "You can either use this file for all the exercises, or check the solutions of EACH ONE of them in the separate files we have provided. All other files are solutions of each problem. If you feel confident enough, you can simply change values in this file. Please note that it will be nice, if you return the file to starting position after you have solved a problem, so you can use the lecture as a basis for comparison."
   ]
  },
  {
   "cell_type": "markdown",
   "metadata": {},
   "source": [
    "### Import the relevant libraries"
   ]
  },
  {
   "cell_type": "code",
   "execution_count": 11,
   "metadata": {
    "ExecuteTime": {
     "end_time": "2018-12-18T23:38:51.631827Z",
     "start_time": "2018-12-18T23:38:51.627067Z"
    }
   },
   "outputs": [],
   "source": [
    "# We must always import the relevant libraries for our problem at hand. NumPy and TensorFlow are required for this example.\n",
    "import numpy as np\n",
    "import matplotlib.pyplot as plt\n",
    "import tensorflow as tf"
   ]
  },
  {
   "cell_type": "markdown",
   "metadata": {},
   "source": [
    "### Data generation\n",
    "\n",
    "We generate data using the exact same logic and code as the example from the previous notebook. The only difference now is that we save it to an npz file. Npz is numpy's file type which allows you to save numpy arrays into a single .npz file. We introduce this change because in machine learning most often: \n",
    "\n",
    "* you are given some data (csv, database, etc.)\n",
    "* you preprocess it into a desired format (later on we will see methods for preprocesing)\n",
    "* you save it into npz files (if you're working in Python) to access later\n",
    "\n",
    "Nothing to worry about - this is literally saving your NumPy arrays into a file that you can later access, nothing more."
   ]
  },
  {
   "cell_type": "code",
   "execution_count": 12,
   "metadata": {
    "ExecuteTime": {
     "end_time": "2018-12-18T23:38:51.644187Z",
     "start_time": "2018-12-18T23:38:51.634880Z"
    }
   },
   "outputs": [],
   "source": [
    "# First, we should declare a variable containing the size of the training set we want to generate.\n",
    "observations = 1000\n",
    "\n",
    "# We will work with two variables as inputs. You can think about them as x1 and x2 in our previous examples.\n",
    "# We have picked x and z, since it is easier to differentiate them.\n",
    "# We generate them randomly, drawing from an uniform distribution. There are 3 arguments of this method (low, high, size).\n",
    "# The size of xs and zs is observations x 1. In this case: 1000 x 1.\n",
    "xs = np.random.uniform(low=-10, high=10, size=(observations,1))\n",
    "zs = np.random.uniform(-10, 10, (observations,1))\n",
    "\n",
    "# Combine the two dimensions of the input into one input matrix. \n",
    "# This is the X matrix from the linear model y = x*w + b.\n",
    "# column_stack is a Numpy method, which combines two matrices (vectors) into one.\n",
    "generated_inputs = np.column_stack((xs,zs))\n",
    "\n",
    "# We add a random small noise to the function i.e. f(x,z) = 2x - 3z + 5 + <small noise>\n",
    "noise = np.random.uniform(-1, 1, (observations,1))\n",
    "\n",
    "# Produce the targets according to our f(x,z) = 2x - 3z + 5 + noise definition.\n",
    "# In this way, we are basically saying: the weights should be 2 and -3, while the bias is 5.\n",
    "generated_targets = 2*xs - 3*zs + 5 + noise\n",
    "\n",
    "# save into an npz file called \"TF_intro\"\n",
    "np.savez('TF_intro', inputs=generated_inputs, targets=generated_targets)"
   ]
  },
  {
   "cell_type": "markdown",
   "metadata": {},
   "source": [
    "## Solving with TensorFlow\n",
    "\n",
    "<i/>Note: This intro is just the basics of TensorFlow which has way more capabilities and depth than that.<i>"
   ]
  },
  {
   "cell_type": "code",
   "execution_count": 13,
   "metadata": {
    "ExecuteTime": {
     "end_time": "2018-12-18T23:38:51.651681Z",
     "start_time": "2018-12-18T23:38:51.646749Z"
    }
   },
   "outputs": [],
   "source": [
    "# The shape of the data we've prepared above. Think about it as: number of inputs, number of outputs.\n",
    "input_size = 2\n",
    "output_size = 1"
   ]
  },
  {
   "cell_type": "markdown",
   "metadata": {},
   "source": [
    "### Outlining the model"
   ]
  },
  {
   "cell_type": "code",
   "execution_count": 14,
   "metadata": {
    "ExecuteTime": {
     "end_time": "2018-12-18T23:38:51.678812Z",
     "start_time": "2018-12-18T23:38:51.654433Z"
    }
   },
   "outputs": [],
   "source": [
    "# Here we define a basic TensorFlow object - the placeholder.\n",
    "# As before, we will feed the inputs and targets to the model. \n",
    "# In the TensorFlow context, we feed the data to the model THROUGH the placeholders. \n",
    "# The particular inputs and targets are contained in our .npz file.\n",
    "\n",
    "# The first None parameter of the placeholders' shape means that\n",
    "# this dimension could be of any length. That's since we are mainly interested in\n",
    "# the input size, i.e. how many input variables we have and not the number of samples (observations)\n",
    "# The number of input variables changes the MODEL itself, while the number of observations doesn't.\n",
    "# Remember that the weights and biases were independent of the number of samples, so the MODEL is independent.\n",
    "# Important: NO calculation happens at this point.\n",
    "inputs = tf.placeholder(tf.float32, [None, input_size])\n",
    "targets = tf.placeholder(tf.float32, [None, output_size])\n",
    "\n",
    "# As before, we define our weights and biases.\n",
    "# They are the other basic TensorFlow object - a variable.\n",
    "# We feed data into placeholders and they have a different value for each iteration\n",
    "# Variables, however, preserve their values across iterations.\n",
    "# To sum up, data goes into placeholders; parameters go into variables.\n",
    "\n",
    "# We use the same random uniform initialization in [-0.1,0.1] as in the minimal example but using the TF syntax\n",
    "# Important: NO calculation happens at this point.\n",
    "weights = tf.Variable(tf.random_uniform([input_size, output_size], minval=-0.1, maxval=0.1))\n",
    "biases = tf.Variable(tf.random_uniform([output_size], minval=-0.1, maxval=0.1))\n",
    "\n",
    "# We get the outputs following our linear combination: y = xw + b\n",
    "# Important: NO calculation happens at this point.\n",
    "# This line simply tells TensorFlow what rule to apply when we feed in the training data (below).\n",
    "outputs = tf.matmul(inputs, weights) + biases"
   ]
  },
  {
   "cell_type": "markdown",
   "metadata": {},
   "source": [
    "### Choosing the objective function and the optimization method"
   ]
  },
  {
   "cell_type": "code",
   "execution_count": 15,
   "metadata": {
    "ExecuteTime": {
     "end_time": "2018-12-18T23:38:51.781213Z",
     "start_time": "2018-12-18T23:38:51.680704Z"
    }
   },
   "outputs": [],
   "source": [
    "# Again, we use a loss function, this time readily available, though.\n",
    "# mean_squared_error is the scaled L2-norm (per observation)\n",
    "# We divide by two to follow our earlier definitions. That doesn't really change anything.\n",
    "mean_loss = tf.losses.mean_squared_error(labels=targets, predictions=outputs) / 2.\n",
    "\n",
    "# Note that there also exists a function tf.nn.l2_loss. \n",
    "# tf.nn.l2_loss calculates the loss over all samples, instead of the average loss per sample.\n",
    "# Practically it's the same, a matter of preference.\n",
    "# The difference would be a smaller or larger learning rate to achieve the exact same result.\n",
    "\n",
    "# Instead of implementing Gradient Descent on our own, in TensorFlow we can simply state\n",
    "# \"Minimize the mean loss by using Gradient Descent with a given learning rate\"\n",
    "# Simple as that.\n",
    "optimize = tf.train.GradientDescentOptimizer(learning_rate=0.05).minimize(mean_loss)"
   ]
  },
  {
   "cell_type": "markdown",
   "metadata": {},
   "source": [
    "### Prepare for execution"
   ]
  },
  {
   "cell_type": "code",
   "execution_count": 16,
   "metadata": {
    "ExecuteTime": {
     "end_time": "2018-12-18T23:38:51.789846Z",
     "start_time": "2018-12-18T23:38:51.783384Z"
    }
   },
   "outputs": [
    {
     "name": "stderr",
     "output_type": "stream",
     "text": [
      "/Users/poudel/miniconda3/lib/python3.5/site-packages/tensorflow/python/client/session.py:1645: UserWarning: An interactive session is already active. This can cause out-of-memory errors in some cases. You must explicitly call `InteractiveSession.close()` to release resources held by the other session(s).\n",
      "  warnings.warn('An interactive session is already active. This can '\n"
     ]
    }
   ],
   "source": [
    "# So far we've defined the placeholders, variables, the loss function and the optimization method.\n",
    "# We have the structure for training, but we haven't trained anything yet.\n",
    "# The actual training (and subsequent implementation of the ML algorithm) happens inside sessions.\n",
    "sess = tf.InteractiveSession()"
   ]
  },
  {
   "cell_type": "markdown",
   "metadata": {},
   "source": [
    "### Initializing variables"
   ]
  },
  {
   "cell_type": "code",
   "execution_count": 17,
   "metadata": {
    "ExecuteTime": {
     "end_time": "2018-12-18T23:38:51.811538Z",
     "start_time": "2018-12-18T23:38:51.792814Z"
    }
   },
   "outputs": [],
   "source": [
    "# Before we start training, we need to initialize our variables: the weights and biases.\n",
    "# There is a specific method for initializing called global_variables_initializer().\n",
    "# Let's declare a variable \"initializer\" that will do that.\n",
    "initializer = tf.global_variables_initializer()\n",
    "\n",
    "# Time to initialize the variables.\n",
    "sess.run(initializer)"
   ]
  },
  {
   "cell_type": "markdown",
   "metadata": {},
   "source": [
    "### Loading training data"
   ]
  },
  {
   "cell_type": "code",
   "execution_count": 18,
   "metadata": {
    "ExecuteTime": {
     "end_time": "2018-12-18T23:38:51.817549Z",
     "start_time": "2018-12-18T23:38:51.813771Z"
    }
   },
   "outputs": [],
   "source": [
    "# We finally load the training data we created above.\n",
    "training_data = np.load('TF_intro.npz')"
   ]
  },
  {
   "cell_type": "markdown",
   "metadata": {},
   "source": [
    "### Learning"
   ]
  },
  {
   "cell_type": "code",
   "execution_count": 19,
   "metadata": {
    "ExecuteTime": {
     "end_time": "2018-12-18T23:38:52.046886Z",
     "start_time": "2018-12-18T23:38:51.820107Z"
    }
   },
   "outputs": [
    {
     "name": "stdout",
     "output_type": "stream",
     "text": [
      "236.57675\n",
      "110.62798\n",
      "54.539616\n",
      "29.187218\n",
      "17.446587\n",
      "11.78491\n",
      "8.870746\n",
      "7.2218804\n",
      "6.174061\n",
      "5.4266906\n",
      "4.841758\n",
      "4.3543825\n",
      "3.932851\n",
      "3.5606675\n",
      "3.2284331\n",
      "2.9301665\n",
      "2.661609\n",
      "2.419435\n",
      "2.200886\n",
      "2.0035806\n",
      "1.8254141\n",
      "1.6645151\n",
      "1.5192027\n",
      "1.3879645\n",
      "1.2694322\n",
      "1.1623776\n",
      "1.0656887\n",
      "0.97835964\n",
      "0.89948684\n",
      "0.82825017\n",
      "0.7639103\n",
      "0.7057996\n",
      "0.65331537\n",
      "0.60591215\n",
      "0.5630986\n",
      "0.5244298\n",
      "0.48950544\n",
      "0.45796192\n",
      "0.4294727\n",
      "0.403741\n",
      "0.38050094\n",
      "0.35951108\n",
      "0.34055337\n",
      "0.32343096\n",
      "0.30796644\n",
      "0.2939993\n",
      "0.281384\n",
      "0.2699904\n",
      "0.25969988\n",
      "0.2504058\n",
      "0.24201132\n",
      "0.23442957\n",
      "0.22758174\n",
      "0.22139707\n",
      "0.2158112\n",
      "0.21076593\n",
      "0.20620945\n",
      "0.20209393\n",
      "0.19837695\n",
      "0.19501983\n",
      "0.19198765\n",
      "0.18924902\n",
      "0.18677558\n",
      "0.18454169\n",
      "0.18252394\n",
      "0.18070161\n",
      "0.1790557\n",
      "0.17756924\n",
      "0.1762265\n",
      "0.17501394\n",
      "0.17391865\n",
      "0.17292948\n",
      "0.1720361\n",
      "0.17122912\n",
      "0.17050038\n",
      "0.16984206\n",
      "0.16924758\n",
      "0.16871066\n",
      "0.1682257\n",
      "0.16778773\n",
      "0.16739205\n",
      "0.16703478\n",
      "0.16671197\n",
      "0.16642065\n",
      "0.16615736\n",
      "0.1659196\n",
      "0.16570485\n",
      "0.16551091\n",
      "0.16533573\n",
      "0.16517751\n",
      "0.1650346\n",
      "0.16490547\n",
      "0.16478899\n",
      "0.16468376\n",
      "0.16458866\n",
      "0.16450271\n",
      "0.16442518\n",
      "0.1643551\n",
      "0.16429184\n",
      "0.16423467\n"
     ]
    }
   ],
   "source": [
    "# As in the previous example, we train for a set number (100) of iterations over the dataset\n",
    "for i in range(100):\n",
    "    # This expression is a bit more complex but you'll learn to appreciate its power and\n",
    "    # flexibility in the following lessons.\n",
    "    # sess.run is the session's function to actually do something, anything.\n",
    "    # Above, we used it to initialize the variables.\n",
    "    # Here, we use it to feed the training data to the computational graph, defined by the feed_dict parameter\n",
    "    # and run operations (already defined above), given as the first parameter (optimize, mean_loss).\n",
    "    \n",
    "    # So the line of code means: \"Run the optimize and mean_loss operations by filling the placeholder\n",
    "    # objects with data from the feed_dict parameter\".\n",
    "    # Curr_loss catches the output from the two operations.\n",
    "    # Using \"_,\" we omit the first one, because optimize has no output (it's always \"None\"). \n",
    "    # The second one catches the value of the mean_loss for the current run, thus curr_loss actually = mean_loss \n",
    "    _, curr_loss = sess.run([optimize, mean_loss], \n",
    "        feed_dict={inputs: training_data['inputs'], targets: training_data['targets']})\n",
    "    \n",
    "    # We print the current average loss\n",
    "    print(curr_loss)"
   ]
  },
  {
   "cell_type": "markdown",
   "metadata": {},
   "source": [
    "### Plotting the data"
   ]
  },
  {
   "cell_type": "code",
   "execution_count": 20,
   "metadata": {
    "ExecuteTime": {
     "end_time": "2018-12-18T23:38:52.198499Z",
     "start_time": "2018-12-18T23:38:52.049244Z"
    }
   },
   "outputs": [
    {
     "data": {
      "image/png": "[encoded data removed]",
      "text/plain": [
       "<Figure size 432x288 with 1 Axes>"
      ]
     },
     "metadata": {
      "needs_background": "light"
     },
     "output_type": "display_data"
    }
   ],
   "source": [
    "# As before, we want to plot the last output vs targets after the training is supposedly over.\n",
    "# Same notation as above but this time we don't want to train anymore, and we are not interested\n",
    "# in the loss function value.\n",
    "# What we want, however, are the outputs. \n",
    "# Therefore, instead of the optimize and mean_loss operations, we pass the \"outputs\" as the only parameter.\n",
    "out = sess.run([outputs], \n",
    "               feed_dict={inputs: training_data['inputs']})\n",
    "# The model is optimized, so the outputs are calculated based on the last form of the model\n",
    "\n",
    "# We have to np.squeeze the arrays in order to fit them to what the plot function expects.\n",
    "# Doesn't change anything as we cut dimensions of size 1 - just a technicality.\n",
    "plt.plot(np.squeeze(out), np.squeeze(training_data['targets']))\n",
    "plt.xlabel('outputs')\n",
    "plt.ylabel('targets')\n",
    "plt.show()\n",
    "        \n",
    "# Voila - what you see should be exactly the same as in the previous notebook!\n",
    "# You probably don't see the point of TensorFlow now - it took us more lines of code\n",
    "# to achieve this simple result. However, once we go deeper in the next chapter,\n",
    "# TensorFlow will save us hundreds of lines of code."
   ]
  }
 ],
 "metadata": {
  "kernelspec": {
   "display_name": "Python 3",
   "language": "python",
   "name": "python3"
  },
  "language_info": {
   "codemirror_mode": {
    "name": "ipython",
    "version": 3
   },
   "file_extension": ".py",
   "mimetype": "text/x-python",
   "name": "python",
   "nbconvert_exporter": "python",
   "pygments_lexer": "ipython3",
   "version": "3.5.4"
  },
  "toc": {
   "base_numbering": 1,
   "nav_menu": {},
   "number_sections": true,
   "sideBar": true,
   "skip_h1_title": false,
   "title_cell": "Table of Contents",
   "title_sidebar": "Contents",
   "toc_cell": true,
   "toc_position": {},
   "toc_section_display": true,
   "toc_window_display": true
  }
 },
 "nbformat": 4,
 "nbformat_minor": 2
}
