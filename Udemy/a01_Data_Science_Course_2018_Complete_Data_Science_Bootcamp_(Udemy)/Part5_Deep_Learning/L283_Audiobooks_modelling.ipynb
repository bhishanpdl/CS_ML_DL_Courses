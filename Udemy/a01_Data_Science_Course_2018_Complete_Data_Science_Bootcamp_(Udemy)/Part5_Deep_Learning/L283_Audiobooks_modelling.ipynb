{
 "cells": [
  {
   "cell_type": "markdown",
   "metadata": {
    "toc": true
   },
   "source": [
    "<h1>Table of Contents<span class=\"tocSkip\"></span></h1>\n",
    "<div class=\"toc\"><ul class=\"toc-item\"><li><span><a href=\"#Imports\" data-toc-modified-id=\"Imports-1\"><span class=\"toc-item-num\">1&nbsp;&nbsp;</span>Imports</a></span></li><li><span><a href=\"#Batch-Reader\" data-toc-modified-id=\"Batch-Reader-2\"><span class=\"toc-item-num\">2&nbsp;&nbsp;</span>Batch Reader</a></span></li><li><span><a href=\"#Model\" data-toc-modified-id=\"Model-3\"><span class=\"toc-item-num\">3&nbsp;&nbsp;</span>Model</a></span></li><li><span><a href=\"#Test-the-Model\" data-toc-modified-id=\"Test-the-Model-4\"><span class=\"toc-item-num\">4&nbsp;&nbsp;</span>Test the Model</a></span></li></ul></div>"
   ]
  },
  {
   "cell_type": "markdown",
   "metadata": {},
   "source": [
    "# Imports"
   ]
  },
  {
   "cell_type": "code",
   "execution_count": 1,
   "metadata": {
    "ExecuteTime": {
     "end_time": "2018-12-29T17:28:50.268505Z",
     "start_time": "2018-12-29T17:28:50.218413Z"
    }
   },
   "outputs": [],
   "source": [
    "import numpy as np"
   ]
  },
  {
   "cell_type": "markdown",
   "metadata": {},
   "source": [
    "# Batch Reader"
   ]
  },
  {
   "cell_type": "code",
   "execution_count": 2,
   "metadata": {
    "ExecuteTime": {
     "end_time": "2018-12-29T17:28:50.280917Z",
     "start_time": "2018-12-29T17:28:50.270599Z"
    }
   },
   "outputs": [],
   "source": [
    "import numpy as np\n",
    "\n",
    "# Adapted from Udemy course of data science.\n",
    "class Audiobooks_Data_Reader():\n",
    "    # Dataset is a mandatory arugment, while the batch_size is optional\n",
    "    # If you don't input batch_size, it will automatically take the value: None\n",
    "    #\n",
    "    # Changes: \n",
    "    # 1. Name of datafile\n",
    "    # 2. Number of classes      \n",
    "    def __init__(self, dataset, batch_size = None):\n",
    "    \n",
    "        # The dataset that loads is one of \"train\", \"validation\", \"test\".\n",
    "        npz = np.load('../data/outputs/Audiobooks_data_{0}.npz'.format(dataset))\n",
    "        \n",
    "        # Two variables that take the values of the inputs and the targets. \n",
    "        # Inputs are floats, targets are integers\n",
    "        self.inputs, self.targets = npz['inputs'].astype(np.float), npz['targets'].astype(np.int)\n",
    "        \n",
    "        # Counts the batch number, given the size you feed it later\n",
    "        # e.g. for validation batch is None, we can load whole data at once.\n",
    "        if batch_size is None:\n",
    "            self.batch_size = self.inputs.shape[0]\n",
    "        else:\n",
    "            self.batch_size = batch_size\n",
    "        self.curr_batch = 0\n",
    "        self.batch_count = self.inputs.shape[0] // self.batch_size\n",
    "    \n",
    "    def __next__(self):\n",
    "        if self.curr_batch >= self.batch_count:\n",
    "            self.curr_batch = 0\n",
    "            raise StopIteration()\n",
    "            \n",
    "        # You slice the dataset in batches and then the \"next\" function loads them one after the other\n",
    "        batch_slice = slice(self.curr_batch * self.batch_size, (self.curr_batch + 1) * self.batch_size)\n",
    "        inputs_batch = self.inputs[batch_slice]\n",
    "        targets_batch = self.targets[batch_slice]\n",
    "        self.curr_batch += 1\n",
    "        \n",
    "        # one hot encode labels\n",
    "        classes_num = 2\n",
    "        targets_one_hot = np.zeros((targets_batch.shape[0], classes_num))\n",
    "        targets_one_hot[range(targets_batch.shape[0]), targets_batch] = 1\n",
    "        \n",
    "\n",
    "        return inputs_batch, targets_one_hot\n",
    "    \n",
    "\n",
    "    def __iter__(self):\n",
    "        return self"
   ]
  },
  {
   "cell_type": "markdown",
   "metadata": {},
   "source": [
    "# Model"
   ]
  },
  {
   "cell_type": "code",
   "execution_count": 3,
   "metadata": {
    "ExecuteTime": {
     "end_time": "2018-12-29T17:28:54.518150Z",
     "start_time": "2018-12-29T17:28:50.283310Z"
    }
   },
   "outputs": [
    {
     "name": "stdout",
     "output_type": "stream",
     "text": [
      "WARNING:tensorflow:From <ipython-input-3-3446b26f5019>:32: softmax_cross_entropy_with_logits (from tensorflow.python.ops.nn_ops) is deprecated and will be removed in a future version.\n",
      "Instructions for updating:\n",
      "\n",
      "Future major versions of TensorFlow will allow gradients to flow\n",
      "into the labels input on backprop by default.\n",
      "\n",
      "See @{tf.nn.softmax_cross_entropy_with_logits_v2}.\n",
      "\n",
      "Epoch 1. Training loss: 0.745. Validation loss: 0.714. Validation accuracy: 51.68%\n",
      "Epoch 2. Training loss: 0.706. Validation loss: 0.686. Validation accuracy: 51.68%\n",
      "Epoch 3. Training loss: 0.682. Validation loss: 0.669. Validation accuracy: 53.24%\n",
      "Epoch 4. Training loss: 0.667. Validation loss: 0.658. Validation accuracy: 65.77%\n",
      "Epoch 5. Training loss: 0.655. Validation loss: 0.648. Validation accuracy: 71.36%\n",
      "Epoch 6. Training loss: 0.645. Validation loss: 0.639. Validation accuracy: 71.14%\n",
      "Epoch 7. Training loss: 0.636. Validation loss: 0.630. Validation accuracy: 72.48%\n",
      "Epoch 8. Training loss: 0.626. Validation loss: 0.621. Validation accuracy: 72.26%\n",
      "Epoch 9. Training loss: 0.617. Validation loss: 0.612. Validation accuracy: 70.92%\n",
      "Epoch 10. Training loss: 0.607. Validation loss: 0.603. Validation accuracy: 72.04%\n",
      "Epoch 11. Training loss: 0.598. Validation loss: 0.594. Validation accuracy: 73.15%\n",
      "Epoch 12. Training loss: 0.588. Validation loss: 0.585. Validation accuracy: 73.83%\n",
      "Epoch 13. Training loss: 0.579. Validation loss: 0.576. Validation accuracy: 73.83%\n",
      "Epoch 14. Training loss: 0.570. Validation loss: 0.567. Validation accuracy: 73.15%\n",
      "Epoch 15. Training loss: 0.561. Validation loss: 0.558. Validation accuracy: 73.83%\n",
      "Epoch 16. Training loss: 0.552. Validation loss: 0.550. Validation accuracy: 74.05%\n",
      "Epoch 17. Training loss: 0.544. Validation loss: 0.542. Validation accuracy: 73.83%\n",
      "Epoch 18. Training loss: 0.536. Validation loss: 0.534. Validation accuracy: 74.94%\n",
      "Epoch 19. Training loss: 0.528. Validation loss: 0.526. Validation accuracy: 75.39%\n",
      "Epoch 20. Training loss: 0.520. Validation loss: 0.519. Validation accuracy: 75.17%\n",
      "Epoch 21. Training loss: 0.513. Validation loss: 0.512. Validation accuracy: 75.39%\n",
      "Epoch 22. Training loss: 0.506. Validation loss: 0.505. Validation accuracy: 74.94%\n",
      "Epoch 23. Training loss: 0.499. Validation loss: 0.499. Validation accuracy: 74.94%\n",
      "Epoch 24. Training loss: 0.493. Validation loss: 0.493. Validation accuracy: 75.39%\n",
      "Epoch 25. Training loss: 0.487. Validation loss: 0.487. Validation accuracy: 75.39%\n",
      "Epoch 26. Training loss: 0.481. Validation loss: 0.481. Validation accuracy: 75.39%\n",
      "Epoch 27. Training loss: 0.476. Validation loss: 0.476. Validation accuracy: 75.62%\n",
      "Epoch 28. Training loss: 0.471. Validation loss: 0.471. Validation accuracy: 75.39%\n",
      "Epoch 29. Training loss: 0.466. Validation loss: 0.466. Validation accuracy: 75.17%\n",
      "Epoch 30. Training loss: 0.461. Validation loss: 0.462. Validation accuracy: 75.39%\n",
      "Epoch 31. Training loss: 0.457. Validation loss: 0.457. Validation accuracy: 75.39%\n",
      "Epoch 32. Training loss: 0.452. Validation loss: 0.453. Validation accuracy: 75.39%\n",
      "Epoch 33. Training loss: 0.448. Validation loss: 0.450. Validation accuracy: 75.62%\n",
      "Epoch 34. Training loss: 0.445. Validation loss: 0.446. Validation accuracy: 75.62%\n",
      "Epoch 35. Training loss: 0.441. Validation loss: 0.443. Validation accuracy: 75.62%\n",
      "Epoch 36. Training loss: 0.438. Validation loss: 0.439. Validation accuracy: 75.62%\n",
      "Epoch 37. Training loss: 0.434. Validation loss: 0.436. Validation accuracy: 75.84%\n",
      "Epoch 38. Training loss: 0.431. Validation loss: 0.433. Validation accuracy: 76.06%\n",
      "Epoch 39. Training loss: 0.428. Validation loss: 0.431. Validation accuracy: 76.51%\n",
      "Epoch 40. Training loss: 0.425. Validation loss: 0.428. Validation accuracy: 76.51%\n",
      "Epoch 41. Training loss: 0.423. Validation loss: 0.425. Validation accuracy: 76.29%\n",
      "Epoch 42. Training loss: 0.420. Validation loss: 0.423. Validation accuracy: 76.51%\n",
      "Epoch 43. Training loss: 0.417. Validation loss: 0.421. Validation accuracy: 76.73%\n",
      "Epoch 44. Training loss: 0.415. Validation loss: 0.418. Validation accuracy: 76.73%\n",
      "Epoch 45. Training loss: 0.413. Validation loss: 0.416. Validation accuracy: 76.73%\n",
      "Epoch 46. Training loss: 0.411. Validation loss: 0.414. Validation accuracy: 76.73%\n",
      "Epoch 47. Training loss: 0.408. Validation loss: 0.412. Validation accuracy: 76.51%\n",
      "Epoch 48. Training loss: 0.406. Validation loss: 0.411. Validation accuracy: 76.51%\n",
      "Epoch 49. Training loss: 0.404. Validation loss: 0.409. Validation accuracy: 76.73%\n",
      "Epoch 50. Training loss: 0.403. Validation loss: 0.407. Validation accuracy: 76.73%\n",
      "Epoch 51. Training loss: 0.401. Validation loss: 0.406. Validation accuracy: 76.73%\n",
      "Epoch 52. Training loss: 0.399. Validation loss: 0.404. Validation accuracy: 76.73%\n",
      "Epoch 53. Training loss: 0.397. Validation loss: 0.403. Validation accuracy: 76.73%\n",
      "Epoch 54. Training loss: 0.396. Validation loss: 0.401. Validation accuracy: 76.73%\n",
      "Epoch 55. Training loss: 0.394. Validation loss: 0.400. Validation accuracy: 76.73%\n",
      "Epoch 56. Training loss: 0.393. Validation loss: 0.398. Validation accuracy: 76.73%\n",
      "Epoch 57. Training loss: 0.391. Validation loss: 0.397. Validation accuracy: 76.73%\n",
      "Epoch 58. Training loss: 0.390. Validation loss: 0.396. Validation accuracy: 76.73%\n",
      "Epoch 59. Training loss: 0.388. Validation loss: 0.395. Validation accuracy: 76.73%\n",
      "Epoch 60. Training loss: 0.387. Validation loss: 0.394. Validation accuracy: 77.18%\n",
      "Epoch 61. Training loss: 0.386. Validation loss: 0.393. Validation accuracy: 77.18%\n",
      "Epoch 62. Training loss: 0.384. Validation loss: 0.391. Validation accuracy: 77.18%\n",
      "Epoch 63. Training loss: 0.383. Validation loss: 0.390. Validation accuracy: 77.40%\n",
      "Epoch 64. Training loss: 0.382. Validation loss: 0.389. Validation accuracy: 77.40%\n",
      "Epoch 65. Training loss: 0.381. Validation loss: 0.388. Validation accuracy: 77.40%\n",
      "Epoch 66. Training loss: 0.380. Validation loss: 0.387. Validation accuracy: 77.40%\n",
      "Epoch 67. Training loss: 0.379. Validation loss: 0.386. Validation accuracy: 77.63%\n",
      "Epoch 68. Training loss: 0.377. Validation loss: 0.386. Validation accuracy: 77.63%\n",
      "Epoch 69. Training loss: 0.376. Validation loss: 0.385. Validation accuracy: 77.63%\n",
      "Epoch 70. Training loss: 0.375. Validation loss: 0.384. Validation accuracy: 77.63%\n",
      "Epoch 71. Training loss: 0.374. Validation loss: 0.383. Validation accuracy: 77.63%\n",
      "Epoch 72. Training loss: 0.374. Validation loss: 0.382. Validation accuracy: 77.63%\n",
      "Epoch 73. Training loss: 0.373. Validation loss: 0.381. Validation accuracy: 77.63%\n",
      "Epoch 74. Training loss: 0.372. Validation loss: 0.381. Validation accuracy: 77.40%\n",
      "Epoch 75. Training loss: 0.371. Validation loss: 0.380. Validation accuracy: 77.40%\n",
      "Epoch 76. Training loss: 0.370. Validation loss: 0.379. Validation accuracy: 77.40%\n",
      "Epoch 77. Training loss: 0.369. Validation loss: 0.378. Validation accuracy: 77.63%\n",
      "Epoch 78. Training loss: 0.368. Validation loss: 0.378. Validation accuracy: 77.63%\n",
      "Epoch 79. Training loss: 0.367. Validation loss: 0.377. Validation accuracy: 77.63%\n",
      "Epoch 80. Training loss: 0.367. Validation loss: 0.376. Validation accuracy: 77.63%\n",
      "Epoch 81. Training loss: 0.366. Validation loss: 0.376. Validation accuracy: 77.63%\n",
      "Epoch 82. Training loss: 0.365. Validation loss: 0.375. Validation accuracy: 77.63%\n",
      "Epoch 83. Training loss: 0.364. Validation loss: 0.374. Validation accuracy: 77.63%\n",
      "Epoch 84. Training loss: 0.364. Validation loss: 0.374. Validation accuracy: 77.63%\n",
      "Epoch 85. Training loss: 0.363. Validation loss: 0.373. Validation accuracy: 77.40%\n",
      "Epoch 86. Training loss: 0.362. Validation loss: 0.373. Validation accuracy: 78.30%\n",
      "Epoch 87. Training loss: 0.362. Validation loss: 0.372. Validation accuracy: 78.30%\n",
      "Epoch 88. Training loss: 0.361. Validation loss: 0.371. Validation accuracy: 78.30%\n",
      "Epoch 89. Training loss: 0.360. Validation loss: 0.371. Validation accuracy: 78.30%\n",
      "Epoch 90. Training loss: 0.360. Validation loss: 0.370. Validation accuracy: 78.30%\n",
      "Epoch 91. Training loss: 0.359. Validation loss: 0.370. Validation accuracy: 78.30%\n",
      "Epoch 92. Training loss: 0.359. Validation loss: 0.369. Validation accuracy: 78.30%\n",
      "Epoch 93. Training loss: 0.358. Validation loss: 0.369. Validation accuracy: 78.52%\n",
      "Epoch 94. Training loss: 0.357. Validation loss: 0.368. Validation accuracy: 78.52%\n",
      "Epoch 95. Training loss: 0.357. Validation loss: 0.368. Validation accuracy: 78.52%\n",
      "Epoch 96. Training loss: 0.356. Validation loss: 0.367. Validation accuracy: 78.52%\n"
     ]
    },
    {
     "name": "stdout",
     "output_type": "stream",
     "text": [
      "Epoch 97. Training loss: 0.356. Validation loss: 0.367. Validation accuracy: 78.52%\n",
      "Epoch 98. Training loss: 0.355. Validation loss: 0.366. Validation accuracy: 78.52%\n",
      "Epoch 99. Training loss: 0.354. Validation loss: 0.366. Validation accuracy: 78.52%\n",
      "Epoch 100. Training loss: 0.354. Validation loss: 0.365. Validation accuracy: 78.52%\n",
      "End of training.\n"
     ]
    }
   ],
   "source": [
    "import tensorflow as tf\n",
    "\n",
    "# size of input, hidden, output\n",
    "ni = 10\n",
    "nh = 50\n",
    "no = 2\n",
    "\n",
    "# Reset the default graph\n",
    "tf.reset_default_graph()\n",
    "\n",
    "# placeholders\n",
    "X = tf.placeholder(tf.float32, [None, ni])\n",
    "y = tf.placeholder(tf.int32, [None, no])\n",
    "\n",
    "# model\n",
    "# first layer output uses relu and last layer output uses sigmoid\n",
    "w1 = tf.get_variable(\"w1\", [ni, nh])\n",
    "b1 = tf.get_variable(\"b1\", [nh])\n",
    "y1 = tf.nn.relu(tf.matmul(X, w1) + b1)\n",
    "\n",
    "w2 = tf.get_variable(\"w2\", [nh, nh])\n",
    "b2 = tf.get_variable(\"b2\", [nh])\n",
    "y2 = tf.nn.sigmoid(tf.matmul(y1, w2) + b2)\n",
    "\n",
    "y3 = tf.get_variable(\"y3\", [nh, no])\n",
    "b3 = tf.get_variable(\"b3\", [no])\n",
    "\n",
    "# output\n",
    "outputs = tf.matmul(y2, y3) + b3\n",
    "\n",
    "# loss\n",
    "loss = tf.nn.softmax_cross_entropy_with_logits(logits=outputs, labels=y)\n",
    "mean_loss = tf.reduce_mean(loss)\n",
    "\n",
    "# accuracy\n",
    "acc = tf.equal(tf.argmax(outputs, 1), tf.argmax(y, 1))\n",
    "acc = tf.reduce_mean(tf.cast(acc, tf.float32))\n",
    "\n",
    "# Optimize with Adam\n",
    "optimize = tf.train.AdamOptimizer(learning_rate=0.0001).minimize(mean_loss)\n",
    "\n",
    "# session\n",
    "sess = tf.InteractiveSession()\n",
    "initializer = tf.global_variables_initializer()\n",
    "sess.run(initializer)\n",
    "\n",
    "# sizes\n",
    "batch_size = 100\n",
    "max_epochs = 100\n",
    "loss_valid_prev = 9999999.\n",
    "\n",
    "# data\n",
    "X_train = Audiobooks_Data_Reader('train', batch_size)\n",
    "X_valid = Audiobooks_Data_Reader('validation')\n",
    "\n",
    "# loop for epochs \n",
    "for e in range(max_epochs):\n",
    "    \n",
    "    # Set the epoch loss to 0, and make it a float\n",
    "    loss_cur = 0.\n",
    "    \n",
    "    # iterate batch\n",
    "    # X and y are tf placeholders.\n",
    "    for input_batch, target_batch in X_train:\n",
    "        _, batch_loss = sess.run([optimize, mean_loss], \n",
    "            feed_dict={X: input_batch, y: target_batch})\n",
    "        \n",
    "        # batch loss\n",
    "        loss_cur += batch_loss\n",
    "    \n",
    "    # epoch mean loss\n",
    "    loss_cur /= X_train.batch_count\n",
    "    \n",
    "    # initialize loss\n",
    "    loss_valid = 0.\n",
    "    acc_valid = 0.\n",
    "    \n",
    "    # forward prop\n",
    "    for input_batch, target_batch in X_valid:\n",
    "        loss_valid, acc_valid = sess.run([mean_loss, acc],\n",
    "            feed_dict={X: input_batch, y: target_batch})\n",
    "    \n",
    "    # prints\n",
    "    print('Epoch '+str(e+1)+\n",
    "          '. Training loss: '+'{0:.3f}'.format(loss_cur)+\n",
    "          '. Validation loss: '+'{0:.3f}'.format(loss_valid)+\n",
    "          '. Validation accuracy: '+'{0:.2f}'.format(acc_valid * 100.)+'%')\n",
    "    \n",
    "    # early stopping\n",
    "    if loss_valid > loss_valid_prev:\n",
    "        break\n",
    "        \n",
    "    # previous loss\n",
    "    loss_valid_prev = loss_valid\n",
    "    \n",
    "print('End of training.')"
   ]
  },
  {
   "cell_type": "markdown",
   "metadata": {},
   "source": [
    "# Test the Model"
   ]
  },
  {
   "cell_type": "code",
   "execution_count": 4,
   "metadata": {
    "ExecuteTime": {
     "end_time": "2018-12-29T17:28:54.533844Z",
     "start_time": "2018-12-29T17:28:54.519892Z"
    }
   },
   "outputs": [
    {
     "name": "stdout",
     "output_type": "stream",
     "text": [
      "Test accuracy: 83.48%\n"
     ]
    }
   ],
   "source": [
    "test_data = Audiobooks_Data_Reader('test')\n",
    "\n",
    "# Forward propagate through the training set. This time we only need the accuracy\n",
    "# note: out_equals_target = tf.equal(tf.argmax(outputs, 1), tf.argmax(targets, 1))\n",
    "# note: acc = tf.reduce_mean(tf.cast(out_equals_target, tf.float32))\n",
    "# X and y are tf placeholders\n",
    "for inputs_batch, targets_batch in test_data:\n",
    "    test_accuracy = sess.run([acc],\n",
    "                     feed_dict={X: inputs_batch, y: targets_batch})\n",
    "\n",
    "acc = test_accuracy[0] * 100.\n",
    "\n",
    "# Print the test accuracy\n",
    "print('Test accuracy: '+'{0:.2f}'.format(acc)+'%')"
   ]
  }
 ],
 "metadata": {
  "kernelspec": {
   "display_name": "Python3.7 (tensorflow)",
   "language": "python",
   "name": "tf"
  },
  "language_info": {
   "codemirror_mode": {
    "name": "ipython",
    "version": 3
   },
   "file_extension": ".py",
   "mimetype": "text/x-python",
   "name": "python",
   "nbconvert_exporter": "python",
   "pygments_lexer": "ipython3",
   "version": "3.6.6"
  },
  "toc": {
   "base_numbering": 1,
   "nav_menu": {},
   "number_sections": true,
   "sideBar": true,
   "skip_h1_title": false,
   "title_cell": "Table of Contents",
   "title_sidebar": "Contents",
   "toc_cell": true,
   "toc_position": {},
   "toc_section_display": true,
   "toc_window_display": true
  }
 },
 "nbformat": 4,
 "nbformat_minor": 2
}
