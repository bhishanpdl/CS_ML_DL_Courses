{
 "cells": [
  {
   "cell_type": "markdown",
   "metadata": {
    "toc": "true"
   },
   "source": [
    "# Table of Contents\n",
    " <p>"
   ]
  },
  {
   "cell_type": "code",
   "execution_count": 28,
   "metadata": {
    "collapsed": true
   },
   "outputs": [],
   "source": [
    "from IPython.display import display, Image, IFrame, Math, Latex"
   ]
  },
  {
   "cell_type": "code",
   "execution_count": 29,
   "metadata": {
    "collapsed": true
   },
   "outputs": [],
   "source": [
    "from IPython.core.interactiveshell import InteractiveShell\n",
    "# InteractiveShell.ast_node_interactivity = \"all\"\n",
    "%config InlineBackend.figure_format = 'retina'"
   ]
  },
  {
   "cell_type": "code",
   "execution_count": 30,
   "metadata": {
    "collapsed": true
   },
   "outputs": [],
   "source": [
    "# %matplotlib inline\n",
    "from matplotlib import pyplot as plt\n",
    "import numpy as np"
   ]
  },
  {
   "cell_type": "code",
   "execution_count": 31,
   "metadata": {
    "collapsed": true
   },
   "outputs": [],
   "source": [
    "# IFrame('hw01.pdf', width=600, height=400)"
   ]
  },
  {
   "cell_type": "markdown",
   "metadata": {},
   "source": [
    "# Question 1 : Univariate Regression"
   ]
  },
  {
   "cell_type": "markdown",
   "metadata": {},
   "source": [
    "Train a univariate linear regression model to predict house prices as a function \n",
    "of their floor size, based on the solution to the system with 2 linear equations \n",
    "discussed in class. Use the dataset from the folder hw01/data/univariate. \n",
    "Python3 skeleton code is provided in univariate.py. \n",
    "After training print the parameters and report the RMSE and the objective \n",
    "function values on the training and test data. Plot the training using the \n",
    "default blue circles and test examples using lime green triangles. \n",
    "On the same graph also plot the linear approximation."
   ]
  },
  {
   "cell_type": "code",
   "execution_count": 35,
   "metadata": {},
   "outputs": [
    {
     "name": "stdout",
     "output_type": "stream",
     "text": [
      "\u001b[33mboxBalls\u001b[m\u001b[m            \u001b[33mdata\u001b[m\u001b[m                hw01.ipynb          \u001b[33msimple_lin_reg(SLR)\u001b[m\u001b[m\r\n",
      "\u001b[33mcode\u001b[m\u001b[m                \u001b[33mdwn\u001b[m\u001b[m                 hw01.pdf\r\n"
     ]
    }
   ],
   "source": [
    "!ls"
   ]
  },
  {
   "cell_type": "code",
   "execution_count": 36,
   "metadata": {},
   "outputs": [
    {
     "name": "stdout",
     "output_type": "stream",
     "text": [
      "multivariate.py      train-test-line.png  univariate_orig.py\r\n",
      "multivariate_orig.py univariate.py\r\n"
     ]
    }
   ],
   "source": [
    "!ls code"
   ]
  },
  {
   "cell_type": "code",
   "execution_count": 42,
   "metadata": {},
   "outputs": [
    {
     "data": {
      "text/plain": [
       "'\\n:Topic: Homework 1 Qn 2.1 Univariate Regression\\n\\n:Runtime:\\n\\n.. note::\\n\\n   np.polynomial.polynomial.polyfit returns coefficients [A, B, C] to A + Bx + Cx^2 + ...\\n   coeffs = np.polynomial.polynomial.polyfit(x, y, 4)\\n   print(coeffs)\\n\\n\\n   # np.polyfit returns: ... + Ax^2 + Bx + C\\n   coeffs = np.polyfit(x, y, 4)\\n   print(coeffs)\\n\\n'"
      ]
     },
     "execution_count": 42,
     "metadata": {},
     "output_type": "execute_result"
    }
   ],
   "source": [
    "# %load './code/univariate.py'\n",
    "#!python\n",
    "###########################################################################\n",
    "# Author      : Bhishan Poudel; Physics Graduate Student, Ohio University\n",
    "# Date        : Sep 12, 2017 Tue\n",
    "# Last update :\n",
    "###########################################################################\n",
    "\"\"\"\n",
    ":Topic: Homework 1 Qn 2.1 Univariate Regression\n",
    "\n",
    ":Runtime:\n",
    "\n",
    ".. note::\n",
    "\n",
    "   np.polynomial.polynomial.polyfit returns coefficients [A, B, C] to A + Bx + Cx^2 + ...\n",
    "   coeffs = np.polynomial.polynomial.polyfit(x, y, 4)\n",
    "   print(coeffs)\n",
    "\n",
    "\n",
    "   # np.polyfit returns: ... + Ax^2 + Bx + C\n",
    "   coeffs = np.polyfit(x, y, 4)\n",
    "   print(coeffs)\n",
    "\n",
    "\"\"\";\n",
    "# Imports\n",
    "import argparse\n",
    "import sys\n",
    "import numpy as np\n",
    "from matplotlib import pyplot as plt\n",
    "import numpy.polynomial.polynomial as poly"
   ]
  },
  {
   "cell_type": "code",
   "execution_count": 55,
   "metadata": {
    "collapsed": true
   },
   "outputs": [],
   "source": [
    "def read_data(infile):\n",
    "    data = np.genfromtxt(infile, delimiter=' ',dtype=int)\n",
    "    X = data[:,0].reshape(len(data),1)\n",
    "    t = data[:,-1].reshape(len(data),1)\n",
    "#     print(\"X.shape = \", X.shape)\n",
    "#     print(\"t.shape = \", t.shape)\n",
    "    return [X, t]"
   ]
  },
  {
   "cell_type": "code",
   "execution_count": 69,
   "metadata": {},
   "outputs": [
    {
     "data": {
      "text/plain": [
       "<matplotlib.collections.PathCollection at 0x1126a6b38>"
      ]
     },
     "execution_count": 69,
     "metadata": {},
     "output_type": "execute_result"
    },
    {
     "data": {
      "image/png": "[encoded data removed]",
      "text/plain": [
       "<matplotlib.figure.Figure at 0x111e19a20>"
      ]
     },
     "metadata": {
      "image/png": {
       "height": 250,
       "width": 396
      }
     },
     "output_type": "display_data"
    }
   ],
   "source": [
    "# Run read_data\n",
    "# !ls data/univariate\n",
    "X,t = read_data('data/univariate/train_orig.txt')\n",
    "# X.shape, t.shape\n",
    "plt.scatter(X,t)"
   ]
  },
  {
   "cell_type": "code",
   "execution_count": 57,
   "metadata": {
    "collapsed": true
   },
   "outputs": [],
   "source": [
    "def train(X, t):\n",
    "    \"\"\"Implement univariate linear regression to compute w = [w0, w1].\"\"\"\n",
    "\n",
    "    # method 1 np.polyfit\n",
    "    w0,w1 = poly.polyfit(X[0,:], t[0,:],deg=1)\n",
    "    print('w0 from numpy polynomial polynomial polyfit = {:.5e}'.format(w0))\n",
    "    print('w1 from numpy polynomial polynomial polyfit = {:.5e}'.format(w1))\n",
    "\n",
    "    # method 2 np poly poly polyfit\n",
    "    # X = X - np.mean(X)\n",
    "    # t = t - np.mean(t)\n",
    "#     w0,w1 = poly.polyfit(X[0,:], t[0,:],deg=1)\n",
    "#     print('w0 from numpy polynomial polynomial polyfit = {:.5e}'.format(w0))\n",
    "#     print('w1 from numpy polynomial polynomial polyfit = {:.5e}'.format(w1))\n",
    "\n",
    "    # method 3\n",
    "    # covar = np.cov(X, t, bias=True)[0][1]\n",
    "    # covar = np.cov(X, t, ddof=0)[0][1]\n",
    "    # var = np.var(X)\n",
    "    # w1 = covar/var\n",
    "    # w0 = np.mean(t) - w1 * np.mean(X)\n",
    "    # # print(np.cov(X, t, ddof=0))\n",
    "    # print('w0 from numpy cov = {:.5e}'.format(w0))\n",
    "    # print('w1 from numpy cov = {:.5e}'.format(w1))\n",
    "\n",
    "    w = np.array([w0, w1])\n",
    "    print(\"w = \", w)\n",
    "    return w"
   ]
  },
  {
   "cell_type": "code",
   "execution_count": 70,
   "metadata": {},
   "outputs": [
    {
     "name": "stdout",
     "output_type": "stream",
     "text": [
      "w0 from numpy polynomial polynomial polyfit = 2.62500e+05\n",
      "w1 from numpy polynomial polynomial polyfit = 8.65765e+01\n",
      "w =  [  2.62500000e+05   8.65765172e+01]\n"
     ]
    },
    {
     "name": "stderr",
     "output_type": "stream",
     "text": [
      "/Users/poudel/anaconda/lib/python3.6/site-packages/ipykernel_launcher.py:7: RankWarning: The fit may be poorly conditioned\n",
      "  import sys\n"
     ]
    },
    {
     "data": {
      "text/plain": [
       "(50, 1)"
      ]
     },
     "execution_count": 70,
     "metadata": {},
     "output_type": "execute_result"
    },
    {
     "name": "stdout",
     "output_type": "stream",
     "text": [
      "Params:  [  2.62500000e+05   8.65765172e+01]\n"
     ]
    },
    {
     "data": {
      "text/plain": [
       "<matplotlib.collections.PathCollection at 0x1124ff7b8>"
      ]
     },
     "execution_count": 70,
     "metadata": {},
     "output_type": "execute_result"
    },
    {
     "data": {
      "image/png": "[encoded data removed]",
      "text/plain": [
       "<matplotlib.figure.Figure at 0x111ddc0b8>"
      ]
     },
     "metadata": {
      "image/png": {
       "height": 250,
       "width": 396
      }
     },
     "output_type": "display_data"
    }
   ],
   "source": [
    "# Get weights\n",
    "Xtrain, ttrain = read_data(\"data/univariate/train_orig.txt\")\n",
    "w = train(Xtrain, ttrain)\n",
    "\n",
    "Xtrain.shape\n",
    "# Print model parameters.\n",
    "print('Params: ', w)\n",
    "plt.scatter(Xtrain, ttrain)"
   ]
  },
  {
   "cell_type": "code",
   "execution_count": 65,
   "metadata": {
    "collapsed": true
   },
   "outputs": [],
   "source": [
    "def compute_rmse(X,t,w):\n",
    "    \"\"\"Compute RMSE on dataset (X, t).\"\"\"\n",
    "    X = np.append(np.ones([len(t),1]),X,axis=-1)\n",
    "    print(\"X = \", X)\n",
    "    print(\"X.shape = \", X.shape)\n",
    "    print(\"t = \", t)\n",
    "    print(\"t.shape = \", t.shape)\n",
    "    print(\"w = \", w)\n",
    "    print(\"w.shape = \", w.shape)\n",
    "    # rmse = np.sqrt(((tpred - t) ** 2).mean())\n",
    "    rmse = 0\n",
    "\n",
    "    return rmse"
   ]
  },
  {
   "cell_type": "code",
   "execution_count": null,
   "metadata": {
    "collapsed": true
   },
   "outputs": [],
   "source": [
    "# Run RMSE\n",
    "X"
   ]
  },
  {
   "cell_type": "code",
   "execution_count": null,
   "metadata": {
    "collapsed": true
   },
   "outputs": [],
   "source": [
    "def compute_cost(X, t, w):\n",
    "    \"\"\"Compute objective function on dataset (X, t).\"\"\"\n",
    "\n",
    "    m = len(t)  # number of tranning examples\n",
    "    J = 0\n",
    "    J = 1/(2*m) * ((X*w) - t).T * ((X*w) - t)\n",
    "    return J"
   ]
  },
  {
   "cell_type": "code",
   "execution_count": null,
   "metadata": {
    "collapsed": true
   },
   "outputs": [],
   "source": [
    "def myplot(data1,data2,data3):\n",
    "    # matplotlib customization\n",
    "    plt.style.use('ggplot')\n",
    "    fig, ax = plt.subplots()\n",
    "\n",
    "    # data\n",
    "    X1,X2,X3 = data1[:,0], data2[:,0],data3[:,0]\n",
    "    t1,t2,t3 = data1[:,-1]/1000, data2[:,-1]/1000, data3[:,-1]/1000\n",
    "\n",
    "    # plot with label, title\n",
    "    ax.plot(X1,t1,'bo',label='Train')\n",
    "    ax.plot(X2,t2,'g^',label='Test')\n",
    "\n",
    "    # set xlabel and ylabel to AxisObject\n",
    "    ax.set_xlabel('Floor Size (Square Feet)')\n",
    "    ax.set_ylabel('House Price (Thousands Dollar)')\n",
    "    ax.set_title('HW 1 Qn2.1 Univariate Regression')\n",
    "    ax.legend()\n",
    "    ax.grid(True)\n",
    "    plt.savefig('train-test-line.png')\n",
    "    # plt.show()"
   ]
  },
  {
   "cell_type": "code",
   "execution_count": null,
   "metadata": {
    "collapsed": true
   },
   "outputs": [],
   "source": [
    "##=======================================================================\n",
    "## Main Program\n",
    "##=======================================================================\n",
    "def main():\n",
    "    \"\"\"Run main function.\"\"\"\n",
    "    parser = argparse.ArgumentParser('Univariate Exercise.')\n",
    "    parser.add_argument('-i', '--input_data_dir',\n",
    "                        type=str,\n",
    "                        default='../data/univariate',\n",
    "                        help='Directory for the univariate houses dataset.')\n",
    "    FLAGS, unparsed = parser.parse_known_args()\n",
    "\n",
    "    # Read the training and test data.\n",
    "    Xtrain, ttrain = read_data(FLAGS.input_data_dir + \"/train.txt\")\n",
    "    Xtest, ttest = read_data(FLAGS.input_data_dir + \"/test.txt\")\n",
    "\n",
    "    # print(\"Xtrain = \", Xtrain) # ndarray\n",
    "\n",
    "\n",
    "    # Train model on training examples.\n",
    "    # w = train(Xtrain, ttrain)\n",
    "\n",
    "    # Print model parameters.\n",
    "    # print('Params: ', w)\n",
    "\n",
    "    # # Print cost and RMSE on training data.\n",
    "    # print('Training RMSE: %0.2f.' % compute_rmse(Xtrain, ttrain, w))\n",
    "    # print('Training cost: %0.2f.' % compute_cost(Xtrain, ttrain, w))\n",
    "    #\n",
    "    # # Print cost and RMSE on test data.\n",
    "    # print('Test RMSE: %0.2f.' % compute_rmse(Xtest, ttest, w))\n",
    "    # print('Test cost: %0.2f.' % compute_cost(Xtest, ttest, w))\n",
    "\n",
    "    #  YOUR CODE here: plot the training and test examples with different symbols,\n",
    "    #                  plot the linear approximation on the same graph.\n",
    "    #\n",
    "    #\n",
    "    w = train(Xtrain, ttrain)\n",
    "    # print('Params: ', w)\n",
    "    compute_rmse(Xtrain, ttrain, w)"
   ]
  },
  {
   "cell_type": "code",
   "execution_count": 40,
   "metadata": {},
   "outputs": [
    {
     "data": {
      "text/plain": [
       "'\\n:Topic: Homework 1 Qn 2.1 Univariate Regression\\n\\n:Runtime:\\n\\n.. note::\\n\\n   np.polynomial.polynomial.polyfit returns coefficients [A, B, C] to A + Bx + Cx^2 + ...\\n   coeffs = np.polynomial.polynomial.polyfit(x, y, 4)\\n   print(coeffs)\\n\\n\\n   # np.polyfit returns: ... + Ax^2 + Bx + C\\n   coeffs = np.polyfit(x, y, 4)\\n   print(coeffs)\\n\\n'"
      ]
     },
     "execution_count": 40,
     "metadata": {},
     "output_type": "execute_result"
    },
    {
     "ename": "FileNotFoundError",
     "evalue": "[Errno 2] No such file or directory: '../data/univariate/train.txt'",
     "output_type": "error",
     "traceback": [
      "\u001b[0;31m---------------------------------------------------------------------------\u001b[0m",
      "\u001b[0;31mFileNotFoundError\u001b[0m                         Traceback (most recent call last)",
      "\u001b[0;32m<ipython-input-40-6e797df92b95>\u001b[0m in \u001b[0;36m<module>\u001b[0;34m()\u001b[0m\n\u001b[1;32m    168\u001b[0m \u001b[0;34m\u001b[0m\u001b[0m\n\u001b[1;32m    169\u001b[0m     \u001b[0;31m#  Run the main program\u001b[0m\u001b[0;34m\u001b[0m\u001b[0;34m\u001b[0m\u001b[0m\n\u001b[0;32m--> 170\u001b[0;31m     \u001b[0mmain\u001b[0m\u001b[0;34m(\u001b[0m\u001b[0;34m)\u001b[0m\u001b[0;34m\u001b[0m\u001b[0m\n\u001b[0m\u001b[1;32m    171\u001b[0m \u001b[0;34m\u001b[0m\u001b[0m\n\u001b[1;32m    172\u001b[0m \u001b[0;34m\u001b[0m\u001b[0m\n",
      "\u001b[0;32m<ipython-input-40-6e797df92b95>\u001b[0m in \u001b[0;36mmain\u001b[0;34m()\u001b[0m\n\u001b[1;32m    131\u001b[0m \u001b[0;34m\u001b[0m\u001b[0m\n\u001b[1;32m    132\u001b[0m     \u001b[0;31m# Read the training and test data.\u001b[0m\u001b[0;34m\u001b[0m\u001b[0;34m\u001b[0m\u001b[0m\n\u001b[0;32m--> 133\u001b[0;31m     \u001b[0mXtrain\u001b[0m\u001b[0;34m,\u001b[0m \u001b[0mttrain\u001b[0m \u001b[0;34m=\u001b[0m \u001b[0mread_data\u001b[0m\u001b[0;34m(\u001b[0m\u001b[0mFLAGS\u001b[0m\u001b[0;34m.\u001b[0m\u001b[0minput_data_dir\u001b[0m \u001b[0;34m+\u001b[0m \u001b[0;34m\"/train.txt\"\u001b[0m\u001b[0;34m)\u001b[0m\u001b[0;34m\u001b[0m\u001b[0m\n\u001b[0m\u001b[1;32m    134\u001b[0m     \u001b[0mXtest\u001b[0m\u001b[0;34m,\u001b[0m \u001b[0mttest\u001b[0m \u001b[0;34m=\u001b[0m \u001b[0mread_data\u001b[0m\u001b[0;34m(\u001b[0m\u001b[0mFLAGS\u001b[0m\u001b[0;34m.\u001b[0m\u001b[0minput_data_dir\u001b[0m \u001b[0;34m+\u001b[0m \u001b[0;34m\"/test.txt\"\u001b[0m\u001b[0;34m)\u001b[0m\u001b[0;34m\u001b[0m\u001b[0m\n\u001b[1;32m    135\u001b[0m \u001b[0;34m\u001b[0m\u001b[0m\n",
      "\u001b[0;32m<ipython-input-40-6e797df92b95>\u001b[0m in \u001b[0;36mread_data\u001b[0;34m(infile)\u001b[0m\n\u001b[1;32m     33\u001b[0m \u001b[0;34m\u001b[0m\u001b[0m\n\u001b[1;32m     34\u001b[0m \u001b[0;32mdef\u001b[0m \u001b[0mread_data\u001b[0m\u001b[0;34m(\u001b[0m\u001b[0minfile\u001b[0m\u001b[0;34m)\u001b[0m\u001b[0;34m:\u001b[0m\u001b[0;34m\u001b[0m\u001b[0m\n\u001b[0;32m---> 35\u001b[0;31m     \u001b[0mdata\u001b[0m \u001b[0;34m=\u001b[0m \u001b[0mnp\u001b[0m\u001b[0;34m.\u001b[0m\u001b[0mgenfromtxt\u001b[0m\u001b[0;34m(\u001b[0m\u001b[0minfile\u001b[0m\u001b[0;34m,\u001b[0m \u001b[0mdelimiter\u001b[0m\u001b[0;34m=\u001b[0m\u001b[0;34m' '\u001b[0m\u001b[0;34m,\u001b[0m\u001b[0mdtype\u001b[0m\u001b[0;34m=\u001b[0m\u001b[0mint\u001b[0m\u001b[0;34m)\u001b[0m\u001b[0;34m\u001b[0m\u001b[0m\n\u001b[0m\u001b[1;32m     36\u001b[0m     \u001b[0mX\u001b[0m \u001b[0;34m=\u001b[0m \u001b[0mdata\u001b[0m\u001b[0;34m[\u001b[0m\u001b[0;34m:\u001b[0m\u001b[0;34m,\u001b[0m\u001b[0;36m0\u001b[0m\u001b[0;34m]\u001b[0m\u001b[0;34m.\u001b[0m\u001b[0mreshape\u001b[0m\u001b[0;34m(\u001b[0m\u001b[0mlen\u001b[0m\u001b[0;34m(\u001b[0m\u001b[0mdata\u001b[0m\u001b[0;34m)\u001b[0m\u001b[0;34m,\u001b[0m\u001b[0;36m1\u001b[0m\u001b[0;34m)\u001b[0m\u001b[0;34m\u001b[0m\u001b[0m\n\u001b[1;32m     37\u001b[0m     \u001b[0mt\u001b[0m \u001b[0;34m=\u001b[0m \u001b[0mdata\u001b[0m\u001b[0;34m[\u001b[0m\u001b[0;34m:\u001b[0m\u001b[0;34m,\u001b[0m\u001b[0;34m-\u001b[0m\u001b[0;36m1\u001b[0m\u001b[0;34m]\u001b[0m\u001b[0;34m.\u001b[0m\u001b[0mreshape\u001b[0m\u001b[0;34m(\u001b[0m\u001b[0mlen\u001b[0m\u001b[0;34m(\u001b[0m\u001b[0mdata\u001b[0m\u001b[0;34m)\u001b[0m\u001b[0;34m,\u001b[0m\u001b[0;36m1\u001b[0m\u001b[0;34m)\u001b[0m\u001b[0;34m\u001b[0m\u001b[0m\n",
      "\u001b[0;32m~/anaconda/lib/python3.6/site-packages/numpy/lib/npyio.py\u001b[0m in \u001b[0;36mgenfromtxt\u001b[0;34m(fname, dtype, comments, delimiter, skip_header, skip_footer, converters, missing_values, filling_values, usecols, names, excludelist, deletechars, replace_space, autostrip, case_sensitive, defaultfmt, unpack, usemask, loose, invalid_raise, max_rows)\u001b[0m\n\u001b[1;32m   1549\u001b[0m                 \u001b[0mfhd\u001b[0m \u001b[0;34m=\u001b[0m \u001b[0miter\u001b[0m\u001b[0;34m(\u001b[0m\u001b[0mnp\u001b[0m\u001b[0;34m.\u001b[0m\u001b[0mlib\u001b[0m\u001b[0;34m.\u001b[0m\u001b[0m_datasource\u001b[0m\u001b[0;34m.\u001b[0m\u001b[0mopen\u001b[0m\u001b[0;34m(\u001b[0m\u001b[0mfname\u001b[0m\u001b[0;34m,\u001b[0m \u001b[0;34m'rbU'\u001b[0m\u001b[0;34m)\u001b[0m\u001b[0;34m)\u001b[0m\u001b[0;34m\u001b[0m\u001b[0m\n\u001b[1;32m   1550\u001b[0m             \u001b[0;32melse\u001b[0m\u001b[0;34m:\u001b[0m\u001b[0;34m\u001b[0m\u001b[0m\n\u001b[0;32m-> 1551\u001b[0;31m                 \u001b[0mfhd\u001b[0m \u001b[0;34m=\u001b[0m \u001b[0miter\u001b[0m\u001b[0;34m(\u001b[0m\u001b[0mnp\u001b[0m\u001b[0;34m.\u001b[0m\u001b[0mlib\u001b[0m\u001b[0;34m.\u001b[0m\u001b[0m_datasource\u001b[0m\u001b[0;34m.\u001b[0m\u001b[0mopen\u001b[0m\u001b[0;34m(\u001b[0m\u001b[0mfname\u001b[0m\u001b[0;34m,\u001b[0m \u001b[0;34m'rb'\u001b[0m\u001b[0;34m)\u001b[0m\u001b[0;34m)\u001b[0m\u001b[0;34m\u001b[0m\u001b[0m\n\u001b[0m\u001b[1;32m   1552\u001b[0m             \u001b[0mown_fhd\u001b[0m \u001b[0;34m=\u001b[0m \u001b[0;32mTrue\u001b[0m\u001b[0;34m\u001b[0m\u001b[0m\n\u001b[1;32m   1553\u001b[0m         \u001b[0;32melse\u001b[0m\u001b[0;34m:\u001b[0m\u001b[0;34m\u001b[0m\u001b[0m\n",
      "\u001b[0;32m~/anaconda/lib/python3.6/site-packages/numpy/lib/_datasource.py\u001b[0m in \u001b[0;36mopen\u001b[0;34m(path, mode, destpath)\u001b[0m\n\u001b[1;32m    149\u001b[0m \u001b[0;34m\u001b[0m\u001b[0m\n\u001b[1;32m    150\u001b[0m     \u001b[0mds\u001b[0m \u001b[0;34m=\u001b[0m \u001b[0mDataSource\u001b[0m\u001b[0;34m(\u001b[0m\u001b[0mdestpath\u001b[0m\u001b[0;34m)\u001b[0m\u001b[0;34m\u001b[0m\u001b[0m\n\u001b[0;32m--> 151\u001b[0;31m     \u001b[0;32mreturn\u001b[0m \u001b[0mds\u001b[0m\u001b[0;34m.\u001b[0m\u001b[0mopen\u001b[0m\u001b[0;34m(\u001b[0m\u001b[0mpath\u001b[0m\u001b[0;34m,\u001b[0m \u001b[0mmode\u001b[0m\u001b[0;34m)\u001b[0m\u001b[0;34m\u001b[0m\u001b[0m\n\u001b[0m\u001b[1;32m    152\u001b[0m \u001b[0;34m\u001b[0m\u001b[0m\n\u001b[1;32m    153\u001b[0m \u001b[0;34m\u001b[0m\u001b[0m\n",
      "\u001b[0;32m~/anaconda/lib/python3.6/site-packages/numpy/lib/_datasource.py\u001b[0m in \u001b[0;36mopen\u001b[0;34m(self, path, mode)\u001b[0m\n\u001b[1;32m    497\u001b[0m             \u001b[0;32mif\u001b[0m \u001b[0mext\u001b[0m \u001b[0;34m==\u001b[0m \u001b[0;34m'bz2'\u001b[0m\u001b[0;34m:\u001b[0m\u001b[0;34m\u001b[0m\u001b[0m\n\u001b[1;32m    498\u001b[0m                 \u001b[0mmode\u001b[0m\u001b[0;34m.\u001b[0m\u001b[0mreplace\u001b[0m\u001b[0;34m(\u001b[0m\u001b[0;34m\"+\"\u001b[0m\u001b[0;34m,\u001b[0m \u001b[0;34m\"\"\u001b[0m\u001b[0;34m)\u001b[0m\u001b[0;34m\u001b[0m\u001b[0m\n\u001b[0;32m--> 499\u001b[0;31m             \u001b[0;32mreturn\u001b[0m \u001b[0m_file_openers\u001b[0m\u001b[0;34m[\u001b[0m\u001b[0mext\u001b[0m\u001b[0;34m]\u001b[0m\u001b[0;34m(\u001b[0m\u001b[0mfound\u001b[0m\u001b[0;34m,\u001b[0m \u001b[0mmode\u001b[0m\u001b[0;34m=\u001b[0m\u001b[0mmode\u001b[0m\u001b[0;34m)\u001b[0m\u001b[0;34m\u001b[0m\u001b[0m\n\u001b[0m\u001b[1;32m    500\u001b[0m         \u001b[0;32melse\u001b[0m\u001b[0;34m:\u001b[0m\u001b[0;34m\u001b[0m\u001b[0m\n\u001b[1;32m    501\u001b[0m             \u001b[0;32mraise\u001b[0m \u001b[0mIOError\u001b[0m\u001b[0;34m(\u001b[0m\u001b[0;34m\"%s not found.\"\u001b[0m \u001b[0;34m%\u001b[0m \u001b[0mpath\u001b[0m\u001b[0;34m)\u001b[0m\u001b[0;34m\u001b[0m\u001b[0m\n",
      "\u001b[0;31mFileNotFoundError\u001b[0m: [Errno 2] No such file or directory: '../data/univariate/train.txt'"
     ]
    }
   ],
   "source": [
    "if __name__ == \"__main__\":\n",
    "    import time\n",
    "\n",
    "    # Beginning time\n",
    "    program_begin_time = time.time()\n",
    "    begin_ctime        = time.ctime()\n",
    "\n",
    "    #  Run the main program\n",
    "    main()\n",
    "\n",
    "\n",
    "    # Print the time taken\n",
    "    program_end_time = time.time()\n",
    "    end_ctime        = time.ctime()\n",
    "    seconds          = program_end_time - program_begin_time\n",
    "    m, s             = divmod(seconds, 60)\n",
    "    h, m             = divmod(m, 60)\n",
    "    d, h             = divmod(h, 24)\n",
    "    print(\"\\nBegin time: \", begin_ctime)\n",
    "    print(\"End   time: \", end_ctime, \"\\n\")\n",
    "    print(\"Time taken: {0: .0f} days, {1: .0f} hours, \\\n",
    "      {2: .0f} minutes, {3: f} seconds.\".format(d, h, m, s))"
   ]
  },
  {
   "cell_type": "code",
   "execution_count": null,
   "metadata": {
    "collapsed": true
   },
   "outputs": [],
   "source": []
  }
 ],
 "metadata": {
  "hide_code_all_hidden": false,
  "kernelspec": {
   "display_name": "Python 3",
   "language": "python",
   "name": "python3"
  },
  "language_info": {
   "codemirror_mode": {
    "name": "ipython",
    "version": 3
   },
   "file_extension": ".py",
   "mimetype": "text/x-python",
   "name": "python",
   "nbconvert_exporter": "python",
   "pygments_lexer": "ipython3",
   "version": "3.6.1"
  },
  "toc": {
   "colors": {
    "hover_highlight": "#DAA520",
    "navigate_num": "#000000",
    "navigate_text": "#333333",
    "running_highlight": "#FF0000",
    "selected_highlight": "#FFD700",
    "sidebar_border": "#EEEEEE",
    "wrapper_background": "#FFFFFF"
   },
   "moveMenuLeft": true,
   "nav_menu": {
    "height": "171px",
    "width": "252px"
   },
   "navigate_menu": true,
   "number_sections": true,
   "sideBar": true,
   "threshold": 4,
   "toc_cell": true,
   "toc_section_display": "block",
   "toc_window_display": true,
   "widenNotebook": false
  }
 },
 "nbformat": 4,
 "nbformat_minor": 1
}
