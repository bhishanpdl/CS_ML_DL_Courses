{
 "cells": [
  {
   "cell_type": "markdown",
   "metadata": {
    "toc": true
   },
   "source": [
    "<h1>Table of Contents<span class=\"tocSkip\"></span></h1>\n",
    "<div class=\"toc\"><ul class=\"toc-item\"><li><span><a href=\"#Lesson-9:-Map-Reduce\" data-toc-modified-id=\"Lesson-9:-Map-Reduce-1\"><span class=\"toc-item-num\">1&nbsp;&nbsp;</span>Lesson 9: Map Reduce</a></span><ul class=\"toc-item\"><li><span><a href=\"#Lesson-9:-Quiz-5:-Counting-Words-Serially\" data-toc-modified-id=\"Lesson-9:-Quiz-5:-Counting-Words-Serially-1.1\"><span class=\"toc-item-num\">1.1&nbsp;&nbsp;</span>Lesson 9: Quiz 5: Counting Words Serially</a></span></li><li><span><a href=\"#Lesson-9:-Quiz-11:-Mapper-and-Reducer-With-Aadhar-Data\" data-toc-modified-id=\"Lesson-9:-Quiz-11:-Mapper-and-Reducer-With-Aadhar-Data-1.2\"><span class=\"toc-item-num\">1.2&nbsp;&nbsp;</span>Lesson 9: Quiz 11: Mapper and Reducer With Aadhar Data</a></span><ul class=\"toc-item\"><li><span><a href=\"#Lesson-9:-Quiz-11:-Mapper-With-Aadhar-Data\" data-toc-modified-id=\"Lesson-9:-Quiz-11:-Mapper-With-Aadhar-Data-1.2.1\"><span class=\"toc-item-num\">1.2.1&nbsp;&nbsp;</span>Lesson 9: Quiz 11: Mapper With Aadhar Data</a></span></li><li><span><a href=\"#Lesson-9:-Quiz-11:-Reducer-With-Aadhar-Data\" data-toc-modified-id=\"Lesson-9:-Quiz-11:-Reducer-With-Aadhar-Data-1.2.2\"><span class=\"toc-item-num\">1.2.2&nbsp;&nbsp;</span>Lesson 9: Quiz 11: Reducer With Aadhar Data</a></span></li></ul></li></ul></li></ul></div>"
   ]
  },
  {
   "cell_type": "markdown",
   "metadata": {},
   "source": [
    "# Lesson 9: Map Reduce"
   ]
  },
  {
   "cell_type": "markdown",
   "metadata": {},
   "source": [
    "![map_reduce](map_reduce_usage.png)"
   ]
  },
  {
   "cell_type": "markdown",
   "metadata": {},
   "source": [
    "## Lesson 9: Quiz 5: Counting Words Serially"
   ]
  },
  {
   "cell_type": "code",
   "execution_count": 19,
   "metadata": {},
   "outputs": [
    {
     "name": "stdout",
     "output_type": "stream",
     "text": [
      "string with punctuation inside of it Does this work I hope so\n"
     ]
    }
   ],
   "source": [
    "# Remove punctuation\n",
    "import string\n",
    "\n",
    "translator = str.maketrans('', '', string.punctuation)\n",
    "s = 'string with \"punctuation\" inside of it! Does this work? I hope so.'\n",
    "print(s.translate(translator))"
   ]
  },
  {
   "cell_type": "code",
   "execution_count": 20,
   "metadata": {},
   "outputs": [
    {
     "name": "stdout",
     "output_type": "stream",
     "text": [
      "apple\n",
      "apple\n",
      "banana\n",
      "cat\n",
      "apple\n",
      "lemons\n",
      "juice\n",
      "nepals\n",
      "capital\n",
      "is\n",
      "kathmandu\n",
      "\n",
      "\n",
      "{'apple': 3, 'banana': 1, 'cat': 1, 'lemons': 1, 'juice': 1, 'nepals': 1, 'capital': 1, 'is': 1, 'kathmandu': 1}\n"
     ]
    }
   ],
   "source": [
    "#%%writefile lesson9_quiz5_counting_words_serially.py\n",
    "import logging\n",
    "import sys\n",
    "import string\n",
    "\n",
    "# from util import logfile\n",
    "logfile = 'lesson9_quiz5.log'\n",
    "logging.basicConfig(filename=logfile, format='%(message)s',\n",
    "                   level=logging.INFO, filemode='w')\n",
    "\n",
    "\n",
    "def word_count(fname):\n",
    "    # For this exercise, write a program that serially counts the number of occurrences\n",
    "    # of each word in the book Alice in Wonderland.\n",
    "    #\n",
    "    # The text of Alice in Wonderland will be fed into your program line-by-line.\n",
    "    # Your program needs to take each line and do the following:\n",
    "    # 1) Tokenize the line into string tokens by whitespace\n",
    "    #    Example: \"Hello, World!\" should be converted into \"Hello,\" and \"World!\"\n",
    "    #    (This part has been done for you.)\n",
    "    #\n",
    "    # 2) Remove all punctuation\n",
    "    #    Example: \"Hello,\" and \"World!\" should be converted into \"Hello\" and \"World\"\n",
    "    #\n",
    "    # 3) Make all letters lowercase\n",
    "    #    Example: \"Hello\" and \"World\" should be converted to \"hello\" and \"world\"\n",
    "    #\n",
    "    # Store the the number of times that a word appears in Alice in Wonderland\n",
    "    # in the word_counts dictionary, and then *print* (don't return) that dictionary\n",
    "    #\n",
    "    # In this exercise, print statements will be considered your final output. Because\n",
    "    # of this, printing a debug statement will cause the grader to break. Instead, \n",
    "    # you can use the logging module which we've configured for you.\n",
    "    #\n",
    "    # For example:\n",
    "    # logging.info(\"My debugging message\")\n",
    "    #\n",
    "    # The logging module can be used to give you more control over your\n",
    "    # debugging or other messages than you can get by printing them. Messages \n",
    "    # logged via the logger we configured will be saved to a\n",
    "    # file. If you click \"Test Run\", then you will see the contents of that file\n",
    "    # once your program has finished running.\n",
    "    # \n",
    "    # The logging module also has other capabilities; see \n",
    "    # https://docs.python.org/2/library/logging.html\n",
    "    # for more information.\n",
    "\n",
    "    word_counts = {}\n",
    "    for line in open(fname).readlines():\n",
    "        data = line.strip().split(\" \") # make list\n",
    "        \n",
    "        # remove punctuation\n",
    "        translater = str.maketrans('','',string.punctuation)\n",
    "        for i in data:\n",
    "            key = i.translate(translater).lower()\n",
    "            print(key)\n",
    "            if key in word_counts.keys():\n",
    "                word_counts[key] += 1\n",
    "            else:\n",
    "                word_counts[key] = 1\n",
    "    print(\"\\n\")\n",
    "    print (word_counts)\n",
    "\n",
    "fname = '../data/alice_in_wonderland.txt'\n",
    "word_count(fname)"
   ]
  },
  {
   "cell_type": "code",
   "execution_count": 21,
   "metadata": {},
   "outputs": [
    {
     "name": "stdout",
     "output_type": "stream",
     "text": [
      "Apple apple banana!\r\n",
      "Cat apple lemon's \"juice\".\r\n",
      "Nepal's capital is Kathmandu."
     ]
    }
   ],
   "source": [
    "!cat ../data/alice_in_wonderland.txt"
   ]
  },
  {
   "cell_type": "markdown",
   "metadata": {},
   "source": [
    "## Lesson 9: Quiz 11: Mapper and Reducer With Aadhar Data"
   ]
  },
  {
   "cell_type": "markdown",
   "metadata": {},
   "source": [
    "### Lesson 9: Quiz 11: Mapper With Aadhar Data"
   ]
  },
  {
   "cell_type": "code",
   "execution_count": 22,
   "metadata": {},
   "outputs": [],
   "source": [
    "# %%writefile lesson9_quiz11_mapper_with_aadhar_data.py\n",
    "import sys\n",
    "import string\n",
    "import logging\n",
    "\n",
    "\n",
    "# from util import mapper_logfile\n",
    "# logging.basicConfig(filename=mapper_logfile, format='%(message)s',\n",
    "#                     level=logging.INFO, filemode='w')\n",
    "\n",
    "HEADER_LINE =\"Registrar,Enrolment Agency,State,District,Sub District,Pin Code,Gender,Age,Aadhaar generated,Enrolment Rejected,Residents providing email,Residents providing mobile number\"\n",
    "HEADER_LIST = HEADER_LINE.split(',')\n",
    "DISTRICT_INDEX = HEADER_LIST.index(\"District\")\n",
    "AADHAAR_GENERATED_INDEX = HEADER_LIST.index(\"Aadhaar generated\")\n",
    "\n",
    "def mapper():\n",
    "    for line in sys.stdin:\n",
    "        # Skip header line\n",
    "        if \"Registrar,Enrolment Agency,State,\" in line:\n",
    "            continue\n",
    "\n",
    "        data = line.split(\",\")\n",
    "        district = data[DISTRICT_INDEX]\n",
    "        aadhaar_generated = data[AADHAAR_GENERATED_INDEX]\n",
    "\n",
    "        if district and aadhaar_generated:\n",
    "            print (\"{0}\\t{1}\".format(district,aadhaar_generated))\n",
    "\n",
    "# Run the code\n",
    "mapper()"
   ]
  },
  {
   "cell_type": "markdown",
   "metadata": {},
   "source": [
    "### Lesson 9: Quiz 11: Reducer With Aadhar Data"
   ]
  },
  {
   "cell_type": "code",
   "execution_count": 23,
   "metadata": {},
   "outputs": [],
   "source": [
    "# %%writefile lesson9_quiz11_reducer_with_aadhar_data.py\n",
    "import sys\n",
    "import logging\n",
    "\n",
    "# from util import reducer_logfile\n",
    "# logging.basicConfig(filename=reducer_logfile, format='%(message)s',\n",
    "#                     level=logging.INFO, filemode='w')\n",
    "\n",
    "def reducer():\n",
    "\n",
    "    aadhaar_generated_counts = {}\n",
    "\n",
    "    for line in sys.stdin:\n",
    "        district, number_generated = line.split(\"\\t\")\n",
    "\n",
    "        if not district and number_generated:\n",
    "            continue\n",
    "\n",
    "        number_generated = int(number_generated)\n",
    "\n",
    "        if district in aadhaar_generated_counts.keys():\n",
    "            aadhaar_generated_counts[district] += number_generated\n",
    "        else:\n",
    "            aadhaar_generated_counts[district] = number_generated\n",
    "\n",
    "    for key in aadhaar_generated_counts:\n",
    "        print (\"{0}\\t{1}\".format(key, aadhaar_generated_counts[key]))\n",
    "\n",
    "\n",
    "\n",
    "reducer()"
   ]
  },
  {
   "cell_type": "code",
   "execution_count": 24,
   "metadata": {},
   "outputs": [
    {
     "name": "stdout",
     "output_type": "stream",
     "text": [
      "Registrar,Enrolment Agency,State,District,Sub District,Pin Code,Gender,Age,Aadhaar generated,Enrolment Rejected,Residents providing email,Residents providing mobile number\r\n",
      "Allahabad Bank,Tera Software Ltd,Jharkhand,Ranchi,Namkum,834003,M,63,0,1,0,1\r\n",
      "Allahabad Bank,Tera Software Ltd,Jharkhand,Ranchi,Ranchi,834004,F,36,0,1,0,1\r\n",
      "Allahabad Bank,Vakrangee Softwares Limited,Gujarat,Surat,Nizar,394380,M,10,1,0,0,0\r\n"
     ]
    }
   ],
   "source": [
    "!head -n4 ../data/aadhaar_data.csv"
   ]
  },
  {
   "cell_type": "markdown",
   "metadata": {},
   "source": [
    "Command line to run mapper and reducer.\n",
    "```bash\n",
    "!cat aadhaar_data.csv | python lesson9_quiz11_mapper_with_aadhar_data.py | sort | python lesson9_quiz11_reducer_with_aadhar_data.py\n",
    "```"
   ]
  },
  {
   "cell_type": "code",
   "execution_count": 25,
   "metadata": {},
   "outputs": [
    {
     "name": "stdout",
     "output_type": "stream",
     "text": [
      "Adilabad\t1\r\n",
      "Agra\t9\r\n",
      "Ahmadnagar\t552\r\n",
      "Ahmed Nagar\t0\r\n",
      "Ahmedabad\t9\r\n",
      "Ajmer\t527\r\n",
      "Akola\t55\r\n",
      "Alappuzha\t1\r\n",
      "Aligarh\t7\r\n",
      "Alirajpur\t2965\r\n"
     ]
    }
   ],
   "source": [
    "!cat ../data/aadhaar_data.csv | python lesson9_quiz11_mapper_with_aadhar_data.py | sort | python lesson9_quiz11_reducer_with_aadhar_data.py > map_reduced_aadhaar.csv ; head map_reduced_aadhaar.csv"
   ]
  },
  {
   "cell_type": "code",
   "execution_count": 26,
   "metadata": {},
   "outputs": [
    {
     "data": {
      "text/html": [
       "<div>\n",
       "<style scoped>\n",
       "    .dataframe tbody tr th:only-of-type {\n",
       "        vertical-align: middle;\n",
       "    }\n",
       "\n",
       "    .dataframe tbody tr th {\n",
       "        vertical-align: top;\n",
       "    }\n",
       "\n",
       "    .dataframe thead th {\n",
       "        text-align: right;\n",
       "    }\n",
       "</style>\n",
       "<table border=\"1\" class=\"dataframe\">\n",
       "  <thead>\n",
       "    <tr style=\"text-align: right;\">\n",
       "      <th></th>\n",
       "      <th>Age</th>\n",
       "      <th>Aadhaar generated</th>\n",
       "      <th>Enrolment Rejected</th>\n",
       "      <th>Residents providing email</th>\n",
       "      <th>Residents providing mobile number</th>\n",
       "    </tr>\n",
       "    <tr>\n",
       "      <th>District</th>\n",
       "      <th></th>\n",
       "      <th></th>\n",
       "      <th></th>\n",
       "      <th></th>\n",
       "      <th></th>\n",
       "    </tr>\n",
       "  </thead>\n",
       "  <tbody>\n",
       "    <tr>\n",
       "      <th>Adilabad</th>\n",
       "      <td>23</td>\n",
       "      <td>1</td>\n",
       "      <td>0</td>\n",
       "      <td>0</td>\n",
       "      <td>1</td>\n",
       "    </tr>\n",
       "    <tr>\n",
       "      <th>Agra</th>\n",
       "      <td>234</td>\n",
       "      <td>9</td>\n",
       "      <td>0</td>\n",
       "      <td>0</td>\n",
       "      <td>8</td>\n",
       "    </tr>\n",
       "    <tr>\n",
       "      <th>Ahmadnagar</th>\n",
       "      <td>19445</td>\n",
       "      <td>552</td>\n",
       "      <td>307</td>\n",
       "      <td>1</td>\n",
       "      <td>116</td>\n",
       "    </tr>\n",
       "    <tr>\n",
       "      <th>Ahmed Nagar</th>\n",
       "      <td>4029</td>\n",
       "      <td>0</td>\n",
       "      <td>130</td>\n",
       "      <td>1</td>\n",
       "      <td>17</td>\n",
       "    </tr>\n",
       "    <tr>\n",
       "      <th>Ahmedabad</th>\n",
       "      <td>359</td>\n",
       "      <td>9</td>\n",
       "      <td>1</td>\n",
       "      <td>1</td>\n",
       "      <td>9</td>\n",
       "    </tr>\n",
       "  </tbody>\n",
       "</table>\n",
       "</div>"
      ],
      "text/plain": [
       "               Age  Aadhaar generated  Enrolment Rejected  \\\n",
       "District                                                    \n",
       "Adilabad        23                  1                   0   \n",
       "Agra           234                  9                   0   \n",
       "Ahmadnagar   19445                552                 307   \n",
       "Ahmed Nagar   4029                  0                 130   \n",
       "Ahmedabad      359                  9                   1   \n",
       "\n",
       "             Residents providing email  Residents providing mobile number  \n",
       "District                                                                   \n",
       "Adilabad                             0                                  1  \n",
       "Agra                                 0                                  8  \n",
       "Ahmadnagar                           1                                116  \n",
       "Ahmed Nagar                          1                                 17  \n",
       "Ahmedabad                            1                                  9  "
      ]
     },
     "execution_count": 26,
     "metadata": {},
     "output_type": "execute_result"
    }
   ],
   "source": [
    "import pandas as pd\n",
    "filename = '../data/aadhaar_data.csv'\n",
    "df = pd.read_csv(filename, parse_dates = True)\n",
    "df.groupby(['District']).sum().head()"
   ]
  },
  {
   "cell_type": "code",
   "execution_count": 27,
   "metadata": {},
   "outputs": [
    {
     "name": "stdout",
     "output_type": "stream",
     "text": [
      "<class 'pandas.core.series.Series'>\n"
     ]
    },
    {
     "data": {
      "text/plain": [
       "District\n",
       "Adilabad         1\n",
       "Agra             9\n",
       "Ahmadnagar     552\n",
       "Ahmed Nagar      0\n",
       "Ahmedabad        9\n",
       "Name: Aadhaar generated, dtype: int64"
      ]
     },
     "execution_count": 27,
     "metadata": {},
     "output_type": "execute_result"
    }
   ],
   "source": [
    "df2 = df.groupby(['District']).sum()['Aadhaar generated']\n",
    "print(type(df2))\n",
    "df2.head()"
   ]
  },
  {
   "cell_type": "code",
   "execution_count": 28,
   "metadata": {},
   "outputs": [
    {
     "name": "stdout",
     "output_type": "stream",
     "text": [
      "<class 'pandas.core.series.Series'>\n"
     ]
    },
    {
     "data": {
      "text/plain": [
       "0      1\n",
       "1      9\n",
       "2    552\n",
       "3      0\n",
       "4      9\n",
       "Name: Aadhaar generated, dtype: int64"
      ]
     },
     "execution_count": 28,
     "metadata": {},
     "output_type": "execute_result"
    }
   ],
   "source": [
    "df3 = pd.read_csv('map_reduced_aadhaar.csv',\n",
    "                  parse_dates = True,sep='\\t',\n",
    "                 names=['District','Aadhaar generated'])\n",
    "df3 = df3['Aadhaar generated']\n",
    "print(type(df3))\n",
    "df3.head()"
   ]
  },
  {
   "cell_type": "code",
   "execution_count": 29,
   "metadata": {},
   "outputs": [
    {
     "data": {
      "text/plain": [
       "False"
      ]
     },
     "execution_count": 29,
     "metadata": {},
     "output_type": "execute_result"
    }
   ],
   "source": [
    "df2.equals(df3) # panda Series are not equal, but numpy values are!"
   ]
  },
  {
   "cell_type": "code",
   "execution_count": 30,
   "metadata": {},
   "outputs": [
    {
     "data": {
      "text/plain": [
       "True"
      ]
     },
     "execution_count": 30,
     "metadata": {},
     "output_type": "execute_result"
    }
   ],
   "source": [
    "import numpy as np\n",
    "ar2 = df2.values\n",
    "ar3 = df3.values\n",
    "np.array_equal(ar2,ar3)"
   ]
  },
  {
   "cell_type": "code",
   "execution_count": 32,
   "metadata": {},
   "outputs": [
    {
     "data": {
      "text/plain": [
       "True"
      ]
     },
     "execution_count": 32,
     "metadata": {},
     "output_type": "execute_result"
    }
   ],
   "source": [
    "np.array_equal(df2.values,df3.values)"
   ]
  },
  {
   "cell_type": "code",
   "execution_count": null,
   "metadata": {},
   "outputs": [],
   "source": []
  }
 ],
 "metadata": {
  "kernelspec": {
   "display_name": "Python 3",
   "language": "python",
   "name": "python3"
  },
  "language_info": {
   "codemirror_mode": {
    "name": "ipython",
    "version": 3
   },
   "file_extension": ".py",
   "mimetype": "text/x-python",
   "name": "python",
   "nbconvert_exporter": "python",
   "pygments_lexer": "ipython3",
   "version": "3.6.3"
  },
  "toc": {
   "base_numbering": 1,
   "nav_menu": {},
   "number_sections": true,
   "sideBar": true,
   "skip_h1_title": false,
   "title_cell": "Table of Contents",
   "title_sidebar": "Contents",
   "toc_cell": true,
   "toc_position": {},
   "toc_section_display": true,
   "toc_window_display": true
  }
 },
 "nbformat": 4,
 "nbformat_minor": 2
}
