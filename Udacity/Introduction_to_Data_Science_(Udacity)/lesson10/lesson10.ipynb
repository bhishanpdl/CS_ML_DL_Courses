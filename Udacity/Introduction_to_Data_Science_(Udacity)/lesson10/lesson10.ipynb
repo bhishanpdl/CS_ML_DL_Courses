{
 "cells": [
  {
   "cell_type": "markdown",
   "metadata": {
    "toc": true
   },
   "source": [
    "<h1>Table of Contents<span class=\"tocSkip\"></span></h1>\n",
    "<div class=\"toc\"><ul class=\"toc-item\"><li><span><a href=\"#Lesson-10:-Problem-Set-5:-MapReduce-on-Subway-Data\" data-toc-modified-id=\"Lesson-10:-Problem-Set-5:-MapReduce-on-Subway-Data-1\"><span class=\"toc-item-num\">1&nbsp;&nbsp;</span>Lesson 10: Problem Set 5: MapReduce on Subway Data</a></span><ul class=\"toc-item\"><li><span><a href=\"#Lesson-10:-Quiz-1:-Ridership-per-Station\" data-toc-modified-id=\"Lesson-10:-Quiz-1:-Ridership-per-Station-1.1\"><span class=\"toc-item-num\">1.1&nbsp;&nbsp;</span>Lesson 10: Quiz 1: Ridership per Station</a></span><ul class=\"toc-item\"><li><span><a href=\"#Pandas-method\" data-toc-modified-id=\"Pandas-method-1.1.1\"><span class=\"toc-item-num\">1.1.1&nbsp;&nbsp;</span>Pandas method</a></span></li></ul></li><li><span><a href=\"#Lesson-10:-Quiz-2:-Ridership-by-Weather-Type\" data-toc-modified-id=\"Lesson-10:-Quiz-2:-Ridership-by-Weather-Type-1.2\"><span class=\"toc-item-num\">1.2&nbsp;&nbsp;</span>Lesson 10: Quiz 2: Ridership by Weather Type</a></span><ul class=\"toc-item\"><li><span><a href=\"#Pandas-method\" data-toc-modified-id=\"Pandas-method-1.2.1\"><span class=\"toc-item-num\">1.2.1&nbsp;&nbsp;</span>Pandas method</a></span></li></ul></li><li><span><a href=\"#Lesson-10:-Quiz-3:-Busiest-Hour\" data-toc-modified-id=\"Lesson-10:-Quiz-3:-Busiest-Hour-1.3\"><span class=\"toc-item-num\">1.3&nbsp;&nbsp;</span>Lesson 10: Quiz 3: Busiest Hour</a></span><ul class=\"toc-item\"><li><span><a href=\"#Pandas-method\" data-toc-modified-id=\"Pandas-method-1.3.1\"><span class=\"toc-item-num\">1.3.1&nbsp;&nbsp;</span>Pandas method</a></span></li></ul></li></ul></li></ul></div>"
   ]
  },
  {
   "cell_type": "markdown",
   "metadata": {},
   "source": [
    "# Lesson 10: Problem Set 5: MapReduce on Subway Data\n",
    "\n",
    "Data: https://s3.amazonaws.com/content.udacity-data.com/courses/ud359/turnstile_data_master_with_weather.csv"
   ]
  },
  {
   "cell_type": "code",
   "execution_count": 1,
   "metadata": {},
   "outputs": [
    {
     "name": "stdout",
     "output_type": "stream",
     "text": [
      ",UNIT,DATEn,TIMEn,Hour,DESCn,ENTRIESn_hourly,EXITSn_hourly,maxpressurei,maxdewpti,mindewpti,minpressurei,meandewpti,meanpressurei,fog,rain,meanwindspdi,mintempi,meantempi,maxtempi,precipi,thunder\r\n",
      "0,R001,2011-05-01,01:00:00,1,REGULAR,0.0,0.0,30.31,42.0,35.0,30.23,39.0,30.27,0.0,0.0,5.0,50.0,60.0,69.0,0.0,0.0\r\n"
     ]
    }
   ],
   "source": [
    "!head -n2 ../data/turnstile_data_master_with_weather.csv"
   ]
  },
  {
   "cell_type": "markdown",
   "metadata": {},
   "source": [
    "From this data, we can see data[0] has no column name, data[1] is UNIT and data[6] is ENTRIESn_hourly. We will print this unit and hourly entry separated by tab for the mapper code. The mapper.py will take data from bash command `cat data.csv` and emits unit and hourly entries separated by tab.\n",
    "\n",
    "Then we sort this data and send it to the reducer."
   ]
  },
  {
   "cell_type": "code",
   "execution_count": 2,
   "metadata": {},
   "outputs": [
    {
     "name": "stdout",
     "output_type": "stream",
     "text": [
      "0 Unnamed: 0\n",
      "1 UNIT\n",
      "2 DATEn\n",
      "3 TIMEn\n",
      "4 Hour\n",
      "5 DESCn\n",
      "6 ENTRIESn_hourly\n",
      "7 EXITSn_hourly\n",
      "8 maxpressurei\n",
      "9 maxdewpti\n",
      "10 mindewpti\n",
      "11 minpressurei\n",
      "12 meandewpti\n",
      "13 meanpressurei\n",
      "14 fog\n",
      "15 rain\n",
      "16 meanwindspdi\n",
      "17 mintempi\n",
      "18 meantempi\n",
      "19 maxtempi\n",
      "20 precipi\n",
      "21 thunder\n"
     ]
    }
   ],
   "source": [
    "import pandas as pd\n",
    "\n",
    "filename = '../data/turnstile_data_master_with_weather.csv'\n",
    "df = pd.read_csv(filename, parse_dates = True)\n",
    "hdr = df.columns.values\n",
    "for i,v in enumerate(hdr):\n",
    "    print(i,v)"
   ]
  },
  {
   "cell_type": "markdown",
   "metadata": {},
   "source": [
    "## Lesson 10: Quiz 1: Ridership per Station"
   ]
  },
  {
   "cell_type": "code",
   "execution_count": 3,
   "metadata": {},
   "outputs": [
    {
     "name": "stdout",
     "output_type": "stream",
     "text": [
      "Overwriting lesson10_quiz1_ridership_per_station_mapper.py\n"
     ]
    }
   ],
   "source": [
    "%%writefile lesson10_quiz1_ridership_per_station_mapper.py\n",
    "import sys\n",
    "import string\n",
    "import logging\n",
    "\n",
    "# from util import mapper_logfile\n",
    "# logging.basicConfig(filename=mapper_logfile, format='%(message)s',\n",
    "#                     level=logging.INFO, filemode='w')\n",
    "\n",
    "def mapper():\n",
    "    \"\"\"\n",
    "    The input to this mapper will be the final Subway-MTA dataset, the same as\n",
    "    in the previous exercise.  You can check out the csv and its structure below:\n",
    "    https://s3.amazonaws.com/content.udacity-data.com/courses/ud359/turnstile_data_master_with_weather.csv\n",
    "\n",
    "    For each line of input, the mapper output should PRINT (not return) the UNIT as \n",
    "    the key, the number of ENTRIESn_hourly as the value, and separate the key and \n",
    "    the value by a tab. For example: 'R002\\t105105.0'\n",
    "\n",
    "    Since you are printing the output of your program, printing a debug \n",
    "    statement will interfere with the operation of the grader. Instead, \n",
    "    use the logging module, which we've configured to log to a file printed \n",
    "    when you click \"Test Run\". For example:\n",
    "    logging.info(\"My debugging message\")\n",
    "    Note that, unlike print, logging.info will take only a single argument.\n",
    "    So logging.info(\"my message\") will work, but logging.info(\"my\",\"message\") will not.\n",
    "    \n",
    "    The logging module can be used to give you more control over your debugging\n",
    "    or other messages than you can get by printing them. In this exercise, print\n",
    "    statements from your mapper will go to your reducer, and print statements\n",
    "    from your reducer will be considered your final output. By contrast, messages\n",
    "    logged via the loggers we configured will be saved to two files, one\n",
    "    for the mapper and one for the reducer. If you click \"Test Run\", then we\n",
    "    will show the contents of those files once your program has finished running.\n",
    "    The logging module also has other capabilities; see \n",
    "    https://docs.python.org/2/library/logging.html for more information.\n",
    "    \"\"\"\n",
    "\n",
    "    for line in sys.stdin:\n",
    "        data = line.strip().split(\",\")\n",
    "        if data[1] == \"UNIT\":\n",
    "            continue\n",
    "\n",
    "        # print UNIT and ENTRIESn_hourly separated by tab from turn-wtr data\n",
    "        print (\"{}\\t{}\".format(data[1],data[6]))\n",
    "\n",
    "mapper()"
   ]
  },
  {
   "cell_type": "code",
   "execution_count": 4,
   "metadata": {},
   "outputs": [
    {
     "name": "stdout",
     "output_type": "stream",
     "text": [
      "R001\t0.0\r\n",
      "R001\t217.0\r\n",
      "R001\t890.0\r\n",
      "R001\t2451.0\r\n",
      "R001\t4400.0\r\n"
     ]
    }
   ],
   "source": [
    "!cat ../data/turnstile_data_master_with_weather.csv |\\\n",
    "python lesson10_quiz1_ridership_per_station_mapper.py > ridership_mapper.csv;\\\n",
    "head -n5 ridership_mapper.csv"
   ]
  },
  {
   "cell_type": "code",
   "execution_count": 5,
   "metadata": {},
   "outputs": [
    {
     "name": "stdout",
     "output_type": "stream",
     "text": [
      "Overwriting lesson10_quiz1_ridership_per_station_reducer.py\n"
     ]
    }
   ],
   "source": [
    "%%writefile lesson10_quiz1_ridership_per_station_reducer.py\n",
    "import sys\n",
    "import logging\n",
    "\n",
    "# from util import reducer_logfile\n",
    "# logging.basicConfig(filename=reducer_logfile, format='%(message)s',\n",
    "#                     level=logging.INFO, filemode='w')\n",
    "\n",
    "def reducer():\n",
    "    '''\n",
    "    Given the output of the mapper for this exercise, the reducer should PRINT \n",
    "    (not return) one line per UNIT along with the total number of ENTRIESn_hourly \n",
    "    over the course of May (which is the duration of our data), separated by a tab.\n",
    "    An example output row from the reducer might look like this: 'R001\\t500625.0'\n",
    "\n",
    "    You can assume that the input to the reducer is sorted such that all rows\n",
    "    corresponding to a particular UNIT are grouped together.\n",
    "\n",
    "    Since you are printing the output of your program, printing a debug \n",
    "    statement will interfere with the operation of the grader. Instead, \n",
    "    use the logging module, which we've configured to log to a file printed \n",
    "    when you click \"Test Run\". For example:\n",
    "    logging.info(\"My debugging message\")\n",
    "    Note that, unlike print, logging.info will take only a single argument.\n",
    "    So logging.info(\"my message\") will work, but logging.info(\"my\",\"message\") will not.\n",
    "    '''\n",
    "    counter = {}\n",
    "    for line in sys.stdin:\n",
    "        # your code here\n",
    "        data = line.strip().split(\"\\t\")\n",
    "        if data[0] in counter:\n",
    "            counter[data[0]] += int(float(data[1]))\n",
    "        else:\n",
    "            counter[data[0]] = int(float(data[1]))\n",
    "\n",
    "    for i in counter: \n",
    "        print (i, \"\\t\", counter[i])\n",
    "\n",
    "reducer()"
   ]
  },
  {
   "cell_type": "code",
   "execution_count": 6,
   "metadata": {},
   "outputs": [
    {
     "name": "stdout",
     "output_type": "stream",
     "text": [
      "R001 \t 749682\r\n",
      "R002 \t 176535\r\n",
      "R003 \t 35938\r\n",
      "R004 \t 93104\r\n",
      "R005 \t 91031\r\n"
     ]
    }
   ],
   "source": [
    "!cat ../data/turnstile_data_master_with_weather.csv |\\\n",
    "python lesson10_quiz1_ridership_per_station_mapper.py |\\\n",
    "sort |\\\n",
    "python lesson10_quiz1_ridership_per_station_reducer.py | head -n5"
   ]
  },
  {
   "cell_type": "markdown",
   "metadata": {},
   "source": [
    "### Pandas method"
   ]
  },
  {
   "cell_type": "code",
   "execution_count": 7,
   "metadata": {},
   "outputs": [
    {
     "data": {
      "text/html": [
       "<div>\n",
       "<style scoped>\n",
       "    .dataframe tbody tr th:only-of-type {\n",
       "        vertical-align: middle;\n",
       "    }\n",
       "\n",
       "    .dataframe tbody tr th {\n",
       "        vertical-align: top;\n",
       "    }\n",
       "\n",
       "    .dataframe thead th {\n",
       "        text-align: right;\n",
       "    }\n",
       "</style>\n",
       "<table border=\"1\" class=\"dataframe\">\n",
       "  <thead>\n",
       "    <tr style=\"text-align: right;\">\n",
       "      <th></th>\n",
       "      <th>Unnamed: 0</th>\n",
       "      <th>UNIT</th>\n",
       "      <th>DATEn</th>\n",
       "      <th>TIMEn</th>\n",
       "      <th>Hour</th>\n",
       "      <th>DESCn</th>\n",
       "      <th>ENTRIESn_hourly</th>\n",
       "      <th>EXITSn_hourly</th>\n",
       "      <th>maxpressurei</th>\n",
       "      <th>maxdewpti</th>\n",
       "      <th>...</th>\n",
       "      <th>meandewpti</th>\n",
       "      <th>meanpressurei</th>\n",
       "      <th>fog</th>\n",
       "      <th>rain</th>\n",
       "      <th>meanwindspdi</th>\n",
       "      <th>mintempi</th>\n",
       "      <th>meantempi</th>\n",
       "      <th>maxtempi</th>\n",
       "      <th>precipi</th>\n",
       "      <th>thunder</th>\n",
       "    </tr>\n",
       "  </thead>\n",
       "  <tbody>\n",
       "    <tr>\n",
       "      <th>0</th>\n",
       "      <td>0</td>\n",
       "      <td>R001</td>\n",
       "      <td>2011-05-01</td>\n",
       "      <td>01:00:00</td>\n",
       "      <td>1</td>\n",
       "      <td>REGULAR</td>\n",
       "      <td>0.0</td>\n",
       "      <td>0.0</td>\n",
       "      <td>30.31</td>\n",
       "      <td>42.0</td>\n",
       "      <td>...</td>\n",
       "      <td>39.0</td>\n",
       "      <td>30.27</td>\n",
       "      <td>0.0</td>\n",
       "      <td>0.0</td>\n",
       "      <td>5.0</td>\n",
       "      <td>50.0</td>\n",
       "      <td>60.0</td>\n",
       "      <td>69.0</td>\n",
       "      <td>0.0</td>\n",
       "      <td>0.0</td>\n",
       "    </tr>\n",
       "    <tr>\n",
       "      <th>1</th>\n",
       "      <td>1</td>\n",
       "      <td>R001</td>\n",
       "      <td>2011-05-01</td>\n",
       "      <td>05:00:00</td>\n",
       "      <td>5</td>\n",
       "      <td>REGULAR</td>\n",
       "      <td>217.0</td>\n",
       "      <td>553.0</td>\n",
       "      <td>30.31</td>\n",
       "      <td>42.0</td>\n",
       "      <td>...</td>\n",
       "      <td>39.0</td>\n",
       "      <td>30.27</td>\n",
       "      <td>0.0</td>\n",
       "      <td>0.0</td>\n",
       "      <td>5.0</td>\n",
       "      <td>50.0</td>\n",
       "      <td>60.0</td>\n",
       "      <td>69.0</td>\n",
       "      <td>0.0</td>\n",
       "      <td>0.0</td>\n",
       "    </tr>\n",
       "    <tr>\n",
       "      <th>2</th>\n",
       "      <td>2</td>\n",
       "      <td>R001</td>\n",
       "      <td>2011-05-01</td>\n",
       "      <td>09:00:00</td>\n",
       "      <td>9</td>\n",
       "      <td>REGULAR</td>\n",
       "      <td>890.0</td>\n",
       "      <td>1262.0</td>\n",
       "      <td>30.31</td>\n",
       "      <td>42.0</td>\n",
       "      <td>...</td>\n",
       "      <td>39.0</td>\n",
       "      <td>30.27</td>\n",
       "      <td>0.0</td>\n",
       "      <td>0.0</td>\n",
       "      <td>5.0</td>\n",
       "      <td>50.0</td>\n",
       "      <td>60.0</td>\n",
       "      <td>69.0</td>\n",
       "      <td>0.0</td>\n",
       "      <td>0.0</td>\n",
       "    </tr>\n",
       "    <tr>\n",
       "      <th>3</th>\n",
       "      <td>3</td>\n",
       "      <td>R001</td>\n",
       "      <td>2011-05-01</td>\n",
       "      <td>13:00:00</td>\n",
       "      <td>13</td>\n",
       "      <td>REGULAR</td>\n",
       "      <td>2451.0</td>\n",
       "      <td>3708.0</td>\n",
       "      <td>30.31</td>\n",
       "      <td>42.0</td>\n",
       "      <td>...</td>\n",
       "      <td>39.0</td>\n",
       "      <td>30.27</td>\n",
       "      <td>0.0</td>\n",
       "      <td>0.0</td>\n",
       "      <td>5.0</td>\n",
       "      <td>50.0</td>\n",
       "      <td>60.0</td>\n",
       "      <td>69.0</td>\n",
       "      <td>0.0</td>\n",
       "      <td>0.0</td>\n",
       "    </tr>\n",
       "    <tr>\n",
       "      <th>4</th>\n",
       "      <td>4</td>\n",
       "      <td>R001</td>\n",
       "      <td>2011-05-01</td>\n",
       "      <td>17:00:00</td>\n",
       "      <td>17</td>\n",
       "      <td>REGULAR</td>\n",
       "      <td>4400.0</td>\n",
       "      <td>2501.0</td>\n",
       "      <td>30.31</td>\n",
       "      <td>42.0</td>\n",
       "      <td>...</td>\n",
       "      <td>39.0</td>\n",
       "      <td>30.27</td>\n",
       "      <td>0.0</td>\n",
       "      <td>0.0</td>\n",
       "      <td>5.0</td>\n",
       "      <td>50.0</td>\n",
       "      <td>60.0</td>\n",
       "      <td>69.0</td>\n",
       "      <td>0.0</td>\n",
       "      <td>0.0</td>\n",
       "    </tr>\n",
       "  </tbody>\n",
       "</table>\n",
       "<p>5 rows × 22 columns</p>\n",
       "</div>"
      ],
      "text/plain": [
       "   Unnamed: 0  UNIT       DATEn     TIMEn  Hour    DESCn  ENTRIESn_hourly  \\\n",
       "0           0  R001  2011-05-01  01:00:00     1  REGULAR              0.0   \n",
       "1           1  R001  2011-05-01  05:00:00     5  REGULAR            217.0   \n",
       "2           2  R001  2011-05-01  09:00:00     9  REGULAR            890.0   \n",
       "3           3  R001  2011-05-01  13:00:00    13  REGULAR           2451.0   \n",
       "4           4  R001  2011-05-01  17:00:00    17  REGULAR           4400.0   \n",
       "\n",
       "   EXITSn_hourly  maxpressurei  maxdewpti   ...     meandewpti  meanpressurei  \\\n",
       "0            0.0         30.31       42.0   ...           39.0          30.27   \n",
       "1          553.0         30.31       42.0   ...           39.0          30.27   \n",
       "2         1262.0         30.31       42.0   ...           39.0          30.27   \n",
       "3         3708.0         30.31       42.0   ...           39.0          30.27   \n",
       "4         2501.0         30.31       42.0   ...           39.0          30.27   \n",
       "\n",
       "   fog  rain  meanwindspdi  mintempi  meantempi  maxtempi  precipi  thunder  \n",
       "0  0.0   0.0           5.0      50.0       60.0      69.0      0.0      0.0  \n",
       "1  0.0   0.0           5.0      50.0       60.0      69.0      0.0      0.0  \n",
       "2  0.0   0.0           5.0      50.0       60.0      69.0      0.0      0.0  \n",
       "3  0.0   0.0           5.0      50.0       60.0      69.0      0.0      0.0  \n",
       "4  0.0   0.0           5.0      50.0       60.0      69.0      0.0      0.0  \n",
       "\n",
       "[5 rows x 22 columns]"
      ]
     },
     "execution_count": 7,
     "metadata": {},
     "output_type": "execute_result"
    }
   ],
   "source": [
    "import pandas as pd\n",
    "filename = '../data/turnstile_data_master_with_weather.csv'\n",
    "df = pd.read_csv(filename, parse_dates = True)\n",
    "df.head()"
   ]
  },
  {
   "cell_type": "code",
   "execution_count": 8,
   "metadata": {},
   "outputs": [
    {
     "data": {
      "text/plain": [
       "UNIT\n",
       "R001    749682.0\n",
       "R002    176535.0\n",
       "R003     35938.0\n",
       "R004     93104.0\n",
       "R005     91031.0\n",
       "Name: ENTRIESn_hourly, dtype: float64"
      ]
     },
     "execution_count": 8,
     "metadata": {},
     "output_type": "execute_result"
    }
   ],
   "source": [
    "df = df.groupby('UNIT').sum()\n",
    "df.head()['ENTRIESn_hourly']"
   ]
  },
  {
   "cell_type": "code",
   "execution_count": 9,
   "metadata": {},
   "outputs": [
    {
     "name": "stdout",
     "output_type": "stream",
     "text": [
      "R001 \t 749682\r\n",
      "R002 \t 176535\r\n",
      "R003 \t 35938\r\n",
      "R004 \t 93104\r\n",
      "R005 \t 91031\r\n"
     ]
    }
   ],
   "source": [
    "!cat ../data/turnstile_data_master_with_weather.csv |\\\n",
    "python lesson10_quiz1_ridership_per_station_mapper.py | sort |\\\n",
    "python lesson10_quiz1_ridership_per_station_reducer.py | head -n 5"
   ]
  },
  {
   "cell_type": "markdown",
   "metadata": {},
   "source": [
    "## Lesson 10: Quiz 2: Ridership by Weather Type"
   ]
  },
  {
   "cell_type": "code",
   "execution_count": 10,
   "metadata": {},
   "outputs": [
    {
     "name": "stdout",
     "output_type": "stream",
     "text": [
      "Overwriting lesson10_quiz2_ridership_by_weather_mapper.py\n"
     ]
    }
   ],
   "source": [
    "%%writefile lesson10_quiz2_ridership_by_weather_mapper.py\n",
    "import sys\n",
    "import string\n",
    "import logging\n",
    "\n",
    "# from util import mapper_logfile\n",
    "# logging.basicConfig(filename=mapper_logfile, format='%(message)s',\n",
    "#                     level=logging.INFO, filemode='w')\n",
    "\n",
    "\n",
    "HEADER_STRING = \",UNIT,DATEn,TIMEn,Hour,DESCn,ENTRIESn_hourly,EXITSn_hourly,maxpressurei,maxdewpti,mindewpti,minpressurei,meandewpti,meanpressurei,fog,rain,meanwindspdi,mintempi,meantempi,maxtempi,precipi,thunder\"\n",
    "HEADERS = HEADER_STRING.split(\",\")\n",
    "FOG_INDEX = HEADERS.index('fog')\n",
    "RAIN_INDEX = HEADERS.index('rain')\n",
    "ENTRIESN_HOURLY_INDEX = HEADERS.index('ENTRIESn_hourly')\n",
    "\n",
    "\n",
    "def mapper():\n",
    "    '''\n",
    "    For this exercise, compute the average value of the ENTRIESn_hourly column \n",
    "    for different weather types. Weather type will be defined based on the \n",
    "    combination of the columns fog and rain (which are boolean values).\n",
    "    For example, one output of our reducer would be the average hourly entries \n",
    "    across all hours when it was raining but not foggy.\n",
    "\n",
    "    Each line of input will be a row from our final Subway-MTA dataset in csv format.\n",
    "    You can check out the input csv file and its structure below:\n",
    "    https://s3.amazonaws.com/content.udacity-data.com/courses/ud359/turnstile_data_master_with_weather.csv\n",
    "    \n",
    "    Note that this is a comma-separated file.\n",
    "\n",
    "    This mapper should PRINT (not return) the weather type as the key (use the \n",
    "    given helper function to format the weather type correctly) and the number in \n",
    "    the ENTRIESn_hourly column as the value. They should be separated by a tab.\n",
    "    For example: 'fog-norain\\t12345'\n",
    "    \n",
    "    Since you are printing the output of your program, printing a debug \n",
    "    statement will interfere with the operation of the grader. Instead, \n",
    "    use the logging module, which we've configured to log to a file printed \n",
    "    when you click \"Test Run\". For example:\n",
    "    logging.info(\"My debugging message\")\n",
    "    Note that, unlike print, logging.info will take only a single argument.\n",
    "    So logging.info(\"my message\") will work, but logging.info(\"my\",\"message\") will not.\n",
    "    '''\n",
    "\n",
    "    # Takes in variables indicating whether it is foggy and/or rainy and\n",
    "    # returns a formatted key that you should output.  The variables passed in\n",
    "    # can be booleans, ints (0 for false and 1 for true) or floats (0.0 for\n",
    "    # false and 1.0 for true), but the strings '0.0' and '1.0' will not work,\n",
    "    # so make sure you convert these values to an appropriate type before\n",
    "    # calling the function.\n",
    "    def format_key(fog, rain):\n",
    "        return '{}fog-{}rain'.format(\n",
    "            '' if fog else 'no',\n",
    "            '' if rain else 'no'\n",
    "        )\n",
    "\n",
    "    for line in sys.stdin:\n",
    "        if \"UNIT,DATEn\" in line:\n",
    "            continue\n",
    "        data = line.split(',')\n",
    "        fog = int(float(data[FOG_INDEX]))\n",
    "        rain = int(float(data[RAIN_INDEX]))\n",
    "        entriesn_hourly = data[ENTRIESN_HOURLY_INDEX]\n",
    "\n",
    "        key = format_key(fog, rain)\n",
    "\n",
    "        print (\"{0}\\t{1}\".format(key, entriesn_hourly))\n",
    "\n",
    "mapper()"
   ]
  },
  {
   "cell_type": "code",
   "execution_count": 11,
   "metadata": {},
   "outputs": [
    {
     "name": "stdout",
     "output_type": "stream",
     "text": [
      ",UNIT,DATEn,TIMEn,Hour,DESCn,ENTRIESn_hourly,EXITSn_hourly,maxpressurei,maxdewpti,mindewpti,minpressurei,meandewpti,meanpressurei,fog,rain,meanwindspdi,mintempi,meantempi,maxtempi,precipi,thunder\r\n",
      "0,R001,2011-05-01,01:00:00,1,REGULAR,0.0,0.0,30.31,42.0,35.0,30.23,39.0,30.27,0.0,0.0,5.0,50.0,60.0,69.0,0.0,0.0\r\n"
     ]
    }
   ],
   "source": [
    "!head -n2 ../data/turnstile_data_master_with_weather.csv"
   ]
  },
  {
   "cell_type": "code",
   "execution_count": 12,
   "metadata": {
    "scrolled": true
   },
   "outputs": [
    {
     "name": "stdout",
     "output_type": "stream",
     "text": [
      "nofog-norain\t0.0\r\n",
      "nofog-norain\t217.0\r\n",
      "nofog-norain\t890.0\r\n",
      "nofog-norain\t2451.0\r\n",
      "nofog-norain\t4400.0\r\n"
     ]
    }
   ],
   "source": [
    "!cat ../data/turnstile_data_master_with_weather.csv |\\\n",
    "python lesson10_quiz2_ridership_by_weather_mapper.py > weather_mapper.csv ;\\\n",
    "head -n 5 weather_mapper.csv"
   ]
  },
  {
   "cell_type": "code",
   "execution_count": 13,
   "metadata": {},
   "outputs": [
    {
     "name": "stdout",
     "output_type": "stream",
     "text": [
      "Overwriting lesson10_quiz2_ridership_by_weather_reducer.py\n"
     ]
    }
   ],
   "source": [
    "%%writefile lesson10_quiz2_ridership_by_weather_reducer.py\n",
    "import sys\n",
    "import logging\n",
    "\n",
    "# from util import reducer_logfile\n",
    "# logging.basicConfig(filename=reducer_logfile, format='%(message)s',\n",
    "#                     level=logging.INFO, filemode='w')\n",
    "\n",
    "\n",
    "\n",
    "\n",
    "def reducer():\n",
    "    '''\n",
    "    Given the output of the mapper for this assignment, the reducer should\n",
    "    print one row per weather type, along with the average value of\n",
    "    ENTRIESn_hourly for that weather type, separated by a tab. You can assume\n",
    "    that the input to the reducer will be sorted by weather type, such that all\n",
    "    entries corresponding to a given weather type will be grouped together.\n",
    "\n",
    "    In order to compute the average value of ENTRIESn_hourly, you'll need to\n",
    "    keep track of both the total riders per weather type and the number of\n",
    "    hours with that weather type. That's why we've initialized the variable \n",
    "    riders and num_hours below. Feel free to use a different data structure in \n",
    "    your solution, though.\n",
    "\n",
    "    An example output row might look like this:\n",
    "    'fog-norain\\t1105.32467557'\n",
    "\n",
    "    Since you are printing the output of your program, printing a debug \n",
    "    statement will interfere with the operation of the grader. Instead, \n",
    "    use the logging module, which we've configured to log to a file printed \n",
    "    when you click \"Test Run\". For example:\n",
    "    logging.info(\"My debugging message\")\n",
    "    Note that, unlike print, logging.info will take only a single argument.\n",
    "    So logging.info(\"my message\") will work, but logging.info(\"my\",\"message\") will not.\n",
    "    '''\n",
    "\n",
    "    riders = 0      # The number of total riders for this key\n",
    "    num_hours = 0   # The number of hours with this key\n",
    "    old_key = None\n",
    "\n",
    "    for line in sys.stdin:\n",
    "        # your code here\n",
    "\n",
    "        data = line.strip().split(\"\\t\")\n",
    "        \n",
    "        if len(data) != 2:\n",
    "            continue\n",
    "        \n",
    "        this_key, count = data\n",
    "        \n",
    "        if old_key and old_key != this_key:\n",
    "            print (\"{0}\\t{1}\".format(old_key, num_hours/riders))\n",
    "            num_hours = 0\n",
    "            riders = 0\n",
    "            \n",
    "        old_key = this_key\n",
    "        num_hours += float(count)\n",
    "        riders += 1\n",
    "        \n",
    "    if old_key != None:\n",
    "        print (\"{0}\\t{1}\".format(old_key, num_hours/riders))\n",
    "\n",
    "reducer()\n"
   ]
  },
  {
   "cell_type": "code",
   "execution_count": 14,
   "metadata": {},
   "outputs": [
    {
     "name": "stdout",
     "output_type": "stream",
     "text": [
      "fog-norain\t1315.5798068077277\n",
      "fog-rain\t1115.1315179933338\n",
      "nofog-norain\t1078.5467969676283\n",
      "nofog-rain\t1098.9533007612772\n"
     ]
    }
   ],
   "source": [
    "!cat ../data/turnstile_data_master_with_weather.csv |\\\n",
    "python lesson10_quiz2_ridership_by_weather_mapper.py |\\\n",
    "sort |\\\n",
    "python lesson10_quiz2_ridership_by_weather_reducer.py"
   ]
  },
  {
   "cell_type": "markdown",
   "metadata": {},
   "source": [
    "### Pandas method"
   ]
  },
  {
   "cell_type": "code",
   "execution_count": 15,
   "metadata": {},
   "outputs": [],
   "source": [
    "import pandas as pd\n",
    "filename = '../data/turnstile_data_master_with_weather.csv'\n",
    "df = pd.read_csv(filename, parse_dates = True)\n",
    "df.head();"
   ]
  },
  {
   "cell_type": "code",
   "execution_count": 16,
   "metadata": {},
   "outputs": [
    {
     "data": {
      "text/plain": [
       "fog  rain\n",
       "0.0  0.0     1078.546797\n",
       "     1.0     1098.953301\n",
       "1.0  0.0     1315.579807\n",
       "     1.0     1115.131518\n",
       "Name: ENTRIESn_hourly, dtype: float64"
      ]
     },
     "execution_count": 16,
     "metadata": {},
     "output_type": "execute_result"
    }
   ],
   "source": [
    "df = df.groupby(['fog','rain']).mean()\n",
    "df.head()['ENTRIESn_hourly']"
   ]
  },
  {
   "cell_type": "markdown",
   "metadata": {},
   "source": [
    "## Lesson 10: Quiz 3: Busiest Hour"
   ]
  },
  {
   "cell_type": "code",
   "execution_count": 17,
   "metadata": {},
   "outputs": [
    {
     "name": "stdout",
     "output_type": "stream",
     "text": [
      "Overwriting lesson10_quiz3_busiest_hour_mapper.py\n"
     ]
    }
   ],
   "source": [
    "%%writefile lesson10_quiz3_busiest_hour_mapper.py\n",
    "import sys\n",
    "import string\n",
    "import logging\n",
    "\n",
    "# from util import mapper_logfile\n",
    "# logging.basicConfig(filename=mapper_logfile, format='%(message)s',\n",
    "#                     level=logging.INFO, filemode='w')\n",
    "\n",
    "\n",
    "HEADER_STRING = \",UNIT,DATEn,TIMEn,Hour,DESCn,ENTRIESn_hourly,EXITSn_hourly,maxpressurei,maxdewpti,mindewpti,minpressurei,meandewpti,meanpressurei,fog,rain,meanwindspdi,mintempi,meantempi,maxtempi,precipi,thunder\"\n",
    "HEADERS = HEADER_STRING.split(\",\")\n",
    "ENTRIESN_HOURLY_INDEX = HEADERS.index('ENTRIESn_hourly')\n",
    "UNIT_INDEX = HEADERS.index('UNIT')\n",
    "DATEN_INDEX = HEADERS.index('DATEn')\n",
    "TIMEN_INDEX = HEADERS.index('TIMEn')\n",
    "\n",
    "\n",
    "def mapper():\n",
    "    \"\"\"\n",
    "    In this exercise, for each turnstile unit, you will determine the date and time \n",
    "    (in the span of this data set) at which the most people entered through the unit.\n",
    "    \n",
    "    The input to the mapper will be the final Subway-MTA dataset, the same as\n",
    "    in the previous exercise. You can check out the csv and its structure below:\n",
    "    https://s3.amazonaws.com/content.udacity-data.com/courses/ud359/turnstile_data_master_with_weather.csv\n",
    "\n",
    "    For each line, the mapper should return the UNIT, ENTRIESn_hourly, DATEn, and \n",
    "    TIMEn columns, separated by tabs. For example:\n",
    "    'R001\\t100000.0\\t2011-05-01\\t01:00:00'\n",
    "\n",
    "    Since you are printing the output of your program, printing a debug \n",
    "    statement will interfere with the operation of the grader. Instead, \n",
    "    use the logging module, which we've configured to log to a file printed \n",
    "    when you click \"Test Run\". For example:\n",
    "    logging.info(\"My debugging message\")\n",
    "    Note that, unlike print, logging.info will take only a single argument.\n",
    "    So logging.info(\"my message\") will work, but logging.info(\"my\",\"message\") will not.\n",
    "    \"\"\"\n",
    "\n",
    "    for line in sys.stdin:\n",
    "        if \"UNIT,DATEn,TIMEn,Hour,DESCn,ENTRIESn_hourly\" in line:\n",
    "            continue\n",
    "\n",
    "        data = line.split(\",\")\n",
    "        unit = data[UNIT_INDEX]\n",
    "        date_n = data[DATEN_INDEX]\n",
    "        time_n = data[TIMEN_INDEX]\n",
    "        entriesn_hourly = float(data[ENTRIESN_HOURLY_INDEX])\n",
    "\n",
    "        print (\"{0}\\t{1}\\t{2}\\t{3}\".format(unit, entriesn_hourly, date_n, time_n))\n",
    "\n",
    "\n",
    "mapper()\n",
    "\n"
   ]
  },
  {
   "cell_type": "code",
   "execution_count": 18,
   "metadata": {},
   "outputs": [
    {
     "name": "stdout",
     "output_type": "stream",
     "text": [
      "R001\t0.0\t2011-05-01\t01:00:00\r\n",
      "R001\t217.0\t2011-05-01\t05:00:00\r\n",
      "R001\t890.0\t2011-05-01\t09:00:00\r\n",
      "R001\t2451.0\t2011-05-01\t13:00:00\r\n",
      "R001\t4400.0\t2011-05-01\t17:00:00\r\n"
     ]
    }
   ],
   "source": [
    "!cat ../data/turnstile_data_master_with_weather.csv |\\\n",
    "python lesson10_quiz3_busiest_hour_mapper.py > busiest_hour_mapper.csv;\\\n",
    "head -n5 busiest_hour_mapper.csv"
   ]
  },
  {
   "cell_type": "code",
   "execution_count": 19,
   "metadata": {},
   "outputs": [
    {
     "name": "stdout",
     "output_type": "stream",
     "text": [
      "Overwriting lesson10_quiz3_busiest_hour_reducer.py\n"
     ]
    }
   ],
   "source": [
    "%%writefile lesson10_quiz3_busiest_hour_reducer.py\n",
    "import sys\n",
    "import logging\n",
    "\n",
    "# from util import reducer_logfile\n",
    "# logging.basicConfig(filename=reducer_logfile, format='%(message)s',\n",
    "#                     level=logging.INFO, filemode='w')\n",
    "\n",
    "def reducer():\n",
    "    '''\n",
    "    Write a reducer that will compute the busiest date and time (that is, the \n",
    "    date and time with the most entries) for each turnstile unit. Ties should \n",
    "    be broken in favor of datetimes that are later on in the month of May. You \n",
    "    may assume that the contents of the reducer will be sorted so that all entries \n",
    "    corresponding to a given UNIT will be grouped together.\n",
    "    \n",
    "    The reducer should print its output with the UNIT name, the datetime (which \n",
    "    is the DATEn followed by the TIMEn column, separated by a single space), and \n",
    "    the number of entries at this datetime, separated by tabs.\n",
    "\n",
    "    For example, the output of the reducer should look like this:\n",
    "    R001    2011-05-11 17:00:00\t   31213.0\n",
    "    R002\t2011-05-12 21:00:00\t   4295.0\n",
    "    R003\t2011-05-05 12:00:00\t   995.0\n",
    "    R004\t2011-05-12 12:00:00\t   2318.0\n",
    "    R005\t2011-05-10 12:00:00\t   2705.0\n",
    "    R006\t2011-05-25 12:00:00\t   2784.0\n",
    "    R007\t2011-05-10 12:00:00\t   1763.0\n",
    "    R008\t2011-05-12 12:00:00\t   1724.0\n",
    "    R009\t2011-05-05 12:00:00\t   1230.0\n",
    "    R010\t2011-05-09 18:00:00\t   30916.0\n",
    "    ...\n",
    "    ...\n",
    "\n",
    "    Since you are printing the output of your program, printing a debug \n",
    "    statement will interfere with the operation of the grader. Instead, \n",
    "    use the logging module, which we've configured to log to a file printed \n",
    "    when you click \"Test Run\". For example:\n",
    "    logging.info(\"My debugging message\")\n",
    "    Note that, unlike print, logging.info will take only a single argument.\n",
    "    So logging.info(\"my message\") will work, but logging.info(\"my\",\"message\") will not.\n",
    "    '''\n",
    "\n",
    "    max_entries = 0\n",
    "    old_key = None\n",
    "    datetime = ''\n",
    "\n",
    "    for line in sys.stdin:\n",
    "        # your code here\n",
    "        data = line.strip().split(\"\\t\")\n",
    "        \n",
    "        if len(data) != 4:\n",
    "            continue\n",
    "        \n",
    "        this_key, count, date, time = data\n",
    "        \n",
    "        if old_key and old_key != this_key:\n",
    "            print (\"{0}\\t{1}\\t{2}\".format(old_key, datetime, max_entries))\n",
    "            max_entries = 0\n",
    "            datetime = ''\n",
    "        \n",
    "        old_key = this_key\n",
    "        if float(count) >= max_entries:\n",
    "            max_entries = float(count)\n",
    "            datetime = '{0} {1}'.format(date, time)\n",
    "        elif max_entries == 0:\n",
    "            datetime = '{0} {1}'.format(date, time)\n",
    "            max_entries = 0.0\n",
    "\n",
    "        \n",
    "    if old_key != None:\n",
    "        print (\"{0}\\t{1}\\t{2}\".format(old_key, datetime, max_entries))\n",
    "\n",
    "reducer()"
   ]
  },
  {
   "cell_type": "code",
   "execution_count": 24,
   "metadata": {},
   "outputs": [
    {
     "name": "stdout",
     "output_type": "stream",
     "text": [
      "R001\t2011-05-11 17:00:00\t31213.0\r\n",
      "R002\t2011-05-12 21:00:00\t4295.0\r\n",
      "R003\t2011-05-05 12:00:00\t995.0\r\n",
      "R004\t2011-05-12 12:00:00\t2318.0\r\n",
      "R005\t2011-05-10 12:00:00\t2705.0\r\n"
     ]
    }
   ],
   "source": [
    "!cat ../data/turnstile_data_master_with_weather.csv |\\\n",
    "python lesson10_quiz3_busiest_hour_mapper.py |\\\n",
    "sort |\\\n",
    "python lesson10_quiz3_busiest_hour_reducer.py | head -n 5"
   ]
  },
  {
   "cell_type": "markdown",
   "metadata": {},
   "source": [
    "### Pandas method"
   ]
  },
  {
   "cell_type": "code",
   "execution_count": 21,
   "metadata": {},
   "outputs": [],
   "source": [
    "import pandas as pd\n",
    "filename = '../data/turnstile_data_master_with_weather.csv'\n",
    "df = pd.read_csv(filename, parse_dates = True)\n",
    "df.head();"
   ]
  },
  {
   "cell_type": "code",
   "execution_count": 22,
   "metadata": {},
   "outputs": [
    {
     "data": {
      "text/html": [
       "<div>\n",
       "<style scoped>\n",
       "    .dataframe tbody tr th:only-of-type {\n",
       "        vertical-align: middle;\n",
       "    }\n",
       "\n",
       "    .dataframe tbody tr th {\n",
       "        vertical-align: top;\n",
       "    }\n",
       "\n",
       "    .dataframe thead th {\n",
       "        text-align: right;\n",
       "    }\n",
       "</style>\n",
       "<table border=\"1\" class=\"dataframe\">\n",
       "  <thead>\n",
       "    <tr style=\"text-align: right;\">\n",
       "      <th></th>\n",
       "      <th>DATEn</th>\n",
       "      <th>TIMEn</th>\n",
       "      <th>ENTRIESn_hourly</th>\n",
       "    </tr>\n",
       "    <tr>\n",
       "      <th>UNIT</th>\n",
       "      <th></th>\n",
       "      <th></th>\n",
       "      <th></th>\n",
       "    </tr>\n",
       "  </thead>\n",
       "  <tbody>\n",
       "    <tr>\n",
       "      <th>R001</th>\n",
       "      <td>2011-05-30</td>\n",
       "      <td>21:00:00</td>\n",
       "      <td>31213.0</td>\n",
       "    </tr>\n",
       "    <tr>\n",
       "      <th>R002</th>\n",
       "      <td>2011-05-30</td>\n",
       "      <td>21:00:00</td>\n",
       "      <td>4295.0</td>\n",
       "    </tr>\n",
       "    <tr>\n",
       "      <th>R003</th>\n",
       "      <td>2011-05-30</td>\n",
       "      <td>20:00:00</td>\n",
       "      <td>995.0</td>\n",
       "    </tr>\n",
       "    <tr>\n",
       "      <th>R004</th>\n",
       "      <td>2011-05-30</td>\n",
       "      <td>20:00:00</td>\n",
       "      <td>2318.0</td>\n",
       "    </tr>\n",
       "    <tr>\n",
       "      <th>R005</th>\n",
       "      <td>2011-05-30</td>\n",
       "      <td>20:00:00</td>\n",
       "      <td>2705.0</td>\n",
       "    </tr>\n",
       "  </tbody>\n",
       "</table>\n",
       "</div>"
      ],
      "text/plain": [
       "           DATEn     TIMEn  ENTRIESn_hourly\n",
       "UNIT                                       \n",
       "R001  2011-05-30  21:00:00          31213.0\n",
       "R002  2011-05-30  21:00:00           4295.0\n",
       "R003  2011-05-30  20:00:00            995.0\n",
       "R004  2011-05-30  20:00:00           2318.0\n",
       "R005  2011-05-30  20:00:00           2705.0"
      ]
     },
     "execution_count": 22,
     "metadata": {},
     "output_type": "execute_result"
    }
   ],
   "source": [
    "df = df.groupby(['UNIT']).max()\n",
    "df.head()[['DATEn','TIMEn','ENTRIESn_hourly']]"
   ]
  },
  {
   "cell_type": "code",
   "execution_count": 25,
   "metadata": {},
   "outputs": [
    {
     "name": "stdout",
     "output_type": "stream",
     "text": [
      "R001\t2011-05-11 17:00:00\t31213.0\r\n",
      "R002\t2011-05-12 21:00:00\t4295.0\r\n",
      "R003\t2011-05-05 12:00:00\t995.0\r\n",
      "R004\t2011-05-12 12:00:00\t2318.0\r\n",
      "R005\t2011-05-10 12:00:00\t2705.0\r\n"
     ]
    }
   ],
   "source": [
    "!cat ../data/turnstile_data_master_with_weather.csv |\\\n",
    "python lesson10_quiz3_busiest_hour_mapper.py |\\\n",
    "sort |\\\n",
    "python lesson10_quiz3_busiest_hour_reducer.py | head -n 5"
   ]
  },
  {
   "cell_type": "code",
   "execution_count": null,
   "metadata": {},
   "outputs": [],
   "source": []
  }
 ],
 "metadata": {
  "kernelspec": {
   "display_name": "Python 3",
   "language": "python",
   "name": "python3"
  },
  "language_info": {
   "codemirror_mode": {
    "name": "ipython",
    "version": 3
   },
   "file_extension": ".py",
   "mimetype": "text/x-python",
   "name": "python",
   "nbconvert_exporter": "python",
   "pygments_lexer": "ipython3",
   "version": "3.6.3"
  },
  "toc": {
   "base_numbering": 1,
   "nav_menu": {},
   "number_sections": true,
   "sideBar": true,
   "skip_h1_title": false,
   "title_cell": "Table of Contents",
   "title_sidebar": "Contents",
   "toc_cell": true,
   "toc_position": {},
   "toc_section_display": true,
   "toc_window_display": true
  }
 },
 "nbformat": 4,
 "nbformat_minor": 2
}
