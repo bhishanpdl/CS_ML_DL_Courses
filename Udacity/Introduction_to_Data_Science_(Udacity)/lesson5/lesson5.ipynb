{
 "cells": [
  {
   "cell_type": "markdown",
   "metadata": {
    "toc": true
   },
   "source": [
    "<h1>Table of Contents<span class=\"tocSkip\"></span></h1>\n",
    "<div class=\"toc\"><ul class=\"toc-item\"><li><span><a href=\"#Lesson-5:-Data-Analysis\" data-toc-modified-id=\"Lesson-5:-Data-Analysis-1\"><span class=\"toc-item-num\">1&nbsp;&nbsp;</span>Lesson 5: Data Analysis</a></span><ul class=\"toc-item\"><li><span><a href=\"#Lesson-5:-Quiz-5.14-Welch's-t-Test-Exercise\" data-toc-modified-id=\"Lesson-5:-Quiz-5.14-Welch's-t-Test-Exercise-1.1\"><span class=\"toc-item-num\">1.1&nbsp;&nbsp;</span>Lesson 5: Quiz 5.14 Welch's t-Test Exercise</a></span></li><li><span><a href=\"#Lesson-5:-Quiz-5.30:-Gradient-Descent-in-Python\" data-toc-modified-id=\"Lesson-5:-Quiz-5.30:-Gradient-Descent-in-Python-1.2\"><span class=\"toc-item-num\">1.2&nbsp;&nbsp;</span>Lesson 5: Quiz 5.30: Gradient Descent in Python</a></span></li><li><span><a href=\"#Lesson-5:-Quiz-5.32:-Calculating-$R^2$\" data-toc-modified-id=\"Lesson-5:-Quiz-5.32:-Calculating-$R^2$-1.3\"><span class=\"toc-item-num\">1.3&nbsp;&nbsp;</span>Lesson 5: Quiz 5.32: Calculating $R^2$</a></span></li></ul></li></ul></div>"
   ]
  },
  {
   "cell_type": "markdown",
   "metadata": {},
   "source": [
    "# Lesson 5: Data Analysis"
   ]
  },
  {
   "cell_type": "markdown",
   "metadata": {},
   "source": [
    "## Lesson 5: Quiz 5.14 Welch's t-Test Exercise\n",
    "\n",
    "Data: https://www.udacity.com/api/nodes/702578673/supplemental_media/baseball-statscsv/download"
   ]
  },
  {
   "cell_type": "code",
   "execution_count": 4,
   "metadata": {},
   "outputs": [
    {
     "name": "stdout",
     "output_type": "stream",
     "text": [
      "(False, (-9.935702226242094, 3.810274225888738e-23))\n"
     ]
    }
   ],
   "source": [
    "# %%writefile lesson5_quiz14_welchs_ttest.py\n",
    "import numpy as np\n",
    "import scipy.stats\n",
    "import pandas as pd\n",
    "\n",
    "def compare_averages(filename):\n",
    "    \"\"\"\n",
    "    Performs a t-test on two sets of baseball data (left-handed and right-handed hitters).\n",
    "\n",
    "    You will be given a csv file that has three columns.  A player's\n",
    "    name, handedness (L for lefthanded or R for righthanded) and their\n",
    "    career batting average (called 'avg'). You can look at the csv\n",
    "    file by downloading the baseball_stats file from Downloadables below. \n",
    "    \n",
    "    Write a function that will read that the csv file into a pandas data frame,\n",
    "    and run Welch's t-test on the two cohorts defined by handedness.\n",
    "    \n",
    "    One cohort should be a data frame of right-handed batters. And the other\n",
    "    cohort should be a data frame of left-handed batters.\n",
    "    \n",
    "    We have included the scipy.stats library to help you write\n",
    "    or implement Welch's t-test:\n",
    "    http://docs.scipy.org/doc/scipy/reference/stats.html\n",
    "    \n",
    "    With a significance level of 95%, if there is no difference\n",
    "    between the two cohorts, return a tuple consisting of\n",
    "    True, and then the tuple returned by scipy.stats.ttest.  \n",
    "    \n",
    "    If there is a difference, return a tuple consisting of\n",
    "    False, and then the tuple returned by scipy.stats.ttest.\n",
    "    \n",
    "    For example, the tuple that you return may look like:\n",
    "    (True, (9.93570222, 0.000023))\n",
    "    \"\"\"\n",
    "    df = pd.read_csv(filename)\n",
    "    r_avg = df[df['handedness']=='R'].avg\n",
    "    l_avg = df[df['handedness']=='L'].avg\n",
    "    p_crit = 0.05\n",
    "    t,p = scipy.stats.ttest_ind(r_avg,l_avg,equal_var=False)\n",
    "    if p > p_crit:\n",
    "      ans = (True, (t,p))\n",
    "      print(ans)\n",
    "    \n",
    "    \n",
    "    else:\n",
    "      ans = (False, (t,p)) \n",
    "      print(ans)\n",
    "      \n",
    "    return ans\n",
    "\n",
    "def main():\n",
    "    \"\"\"Run main function.\"\"\"\n",
    "    filename = '../data/baseball_stats.csv'\n",
    "    compare_averages(filename)\n",
    "\n",
    "if __name__ == \"__main__\":\n",
    "    main()"
   ]
  },
  {
   "cell_type": "markdown",
   "metadata": {},
   "source": [
    "## Lesson 5: Quiz 5.30: Gradient Descent in Python "
   ]
  },
  {
   "cell_type": "code",
   "execution_count": 7,
   "metadata": {},
   "outputs": [],
   "source": [
    "# %%writefile lesson5_quiz30_gradient_descent.py\n",
    "import numpy\n",
    "import pandas\n",
    "import numpy as np\n",
    "import pandas as pd\n",
    "\n",
    "def compute_cost(features, values, theta):\n",
    "    \"\"\"\n",
    "    Compute the cost of a list of parameters, theta, given a list of features \n",
    "    (input data points) and values (output data points).\n",
    "    \"\"\"\n",
    "    m = len(values)\n",
    "    sum_of_square_errors = numpy.square(numpy.dot(features, theta) - values).sum()\n",
    "    cost = sum_of_square_errors / (2*m)\n",
    "\n",
    "    return cost\n",
    "\n",
    "def gradient_descent(features, values, theta, alpha, num_iterations):\n",
    "    \"\"\"\n",
    "    Perform gradient descent given a data set with an arbitrary number of features.\n",
    "    \"\"\"\n",
    "\n",
    "    # Write code here that performs num_iterations updates to the elements of theta.\n",
    "    # times. Every time you compute the cost for a given list of thetas, append it \n",
    "    # to cost_history.\n",
    "    # See the Instructor notes for hints. \n",
    "    \n",
    "    cost_history = []\n",
    "    \n",
    "\n",
    "    ###########################\n",
    "    ### YOUR CODE GOES HERE ###\n",
    "    ###########################\n",
    "    m = len(values)\n",
    "    for i in range(num_iterations):\n",
    "      predicted_values = np.dot(features,theta)\n",
    "      theta -= alpha / m * np.dot((predicted_values - values), features)\n",
    "      cost = compute_cost(features,values,theta)\n",
    "      cost_history.append(cost)\n",
    "    return theta, pandas.Series(cost_history) # leave this line for the grader\n"
   ]
  },
  {
   "cell_type": "markdown",
   "metadata": {},
   "source": [
    "## Lesson 5: Quiz 5.32: Calculating $R^2$"
   ]
  },
  {
   "cell_type": "code",
   "execution_count": 14,
   "metadata": {},
   "outputs": [],
   "source": [
    "# %%writefile lesson5_quiz32_calculating_r2.py\n",
    "import numpy as np\n",
    "\n",
    "def compute_r_squared(data, predictions):\n",
    "    # Write a function that, given two input numpy arrays, 'data', and 'predictions,'\n",
    "    # returns the coefficient of determination, R^2, for the model that produced \n",
    "    # predictions.\n",
    "    # \n",
    "    # Numpy has a couple of functions -- np.mean() and np.sum() --\n",
    "    # that you might find useful, but you don't have to use them.\n",
    "\n",
    "    # YOUR CODE GOES HERE\n",
    "    y = data\n",
    "    f = predictions\n",
    "    r_squared = 1.0 - np.sum((y-f)**2)/np.sum((y-np.mean(y))**2)\n",
    "\n",
    "    return r_squared"
   ]
  },
  {
   "cell_type": "code",
   "execution_count": null,
   "metadata": {},
   "outputs": [],
   "source": []
  }
 ],
 "metadata": {
  "kernelspec": {
   "display_name": "Python 3",
   "language": "python",
   "name": "python3"
  },
  "language_info": {
   "codemirror_mode": {
    "name": "ipython",
    "version": 3
   },
   "file_extension": ".py",
   "mimetype": "text/x-python",
   "name": "python",
   "nbconvert_exporter": "python",
   "pygments_lexer": "ipython3",
   "version": "3.6.3"
  },
  "toc": {
   "base_numbering": 1,
   "nav_menu": {},
   "number_sections": true,
   "sideBar": true,
   "skip_h1_title": false,
   "title_cell": "Table of Contents",
   "title_sidebar": "Contents",
   "toc_cell": true,
   "toc_position": {},
   "toc_section_display": true,
   "toc_window_display": true
  }
 },
 "nbformat": 4,
 "nbformat_minor": 2
}
