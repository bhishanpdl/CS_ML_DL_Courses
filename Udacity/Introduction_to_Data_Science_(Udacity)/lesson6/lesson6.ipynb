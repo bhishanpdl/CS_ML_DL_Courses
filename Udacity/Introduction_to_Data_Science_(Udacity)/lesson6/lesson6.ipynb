{
 "cells": [
  {
   "cell_type": "markdown",
   "metadata": {
    "toc": true
   },
   "source": [
    "<h1>Table of Contents<span class=\"tocSkip\"></span></h1>\n",
    "<div class=\"toc\"><ul class=\"toc-item\"><li><span><a href=\"#Lesson-6:-Problem-Set-3:-Analyzing-Subway-Data\" data-toc-modified-id=\"Lesson-6:-Problem-Set-3:-Analyzing-Subway-Data-1\"><span class=\"toc-item-num\">1&nbsp;&nbsp;</span>Lesson 6: Problem Set 3: Analyzing Subway Data</a></span><ul class=\"toc-item\"><li><span><a href=\"#Lesson-6:-Quiz-1:-Exploratory-Data-Analysis\" data-toc-modified-id=\"Lesson-6:-Quiz-1:-Exploratory-Data-Analysis-1.1\"><span class=\"toc-item-num\">1.1&nbsp;&nbsp;</span>Lesson 6: Quiz 1: Exploratory Data Analysis</a></span></li><li><span><a href=\"#Lesson-6:-Quiz-2:-Welch's-t-Test\" data-toc-modified-id=\"Lesson-6:-Quiz-2:-Welch's-t-Test-1.2\"><span class=\"toc-item-num\">1.2&nbsp;&nbsp;</span>Lesson 6: Quiz 2: Welch's t-Test</a></span></li><li><span><a href=\"#Lesson-6:-Quiz-3:-Mann-Whitney-U-Test\" data-toc-modified-id=\"Lesson-6:-Quiz-3:-Mann-Whitney-U-Test-1.3\"><span class=\"toc-item-num\">1.3&nbsp;&nbsp;</span>Lesson 6: Quiz 3: Mann-Whitney U-Test</a></span></li><li><span><a href=\"#Lesson-6:-Quiz-4:-Ridership-on-Rainy-vs-Nonrainy\" data-toc-modified-id=\"Lesson-6:-Quiz-4:-Ridership-on-Rainy-vs-Nonrainy-1.4\"><span class=\"toc-item-num\">1.4&nbsp;&nbsp;</span>Lesson 6: Quiz 4: Ridership on Rainy vs Nonrainy</a></span></li><li><span><a href=\"#Lesson-6:-Quiz-5:-Linear-Regression\" data-toc-modified-id=\"Lesson-6:-Quiz-5:-Linear-Regression-1.5\"><span class=\"toc-item-num\">1.5&nbsp;&nbsp;</span>Lesson 6: Quiz 5: Linear Regression</a></span></li><li><span><a href=\"#Lesson-6:-Quiz-6:-Plotting-Residuals\" data-toc-modified-id=\"Lesson-6:-Quiz-6:-Plotting-Residuals-1.6\"><span class=\"toc-item-num\">1.6&nbsp;&nbsp;</span>Lesson 6: Quiz 6: Plotting Residuals</a></span></li><li><span><a href=\"#Lesson-6:-Quiz-7:-Compute-$R^2$\" data-toc-modified-id=\"Lesson-6:-Quiz-7:-Compute-$R^2$-1.7\"><span class=\"toc-item-num\">1.7&nbsp;&nbsp;</span>Lesson 6: Quiz 7: Compute $R^2$</a></span></li><li><span><a href=\"#Lesson-6:-Quiz-8:-More-Liner-Regression\" data-toc-modified-id=\"Lesson-6:-Quiz-8:-More-Liner-Regression-1.8\"><span class=\"toc-item-num\">1.8&nbsp;&nbsp;</span>Lesson 6: Quiz 8: More Liner Regression</a></span><ul class=\"toc-item\"><li><span><a href=\"#Another-examples\" data-toc-modified-id=\"Another-examples-1.8.1\"><span class=\"toc-item-num\">1.8.1&nbsp;&nbsp;</span>Another examples</a></span></li></ul></li></ul></li></ul></div>"
   ]
  },
  {
   "cell_type": "markdown",
   "metadata": {},
   "source": [
    "# Lesson 6: Problem Set 3: Analyzing Subway Data"
   ]
  },
  {
   "cell_type": "markdown",
   "metadata": {},
   "source": [
    "## Lesson 6: Quiz 1: Exploratory Data Analysis\n",
    "\n",
    "Data: https://s3.amazonaws.com/content.udacity-data.com/courses/ud359/turnstile_data_master_with_weather.csv"
   ]
  },
  {
   "cell_type": "code",
   "execution_count": 1,
   "metadata": {},
   "outputs": [],
   "source": [
    "# %%writefile lesson6_quiz1_exploratory_data_analysis.py\n",
    "import numpy as np\n",
    "import pandas as pd\n",
    "import matplotlib.pyplot as plt\n",
    "\n",
    "def entries_histogram(turnstile_weather):\n",
    "    '''\n",
    "    Before we perform any analysis, it might be useful to take a\n",
    "    look at the data we're hoping to analyze. More specifically, let's \n",
    "    examine the hourly entries in our NYC subway data and determine what\n",
    "    distribution the data follows. This data is stored in a dataframe\n",
    "    called turnstile_weather under the ['ENTRIESn_hourly'] column.\n",
    "    \n",
    "    Let's plot two histograms on the same axes to show hourly\n",
    "    entries when raining vs. when not raining. Here's an example on how\n",
    "    to plot histograms with pandas and matplotlib:\n",
    "    turnstile_weather['column_to_graph'].hist()\n",
    "    \n",
    "    Your histogram may look similar to bar graph in the instructor notes below.\n",
    "    \n",
    "    You can read a bit about using matplotlib and pandas to plot histograms here:\n",
    "    http://pandas.pydata.org/pandas-docs/stable/visualization.html#histograms\n",
    "    \n",
    "    You can see the information contained within the turnstile weather data here:\n",
    "    https://s3.amazonaws.com/content.udacity-data.com/courses/ud359/turnstile_data_master_with_weather.csv\n",
    "    '''\n",
    "    \n",
    "    plt.figure()\n",
    "    ent_rain = turnstile_weather['ENTRIESn_hourly'][turnstile_weather.rain ==1] \n",
    "    ent_norain = turnstile_weather['ENTRIESn_hourly'][turnstile_weather.rain ==0]\n",
    "    \n",
    "    \n",
    "    # the histogram of the data\n",
    "    plt.xlabel('ENTRIESn_hourly')\n",
    "    plt.ylabel('Frequency')\n",
    "    plt.title('Histogram of ENTRIESn_hourly')\n",
    "    plt.axis([0, 6000, 0, 45000])\n",
    "    plt.hist([ent_norain], bins = 180, color=['blue'], alpha=1, label = \"No rain\")\n",
    "    plt.hist([ent_rain], bins = 180, color=['green'], alpha=1, label = \"Rain\")\n",
    "    plt.legend()\n",
    "    return plt\n",
    "\n",
    "if __name__ == \"__main__\":\n",
    "    filename = '../data/turnstile_data_master_with_weather.csv'\n",
    "    df = pd.read_csv(filename, parse_dates = True)\n",
    "    entries_histogram(df)"
   ]
  },
  {
   "cell_type": "markdown",
   "metadata": {},
   "source": [
    "## Lesson 6: Quiz 2: Welch's t-Test"
   ]
  },
  {
   "cell_type": "markdown",
   "metadata": {},
   "source": [
    "[x] Does entries data from the previous exercise seem normally\n",
    "distributed ? NO\n",
    "\n",
    "[x] Can we run Welch's T test on entries data Why or why not?\n",
    "YES"
   ]
  },
  {
   "cell_type": "markdown",
   "metadata": {},
   "source": [
    "## Lesson 6: Quiz 3: Mann-Whitney U-Test"
   ]
  },
  {
   "cell_type": "code",
   "execution_count": 2,
   "metadata": {},
   "outputs": [],
   "source": [
    "# %%writefile lesson6_quiz3_mann_whitney_u_test.py\n",
    "import numpy as np\n",
    "import scipy\n",
    "import scipy.stats\n",
    "import pandas\n",
    "\n",
    "def mann_whitney_plus_means(turnstile_weather):\n",
    "    '''\n",
    "    This function will consume the turnstile_weather dataframe \n",
    "    containing our final turnstile weather data. \n",
    "    \n",
    "    You will want to take the means and run the Mann Whitney \n",
    "    U-test on the ENTRIESn_hourly column in the \n",
    "    turnstile_weather dataframe.\n",
    "    \n",
    "    This function should return:\n",
    "        1) the mean of entries with rain\n",
    "        2) the mean of entries without rain\n",
    "        3) the Mann-Whitney U-statistic and p-value comparing \n",
    "           the number of entries with rain and the \n",
    "           number of entries without rain\n",
    "    \n",
    "    You should feel free to use scipy's Mann-Whitney implementation,\n",
    "    and you might also find it useful to use numpy's mean function.\n",
    "    \n",
    "    Here are the functions' documentation:\n",
    "    http://docs.scipy.org/doc/scipy/reference/generated/scipy.stats.mannwhitneyu.html\n",
    "    http://docs.scipy.org/doc/numpy/reference/generated/numpy.mean.html\n",
    "    \n",
    "    You can look at the final turnstile weather data at the link below:\n",
    "    https://s3.amazonaws.com/content.udacity-data.com/courses/ud359/turnstile_data_master_with_weather.csv\n",
    "    '''\n",
    "    \n",
    "    ### YOUR CODE HERE ###\n",
    "    rain = (turnstile_weather['rain']==1).values\n",
    "    with_rain_mean = turnstile_weather['ENTRIESn_hourly'].loc[rain].mean()\n",
    "    without_rain_mean = turnstile_weather['ENTRIESn_hourly'].loc[~rain].mean()\n",
    "    U,p = scipy.stats.mannwhitneyu(turnstile_weather['ENTRIESn_hourly'].loc[rain], \n",
    "                                  turnstile_weather['ENTRIESn_hourly'].loc[~rain])\n",
    "    \n",
    "    return with_rain_mean, without_rain_mean, U, p # leave this line for the grader\n"
   ]
  },
  {
   "cell_type": "code",
   "execution_count": 3,
   "metadata": {},
   "outputs": [
    {
     "data": {
      "text/html": [
       "<div>\n",
       "<style scoped>\n",
       "    .dataframe tbody tr th:only-of-type {\n",
       "        vertical-align: middle;\n",
       "    }\n",
       "\n",
       "    .dataframe tbody tr th {\n",
       "        vertical-align: top;\n",
       "    }\n",
       "\n",
       "    .dataframe thead th {\n",
       "        text-align: right;\n",
       "    }\n",
       "</style>\n",
       "<table border=\"1\" class=\"dataframe\">\n",
       "  <thead>\n",
       "    <tr style=\"text-align: right;\">\n",
       "      <th></th>\n",
       "      <th>rain</th>\n",
       "      <th>ENTRIESn_hourly</th>\n",
       "    </tr>\n",
       "  </thead>\n",
       "  <tbody>\n",
       "    <tr>\n",
       "      <th>0</th>\n",
       "      <td>0.0</td>\n",
       "      <td>0.0</td>\n",
       "    </tr>\n",
       "    <tr>\n",
       "      <th>1</th>\n",
       "      <td>0.0</td>\n",
       "      <td>217.0</td>\n",
       "    </tr>\n",
       "    <tr>\n",
       "      <th>2</th>\n",
       "      <td>0.0</td>\n",
       "      <td>890.0</td>\n",
       "    </tr>\n",
       "    <tr>\n",
       "      <th>3</th>\n",
       "      <td>0.0</td>\n",
       "      <td>2451.0</td>\n",
       "    </tr>\n",
       "    <tr>\n",
       "      <th>4</th>\n",
       "      <td>0.0</td>\n",
       "      <td>4400.0</td>\n",
       "    </tr>\n",
       "  </tbody>\n",
       "</table>\n",
       "</div>"
      ],
      "text/plain": [
       "   rain  ENTRIESn_hourly\n",
       "0   0.0              0.0\n",
       "1   0.0            217.0\n",
       "2   0.0            890.0\n",
       "3   0.0           2451.0\n",
       "4   0.0           4400.0"
      ]
     },
     "execution_count": 3,
     "metadata": {},
     "output_type": "execute_result"
    }
   ],
   "source": [
    "import pandas as pd\n",
    "filename = '../data/turnstile_data_master_with_weather.csv'\n",
    "turnstile_weather = pd.read_csv(filename, parse_dates = True)\n",
    "\n",
    "df = turnstile_weather[['rain','ENTRIESn_hourly']]\n",
    "df.head()"
   ]
  },
  {
   "cell_type": "code",
   "execution_count": 4,
   "metadata": {},
   "outputs": [
    {
     "data": {
      "text/html": [
       "<div>\n",
       "<style scoped>\n",
       "    .dataframe tbody tr th:only-of-type {\n",
       "        vertical-align: middle;\n",
       "    }\n",
       "\n",
       "    .dataframe tbody tr th {\n",
       "        vertical-align: top;\n",
       "    }\n",
       "\n",
       "    .dataframe thead th {\n",
       "        text-align: right;\n",
       "    }\n",
       "</style>\n",
       "<table border=\"1\" class=\"dataframe\">\n",
       "  <thead>\n",
       "    <tr style=\"text-align: right;\">\n",
       "      <th></th>\n",
       "      <th>rain</th>\n",
       "      <th>ENTRIESn_hourly</th>\n",
       "    </tr>\n",
       "  </thead>\n",
       "  <tbody>\n",
       "    <tr>\n",
       "      <th>13337</th>\n",
       "      <td>1.0</td>\n",
       "      <td>1132.0</td>\n",
       "    </tr>\n",
       "    <tr>\n",
       "      <th>13338</th>\n",
       "      <td>1.0</td>\n",
       "      <td>164.0</td>\n",
       "    </tr>\n",
       "    <tr>\n",
       "      <th>13339</th>\n",
       "      <td>1.0</td>\n",
       "      <td>647.0</td>\n",
       "    </tr>\n",
       "    <tr>\n",
       "      <th>13340</th>\n",
       "      <td>1.0</td>\n",
       "      <td>6468.0</td>\n",
       "    </tr>\n",
       "    <tr>\n",
       "      <th>13341</th>\n",
       "      <td>1.0</td>\n",
       "      <td>4683.0</td>\n",
       "    </tr>\n",
       "  </tbody>\n",
       "</table>\n",
       "</div>"
      ],
      "text/plain": [
       "       rain  ENTRIESn_hourly\n",
       "13337   1.0           1132.0\n",
       "13338   1.0            164.0\n",
       "13339   1.0            647.0\n",
       "13340   1.0           6468.0\n",
       "13341   1.0           4683.0"
      ]
     },
     "execution_count": 4,
     "metadata": {},
     "output_type": "execute_result"
    }
   ],
   "source": [
    "rain = (turnstile_weather['rain']==1).values\n",
    "df2 = df.loc[rain]\n",
    "# df2 = turnstile_weather.loc[rain]\n",
    "df2.head()"
   ]
  },
  {
   "cell_type": "code",
   "execution_count": 5,
   "metadata": {},
   "outputs": [
    {
     "data": {
      "text/plain": [
       "1105.4463767458733"
      ]
     },
     "execution_count": 5,
     "metadata": {},
     "output_type": "execute_result"
    }
   ],
   "source": [
    "rain = (turnstile_weather['rain']==1).values\n",
    "with_rain_mean = turnstile_weather['ENTRIESn_hourly'].loc[rain].mean()\n",
    "with_rain_mean"
   ]
  },
  {
   "cell_type": "markdown",
   "metadata": {},
   "source": [
    "## Lesson 6: Quiz 4: Ridership on Rainy vs Nonrainy"
   ]
  },
  {
   "cell_type": "markdown",
   "metadata": {},
   "source": [
    "Is the distribution of the number of entries statistically different between rainy non rainy days? YES"
   ]
  },
  {
   "cell_type": "markdown",
   "metadata": {},
   "source": [
    "## Lesson 6: Quiz 5: Linear Regression\n",
    "\n",
    "Data: https://www.dropbox.com/s/meyki2wl9xfa7yk/turnstile_data_master_with_weather.csv \n",
    "\n",
    "Your prediction should have a $R^2$ value of 0.40 or better.\n",
    "You need to experiment using various input features contained in the dataframe. \n",
    "We recommend that you don't use the `EXITSn_hourly` feature as an input to the \n",
    "linear model because we cannot use it as a predictor: we cannot use exits \n",
    "counts as a way to predict entry counts."
   ]
  },
  {
   "cell_type": "code",
   "execution_count": 6,
   "metadata": {},
   "outputs": [
    {
     "name": "stderr",
     "output_type": "stream",
     "text": [
      "/Users/poudel/miniconda3/lib/python3.6/site-packages/ggplot/utils.py:81: FutureWarning: pandas.tslib is deprecated and will be removed in a future version.\n",
      "You can access Timestamp as pandas.Timestamp\n",
      "  pd.tslib.Timestamp,\n",
      "/Users/poudel/miniconda3/lib/python3.6/site-packages/ggplot/stats/smoothers.py:4: FutureWarning: The pandas.lib module is deprecated and will be removed in a future version. These are private functions and can be accessed from pandas._libs.lib instead\n",
      "  from pandas.lib import Timestamp\n"
     ]
    }
   ],
   "source": [
    "# %%writefile lesson6_quiz5_linear_regression.py\n",
    "import numpy as np\n",
    "import pandas\n",
    "from ggplot import *\n",
    "\n",
    "\"\"\"\n",
    "In this question, you need to:\n",
    "1) implement the compute_cost() and gradient_descent() procedures\n",
    "2) Select features (in the predictions procedure) and make predictions.\n",
    "\n",
    "\"\"\"\n",
    "\n",
    "def normalize_features(df):\n",
    "    \"\"\"\n",
    "    Normalize the features in the data set.\n",
    "    \"\"\"\n",
    "    mu = df.mean()\n",
    "    sigma = df.std()\n",
    "    \n",
    "    if (sigma == 0).any():\n",
    "        raise Exception(\"One or more features had the same value for all samples, and thus could \" + \\\n",
    "                         \"not be normalized. Please do not include features with only a single value \" + \\\n",
    "                         \"in your model.\")\n",
    "    df_normalized = (df - df.mean()) / df.std()\n",
    "\n",
    "    return df_normalized, mu, sigma\n",
    "\n",
    "def compute_cost(features, values, theta):\n",
    "    \"\"\"\n",
    "    Compute the cost function given a set of features / values, \n",
    "    and the values for our thetas.\n",
    "    \n",
    "    This can be the same code as the compute_cost function in the lesson #3 exercises,\n",
    "    but feel free to implement your own.\n",
    "    \"\"\"\n",
    "    \n",
    "    # your code here\n",
    "    m = len(values)\n",
    "    sum_of_square_errors = np.square(np.dot(features, theta) - values).sum()\n",
    "    cost = sum_of_square_errors / (2*m)\n",
    "    return cost\n",
    "\n",
    "def gradient_descent(features, values, theta, alpha, num_iterations):\n",
    "    \"\"\"\n",
    "    Perform gradient descent given a data set with an arbitrary number of features.\n",
    "    \n",
    "    This can be the same gradient descent code as in the lesson #3 exercises,\n",
    "    but feel free to implement your own.\n",
    "    \"\"\"\n",
    "    \n",
    "    m = len(values)\n",
    "    cost_history = []\n",
    "\n",
    "    for i in range(num_iterations):\n",
    "        # your code here\n",
    "        cost_history.append( compute_cost(features, values, theta))\n",
    "        theta += alpha/len(values)*np.dot(features.transpose(), values - np.dot(features,theta))\n",
    "    return theta, pandas.Series(cost_history)\n",
    "\n",
    "def predictions(dataframe):\n",
    "    '''\n",
    "    The NYC turnstile data is stored in a pandas dataframe called weather_turnstile.\n",
    "    Using the information stored in the dataframe, let's predict the ridership of\n",
    "    the NYC subway using linear regression with gradient descent.\n",
    "    \n",
    "    You can download the complete turnstile weather dataframe here:\n",
    "    https://www.dropbox.com/s/meyki2wl9xfa7yk/turnstile_data_master_with_weather.csv    \n",
    "    \n",
    "    Your prediction should have a R^2 value of 0.40 or better.\n",
    "    You need to experiment using various input features contained in the dataframe. \n",
    "    We recommend that you don't use the EXITSn_hourly feature as an input to the \n",
    "    linear model because we cannot use it as a predictor: we cannot use exits \n",
    "    counts as a way to predict entry counts. \n",
    "    \n",
    "    Note: Due to the memory and CPU limitation of our Amazon EC2 instance, we will\n",
    "    give you a random subet (~15%) of the data contained in \n",
    "    turnstile_data_master_with_weather.csv. You are encouraged to experiment with \n",
    "    this computer on your own computer, locally. \n",
    "    \n",
    "    \n",
    "    If you'd like to view a plot of your cost history, uncomment the call to \n",
    "    plot_cost_history below. The slowdown from plotting is significant, so if you \n",
    "    are timing out, the first thing to do is to comment out the plot command again.\n",
    "    \n",
    "    If you receive a \"server has encountered an error\" message, that means you are \n",
    "    hitting the 30-second limit that's placed on running your program. Try using a \n",
    "    smaller number for num_iterations if that's the case.\n",
    "    \n",
    "    If you are using your own algorithm/models, see if you can optimize your code so \n",
    "    that it runs faster.\n",
    "    '''\n",
    "    # Select Features (try different features!)\n",
    "    features = dataframe[['rain', 'precipi', 'Hour', 'meantempi']]\n",
    "    \n",
    "    # Add UNIT to features using dummy variables\n",
    "    dummy_units = pandas.get_dummies(dataframe['UNIT'], prefix='unit')\n",
    "    features = features.join(dummy_units)\n",
    "    \n",
    "    # Values\n",
    "    values = dataframe['ENTRIESn_hourly']\n",
    "    m = len(values)\n",
    "\n",
    "    features, mu, sigma = normalize_features(features)\n",
    "    features['ones'] = np.ones(m) # Add a column of 1s (y intercept)\n",
    "    \n",
    "    # Convert features and values to numpy arrays\n",
    "    features_array = np.array(features)\n",
    "    values_array = np.array(values)\n",
    "\n",
    "    # Set values for alpha, number of iterations.\n",
    "    alpha = 0.1 # please feel free to change this value\n",
    "    num_iterations = 75 # please feel free to change this value\n",
    "\n",
    "    # Initialize theta, perform gradient descent\n",
    "    theta_gradient_descent = np.zeros(len(features.columns))\n",
    "    theta_gradient_descent, cost_history = gradient_descent(features_array, \n",
    "                                                            values_array, \n",
    "                                                            theta_gradient_descent, \n",
    "                                                            alpha, \n",
    "                                                            num_iterations)\n",
    "    \n",
    "    plot = None\n",
    "    # -------------------------------------------------\n",
    "    # Uncomment the next line to see your cost history\n",
    "    # -------------------------------------------------\n",
    "    plot = plot_cost_history(alpha, cost_history)\n",
    "    # \n",
    "    # Please note, there is a possibility that plotting\n",
    "    # this in addition to your calculation will exceed \n",
    "    # the 30 second limit on the compute servers.\n",
    "    \n",
    "    predictions = np.dot(features_array, theta_gradient_descent)\n",
    "    return predictions, plot\n",
    "\n",
    "\n",
    "def plot_cost_history(alpha, cost_history):\n",
    "   \"\"\"This function is for viewing the plot of your cost history.\n",
    "   You can run it by uncommenting this\n",
    "\n",
    "       plot_cost_history(alpha, cost_history) \n",
    "\n",
    "   call in predictions.\n",
    "   \n",
    "   If you want to run this locally, you should print the return value\n",
    "   from this function.\n",
    "   \"\"\"\n",
    "   cost_df = pandas.DataFrame({\n",
    "      'Cost_History': cost_history,\n",
    "      'Iteration': range(len(cost_history))\n",
    "   })\n",
    "   return ggplot(cost_df, aes('Iteration', 'Cost_History')) + \\\n",
    "      geom_point() + ggtitle('Cost History for alpha = %.3f' % alpha )\n",
    "\n",
    "\n"
   ]
  },
  {
   "cell_type": "code",
   "execution_count": 7,
   "metadata": {},
   "outputs": [
    {
     "name": "stdout",
     "output_type": "stream",
     "text": [
      "[3379.34466358 3648.71075058 3918.07683757 ...  856.38536737  856.38536737\n",
      "  856.38536737]\n"
     ]
    },
    {
     "data": {
      "image/png": "[encoded data removed]",
      "text/plain": [
       "<Figure size 792x576 with 1 Axes>"
      ]
     },
     "metadata": {},
     "output_type": "display_data"
    },
    {
     "data": {
      "text/plain": [
       "<ggplot: (277082572)>"
      ]
     },
     "execution_count": 7,
     "metadata": {},
     "output_type": "execute_result"
    }
   ],
   "source": [
    "filename = '../data/turnstile_data_master_with_weather.csv'\n",
    "df = pd.read_csv(filename, parse_dates = True)\n",
    "pred, plot = predictions(df)\n",
    "print(pred)\n",
    "plot"
   ]
  },
  {
   "cell_type": "markdown",
   "metadata": {},
   "source": [
    "## Lesson 6: Quiz 6: Plotting Residuals\n",
    "\n",
    "References: https://www.itl.nist.gov/div898/handbook/pri/section2/pri24.htm"
   ]
  },
  {
   "cell_type": "code",
   "execution_count": 8,
   "metadata": {},
   "outputs": [],
   "source": [
    "# %%writefile lesson6_quiz6_plotting_residuals.py\n",
    "import numpy as np\n",
    "import scipy\n",
    "import matplotlib.pyplot as plt\n",
    "\n",
    "def plot_residuals(turnstile_weather, predictions):\n",
    "    '''\n",
    "    Using the same methods that we used to plot a histogram of entries\n",
    "    per hour for our data, why don't you make a histogram of the residuals\n",
    "    (that is, the difference between the original hourly entry data and the predicted values).\n",
    "    Try different binwidths for your histogram.\n",
    "\n",
    "    Based on this residual histogram, do you have any insight into how our model\n",
    "    performed?  Reading a bit on this webpage might be useful:\n",
    "\n",
    "    http://www.itl.nist.gov/div898/handbook/pri/section2/pri24.htm\n",
    "    '''\n",
    "    \n",
    "    plt.figure()\n",
    "    (turnstile_weather['ENTRIESn_hourly'] - predictions).hist(bins=150)\n",
    "    plt.suptitle('Residual histogram')\n",
    "    plt.xlabel('Residuals')\n",
    "    plt.ylabel('Frequency')\n",
    "    # after looking plot\n",
    "    plt.xlim(-2000,2000)\n",
    "    return plt"
   ]
  },
  {
   "cell_type": "code",
   "execution_count": 9,
   "metadata": {},
   "outputs": [
    {
     "data": {
      "text/plain": [
       "<module 'matplotlib.pyplot' from '/Users/poudel/miniconda3/lib/python3.6/site-packages/matplotlib/pyplot.py'>"
      ]
     },
     "execution_count": 9,
     "metadata": {},
     "output_type": "execute_result"
    },
    {
     "data": {
      "image/png": "[encoded data removed]",
      "text/plain": [
       "<Figure size 432x288 with 1 Axes>"
      ]
     },
     "metadata": {},
     "output_type": "display_data"
    }
   ],
   "source": [
    "filename = '../data/turnstile_data_master_with_weather.csv'\n",
    "df = pd.read_csv(filename, parse_dates = True)\n",
    "pred, plot = predictions(df)\n",
    "plot_residuals(df, pred)"
   ]
  },
  {
   "cell_type": "markdown",
   "metadata": {},
   "source": [
    "## Lesson 6: Quiz 7: Compute $R^2$\n",
    "\n",
    "Reference: https://onlinecourses.science.psu.edu/stat501/node/255/\n",
    "\n",
    "$R^2$ value is the \"Coefficient of Determination\" for regression test.\n",
    "\n",
    "$$\n",
    "r^{2}=\\frac{SSR}{SSTO}=1-\\frac{SSE}{SSTO}\n",
    "$$\n",
    "\n",
    "![R-squared](r_sq.png)\n",
    "![R-squared2](r_sq2.png)\n",
    "![R-squared3](r_sq3.png)"
   ]
  },
  {
   "cell_type": "code",
   "execution_count": 10,
   "metadata": {},
   "outputs": [],
   "source": [
    "# %%writefile lesson6_quiz7_compute_r_squared.py\n",
    "import numpy as np\n",
    "import scipy\n",
    "import matplotlib.pyplot as plt\n",
    "import sys\n",
    "\n",
    "def compute_r_squared(data, predictions):\n",
    "    '''\n",
    "    In exercise 5, we calculated the R^2 value for you. But why don't you try and\n",
    "    and calculate the R^2 value yourself.\n",
    "    \n",
    "    Given a list of original data points, and also a list of predicted data points,\n",
    "    write a function that will compute and return the coefficient of determination (R^2)\n",
    "    for this data.  numpy.mean() and numpy.sum() might both be useful here, but\n",
    "    not necessary.\n",
    "\n",
    "    Documentation about numpy.mean() and numpy.sum() below:\n",
    "    http://docs.scipy.org/doc/numpy/reference/generated/numpy.mean.html\n",
    "    http://docs.scipy.org/doc/numpy/reference/generated/numpy.sum.html\n",
    "    '''\n",
    "    \n",
    "    # your code here\n",
    "    y = data\n",
    "    yhat = predictions\n",
    "    ymean = np.mean(y)\n",
    "    \n",
    "    SSE = np.sum((y-yhat)**2)\n",
    "    SSTO = np.sum((y-ymean)**2)\n",
    "    \n",
    "    r_squared = 1 - SSE/SSTO\n",
    "    \n",
    "    \n",
    "    return r_squared"
   ]
  },
  {
   "cell_type": "code",
   "execution_count": 11,
   "metadata": {},
   "outputs": [
    {
     "name": "stdout",
     "output_type": "stream",
     "text": [
      "0.4580443140393585\n"
     ]
    }
   ],
   "source": [
    "data = turnstile_weather['ENTRIESn_hourly'].values\n",
    "r_squared = compute_r_squared(data, pred)\n",
    "print(r_squared) # 0.4580443140393585"
   ]
  },
  {
   "cell_type": "markdown",
   "metadata": {},
   "source": [
    "## Lesson 6: Quiz 8: More Liner Regression\n",
    "\n",
    "Data: https://s3.amazonaws.com/content.udacity-data.com/courses/ud359/turnstile_data_master_with_weather.csv\n",
    "\n",
    "References:\n",
    "\n",
    "\n",
    "http://statsmodels.sourceforge.net/devel/generated/statsmodels.regression.linear_model.OLS.html\n",
    "\n",
    "http://en.wikipedia.org/wiki/Ordinary_least_squares  \n",
    "http://en.wikipedia.org/w/index.php?title=Linear_least_squares_(mathematics)  \n",
    "http://en.wikipedia.org/wiki/Polynomial_regression"
   ]
  },
  {
   "cell_type": "code",
   "execution_count": 12,
   "metadata": {},
   "outputs": [],
   "source": [
    "# %%writefile lesson6_quiz8_more_linear_regression.py\n",
    "# -*- coding: utf-8 -*-\n",
    "\n",
    "import numpy as np\n",
    "import pandas as pd\n",
    "import scipy\n",
    "import statsmodels.api as sm\n",
    "\n",
    "\"\"\"\n",
    "In this optional exercise, you should complete the function called \n",
    "predictions(turnstile_weather). This function takes in our pandas \n",
    "turnstile weather dataframe, and returns a set of predicted ridership values,\n",
    "based on the other information in the dataframe.  \n",
    "\n",
    "In exercise 3.5 we used Gradient Descent in order to compute the coefficients\n",
    "theta used for the ridership prediction. Here you should attempt to implement \n",
    "another way of computing the coeffcients theta. You may also try using a reference implementation such as: \n",
    "http://statsmodels.sourceforge.net/devel/generated/statsmodels.regression.linear_model.OLS.html\n",
    "\n",
    "One of the advantages of the statsmodels implementation is that it gives you\n",
    "easy access to the values of the coefficients theta. This can help you infer relationships \n",
    "between variables in the dataset.\n",
    "\n",
    "You may also experiment with polynomial terms as part of the input variables.  \n",
    "\n",
    "The following links might be useful: \n",
    "http://en.wikipedia.org/wiki/Ordinary_least_squares\n",
    "http://en.wikipedia.org/w/index.php?title=Linear_least_squares_(mathematics)\n",
    "http://en.wikipedia.org/wiki/Polynomial_regression\n",
    "\n",
    "This is your playground. Go wild!\n",
    "\n",
    "How does your choice of linear regression compare to linear regression\n",
    "with gradient descent computed in Exercise 3.5?\n",
    "\n",
    "You can look at the information contained in the turnstile_weather dataframe below:\n",
    "https://s3.amazonaws.com/content.udacity-data.com/courses/ud359/turnstile_data_master_with_weather.csv\n",
    "\n",
    "Note: due to the memory and CPU limitation of our amazon EC2 instance, we will\n",
    "give you a random subset (~10%) of the data contained in turnstile_data_master_with_weather.csv\n",
    "\n",
    "If you receive a \"server has encountered an error\" message, that means you are hitting \n",
    "the 30 second limit that's placed on running your program. See if you can optimize your code so it\n",
    "runs faster.\n",
    "\"\"\"\n",
    "\n",
    "def predictions(weather_turnstile):\n",
    "    #\n",
    "    # Your implementation goes here. Feel free to write additional\n",
    "    # helper functions\n",
    "    # \n",
    "    # select the features to use\n",
    "    feature_names = ['meantempi','Hour']\n",
    "    \n",
    "    # initialize Y\n",
    "    X = sm.add_constant(weather_turnstile[feature_names])\n",
    "    Y = weather_turnstile['ENTRIESn_hourly']\n",
    "    \n",
    "    # initialize the X features ==> add dummy units, standardize, and add constant\n",
    "    dummy_units = pd.get_dummies(weather_turnstile['UNIT'], prefix='unit')\n",
    "    X = weather_turnstile[feature_names].join(dummy_units)\n",
    "    X = (X - X.mean()) / X.std()\n",
    "    X = sm.add_constant(X)\n",
    "    \n",
    "    # ordinary least squares model\n",
    "    model = sm.OLS(Y,X)\n",
    "    \n",
    "    # fit the model\n",
    "    results = model.fit()\n",
    "    #print results.summary()\n",
    "    print ('R^2 = ', results.rsquared)\n",
    "    \n",
    "    # predict\n",
    "    prediction = results.predict(X)\n",
    "    \n",
    "    return prediction\n"
   ]
  },
  {
   "cell_type": "code",
   "execution_count": 13,
   "metadata": {},
   "outputs": [
    {
     "name": "stdout",
     "output_type": "stream",
     "text": [
      "R^2 =  0.4579801374932708\n"
     ]
    }
   ],
   "source": [
    "filename = '../data/turnstile_data_master_with_weather.csv'\n",
    "weather_turnstile = pd.read_csv(filename, parse_dates = True)\n",
    "pred = predictions(weather_turnstile)"
   ]
  },
  {
   "cell_type": "markdown",
   "metadata": {},
   "source": [
    "### Another examples\n",
    "\n",
    "Ref: https://www.statsmodels.org/dev/example_formulas.html"
   ]
  },
  {
   "cell_type": "code",
   "execution_count": 14,
   "metadata": {},
   "outputs": [],
   "source": [
    "import numpy as np\n",
    "import pandas\n",
    "import scipy\n",
    "import statsmodels.formula.api as smf\n",
    "\n",
    "# Ref: https://www.statsmodels.org/dev/example_formulas.html\n",
    "\n",
    "def predictions(df):\n",
    "    features = df[['UNIT','rain', 'Hour', 'meantempi']]\n",
    "    model = smf.ols('ENTRIESn_hourly ~ UNIT * Hour + rain + meantempi', data=weather_turnstile).fit()\n",
    "    return model.predict(features)"
   ]
  },
  {
   "cell_type": "code",
   "execution_count": 15,
   "metadata": {},
   "outputs": [
    {
     "data": {
      "text/plain": [
       "0          625.680034\n",
       "1         1988.139718\n",
       "2         3350.599402\n",
       "3         4713.059086\n",
       "4         6075.518770\n",
       "5         7437.978454\n",
       "6         -115.353454\n",
       "7          326.782921\n",
       "8          768.919296\n",
       "9         1211.055671\n",
       "10        1653.192046\n",
       "11        2095.328420\n",
       "12         141.738579\n",
       "13         179.376765\n",
       "14         254.653139\n",
       "15         292.291326\n",
       "16         329.929512\n",
       "17         280.725020\n",
       "18         391.003886\n",
       "19         501.282751\n",
       "20         611.561616\n",
       "21         721.840482\n",
       "22         832.119347\n",
       "23         305.441985\n",
       "24         402.418354\n",
       "25         596.371091\n",
       "26         693.347460\n",
       "27         790.323829\n",
       "28         320.430797\n",
       "29         436.264436\n",
       "             ...     \n",
       "131921     130.043130\n",
       "131922     136.661059\n",
       "131923     136.661059\n",
       "131924     136.661059\n",
       "131925     136.661059\n",
       "131926     143.278987\n",
       "131927     143.278987\n",
       "131928     143.278987\n",
       "131929     143.278987\n",
       "131930     143.278987\n",
       "131931     143.278987\n",
       "131932     143.278987\n",
       "131933     149.896916\n",
       "131934     149.896916\n",
       "131935     149.896916\n",
       "131936     149.896916\n",
       "131937     149.896916\n",
       "131938     149.896916\n",
       "131939     156.514844\n",
       "131940     156.514844\n",
       "131941     163.132773\n",
       "131942     163.132773\n",
       "131943     163.132773\n",
       "131944     163.132773\n",
       "131945     163.132773\n",
       "131946     169.750702\n",
       "131947     169.750702\n",
       "131948     169.750702\n",
       "131949     169.750702\n",
       "131950     169.750702\n",
       "Length: 131951, dtype: float64"
      ]
     },
     "execution_count": 15,
     "metadata": {},
     "output_type": "execute_result"
    }
   ],
   "source": [
    "df = pd.read_csv(filename, parse_dates = True)\n",
    "predictions(df)"
   ]
  },
  {
   "cell_type": "code",
   "execution_count": null,
   "metadata": {},
   "outputs": [],
   "source": []
  }
 ],
 "metadata": {
  "kernelspec": {
   "display_name": "Python 3",
   "language": "python",
   "name": "python3"
  },
  "language_info": {
   "codemirror_mode": {
    "name": "ipython",
    "version": 3
   },
   "file_extension": ".py",
   "mimetype": "text/x-python",
   "name": "python",
   "nbconvert_exporter": "python",
   "pygments_lexer": "ipython3",
   "version": "3.6.3"
  },
  "toc": {
   "base_numbering": 1,
   "nav_menu": {},
   "number_sections": true,
   "sideBar": true,
   "skip_h1_title": false,
   "title_cell": "Table of Contents",
   "title_sidebar": "Contents",
   "toc_cell": true,
   "toc_position": {},
   "toc_section_display": true,
   "toc_window_display": true
  }
 },
 "nbformat": 4,
 "nbformat_minor": 2
}
