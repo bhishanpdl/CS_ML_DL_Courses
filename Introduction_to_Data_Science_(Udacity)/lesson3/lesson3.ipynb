{
 "cells": [
  {
   "cell_type": "markdown",
   "metadata": {
    "toc": true
   },
   "source": [
    "<h1>Table of Contents<span class=\"tocSkip\"></span></h1>\n",
    "<div class=\"toc\"><ul class=\"toc-item\"><li><span><a href=\"#Lesson-3:-Data-Wrangling\" data-toc-modified-id=\"Lesson-3:-Data-Wrangling-1\"><span class=\"toc-item-num\">1&nbsp;&nbsp;</span>Lesson 3: Data Wrangling</a></span><ul class=\"toc-item\"><li><span><a href=\"#Lesson-3.11-Quiz-1:-CSV-Exercise\" data-toc-modified-id=\"Lesson-3.11-Quiz-1:-CSV-Exercise-1.1\"><span class=\"toc-item-num\">1.1&nbsp;&nbsp;</span>Lesson 3.11 Quiz 1: CSV Exercise</a></span></li><li><span><a href=\"#Lesson-3.14-Quiz2:-Relational-Databases-(Aadhar-data)\" data-toc-modified-id=\"Lesson-3.14-Quiz2:-Relational-Databases-(Aadhar-data)-1.2\"><span class=\"toc-item-num\">1.2&nbsp;&nbsp;</span>Lesson 3.14 Quiz2: Relational Databases (Aadhar data)</a></span></li><li><span><a href=\"#Lesson-3.19-Quiz3:-Write-Your-Own-Complex-Query\" data-toc-modified-id=\"Lesson-3.19-Quiz3:-Write-Your-Own-Complex-Query-1.3\"><span class=\"toc-item-num\">1.3&nbsp;&nbsp;</span>Lesson 3.19 Quiz3: Write Your Own Complex Query</a></span></li><li><span><a href=\"#Lesson-3.27-Quiz:-API-Exercise-(Data:-lastfm-)\" data-toc-modified-id=\"Lesson-3.27-Quiz:-API-Exercise-(Data:-lastfm-)-1.4\"><span class=\"toc-item-num\">1.4&nbsp;&nbsp;</span>Lesson 3.27 Quiz: API Exercise (Data: lastfm )</a></span></li><li><span><a href=\"#Lesson-3.36-Quiz:-Imputation-Exercise-(Data:-Lahman-baseball-data)\" data-toc-modified-id=\"Lesson-3.36-Quiz:-Imputation-Exercise-(Data:-Lahman-baseball-data)-1.5\"><span class=\"toc-item-num\">1.5&nbsp;&nbsp;</span>Lesson 3.36 Quiz: Imputation Exercise (Data: Lahman baseball data)</a></span></li></ul></li></ul></div>"
   ]
  },
  {
   "cell_type": "markdown",
   "metadata": {},
   "source": [
    "# Lesson 3: Data Wrangling"
   ]
  },
  {
   "cell_type": "markdown",
   "metadata": {
    "heading_collapsed": true
   },
   "source": [
    "## Lesson 3.11 Quiz 1: CSV Exercise"
   ]
  },
  {
   "cell_type": "code",
   "execution_count": 10,
   "metadata": {
    "hidden": true
   },
   "outputs": [],
   "source": [
    "# %%writefile lesson3_11_quiz1_csv.py\n",
    "\"\"\"\n",
    "Note: Download Master.csv data from 2016 records.\n",
    "http://seanlahman.com/files/database/baseballdatabank-master_2016-02-29.zip\n",
    "\n",
    "Download the zip and copy Master.zip inside \"data\" folder.\n",
    "\"\"\"\n",
    "import pandas\n",
    "import pandas as pd\n",
    "\n",
    "def add_full_name(path_to_csv, path_to_new_csv):\n",
    "    #Assume you will be reading in a csv file with the same columns that the\n",
    "    #Lahman baseball data set has -- most importantly, there are columns\n",
    "    #called 'nameFirst' and 'nameLast'.\n",
    "    #1) Write a function that reads a csv\n",
    "    #located at \"path_to_csv\" into a pandas dataframe and adds a new column\n",
    "    #called 'nameFull' with a player's full name.\n",
    "    #\n",
    "    #For example:\n",
    "    #   for Hank Aaron, nameFull would be 'Hank Aaron', \n",
    "    #\n",
    "    #2) Write the data in the pandas dataFrame to a new csv file located at\n",
    "    #path_to_new_csv\n",
    "\n",
    "    #WRITE YOUR CODE HERE\n",
    "    df = pd.read_csv(path_to_csv)\n",
    "    df['nameFull'] = df['nameFirst'] + ' ' +  df['nameLast']\n",
    "    df.to_csv(path_to_new_csv)\n",
    "\n",
    "\n",
    "\n",
    "if __name__ == \"__main__\":\n",
    "    # For local use only\n",
    "    # If you are running this on your own machine add the path to the\n",
    "    # Lahman baseball csv and a path for the new csv.\n",
    "    # The dataset can be downloaded from this website: http://www.seanlahman.com/baseball-archive/statistics\n",
    "    # We are using the file Master.csv\n",
    "    path_to_csv = \"../data/Master.csv\"\n",
    "    path_to_new_csv = \"quiz1_master.csv\"\n",
    "    add_full_name(path_to_csv, path_to_new_csv)\n"
   ]
  },
  {
   "cell_type": "code",
   "execution_count": 11,
   "metadata": {
    "hidden": true
   },
   "outputs": [
    {
     "name": "stdout",
     "output_type": "stream",
     "text": [
      ",playerID,birthYear,birthMonth,birthDay,birthCountry,birthState,birthCity,deathYear,deathMonth,deathDay,deathCountry,deathState,deathCity,nameFirst,nameLast,nameGiven,weight,height,bats,throws,debut,finalGame,retroID,bbrefID,nameFull\r\n"
     ]
    }
   ],
   "source": [
    "!head -n1 quiz1_master.csv"
   ]
  },
  {
   "cell_type": "markdown",
   "metadata": {
    "heading_collapsed": true
   },
   "source": [
    "## Lesson 3.14 Quiz2: Relational Databases (Aadhar data)"
   ]
  },
  {
   "cell_type": "code",
   "execution_count": 12,
   "metadata": {
    "hidden": true
   },
   "outputs": [
    {
     "name": "stdout",
     "output_type": "stream",
     "text": [
      "         registrar             enrolment_agency\n",
      "45  Allahabad Bank  Vakrangee Softwares Limited\n",
      "46  Allahabad Bank  Vakrangee Softwares Limited\n",
      "47  Allahabad Bank  Vakrangee Softwares Limited\n",
      "48  Allahabad Bank  Vakrangee Softwares Limited\n",
      "49  Allahabad Bank  Vakrangee Softwares Limited\n"
     ]
    }
   ],
   "source": [
    "# %%writefile lesson3_19_quiz2_aadhar.py\n",
    "import pandas\n",
    "import pandasql\n",
    "import pandas as pd\n",
    "import pandasql as pdsql\n",
    "\n",
    "def select_first_50(filename):\n",
    "    # Read in our aadhaar_data csv to a pandas dataframe.  Afterwards, we rename the columns\n",
    "    # by replacing spaces with underscores and setting all characters to lowercase, so the\n",
    "    # column names more closely resemble columns names one might find in a table.\n",
    "    aadhaar_data = pandas.read_csv(filename)\n",
    "    aadhaar_data.rename(columns = lambda x: x.replace(' ', '_').lower(), inplace=True)\n",
    "\n",
    "    # Select out the first 50 values for \"registrar\" and \"enrolment_agency\"\n",
    "    # in the aadhaar_data table using SQL syntax. \n",
    "    #\n",
    "    # Note that \"enrolment_agency\" is spelled with one l. Also, the order\n",
    "    # of the select does matter. Make sure you select registrar then enrolment agency\n",
    "    # in your query.\n",
    "    #\n",
    "    # You can download a copy of the aadhaar data that we are passing \n",
    "    # into this exercise below:\n",
    "    # https://s3.amazonaws.com/content.udacity-data.com/courses/ud359/aadhaar_data.csv\n",
    "    q = \"\"\"\n",
    "    -- YOUR QUERY HERE\n",
    "    SELECT registrar, enrolment_agency\n",
    "    FROM aadhaar_data\n",
    "    LIMIT 50;\n",
    "    \"\"\"\n",
    "\n",
    "    #Execute your SQL command against the pandas frame\n",
    "    aadhaar_solution = pandasql.sqldf(q.lower(), locals())\n",
    "    \n",
    "    # method2\n",
    "#     df = pd.read_csv(filename)\n",
    "#     df = df.rename(columns = lambda x: x.replace(' ', '_').lower())\n",
    "#     df2 = df[['registrar','enrolment_agency']][0:50]\n",
    "#     aadhar_solution = df2\n",
    "    \n",
    "    return aadhaar_solution\n",
    "\n",
    "\n",
    "if __name__ == \"__main__\":\n",
    "    filename = '../data/aadhaar_data.csv'\n",
    "    df = select_first_50(filename)\n",
    "    print(df.tail())"
   ]
  },
  {
   "cell_type": "markdown",
   "metadata": {
    "heading_collapsed": true
   },
   "source": [
    "## Lesson 3.19 Quiz3: Write Your Own Complex Query"
   ]
  },
  {
   "cell_type": "code",
   "execution_count": 13,
   "metadata": {
    "hidden": true
   },
   "outputs": [
    {
     "name": "stdout",
     "output_type": "stream",
     "text": [
      "  gender     district  sum(aadhaar_generated)\n",
      "0      F   Ahmadnagar                      45\n",
      "1      F  Ahmed Nagar                       0\n",
      "2      F    Ahmedabad                       1\n",
      "3      F        Ajmer                      27\n",
      "4      F        Akola                       5\n",
      "    gender        district  sum(aadhaar_generated)\n",
      "523      M  West Singhbhum                     227\n",
      "524      M    West Tripura                      24\n",
      "525      M          Yadgir                      12\n",
      "526      M    Yamuna Nagar                     149\n",
      "527      M        Yavatmal                      54\n"
     ]
    }
   ],
   "source": [
    "# %%writefile lesson3_22_quiz3_compled_aadhaar.py\n",
    "import pandas\n",
    "import pandasql\n",
    "import pandas as pd\n",
    "import pandasql as pdsql\n",
    "\n",
    "\"\"\"\n",
    "NOTE: Required answer has three columns\n",
    "gender           district  sum(aadhaar_generated)\n",
    "F\n",
    "F\n",
    "M\n",
    "M\n",
    "etc.\n",
    "\"\"\"\n",
    "\n",
    "def aggregate_query(filename):\n",
    "    # Read in our aadhaar_data csv to a pandas dataframe.  Afterwards, we rename the columns\n",
    "    # by replacing spaces with underscores and setting all characters to lowercase, so the\n",
    "    # column names more closely resemble columns names one might find in a table.\n",
    "    \n",
    "    aadhaar_data = pandas.read_csv(filename)\n",
    "    aadhaar_data.rename(columns = lambda x: x.replace(' ', '_').lower(), inplace=True)\n",
    "\n",
    "    # Write a query that will select from the aadhaar_data table how many men and how \n",
    "    # many women over the age of 50 have had aadhaar generated for them in each district.\n",
    "    # aadhaar_generated is a column in the Aadhaar Data that denotes the number who have had\n",
    "    # aadhaar generated in each row of the table.\n",
    "    #\n",
    "    # Note that in this quiz, the SQL query keywords are case sensitive. \n",
    "    # For example, if you want to do a sum make sure you type 'sum' rather than 'SUM'.\n",
    "    #\n",
    "\n",
    "    # The possible columns to select from aadhaar data are:\n",
    "    #     1) registrar\n",
    "    #     2) enrolment_agency\n",
    "    #     3) state\n",
    "    #     4) district\n",
    "    #     5) sub_district\n",
    "    #     6) pin_code\n",
    "    #     7) gender\n",
    "    #     8) age\n",
    "    #     9) aadhaar_generated\n",
    "    #     10) enrolment_rejected\n",
    "    #     11) residents_providing_email,\n",
    "    #     12) residents_providing_mobile_number\n",
    "    #\n",
    "    # You can download a copy of the aadhaar data that we are passing \n",
    "    # into this exercise below:\n",
    "    # https://s3.amazonaws.com/content.udacity-data.com/courses/ud359/aadhaar_data.csv\n",
    " \n",
    "    q = \"\"\"\n",
    "    SELECT gender, district, sum(aadhaar_generated)\n",
    "    FROM aadhaar_data\n",
    "    WHERE age > 50\n",
    "    GROUP BY gender, district;\n",
    "    \"\"\"\n",
    "\n",
    "    # Execute your SQL command against the pandas frame\n",
    "    aadhaar_solution = pandasql.sqldf(q.lower(), locals())\n",
    "    \n",
    "    # method2\n",
    "    \n",
    "    \n",
    "    return aadhaar_solution \n",
    "if __name__ == \"__main__\":\n",
    "    filename = '../data/aadhaar_data.csv'\n",
    "    df = aggregate_query(filename)\n",
    "    print(df.head())\n",
    "    print(df.tail())"
   ]
  },
  {
   "cell_type": "markdown",
   "metadata": {},
   "source": [
    "## Lesson 3.27 Quiz: API Exercise (Data: lastfm )"
   ]
  },
  {
   "cell_type": "code",
   "execution_count": 14,
   "metadata": {},
   "outputs": [
    {
     "name": "stdout",
     "output_type": "stream",
     "text": [
      "'David Bowie'\n"
     ]
    },
    {
     "data": {
      "text/plain": [
       "'David Bowie'"
      ]
     },
     "execution_count": 14,
     "metadata": {},
     "output_type": "execute_result"
    }
   ],
   "source": [
    "# %% writefile lesson3.27_quiz4_api.py\n",
    "import json\n",
    "import requests\n",
    "import pprint\n",
    "\n",
    "country = 'spain'  # spain, india, etc\n",
    "url = 'http://ws.audioscrobbler.com/' +\\\n",
    "        '2.0/?method=geo.gettopartists&country=' + country + '&' +\\\n",
    "        'api_key=4beab33cc6d65b05800d51f5e83bde1b&' +\\\n",
    "        'format=json'\n",
    "def api_get_request(url):\n",
    "    # In this exercise, you want to call the last.fm API to get a list of the\n",
    "    # top artists in Spain. The grader will supply the URL as an argument to\n",
    "    # the function; you do not need to construct the address or call this\n",
    "    # function in your grader submission.\n",
    "    # \n",
    "    # Once you've done this, return the name of the number 1 top artist in\n",
    "    # Spain. \n",
    "    data = requests.get(url).text\n",
    "    data = json.loads(data)\n",
    "    \n",
    "    pp = pprint.PrettyPrinter(indent=2)\n",
    "    pp.pprint(data['topartists']['artist'][0]['name'])\n",
    "    \n",
    "    return data['topartists']['artist'][0]['name']\n",
    "api_get_request(url)"
   ]
  },
  {
   "cell_type": "markdown",
   "metadata": {},
   "source": [
    "## Lesson 3.36 Quiz: Imputation Exercise (Data: Lahman baseball data)\n",
    "\n",
    "Get data from http://seanlahman.com/files/database/baseballdatabank-master_2018-03-28.zip.\n",
    "Then rename `core/People.csv` to `baseball_data.csv`."
   ]
  },
  {
   "cell_type": "code",
   "execution_count": 19,
   "metadata": {},
   "outputs": [
    {
     "name": "stdout",
     "output_type": "stream",
     "text": [
      "    playerID  birthYear  birthMonth  birthDay birthCountry birthState  \\\n",
      "0  aardsda01     1981.0        12.0      27.0          USA         CO   \n",
      "\n",
      "  birthCity  deathYear  deathMonth  deathDay    ...     nameLast    nameGiven  \\\n",
      "0    Denver        NaN         NaN       NaN    ...      Aardsma  David Allan   \n",
      "\n",
      "  weight height bats throws       debut   finalGame   retroID    bbrefID  \n",
      "0  215.0   75.0    R      R  2004-04-06  2015-08-23  aardd001  aardsda01  \n",
      "\n",
      "[1 rows x 24 columns]\n"
     ]
    }
   ],
   "source": [
    "import pandas as pd\n",
    "import numpy as np\n",
    "\n",
    "def imputation(filename):\n",
    "    # Pandas dataframes have a method called 'fillna(value)', such that you can\n",
    "    # pass in a single value to replace any NAs in a dataframe or series. You\n",
    "    # can call it like this: \n",
    "    #     dataframe['column'] = dataframe['column'].fillna(value)\n",
    "    #\n",
    "    # Using the numpy.mean function, which calculates the mean of a numpy\n",
    "    # array, impute any missing values in our Lahman baseball\n",
    "    # data sets 'weight' column by setting them equal to the average weight.\n",
    "    # \n",
    "    # You can access the 'weight' colum in the baseball data frame by\n",
    "    # calling baseball['weight']\n",
    "\n",
    "    baseball = pd.read_csv(filename)\n",
    "    baseball['weight'] = baseball['weight'].fillna(np.mean(baseball.weight))\n",
    "\n",
    "    return baseball\n",
    "\n",
    "filename = '../data/baseball_data.csv'\n",
    "baseball = imputation(filename)\n",
    "print(baseball.head(1))"
   ]
  },
  {
   "cell_type": "code",
   "execution_count": null,
   "metadata": {},
   "outputs": [],
   "source": []
  }
 ],
 "metadata": {
  "kernelspec": {
   "display_name": "Python 3",
   "language": "python",
   "name": "python3"
  },
  "language_info": {
   "codemirror_mode": {
    "name": "ipython",
    "version": 3
   },
   "file_extension": ".py",
   "mimetype": "text/x-python",
   "name": "python",
   "nbconvert_exporter": "python",
   "pygments_lexer": "ipython3",
   "version": "3.6.3"
  },
  "toc": {
   "base_numbering": 1,
   "nav_menu": {},
   "number_sections": true,
   "sideBar": true,
   "skip_h1_title": false,
   "title_cell": "Table of Contents",
   "title_sidebar": "Contents",
   "toc_cell": true,
   "toc_position": {},
   "toc_section_display": true,
   "toc_window_display": true
  }
 },
 "nbformat": 4,
 "nbformat_minor": 2
}
